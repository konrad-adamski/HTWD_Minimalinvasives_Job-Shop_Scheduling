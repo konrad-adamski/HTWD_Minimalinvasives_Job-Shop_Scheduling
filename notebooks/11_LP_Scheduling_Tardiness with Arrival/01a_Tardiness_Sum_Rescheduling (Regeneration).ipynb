{
 "cells": [
  {
   "cell_type": "markdown",
   "id": "53c73a85-6ed9-4164-8069-6dd08b733ae5",
   "metadata": {},
   "source": [
    "# Rescheduling mit Tardiness (Summe)\n",
    "> Planunghorizont Tag 0: 2 Tage\n",
    "> Rescheduling des Tages 1"
   ]
  },
  {
   "cell_type": "code",
   "execution_count": 7,
   "id": "3fa423d6-9f52-48b0-922d-029e8e499d04",
   "metadata": {},
   "outputs": [],
   "source": [
    "from configs.config import get_path\n",
    "import src.utils.converter as convert\n",
    "import src.utils.presenter as show\n",
    "import src.utils.checker as check\n",
    "\n",
    "import math\n",
    "import pulp\n",
    "import pandas as pd\n",
    "pd.set_option('display.max_rows', 21)\n",
    "\n",
    "import src.utils.gen_jobs as gen_jobs\n",
    "import src.utils.gen_deadline as gen_deadline\n",
    "import src.utils.rolling_scheduling as rolling_schedule\n",
    "\n",
    "import src.models.heuristics.fcfs as heuristics\n",
    "import src.models.lp.tardiness_solver as solver\n",
    "from src.simulation.ProductionDaySimulation import ProductionDaySimulation\n",
    "import time"
   ]
  },
  {
   "cell_type": "code",
   "execution_count": 8,
   "id": "adea4135-cc3a-4fed-9edf-2ac06073ebb7",
   "metadata": {},
   "outputs": [],
   "source": [
    "max_time = 60*60*4 # 4h\n",
    "max_time = 60*15 # 15 min"
   ]
  },
  {
   "cell_type": "code",
   "execution_count": 9,
   "id": "f69350a1-86c8-44ab-9ec0-5e6d2dfea084",
   "metadata": {},
   "outputs": [
    {
     "data": {
      "text/html": [
       "<div>\n",
       "<style scoped>\n",
       "    .dataframe tbody tr th:only-of-type {\n",
       "        vertical-align: middle;\n",
       "    }\n",
       "\n",
       "    .dataframe tbody tr th {\n",
       "        vertical-align: top;\n",
       "    }\n",
       "\n",
       "    .dataframe thead th {\n",
       "        text-align: right;\n",
       "    }\n",
       "</style>\n",
       "<table border=\"1\" class=\"dataframe\">\n",
       "  <thead>\n",
       "    <tr style=\"text-align: right;\">\n",
       "      <th></th>\n",
       "      <th>Job</th>\n",
       "      <th>Arrival</th>\n",
       "    </tr>\n",
       "  </thead>\n",
       "  <tbody>\n",
       "    <tr>\n",
       "      <th>0</th>\n",
       "      <td>Job_000</td>\n",
       "      <td>0.00</td>\n",
       "    </tr>\n",
       "    <tr>\n",
       "      <th>1</th>\n",
       "      <td>Job_001</td>\n",
       "      <td>83.09</td>\n",
       "    </tr>\n",
       "    <tr>\n",
       "      <th>2</th>\n",
       "      <td>Job_002</td>\n",
       "      <td>103.88</td>\n",
       "    </tr>\n",
       "    <tr>\n",
       "      <th>3</th>\n",
       "      <td>Job_003</td>\n",
       "      <td>145.10</td>\n",
       "    </tr>\n",
       "    <tr>\n",
       "      <th>4</th>\n",
       "      <td>Job_004</td>\n",
       "      <td>181.06</td>\n",
       "    </tr>\n",
       "    <tr>\n",
       "      <th>...</th>\n",
       "      <td>...</td>\n",
       "      <td>...</td>\n",
       "    </tr>\n",
       "    <tr>\n",
       "      <th>42</th>\n",
       "      <td>Job_042</td>\n",
       "      <td>2418.05</td>\n",
       "    </tr>\n",
       "    <tr>\n",
       "      <th>43</th>\n",
       "      <td>Job_043</td>\n",
       "      <td>2482.56</td>\n",
       "    </tr>\n",
       "    <tr>\n",
       "      <th>44</th>\n",
       "      <td>Job_044</td>\n",
       "      <td>2596.58</td>\n",
       "    </tr>\n",
       "    <tr>\n",
       "      <th>45</th>\n",
       "      <td>Job_045</td>\n",
       "      <td>2784.07</td>\n",
       "    </tr>\n",
       "    <tr>\n",
       "      <th>46</th>\n",
       "      <td>Job_046</td>\n",
       "      <td>2879.38</td>\n",
       "    </tr>\n",
       "  </tbody>\n",
       "</table>\n",
       "<p>47 rows × 2 columns</p>\n",
       "</div>"
      ],
      "text/plain": [
       "        Job  Arrival\n",
       "0   Job_000     0.00\n",
       "1   Job_001    83.09\n",
       "2   Job_002   103.88\n",
       "3   Job_003   145.10\n",
       "4   Job_004   181.06\n",
       "..      ...      ...\n",
       "42  Job_042  2418.05\n",
       "43  Job_043  2482.56\n",
       "44  Job_044  2596.58\n",
       "45  Job_045  2784.07\n",
       "46  Job_046  2879.38\n",
       "\n",
       "[47 rows x 2 columns]"
      ]
     },
     "execution_count": 9,
     "metadata": {},
     "output_type": "execute_result"
    }
   ],
   "source": [
    "basic_data_path = get_path(\"data\", \"basic\")\n",
    "\n",
    "df_instance = pd.read_csv(basic_data_path / \"00_instance.csv\")\n",
    "df_jssp, df_jobs_arrivals = gen_jobs.create_jobs_for_days(df_instance, day_count = 1, u_b_mmax= 0.92, shuffle = True)\n",
    "df_jobs_arrivals"
   ]
  },
  {
   "cell_type": "code",
   "execution_count": 10,
   "id": "5088fcf4-d350-4c01-9860-90fc0e660e91",
   "metadata": {},
   "outputs": [
    {
     "data": {
      "text/html": [
       "<div>\n",
       "<style scoped>\n",
       "    .dataframe tbody tr th:only-of-type {\n",
       "        vertical-align: middle;\n",
       "    }\n",
       "\n",
       "    .dataframe tbody tr th {\n",
       "        vertical-align: top;\n",
       "    }\n",
       "\n",
       "    .dataframe thead th {\n",
       "        text-align: right;\n",
       "    }\n",
       "</style>\n",
       "<table border=\"1\" class=\"dataframe\">\n",
       "  <thead>\n",
       "    <tr style=\"text-align: right;\">\n",
       "      <th></th>\n",
       "      <th>Job</th>\n",
       "      <th>Arrival</th>\n",
       "      <th>Deadline</th>\n",
       "    </tr>\n",
       "  </thead>\n",
       "  <tbody>\n",
       "    <tr>\n",
       "      <th>0</th>\n",
       "      <td>Job_000</td>\n",
       "      <td>0.00</td>\n",
       "      <td>1385.0</td>\n",
       "    </tr>\n",
       "    <tr>\n",
       "      <th>1</th>\n",
       "      <td>Job_001</td>\n",
       "      <td>83.09</td>\n",
       "      <td>1871.0</td>\n",
       "    </tr>\n",
       "    <tr>\n",
       "      <th>2</th>\n",
       "      <td>Job_002</td>\n",
       "      <td>103.88</td>\n",
       "      <td>2096.0</td>\n",
       "    </tr>\n",
       "    <tr>\n",
       "      <th>3</th>\n",
       "      <td>Job_003</td>\n",
       "      <td>145.10</td>\n",
       "      <td>2442.0</td>\n",
       "    </tr>\n",
       "    <tr>\n",
       "      <th>4</th>\n",
       "      <td>Job_004</td>\n",
       "      <td>181.06</td>\n",
       "      <td>1559.0</td>\n",
       "    </tr>\n",
       "    <tr>\n",
       "      <th>...</th>\n",
       "      <td>...</td>\n",
       "      <td>...</td>\n",
       "      <td>...</td>\n",
       "    </tr>\n",
       "    <tr>\n",
       "      <th>42</th>\n",
       "      <td>Job_042</td>\n",
       "      <td>2418.05</td>\n",
       "      <td>4511.0</td>\n",
       "    </tr>\n",
       "    <tr>\n",
       "      <th>43</th>\n",
       "      <td>Job_043</td>\n",
       "      <td>2482.56</td>\n",
       "      <td>4271.0</td>\n",
       "    </tr>\n",
       "    <tr>\n",
       "      <th>44</th>\n",
       "      <td>Job_044</td>\n",
       "      <td>2596.58</td>\n",
       "      <td>4336.0</td>\n",
       "    </tr>\n",
       "    <tr>\n",
       "      <th>45</th>\n",
       "      <td>Job_045</td>\n",
       "      <td>2784.07</td>\n",
       "      <td>4243.0</td>\n",
       "    </tr>\n",
       "    <tr>\n",
       "      <th>46</th>\n",
       "      <td>Job_046</td>\n",
       "      <td>2879.38</td>\n",
       "      <td>5176.0</td>\n",
       "    </tr>\n",
       "  </tbody>\n",
       "</table>\n",
       "<p>47 rows × 3 columns</p>\n",
       "</div>"
      ],
      "text/plain": [
       "        Job  Arrival  Deadline\n",
       "0   Job_000     0.00    1385.0\n",
       "1   Job_001    83.09    1871.0\n",
       "2   Job_002   103.88    2096.0\n",
       "3   Job_003   145.10    2442.0\n",
       "4   Job_004   181.06    1559.0\n",
       "..      ...      ...       ...\n",
       "42  Job_042  2418.05    4511.0\n",
       "43  Job_043  2482.56    4271.0\n",
       "44  Job_044  2596.58    4336.0\n",
       "45  Job_045  2784.07    4243.0\n",
       "46  Job_046  2879.38    5176.0\n",
       "\n",
       "[47 rows x 3 columns]"
      ]
     },
     "execution_count": 10,
     "metadata": {},
     "output_type": "execute_result"
    }
   ],
   "source": [
    "df_jobs = gen_deadline.get_times_df(df_jssp, df_jobs_arrivals, heuristics.schedule_fcfs_with_arrivals, target_service=1.0)\n",
    "df_jobs"
   ]
  },
  {
   "cell_type": "markdown",
   "id": "3267907a-c7e0-4c75-9ee0-4a09ff87ea60",
   "metadata": {},
   "source": [
    "## I) Complete Scheduling"
   ]
  },
  {
   "cell_type": "code",
   "execution_count": null,
   "id": "3239c991-735d-481a-b756-eafbff27a152",
   "metadata": {},
   "outputs": [
    {
     "name": "stdout",
     "output_type": "stream",
     "text": [
      "BigM: 13000\n"
     ]
    }
   ],
   "source": [
    "starting_time = time.time()\n",
    "\n",
    "# Scheduling\n",
    "df_plan = solver.solve_jssp_sum_tardiness(df_jssp, df_jobs, solver= \"HiGHS\", msg=False, timeLimit=max_time, gapRel= 0.05)\n",
    "df_plan\n",
    "\n",
    "# Informationen\n",
    "ending_time = time.time()\n",
    "solver_duration = ending_time - starting_time\n",
    "print(f\"\\nScheduling-Dauer: {int(solver_duration // 60)} Minuten und {(solver_duration % 60):.2f} Sekunden.\")\n",
    "df_plan"
   ]
  },
  {
   "cell_type": "code",
   "execution_count": null,
   "id": "9044a301-09b4-4644-b309-05a94f0442c4",
   "metadata": {},
   "outputs": [],
   "source": [
    "show.plot_gantt_machines(df_plan)\n",
    "\n",
    "check.is_machine_conflict_free(df_plan)\n",
    "check.is_operation_sequence_correct(df_plan)\n",
    "check.is_job_timing_correct(df_plan)\n",
    "check.is_start_correct(df_plan)"
   ]
  },
  {
   "cell_type": "markdown",
   "id": "3e7096a7-8e3e-4278-ac1e-3aec3807f681",
   "metadata": {},
   "source": [
    "## II) Erster Tag (Tag 0)"
   ]
  },
  {
   "cell_type": "markdown",
   "id": "89bfc735-8d24-4aab-a9dc-9f60b7187e67",
   "metadata": {},
   "source": [
    "### a) Simulation"
   ]
  },
  {
   "cell_type": "code",
   "execution_count": null,
   "id": "eace3b8a-233e-44f0-ba67-8578355c6f3e",
   "metadata": {},
   "outputs": [],
   "source": [
    "day_length = 1440"
   ]
  },
  {
   "cell_type": "code",
   "execution_count": null,
   "id": "2ae3b72f-14ca-4550-9e66-547d94f88ab9",
   "metadata": {},
   "outputs": [],
   "source": [
    "day_numb = 0\n",
    "\n",
    "day_start = day_length*day_numb \n",
    "day_end = day_start + day_length"
   ]
  },
  {
   "cell_type": "code",
   "execution_count": null,
   "id": "24110bd6-46ca-4d87-a1cc-c9b261b3384f",
   "metadata": {
    "scrolled": true
   },
   "outputs": [],
   "source": [
    "simulation = ProductionDaySimulation(df_plan, vc=0.25)\n",
    "df_execution, df_undone = simulation.run(start_time = day_start, end_time=day_end)"
   ]
  },
  {
   "cell_type": "code",
   "execution_count": null,
   "id": "c5daef60-9f0e-4c4e-bdcb-c42ae3c17cbf",
   "metadata": {},
   "outputs": [],
   "source": [
    "df_undone"
   ]
  },
  {
   "cell_type": "code",
   "execution_count": null,
   "id": "0aca4a5b-dbde-465f-ac59-bf9a052ad537",
   "metadata": {},
   "outputs": [],
   "source": [
    "if not df_execution.empty:\n",
    "    show.plot_gantt_machines(df_execution, title=f\"Gantt-Diagramm ab Tag {day_numb}\", duration_column=\"Simulated Processing Time\")\n",
    "else:\n",
    "    print(f\"Nothing executed on day {day_numb}\")"
   ]
  },
  {
   "cell_type": "markdown",
   "id": "ae9b85c7-7a18-4611-b738-4b9b18aaf935",
   "metadata": {},
   "source": [
    "### b) Verbleibene Jobs (Rest)"
   ]
  },
  {
   "cell_type": "code",
   "execution_count": null,
   "id": "7dc54407-57b7-4b58-88c0-750cdfc7cca6",
   "metadata": {},
   "outputs": [],
   "source": [
    "df_rest = df_plan.merge(df_execution[[\"Job\", \"Machine\"]], on=[\"Job\", \"Machine\"], how=\"left\", indicator=True)\n",
    "df_rest = df_rest[df_rest[\"_merge\"] == \"left_only\"].drop(columns=[\"_merge\"])\n",
    "df_rest = df_rest.sort_values(by=[\"Arrival\", \"Start\"]).reset_index(drop=True)\n",
    "df_rest"
   ]
  },
  {
   "cell_type": "code",
   "execution_count": null,
   "id": "9ecd6d73-e14b-4613-88ce-06abd43ccd5f",
   "metadata": {},
   "outputs": [],
   "source": [
    "allowed = df_rest[\"Job\"].unique() \n",
    "df_time_rest = df_times[df_times[\"Job\"].isin(allowed)].copy()\n",
    "df_time_rest"
   ]
  },
  {
   "cell_type": "markdown",
   "id": "c91e614a-f011-412b-8ed3-375d11daf3c1",
   "metadata": {},
   "source": [
    "## III) Rescheduling\n",
    "> vereinfacht, ohne neu Aufträge (nur der Rest)"
   ]
  },
  {
   "cell_type": "code",
   "execution_count": null,
   "id": "e16a4366-f820-4f5c-8b00-8c875eb6dea1",
   "metadata": {},
   "outputs": [],
   "source": [
    "# Reduktion der bereits ausgeführten Operationen auf die relevanten für die nächsten Tage\n",
    "df_execution_important = df_execution[df_execution[\"End\"] >= 1440]\n",
    "df_execution_important"
   ]
  },
  {
   "cell_type": "code",
   "execution_count": null,
   "id": "c11c667d-b8f2-469f-bb42-5b6eaf53c843",
   "metadata": {},
   "outputs": [],
   "source": [
    "starting_time = time.time()\n",
    "df_reschedule = solver.solve_jssp_sum_tardiness_with_fixed_ops(df_rest, df_time_rest, df_execution_important,\n",
    "                                                                   reschedule_start = 1440,\n",
    "                                                                   solver= \"HiGHS\", msg=False, timeLimit=max_time, gapRel= 0.05)\n",
    "# Informationen\n",
    "ending_time = time.time()\n",
    "solver_duration = ending_time - starting_time\n",
    "print(f\"\\nScheduling-Dauer: {int(solver_duration // 60)} Minuten und {(solver_duration % 60):.2f} Sekunden.\")\n",
    "df_reschedule"
   ]
  },
  {
   "cell_type": "code",
   "execution_count": null,
   "id": "998d89ac-d726-4c0f-ae1e-6f87b8528a81",
   "metadata": {},
   "outputs": [],
   "source": [
    "show.plot_gantt_machines(df_reschedule)\n",
    "check.is_machine_conflict_free(df_reschedule)\n",
    "check.is_operation_sequence_correct(df_reschedule)\n",
    "check.is_job_timing_correct(df_reschedule)\n",
    "check.is_start_correct(df_reschedule)"
   ]
  },
  {
   "cell_type": "code",
   "execution_count": null,
   "id": "00409809-fbaf-4f18-9624-04cbf262d30a",
   "metadata": {},
   "outputs": [],
   "source": []
  }
 ],
 "metadata": {
  "kernelspec": {
   "display_name": "Python 3 (ipykernel)",
   "language": "python",
   "name": "python3"
  },
  "language_info": {
   "codemirror_mode": {
    "name": "ipython",
    "version": 3
   },
   "file_extension": ".py",
   "mimetype": "text/x-python",
   "name": "python",
   "nbconvert_exporter": "python",
   "pygments_lexer": "ipython3",
   "version": "3.13.2"
  }
 },
 "nbformat": 4,
 "nbformat_minor": 5
}
