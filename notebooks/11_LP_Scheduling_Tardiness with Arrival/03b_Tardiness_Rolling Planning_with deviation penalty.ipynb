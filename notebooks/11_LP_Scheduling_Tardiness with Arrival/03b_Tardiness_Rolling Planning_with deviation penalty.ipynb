{
 "cells": [
  {
   "cell_type": "markdown",
   "id": "b53a046f3db423f9",
   "metadata": {},
   "source": [
    "# Rolling Planning mit Tardiness (Max)"
   ]
  },
  {
   "cell_type": "code",
   "execution_count": null,
   "id": "fe3235c0b45d9db3",
   "metadata": {},
   "outputs": [],
   "source": [
    "from configs.config import get_path\n",
    "import src.utils.converter as convert\n",
    "import src.utils.presenter as show\n",
    "import src.utils.checker as check\n",
    "\n",
    "import pandas as pd\n",
    "pd.set_option('display.max_rows', 21)\n",
    "\n",
    "import src.utils.rolling_scheduling as rolling_schedule\n",
    "\n",
    "import src.models.lp.tardiness_solver as solver\n",
    "from src.simulation.ProductionDaySimulation import ProductionDaySimulation\n",
    "import time"
   ]
  },
  {
   "cell_type": "code",
   "execution_count": null,
   "id": "4e77a471189683e5",
   "metadata": {},
   "outputs": [],
   "source": [
    "max_time = 60*60*3 # 3h"
   ]
  },
  {
   "cell_type": "markdown",
   "id": "6fb133cb12d3aaa6",
   "metadata": {},
   "source": [
    "## Laden der Initialisierungsdaten"
   ]
  },
  {
   "cell_type": "code",
   "execution_count": null,
   "id": "d64f61da13173b9d",
   "metadata": {},
   "outputs": [],
   "source": [
    "data_path = get_path(\"data\", \"lp_tardiness\")\n",
    "\n",
    "df_jssp = pd.read_csv(data_path / \"02_tardiness_all_jssp.csv\")\n",
    "df_times = pd.read_csv(data_path / \"02_tardiness_all_times.csv\")"
   ]
  },
  {
   "cell_type": "markdown",
   "id": "c78e58d8d4c5fa4b",
   "metadata": {},
   "source": [
    "### Tag 0 "
   ]
  },
  {
   "cell_type": "code",
   "execution_count": null,
   "id": "65e546b968ec9c23",
   "metadata": {},
   "outputs": [],
   "source": [
    "df_plan = pd.read_csv(data_path / \"02_tardiness_init_plan.csv\")\n",
    "df_execution = pd.read_csv(data_path / \"02_tardiness_execution.csv\")\n",
    "df_undone = pd.read_csv(data_path / \"02_tardiness_init_undone.csv\")"
   ]
  },
  {
   "cell_type": "markdown",
   "id": "92bfb34ad75791ac",
   "metadata": {},
   "source": [
    "### Settings"
   ]
  },
  {
   "cell_type": "code",
   "execution_count": null,
   "id": "3c9de201059c98df",
   "metadata": {},
   "outputs": [],
   "source": [
    "def get_schedule_filename(prefix: str = \"\", day: int = 0, data_txt: str = \"schedule\", suffix: str = \"\") -> str:\n",
    "    file_template = \"{prefix}_{data}_{day:02d}{suffix}.csv\"\n",
    "    if suffix:\n",
    "        suffix = f\"_{suffix}\"\n",
    "    return data_path / file_template.format(prefix=prefix,data=data_txt,day=day, suffix=suffix)"
   ]
  },
  {
   "cell_type": "markdown",
   "id": "2cb20221801a713a",
   "metadata": {},
   "source": [
    "## Params"
   ]
  },
  {
   "cell_type": "code",
   "execution_count": null,
   "id": "d86fc56156f48952",
   "metadata": {},
   "outputs": [],
   "source": [
    "# fix\n",
    "day_length = 1440\n",
    "horizon_days = 2\n",
    "\n",
    "notebook_prefix = \"3b\""
   ]
  },
  {
   "cell_type": "markdown",
   "id": "d7e49e5f376f4fe8",
   "metadata": {},
   "source": [
    "#### Rescheduling für Tage 1-5\n",
    "- Tag 1: Ankunfttermine in [1, 2] + unabgeschlosse von Vortagen (evtl. Tag 0)\n",
    "- Tag 2: Ankunfttermine in [2, 3] + unabgeschlosse von Vortagen (evtl. Tag 0 \"oder\" Tag 1)\n",
    "- ...\n",
    "- Tag 5: Ankunfttermine in [5, 6] + unabgeschlosse von Vortagen"
   ]
  },
  {
   "cell_type": "code",
   "execution_count": null,
   "id": "44dc8d72eecb115d",
   "metadata": {},
   "outputs": [],
   "source": [
    "first_start = 1\n",
    "last_planning_start = 5"
   ]
  },
  {
   "cell_type": "code",
   "execution_count": null,
   "id": "8a7103b223797024",
   "metadata": {},
   "outputs": [],
   "source": [
    "for day_numb in range(first_start, last_planning_start + 1):\n",
    "    day_start = day_length * day_numb\n",
    "    day_end = day_start + day_length\n",
    "    planning_end = day_start + horizon_days * day_length\n",
    "\n",
    "    # ------------------- I. Ankunfts- und Operationsvorbereitung -------------------\n",
    "    df_jssp_curr, df_times_curr = rolling_schedule.filter_jobs_by_arrival_window(df_times, df_jssp, day_start, planning_end)\n",
    "    df_jssp_curr = rolling_schedule.extend_with_undone_operations(df_jssp_curr, df_undone)\n",
    "    df_times_curr = rolling_schedule.update_times_after_operation_changes(df_times, df_jssp_curr)\n",
    "\n",
    "    # ------------------- II. Relevante laufende Operationen -------------------------\n",
    "    df_execution_important = rolling_schedule.get_operations_running_into_day(df_execution, day_start)\n",
    "\n",
    "    # ------------------- III. Rescheduling durchführen -------------------------------\n",
    "\n",
    "    starting_time = time.time()\n",
    "    df_plan = solver.solve_jssp_max_tardiness_with_devpen(df_jssp_curr, df_times_curr, df_execution_important, \n",
    "                                                        df_original_plan = df_plan, # prev. Plan\n",
    "                                                        r = 0.45,                   # 45% Tardiness, 55% DevPen\n",
    "                                                        reschedule_start = day_start,\n",
    "                                                        solver= \"HiGHS\", msg=False, timeLimit=max_time, gapRel= 0.05, threads=7)\n",
    "    solver_duration = time.time() - starting_time\n",
    "    print(f\"\\n  Scheduling-Dauer: {int(solver_duration // 60)} Minuten und {(solver_duration % 60):.2f} Sekunden.\")\n",
    "\n",
    "    df_plan.to_csv(get_schedule_filename(notebook_prefix, day=day_numb), index=False)\n",
    "\n",
    "    show.plot_gantt_machines(df_plan, title=f\"Gantt-Diagramm ab Tag {day_numb}\")\n",
    "    check.check_constraints(df_plan)\n",
    "\n",
    "    # ------------------- IV. Einen Tag simulieren -------------------------------------\n",
    "\n",
    "    simulation = ProductionDaySimulation(df_plan, vc=0.25)\n",
    "    df_execution, df_undone = simulation.run(start_time=day_start, end_time=day_end)\n",
    "    if not df_execution.empty:\n",
    "        show.plot_gantt_machines(df_execution, title=f\"Gantt-Diagramm für Simulationstag {day_numb}\", duration_column=\"Simulated Processing Time\")\n",
    "    else:\n",
    "        print(f\"Nothing executed on day {day_numb}\")"
   ]
  }
 ],
 "metadata": {
  "kernelspec": {
   "display_name": "Python 3 (ipykernel)",
   "language": "python",
   "name": "python3"
  },
  "language_info": {
   "codemirror_mode": {
    "name": "ipython",
    "version": 3
   },
   "file_extension": ".py",
   "mimetype": "text/x-python",
   "name": "python",
   "nbconvert_exporter": "python",
   "pygments_lexer": "ipython3",
   "version": "3.13.2"
  }
 },
 "nbformat": 4,
 "nbformat_minor": 5
}
