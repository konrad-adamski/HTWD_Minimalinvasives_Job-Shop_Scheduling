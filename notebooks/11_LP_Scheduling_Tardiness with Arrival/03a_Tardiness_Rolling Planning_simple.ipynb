{
 "cells": [
  {
   "cell_type": "markdown",
   "id": "eb01364037a6cdf6",
   "metadata": {},
   "source": [
    "# Rolling Planning mit Tardiness (Max)"
   ]
  },
  {
   "cell_type": "code",
   "execution_count": 2,
   "id": "39341816-c377-4103-846b-c5be5b6cb6cf",
   "metadata": {},
   "outputs": [],
   "source": [
    "from configs.config import get_path\n",
    "import src.utils.converter as convert\n",
    "import src.utils.presenter as show\n",
    "import src.utils.checker as check\n",
    "\n",
    "import pandas as pd\n",
    "pd.set_option('display.max_rows', 21)\n",
    "\n",
    "import src.utils.rolling_scheduling as rolling_schedule\n",
    "\n",
    "import src.models.lp.tardiness_solver as solver\n",
    "from src.simulation.ProductionDaySimulation import ProductionDaySimulation\n",
    "import time"
   ]
  },
  {
   "cell_type": "code",
   "execution_count": null,
   "id": "b24e23bc-1a86-49ff-844b-5a608a0cf73f",
   "metadata": {},
   "outputs": [],
   "source": [
    "max_time = 60*60*3 # 3h"
   ]
  },
  {
   "cell_type": "markdown",
   "id": "3493ef25ba597afb",
   "metadata": {},
   "source": [
    "## Laden der Initialisierungsdaten"
   ]
  },
  {
   "cell_type": "code",
   "execution_count": 3,
   "id": "e1255db6-3b10-4394-8db7-4e18a8e65d1c",
   "metadata": {},
   "outputs": [],
   "source": [
    "data_path = get_path(\"data\", \"lp_tardiness\")"
   ]
  },
  {
   "cell_type": "code",
   "execution_count": 4,
   "id": "9b45f630-d9cd-4943-bfdc-d11d6f4fe577",
   "metadata": {},
   "outputs": [],
   "source": [
    "df_jssp = pd.read_csv(data_path / \"02_tardiness_all_jssp.csv\")\n",
    "df_times = pd.read_csv(data_path / \"02_tardiness_all_times.csv\")"
   ]
  },
  {
   "cell_type": "markdown",
   "id": "50b5f7c5984418e0",
   "metadata": {},
   "source": [
    "### Tag 0 "
   ]
  },
  {
   "cell_type": "code",
   "execution_count": null,
   "id": "6bd5c84d-77a6-4236-9d75-c508caf3cd8a",
   "metadata": {},
   "outputs": [],
   "source": [
    "df_plan = pd.read_csv(data_path / \"02_tardiness_init_plan.csv\")\n",
    "df_execution = pd.read_csv(data_path / \"02_tardiness_execution.csv\")\n",
    "df_undone = pd.read_csv(data_path / \"02_tardiness_init_undone.csv\")"
   ]
  },
  {
   "cell_type": "markdown",
   "id": "b8a773d4ffb8b04d",
   "metadata": {},
   "source": [
    "### Settings"
   ]
  },
  {
   "cell_type": "code",
   "execution_count": null,
   "id": "25b723fe503e871",
   "metadata": {},
   "outputs": [],
   "source": [
    "def get_schedule_filename(prefix: str = \"\", day: int = 0, data_txt: str = \"schedule\", suffix: str = \"\") -> str:\n",
    "    file_template = \"{prefix}_{data}_{day:02d}{suffix}.csv\"\n",
    "    if suffix:\n",
    "        suffix = f\"_{suffix}\"\n",
    "    return data_path / file_template.format(prefix=prefix,data=data_txt,day=day, suffix=suffix)"
   ]
  },
  {
   "cell_type": "markdown",
   "id": "fed7756cf28f0ff4",
   "metadata": {},
   "source": [
    "## Params"
   ]
  },
  {
   "cell_type": "code",
   "execution_count": null,
   "id": "e24890f60ef83bc2",
   "metadata": {},
   "outputs": [],
   "source": [
    "# fix\n",
    "day_length = 1440\n",
    "horizon_days = 2\n",
    "\n",
    "notebook_prefix = \"3a\""
   ]
  },
  {
   "cell_type": "markdown",
   "id": "3f50923763b7b088",
   "metadata": {},
   "source": [
    "#### Rescheduling für Tage 1-5\n",
    "- Tag 1: Ankunfttermine in [1, 2] + unabgeschlosse von Vortagen (evtl. Tag 0)\n",
    "- Tag 2: Ankunfttermine in [2, 3] + unabgeschlosse von Vortagen (evtl. Tag 0 \"oder\" Tag 1)\n",
    "- ...\n",
    "- Tag 5: Ankunfttermine in [5, 6] + unabgeschlosse von Vortagen"
   ]
  },
  {
   "cell_type": "code",
   "execution_count": null,
   "id": "5b31a9dec3c64373",
   "metadata": {},
   "outputs": [],
   "source": [
    "first_start = 1\n",
    "last_planning_start = 5"
   ]
  },
  {
   "cell_type": "code",
   "execution_count": null,
   "id": "61fee786-0766-4267-971d-50c4d01c5c92",
   "metadata": {},
   "outputs": [],
   "source": [
    "for day_numb in range(first_start, last_planning_start + 1):\n",
    "    day_start = day_length * day_numb\n",
    "    day_end = day_start + day_length\n",
    "    planning_end = day_start + horizon_days * day_length\n",
    "\n",
    "    # ------------------- I. Ankunfts- und Operationsvorbereitung -------------------\n",
    "    df_jssp_curr, df_times_curr = rolling_schedule.filter_jobs_by_arrival_window(df_times, df_jssp, day_start, planning_end)\n",
    "    df_jssp_curr = rolling_schedule.extend_with_undone_operations(df_jssp_curr, df_undone)\n",
    "    df_times_curr = rolling_schedule.update_times_after_operation_changes(df_times, df_jssp_curr)\n",
    "\n",
    "    # ------------------- II. Relevante laufende Operationen -------------------------\n",
    "    df_execution_important = rolling_schedule.get_operations_running_into_day(df_execution, day_start)\n",
    "\n",
    "    # ------------------- III. Rescheduling durchführen -------------------------------\n",
    "\n",
    "    starting_time = time.time()\n",
    "    df_plan = solver.solve_jssp_max_tardiness_with_fixed_ops(df_jssp_curr, df_times_curr, df_execution_important,\n",
    "                                                           reschedule_start = day_start,\n",
    "                                                           solver= \"HiGHS\", msg=False, timeLimit=max_time, gapRel= 0.02, threads=7)\n",
    "    solver_duration = time.time() - starting_time\n",
    "    print(f\"\\n  Scheduling-Dauer: {int(solver_duration // 60)} Minuten und {(solver_duration % 60):.2f} Sekunden.\")\n",
    "\n",
    "    df_plan.to_csv(get_schedule_filename(notebook_prefix, day=day_numb), index=False)\n",
    "\n",
    "    show.plot_gantt_machines(df_plan, title=f\"Gantt-Diagramm ab Tag {day_numb}\")\n",
    "    check.check_constraints(df_plan)\n",
    "\n",
    "    # ------------------- IV. Einen Tag simulieren -------------------------------------\n",
    "\n",
    "    simulation = ProductionDaySimulation(df_plan, vc=0.25)\n",
    "    df_execution, df_undone = simulation.run(start_time=day_start, end_time=day_end)\n",
    "    if not df_execution.empty:\n",
    "        show.plot_gantt_machines(df_execution, title=f\"Gantt-Diagramm für Simulationstag {day_numb}\", duration_column=\"Simulated Processing Time\")\n",
    "    else:\n",
    "        print(f\"Nothing executed on day {day_numb}\")"
   ]
  }
 ],
 "metadata": {
  "kernelspec": {
   "display_name": "Python 3 (ipykernel)",
   "language": "python",
   "name": "python3"
  },
  "language_info": {
   "codemirror_mode": {
    "name": "ipython",
    "version": 3
   },
   "file_extension": ".py",
   "mimetype": "text/x-python",
   "name": "python",
   "nbconvert_exporter": "python",
   "pygments_lexer": "ipython3",
   "version": "3.13.2"
  }
 },
 "nbformat": 4,
 "nbformat_minor": 5
}
