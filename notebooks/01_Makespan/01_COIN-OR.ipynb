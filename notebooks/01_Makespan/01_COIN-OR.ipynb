{
 "cells": [
  {
   "metadata": {},
   "cell_type": "markdown",
   "source": "# Makespan minimization with LP (COIN-OR)",
   "id": "e28b8c137cc8e87d"
  },
  {
   "metadata": {
    "ExecuteTime": {
     "end_time": "2025-08-07T22:54:29.965010Z",
     "start_time": "2025-08-07T22:54:29.419682Z"
    }
   },
   "cell_type": "code",
   "source": [
    "import json\n",
    "import pandas as pd\n",
    "\n",
    "# Utils\n",
    "import src.utils.visualization.gantt_diagram as gantt\n",
    "from src.utils.analysis_basics import check_constraints as check\n",
    "\n",
    "# Domain data\n",
    "from src.domain.Query import RoutingQuery\n",
    "from src.domain.Initializer import JobsInitializer\n",
    "from src.domain.Collection import LiveJobCollection\n",
    "\n",
    "# Solver\n",
    "from src.solvers.LP_Solver import Solver\n",
    "\n",
    "pd.set_option('display.min_rows', 16)\n",
    "pd.set_option('display.max_rows', 29)"
   ],
   "id": "12f96d516683c46b",
   "outputs": [],
   "execution_count": 1
  },
  {
   "metadata": {
    "ExecuteTime": {
     "end_time": "2025-08-07T22:54:29.982507Z",
     "start_time": "2025-08-07T22:54:29.980442Z"
    }
   },
   "cell_type": "code",
   "source": [
    "from configs.path_manager import get_path\n",
    "\n",
    "# File paths\n",
    "logs_path = get_path(\"data\", \"logs\")"
   ],
   "id": "bc830ca795bfe206",
   "outputs": [],
   "execution_count": 2
  },
  {
   "cell_type": "markdown",
   "id": "15ea383be0cdadad",
   "metadata": {},
   "source": "### I. Load routing"
  },
  {
   "cell_type": "code",
   "id": "4fa5a40337263898",
   "metadata": {
    "ExecuteTime": {
     "end_time": "2025-08-07T22:54:30.075221Z",
     "start_time": "2025-08-07T22:54:30.054117Z"
    }
   },
   "source": [
    "routings = RoutingQuery.get_by_source_name(source_name=\"Fisher and Thompson 10x10\")\n",
    "\n",
    "for routing in routings[:2]:\n",
    "    print(routing)\n",
    "    for operation in routing.operations:\n",
    "        print(f\" {operation}\")"
   ],
   "outputs": [
    {
     "name": "stdout",
     "output_type": "stream",
     "text": [
      "Routing(id='01-00', source_id=1)\n",
      " RoutingOperation(routing_id='01-00', position_number=0, machine_name='M01-00', duration=29)\n",
      " RoutingOperation(routing_id='01-00', position_number=1, machine_name='M01-01', duration=78)\n",
      " RoutingOperation(routing_id='01-00', position_number=2, machine_name='M01-02', duration=9)\n",
      " RoutingOperation(routing_id='01-00', position_number=3, machine_name='M01-03', duration=36)\n",
      " RoutingOperation(routing_id='01-00', position_number=4, machine_name='M01-04', duration=49)\n",
      " RoutingOperation(routing_id='01-00', position_number=5, machine_name='M01-05', duration=11)\n",
      " RoutingOperation(routing_id='01-00', position_number=6, machine_name='M01-06', duration=62)\n",
      " RoutingOperation(routing_id='01-00', position_number=7, machine_name='M01-07', duration=56)\n",
      " RoutingOperation(routing_id='01-00', position_number=8, machine_name='M01-08', duration=44)\n",
      " RoutingOperation(routing_id='01-00', position_number=9, machine_name='M01-09', duration=21)\n",
      "Routing(id='01-01', source_id=1)\n",
      " RoutingOperation(routing_id='01-01', position_number=0, machine_name='M01-00', duration=43)\n",
      " RoutingOperation(routing_id='01-01', position_number=1, machine_name='M01-02', duration=90)\n",
      " RoutingOperation(routing_id='01-01', position_number=2, machine_name='M01-04', duration=75)\n",
      " RoutingOperation(routing_id='01-01', position_number=3, machine_name='M01-09', duration=11)\n",
      " RoutingOperation(routing_id='01-01', position_number=4, machine_name='M01-03', duration=69)\n",
      " RoutingOperation(routing_id='01-01', position_number=5, machine_name='M01-01', duration=28)\n",
      " RoutingOperation(routing_id='01-01', position_number=6, machine_name='M01-06', duration=46)\n",
      " RoutingOperation(routing_id='01-01', position_number=7, machine_name='M01-05', duration=46)\n",
      " RoutingOperation(routing_id='01-01', position_number=8, machine_name='M01-07', duration=72)\n",
      " RoutingOperation(routing_id='01-01', position_number=9, machine_name='M01-08', duration=30)\n"
     ]
    }
   ],
   "execution_count": 3
  },
  {
   "metadata": {},
   "cell_type": "markdown",
   "source": "### II. Create jobs routings (without any change)",
   "id": "d9daf3e17d2330c2"
  },
  {
   "metadata": {
    "ExecuteTime": {
     "end_time": "2025-08-07T22:54:30.084068Z",
     "start_time": "2025-08-07T22:54:30.080968Z"
    }
   },
   "cell_type": "code",
   "source": [
    "jobs = JobsInitializer.create_simple_jobs(routings = routings, shuffle=False)\n",
    "for job in jobs[:2]:\n",
    "    print(job)\n",
    "    for operation in job.operations:\n",
    "        print(f\" {operation}\")\n"
   ],
   "id": "131a88c4bd855466",
   "outputs": [
    {
     "name": "stdout",
     "output_type": "stream",
     "text": [
      "Job(id='01-0000', routing_id='01-00', arrival=None, earliest_start=0, deadline=None, sum_duration=395, max_bottleneck_utilization=None)\n",
      " JobOperation(job_id='01-0000', position_number=0, machine_name='M01-00', duration=29)\n",
      " JobOperation(job_id='01-0000', position_number=1, machine_name='M01-01', duration=78)\n",
      " JobOperation(job_id='01-0000', position_number=2, machine_name='M01-02', duration=9)\n",
      " JobOperation(job_id='01-0000', position_number=3, machine_name='M01-03', duration=36)\n",
      " JobOperation(job_id='01-0000', position_number=4, machine_name='M01-04', duration=49)\n",
      " JobOperation(job_id='01-0000', position_number=5, machine_name='M01-05', duration=11)\n",
      " JobOperation(job_id='01-0000', position_number=6, machine_name='M01-06', duration=62)\n",
      " JobOperation(job_id='01-0000', position_number=7, machine_name='M01-07', duration=56)\n",
      " JobOperation(job_id='01-0000', position_number=8, machine_name='M01-08', duration=44)\n",
      " JobOperation(job_id='01-0000', position_number=9, machine_name='M01-09', duration=21)\n",
      "Job(id='01-0001', routing_id='01-01', arrival=None, earliest_start=0, deadline=None, sum_duration=510, max_bottleneck_utilization=None)\n",
      " JobOperation(job_id='01-0001', position_number=0, machine_name='M01-00', duration=43)\n",
      " JobOperation(job_id='01-0001', position_number=1, machine_name='M01-02', duration=90)\n",
      " JobOperation(job_id='01-0001', position_number=2, machine_name='M01-04', duration=75)\n",
      " JobOperation(job_id='01-0001', position_number=3, machine_name='M01-09', duration=11)\n",
      " JobOperation(job_id='01-0001', position_number=4, machine_name='M01-03', duration=69)\n",
      " JobOperation(job_id='01-0001', position_number=5, machine_name='M01-01', duration=28)\n",
      " JobOperation(job_id='01-0001', position_number=6, machine_name='M01-06', duration=46)\n",
      " JobOperation(job_id='01-0001', position_number=7, machine_name='M01-05', duration=46)\n",
      " JobOperation(job_id='01-0001', position_number=8, machine_name='M01-07', duration=72)\n",
      " JobOperation(job_id='01-0001', position_number=9, machine_name='M01-08', duration=30)\n"
     ]
    }
   ],
   "execution_count": 4
  },
  {
   "metadata": {
    "ExecuteTime": {
     "end_time": "2025-08-07T22:54:30.173338Z",
     "start_time": "2025-08-07T22:54:30.169719Z"
    }
   },
   "cell_type": "code",
   "source": [
    "jobs_collection = LiveJobCollection(jobs)\n",
    "print(f\"Total number of operations: {jobs_collection.count_operations()}\")"
   ],
   "id": "9a22b189cd55f5f4",
   "outputs": [
    {
     "name": "stdout",
     "output_type": "stream",
     "text": [
      "Total number of operations: 100\n"
     ]
    }
   ],
   "execution_count": 5
  },
  {
   "metadata": {},
   "cell_type": "markdown",
   "source": "## Scheduling",
   "id": "16020c96f76ac2a6"
  },
  {
   "metadata": {
    "ExecuteTime": {
     "end_time": "2025-08-07T22:54:30.283405Z",
     "start_time": "2025-08-07T22:54:30.258350Z"
    }
   },
   "cell_type": "code",
   "source": [
    "solver = Solver(\n",
    "    jobs_collection = jobs_collection,\n",
    "    var_cat=\"Integer\"\n",
    ")\n",
    "solver.build_makespan_problem()"
   ],
   "id": "fda2609e5307ad62",
   "outputs": [],
   "execution_count": 6
  },
  {
   "metadata": {},
   "cell_type": "markdown",
   "source": [
    "### A) HiGHS with PuLP\n",
    "> high performance serial and parallel solver"
   ],
   "id": "a595f2a07911c583"
  },
  {
   "metadata": {
    "ExecuteTime": {
     "end_time": "2025-08-07T22:58:00.151352Z",
     "start_time": "2025-08-07T22:57:00.085060Z"
    }
   },
   "cell_type": "code",
   "source": [
    "log_file_path = logs_path / \"makespan_highs.log\"\n",
    "\n",
    "solver.solve_problem(\n",
    "    solver_type= \"HiGHS\",\n",
    "    time_limit = 60*10,\n",
    "    relative_gap_limit= 0.05,\n",
    "    log_file= log_file_path\n",
    ")"
   ],
   "id": "dff5e438b6fc33e8",
   "outputs": [],
   "execution_count": 12
  },
  {
   "metadata": {
    "ExecuteTime": {
     "end_time": "2025-08-07T22:58:05.183514Z",
     "start_time": "2025-08-07T22:58:05.180349Z"
    }
   },
   "cell_type": "code",
   "source": [
    "solver_log = solver.get_solver_info()\n",
    "print(json.dumps(solver_log, indent=2))"
   ],
   "id": "17b4c1fbc8000c5c",
   "outputs": [
    {
     "name": "stdout",
     "output_type": "stream",
     "text": [
      "{\n",
      "  \"status\": \"Optimal\",\n",
      "  \"objective_value\": 1081.0,\n",
      "  \"num_variables\": 1001,\n",
      "  \"num_constraints\": 1900,\n",
      "  \"runtime\": 60.06\n",
      "}\n"
     ]
    }
   ],
   "execution_count": 13
  },
  {
   "metadata": {
    "ExecuteTime": {
     "end_time": "2025-08-07T22:58:08.152187Z",
     "start_time": "2025-08-07T22:58:08.144602Z"
    }
   },
   "cell_type": "code",
   "source": [
    "schedule_job_collection = solver.get_schedule()\n",
    "df_schedule = schedule_job_collection.to_operations_dataframe()\n",
    "df_schedule"
   ],
   "id": "73a6b1a7f52818b8",
   "outputs": [
    {
     "data": {
      "text/plain": [
       "        Job Routing_ID  Operation Machine  Start  Processing Time    End  \\\n",
       "0   01-0000      01-00          0  M01-00  209.0               29  238.0   \n",
       "1   01-0000      01-00          1  M01-01  281.0               78  359.0   \n",
       "2   01-0000      01-00          2  M01-02  359.0                9  368.0   \n",
       "3   01-0000      01-00          3  M01-03  399.0               36  435.0   \n",
       "4   01-0000      01-00          4  M01-04  488.0               49  537.0   \n",
       "5   01-0000      01-00          5  M01-05  638.0               11  649.0   \n",
       "6   01-0000      01-00          6  M01-06  676.0               62  738.0   \n",
       "7   01-0000      01-00          7  M01-07  783.0               56  839.0   \n",
       "..      ...        ...        ...     ...    ...              ...    ...   \n",
       "92  01-0009      01-09          2  M01-02  129.0               61  190.0   \n",
       "93  01-0009      01-09          3  M01-06  190.0                7  197.0   \n",
       "94  01-0009      01-09          4  M01-08  197.0               64  261.0   \n",
       "95  01-0009      01-09          5  M01-09  261.0               76  337.0   \n",
       "96  01-0009      01-09          6  M01-05  570.0               47  617.0   \n",
       "97  01-0009      01-09          7  M01-03  644.0               52  696.0   \n",
       "98  01-0009      01-09          8  M01-04  713.0               90  803.0   \n",
       "99  01-0009      01-09          9  M01-07  851.0               45  896.0   \n",
       "\n",
       "    Ready Time Deadline  \n",
       "0            0     None  \n",
       "1            0     None  \n",
       "2            0     None  \n",
       "3            0     None  \n",
       "4            0     None  \n",
       "5            0     None  \n",
       "6            0     None  \n",
       "7            0     None  \n",
       "..         ...      ...  \n",
       "92           0     None  \n",
       "93           0     None  \n",
       "94           0     None  \n",
       "95           0     None  \n",
       "96           0     None  \n",
       "97           0     None  \n",
       "98           0     None  \n",
       "99           0     None  \n",
       "\n",
       "[100 rows x 9 columns]"
      ],
      "text/html": [
       "<div>\n",
       "<style scoped>\n",
       "    .dataframe tbody tr th:only-of-type {\n",
       "        vertical-align: middle;\n",
       "    }\n",
       "\n",
       "    .dataframe tbody tr th {\n",
       "        vertical-align: top;\n",
       "    }\n",
       "\n",
       "    .dataframe thead th {\n",
       "        text-align: right;\n",
       "    }\n",
       "</style>\n",
       "<table border=\"1\" class=\"dataframe\">\n",
       "  <thead>\n",
       "    <tr style=\"text-align: right;\">\n",
       "      <th></th>\n",
       "      <th>Job</th>\n",
       "      <th>Routing_ID</th>\n",
       "      <th>Operation</th>\n",
       "      <th>Machine</th>\n",
       "      <th>Start</th>\n",
       "      <th>Processing Time</th>\n",
       "      <th>End</th>\n",
       "      <th>Ready Time</th>\n",
       "      <th>Deadline</th>\n",
       "    </tr>\n",
       "  </thead>\n",
       "  <tbody>\n",
       "    <tr>\n",
       "      <th>0</th>\n",
       "      <td>01-0000</td>\n",
       "      <td>01-00</td>\n",
       "      <td>0</td>\n",
       "      <td>M01-00</td>\n",
       "      <td>209.0</td>\n",
       "      <td>29</td>\n",
       "      <td>238.0</td>\n",
       "      <td>0</td>\n",
       "      <td>None</td>\n",
       "    </tr>\n",
       "    <tr>\n",
       "      <th>1</th>\n",
       "      <td>01-0000</td>\n",
       "      <td>01-00</td>\n",
       "      <td>1</td>\n",
       "      <td>M01-01</td>\n",
       "      <td>281.0</td>\n",
       "      <td>78</td>\n",
       "      <td>359.0</td>\n",
       "      <td>0</td>\n",
       "      <td>None</td>\n",
       "    </tr>\n",
       "    <tr>\n",
       "      <th>2</th>\n",
       "      <td>01-0000</td>\n",
       "      <td>01-00</td>\n",
       "      <td>2</td>\n",
       "      <td>M01-02</td>\n",
       "      <td>359.0</td>\n",
       "      <td>9</td>\n",
       "      <td>368.0</td>\n",
       "      <td>0</td>\n",
       "      <td>None</td>\n",
       "    </tr>\n",
       "    <tr>\n",
       "      <th>3</th>\n",
       "      <td>01-0000</td>\n",
       "      <td>01-00</td>\n",
       "      <td>3</td>\n",
       "      <td>M01-03</td>\n",
       "      <td>399.0</td>\n",
       "      <td>36</td>\n",
       "      <td>435.0</td>\n",
       "      <td>0</td>\n",
       "      <td>None</td>\n",
       "    </tr>\n",
       "    <tr>\n",
       "      <th>4</th>\n",
       "      <td>01-0000</td>\n",
       "      <td>01-00</td>\n",
       "      <td>4</td>\n",
       "      <td>M01-04</td>\n",
       "      <td>488.0</td>\n",
       "      <td>49</td>\n",
       "      <td>537.0</td>\n",
       "      <td>0</td>\n",
       "      <td>None</td>\n",
       "    </tr>\n",
       "    <tr>\n",
       "      <th>5</th>\n",
       "      <td>01-0000</td>\n",
       "      <td>01-00</td>\n",
       "      <td>5</td>\n",
       "      <td>M01-05</td>\n",
       "      <td>638.0</td>\n",
       "      <td>11</td>\n",
       "      <td>649.0</td>\n",
       "      <td>0</td>\n",
       "      <td>None</td>\n",
       "    </tr>\n",
       "    <tr>\n",
       "      <th>6</th>\n",
       "      <td>01-0000</td>\n",
       "      <td>01-00</td>\n",
       "      <td>6</td>\n",
       "      <td>M01-06</td>\n",
       "      <td>676.0</td>\n",
       "      <td>62</td>\n",
       "      <td>738.0</td>\n",
       "      <td>0</td>\n",
       "      <td>None</td>\n",
       "    </tr>\n",
       "    <tr>\n",
       "      <th>7</th>\n",
       "      <td>01-0000</td>\n",
       "      <td>01-00</td>\n",
       "      <td>7</td>\n",
       "      <td>M01-07</td>\n",
       "      <td>783.0</td>\n",
       "      <td>56</td>\n",
       "      <td>839.0</td>\n",
       "      <td>0</td>\n",
       "      <td>None</td>\n",
       "    </tr>\n",
       "    <tr>\n",
       "      <th>...</th>\n",
       "      <td>...</td>\n",
       "      <td>...</td>\n",
       "      <td>...</td>\n",
       "      <td>...</td>\n",
       "      <td>...</td>\n",
       "      <td>...</td>\n",
       "      <td>...</td>\n",
       "      <td>...</td>\n",
       "      <td>...</td>\n",
       "    </tr>\n",
       "    <tr>\n",
       "      <th>92</th>\n",
       "      <td>01-0009</td>\n",
       "      <td>01-09</td>\n",
       "      <td>2</td>\n",
       "      <td>M01-02</td>\n",
       "      <td>129.0</td>\n",
       "      <td>61</td>\n",
       "      <td>190.0</td>\n",
       "      <td>0</td>\n",
       "      <td>None</td>\n",
       "    </tr>\n",
       "    <tr>\n",
       "      <th>93</th>\n",
       "      <td>01-0009</td>\n",
       "      <td>01-09</td>\n",
       "      <td>3</td>\n",
       "      <td>M01-06</td>\n",
       "      <td>190.0</td>\n",
       "      <td>7</td>\n",
       "      <td>197.0</td>\n",
       "      <td>0</td>\n",
       "      <td>None</td>\n",
       "    </tr>\n",
       "    <tr>\n",
       "      <th>94</th>\n",
       "      <td>01-0009</td>\n",
       "      <td>01-09</td>\n",
       "      <td>4</td>\n",
       "      <td>M01-08</td>\n",
       "      <td>197.0</td>\n",
       "      <td>64</td>\n",
       "      <td>261.0</td>\n",
       "      <td>0</td>\n",
       "      <td>None</td>\n",
       "    </tr>\n",
       "    <tr>\n",
       "      <th>95</th>\n",
       "      <td>01-0009</td>\n",
       "      <td>01-09</td>\n",
       "      <td>5</td>\n",
       "      <td>M01-09</td>\n",
       "      <td>261.0</td>\n",
       "      <td>76</td>\n",
       "      <td>337.0</td>\n",
       "      <td>0</td>\n",
       "      <td>None</td>\n",
       "    </tr>\n",
       "    <tr>\n",
       "      <th>96</th>\n",
       "      <td>01-0009</td>\n",
       "      <td>01-09</td>\n",
       "      <td>6</td>\n",
       "      <td>M01-05</td>\n",
       "      <td>570.0</td>\n",
       "      <td>47</td>\n",
       "      <td>617.0</td>\n",
       "      <td>0</td>\n",
       "      <td>None</td>\n",
       "    </tr>\n",
       "    <tr>\n",
       "      <th>97</th>\n",
       "      <td>01-0009</td>\n",
       "      <td>01-09</td>\n",
       "      <td>7</td>\n",
       "      <td>M01-03</td>\n",
       "      <td>644.0</td>\n",
       "      <td>52</td>\n",
       "      <td>696.0</td>\n",
       "      <td>0</td>\n",
       "      <td>None</td>\n",
       "    </tr>\n",
       "    <tr>\n",
       "      <th>98</th>\n",
       "      <td>01-0009</td>\n",
       "      <td>01-09</td>\n",
       "      <td>8</td>\n",
       "      <td>M01-04</td>\n",
       "      <td>713.0</td>\n",
       "      <td>90</td>\n",
       "      <td>803.0</td>\n",
       "      <td>0</td>\n",
       "      <td>None</td>\n",
       "    </tr>\n",
       "    <tr>\n",
       "      <th>99</th>\n",
       "      <td>01-0009</td>\n",
       "      <td>01-09</td>\n",
       "      <td>9</td>\n",
       "      <td>M01-07</td>\n",
       "      <td>851.0</td>\n",
       "      <td>45</td>\n",
       "      <td>896.0</td>\n",
       "      <td>0</td>\n",
       "      <td>None</td>\n",
       "    </tr>\n",
       "  </tbody>\n",
       "</table>\n",
       "<p>100 rows × 9 columns</p>\n",
       "</div>"
      ]
     },
     "execution_count": 14,
     "metadata": {},
     "output_type": "execute_result"
    }
   ],
   "execution_count": 14
  },
  {
   "metadata": {
    "ExecuteTime": {
     "end_time": "2025-08-07T22:55:30.657218Z",
     "start_time": "2025-08-07T22:55:30.458436Z"
    }
   },
   "cell_type": "code",
   "source": [
    "gantt.get_plot(df_schedule, perspective=\"Machine\")\n",
    "check.check_core_schedule_constraints(df_schedule)"
   ],
   "id": "8fba5e8d292fcce6",
   "outputs": [
    {
     "data": {
      "text/plain": [
       "<Figure size 1600x800 with 1 Axes>"
      ],
      "image/png": "[encoded data removed]"
     },
     "metadata": {},
     "output_type": "display_data"
    },
    {
     "name": "stdout",
     "output_type": "stream",
     "text": [
      "- Machine conflicts found: 8 rows affected.\n",
      "        Job Routing_ID  Operation Machine  Start  Processing Time     End  \\\n",
      "91  01-0009      01-09          1  M01-00  168.0               13   181.0   \n",
      "10  01-0001      01-01          0  M01-00  181.0               43   224.0   \n",
      "62  01-0006      01-06          2  M01-03  456.0               61   517.0   \n",
      "3   01-0000      01-00          3  M01-03  517.0               36   553.0   \n",
      "78  01-0007      01-07          8  M01-07  835.0               36   871.0   \n",
      "99  01-0009      01-09          9  M01-07  871.0               45   916.0   \n",
      "18  01-0001      01-01          8  M01-07  916.0               72   988.0   \n",
      "59  01-0005      01-05          9  M01-07  988.0               25  1013.0   \n",
      "\n",
      "    Ready Time Deadline  \n",
      "91           0     None  \n",
      "10           0     None  \n",
      "62           0     None  \n",
      "3            0     None  \n",
      "78           0     None  \n",
      "99           0     None  \n",
      "18           0     None  \n",
      "59           0     None  \n",
      "- 3 violation(s) of technological order found:\n",
      "  Job '01-0001', Operation 3: Start=569, but previous ended at 570\n",
      "  Job '01-0006', Operation 3: Start=517, but previous ended at 517\n",
      "  Job '01-0009', Operation 5: Start=355, but previous ended at 356\n",
      "\n",
      "> Checking whether the operation sequence by start time matches the technological order:\n",
      "+ All jobs follow the correct operation sequence.\n"
     ]
    },
    {
     "data": {
      "text/plain": [
       "False"
      ]
     },
     "execution_count": 10,
     "metadata": {},
     "output_type": "execute_result"
    }
   ],
   "execution_count": 10
  },
  {
   "metadata": {
    "ExecuteTime": {
     "end_time": "2025-08-07T22:55:30.680921Z",
     "start_time": "2025-08-07T22:55:30.676051Z"
    }
   },
   "cell_type": "code",
   "source": "check.is_duration_correct(df_schedule)",
   "id": "f53080968b5cf456",
   "outputs": [
    {
     "name": "stdout",
     "output_type": "stream",
     "text": [
      "+ All durations match the difference between start and end.\n"
     ]
    },
    {
     "data": {
      "text/plain": [
       "True"
      ]
     },
     "execution_count": 11,
     "metadata": {},
     "output_type": "execute_result"
    }
   ],
   "execution_count": 11
  }
 ],
 "metadata": {
  "kernelspec": {
   "display_name": "Python 3 (ipykernel)",
   "language": "python",
   "name": "python3"
  },
  "language_info": {
   "codemirror_mode": {
    "name": "ipython",
    "version": 3
   },
   "file_extension": ".py",
   "mimetype": "text/x-python",
   "name": "python",
   "nbconvert_exporter": "python",
   "pygments_lexer": "ipython3",
   "version": "3.13.2"
  }
 },
 "nbformat": 4,
 "nbformat_minor": 5
}
