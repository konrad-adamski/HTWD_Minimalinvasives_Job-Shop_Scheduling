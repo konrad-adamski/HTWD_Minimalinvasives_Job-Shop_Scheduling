{
 "cells": [
  {
   "cell_type": "markdown",
   "id": "e28b8c137cc8e87d",
   "metadata": {},
   "source": [
    "# Makespan minimization with Constraint Programming (OR-Tools)"
   ]
  },
  {
   "cell_type": "code",
   "execution_count": 1,
   "id": "12f96d516683c46b",
   "metadata": {
    "ExecuteTime": {
     "end_time": "2025-08-16T14:17:08.142023Z",
     "start_time": "2025-08-16T14:17:07.196422Z"
    }
   },
   "outputs": [],
   "source": [
    "import pandas as pd\n",
    "from matplotlib import pyplot as plt\n",
    "\n",
    "from src.Logger import Logger\n",
    "\n",
    "# DataFrame analyses\n",
    "from src.DataFrameAnalyses import DataFramePlotGenerator, DataFrameChecker\n",
    "\n",
    "# Domain data\n",
    "from src.domain.Query import RoutingQuery\n",
    "from src.domain.Initializer import JobsInitializer\n",
    "from src.domain.Collection import LiveJobCollection\n",
    "\n",
    "# Solver\n",
    "from src.solvers.CP_Solver import Solver\n",
    "\n",
    "# Data store access\n",
    "from config.project_config import get_data_path, get_solver_logs_path\n",
    "\n",
    "pd.set_option('display.min_rows', 16)\n",
    "pd.set_option('display.max_rows', 29)"
   ]
  },
  {
   "cell_type": "code",
   "execution_count": 2,
   "id": "9362c4ceb77a9e01",
   "metadata": {
    "ExecuteTime": {
     "end_time": "2025-08-16T14:17:08.153906Z",
     "start_time": "2025-08-16T14:17:08.150547Z"
    }
   },
   "outputs": [],
   "source": [
    "# File paths\n",
    "examples_path = get_data_path(\"examples\")\n",
    "\n",
    "logs_path = get_solver_logs_path(\"Makespan\", as_string=True)\n",
    "logger = Logger(log_file = f\"{logs_path}/cp_logger.log\")\n"
   ]
  },
  {
   "cell_type": "markdown",
   "id": "15ea383be0cdadad",
   "metadata": {},
   "source": [
    "### I. Load routing"
   ]
  },
  {
   "cell_type": "code",
   "execution_count": 3,
   "id": "4fa5a40337263898",
   "metadata": {
    "ExecuteTime": {
     "end_time": "2025-08-16T14:17:11.951153Z",
     "start_time": "2025-08-16T14:17:08.169883Z"
    }
   },
   "outputs": [
    {
     "name": "stdout",
     "output_type": "stream",
     "text": [
      "Routing(id='01-00', source_id=1)\n",
      " RoutingOperation(routing_id='01-00', position_number=0, machine_name='M00', duration=29)\n",
      " RoutingOperation(routing_id='01-00', position_number=1, machine_name='M01', duration=78)\n",
      " RoutingOperation(routing_id='01-00', position_number=2, machine_name='M02', duration=9)\n",
      " RoutingOperation(routing_id='01-00', position_number=3, machine_name='M03', duration=36)\n",
      " RoutingOperation(routing_id='01-00', position_number=4, machine_name='M04', duration=49)\n",
      " RoutingOperation(routing_id='01-00', position_number=5, machine_name='M05', duration=11)\n",
      " RoutingOperation(routing_id='01-00', position_number=6, machine_name='M06', duration=62)\n",
      " RoutingOperation(routing_id='01-00', position_number=7, machine_name='M07', duration=56)\n",
      " RoutingOperation(routing_id='01-00', position_number=8, machine_name='M08', duration=44)\n",
      " RoutingOperation(routing_id='01-00', position_number=9, machine_name='M09', duration=21)\n"
     ]
    }
   ],
   "source": [
    "routings = RoutingQuery.get_by_source_name(source_name=\"Fisher and Thompson 10x10\")\n",
    "\n",
    "# Example\n",
    "for routing in routings[:1]:\n",
    "    print(routing)\n",
    "    for operation in routing.operations:\n",
    "        print(f\" {operation}\")"
   ]
  },
  {
   "cell_type": "markdown",
   "id": "d9daf3e17d2330c2",
   "metadata": {},
   "source": [
    "### II. Create jobs routings (without any change)"
   ]
  },
  {
   "cell_type": "code",
   "execution_count": 4,
   "id": "131a88c4bd855466",
   "metadata": {
    "ExecuteTime": {
     "end_time": "2025-08-16T14:17:12.076815Z",
     "start_time": "2025-08-16T14:17:12.043438Z"
    }
   },
   "outputs": [
    {
     "name": "stdout",
     "output_type": "stream",
     "text": [
      "Job(id='01-0000', routing_id='01-00', arrival=None, earliest_start=0, due_date=None, sum_duration=395, max_bottleneck_utilization=None)\n",
      " JobOperation(job_id='01-0000', position_number=0, machine_name='M00', duration=29)\n",
      " JobOperation(job_id='01-0000', position_number=1, machine_name='M01', duration=78)\n",
      " JobOperation(job_id='01-0000', position_number=2, machine_name='M02', duration=9)\n",
      " JobOperation(job_id='01-0000', position_number=3, machine_name='M03', duration=36)\n",
      " JobOperation(job_id='01-0000', position_number=4, machine_name='M04', duration=49)\n",
      " JobOperation(job_id='01-0000', position_number=5, machine_name='M05', duration=11)\n",
      " JobOperation(job_id='01-0000', position_number=6, machine_name='M06', duration=62)\n",
      " JobOperation(job_id='01-0000', position_number=7, machine_name='M07', duration=56)\n",
      " JobOperation(job_id='01-0000', position_number=8, machine_name='M08', duration=44)\n",
      " JobOperation(job_id='01-0000', position_number=9, machine_name='M09', duration=21)\n",
      "Job(id='01-0001', routing_id='01-01', arrival=None, earliest_start=0, due_date=None, sum_duration=510, max_bottleneck_utilization=None)\n",
      " JobOperation(job_id='01-0001', position_number=0, machine_name='M00', duration=43)\n",
      " JobOperation(job_id='01-0001', position_number=1, machine_name='M02', duration=90)\n",
      " JobOperation(job_id='01-0001', position_number=2, machine_name='M04', duration=75)\n",
      " JobOperation(job_id='01-0001', position_number=3, machine_name='M09', duration=11)\n",
      " JobOperation(job_id='01-0001', position_number=4, machine_name='M03', duration=69)\n",
      " JobOperation(job_id='01-0001', position_number=5, machine_name='M01', duration=28)\n",
      " JobOperation(job_id='01-0001', position_number=6, machine_name='M06', duration=46)\n",
      " JobOperation(job_id='01-0001', position_number=7, machine_name='M05', duration=46)\n",
      " JobOperation(job_id='01-0001', position_number=8, machine_name='M07', duration=72)\n",
      " JobOperation(job_id='01-0001', position_number=9, machine_name='M08', duration=30)\n"
     ]
    }
   ],
   "source": [
    "jobs = JobsInitializer.create_simple_jobs(routings = routings, shuffle=False)\n",
    "for job in jobs[:2]:\n",
    "    print(job)\n",
    "    for operation in job.operations:\n",
    "        print(f\" {operation}\")\n"
   ]
  },
  {
   "cell_type": "code",
   "execution_count": 5,
   "id": "9a22b189cd55f5f4",
   "metadata": {
    "ExecuteTime": {
     "end_time": "2025-08-16T14:17:12.205136Z",
     "start_time": "2025-08-16T14:17:12.199895Z"
    }
   },
   "outputs": [
    {
     "name": "stdout",
     "output_type": "stream",
     "text": [
      "Total number of operations: 100\n"
     ]
    }
   ],
   "source": [
    "jobs_collection = LiveJobCollection(jobs)\n",
    "print(f\"Total number of operations: {jobs_collection.count_operations()}\")"
   ]
  },
  {
   "cell_type": "markdown",
   "id": "16020c96f76ac2a6",
   "metadata": {},
   "source": [
    "## Scheduling"
   ]
  },
  {
   "cell_type": "code",
   "execution_count": 6,
   "id": "fda2609e5307ad62",
   "metadata": {
    "ExecuteTime": {
     "end_time": "2025-08-16T14:17:12.274936Z",
     "start_time": "2025-08-16T14:17:12.259989Z"
    }
   },
   "outputs": [
    {
     "name": "stderr",
     "output_type": "stream",
     "text": [
      "2025-08-16 16:17:12 INFO: Model info ---------------\n",
      "2025-08-16 16:17:12 INFO: Number of preparable operations: 100\n",
      "2025-08-16 16:17:12 INFO: Number of previous operations  : 0\n",
      "2025-08-16 16:17:12 INFO: Number of active operation     : 0\n",
      "2025-08-16 16:17:12 INFO: Number of variables            : 201\n",
      "2025-08-16 16:17:12 INFO: Number of constraints          : 220\n"
     ]
    }
   ],
   "source": [
    "solver = Solver(\n",
    "    jobs_collection = jobs_collection,\n",
    "    schedule_start= 0,\n",
    "    logger = logger\n",
    ")\n",
    "solver.build_makespan_model()\n",
    "solver.log_model_info()"
   ]
  },
  {
   "cell_type": "code",
   "execution_count": 7,
   "id": "34f3ff617ff2093b",
   "metadata": {
    "ExecuteTime": {
     "end_time": "2025-08-16T14:17:15.854824Z",
     "start_time": "2025-08-16T14:17:12.318663Z"
    }
   },
   "outputs": [
    {
     "name": "stderr",
     "output_type": "stream",
     "text": [
      "2025-08-16 16:17:15 INFO: Solver info --------------\n",
      "2025-08-16 16:17:15 INFO: Status              : OPTIMAL\n",
      "2025-08-16 16:17:15 INFO: Objective value     : 930.0\n",
      "2025-08-16 16:17:15 INFO: Best objective bound: 930.0\n",
      "2025-08-16 16:17:15 INFO: Number of branches  : 14\n",
      "2025-08-16 16:17:15 INFO: Wall time           : 3.51\n",
      "2025-08-16 16:17:15 INFO: Tardiness cost      : 0\n",
      "2025-08-16 16:17:15 INFO: Earliness cost      : 0\n",
      "2025-08-16 16:17:15 INFO: Deviation cost      : 0\n"
     ]
    }
   ],
   "source": [
    "solver.solve_model(\n",
    "    log_file= f\"{logs_path}/cp_solver.log\"\n",
    ")\n",
    "solver.log_solver_info()"
   ]
  },
  {
   "cell_type": "code",
   "execution_count": 8,
   "id": "73a6b1a7f52818b8",
   "metadata": {
    "ExecuteTime": {
     "end_time": "2025-08-16T14:17:15.894020Z",
     "start_time": "2025-08-16T14:17:15.878137Z"
    }
   },
   "outputs": [
    {
     "data": {
      "text/html": [
       "<div>\n",
       "<style scoped>\n",
       "    .dataframe tbody tr th:only-of-type {\n",
       "        vertical-align: middle;\n",
       "    }\n",
       "\n",
       "    .dataframe tbody tr th {\n",
       "        vertical-align: top;\n",
       "    }\n",
       "\n",
       "    .dataframe thead th {\n",
       "        text-align: right;\n",
       "    }\n",
       "</style>\n",
       "<table border=\"1\" class=\"dataframe\">\n",
       "  <thead>\n",
       "    <tr style=\"text-align: right;\">\n",
       "      <th></th>\n",
       "      <th>Job</th>\n",
       "      <th>Routing_ID</th>\n",
       "      <th>Operation</th>\n",
       "      <th>Machine</th>\n",
       "      <th>Start</th>\n",
       "      <th>Processing Time</th>\n",
       "      <th>End</th>\n",
       "      <th>Arrival</th>\n",
       "      <th>Ready Time</th>\n",
       "      <th>Due Date</th>\n",
       "    </tr>\n",
       "  </thead>\n",
       "  <tbody>\n",
       "    <tr>\n",
       "      <th>0</th>\n",
       "      <td>01-0000</td>\n",
       "      <td>01-00</td>\n",
       "      <td>0</td>\n",
       "      <td>M00</td>\n",
       "      <td>76</td>\n",
       "      <td>29</td>\n",
       "      <td>105</td>\n",
       "      <td>None</td>\n",
       "      <td>0</td>\n",
       "      <td>None</td>\n",
       "    </tr>\n",
       "    <tr>\n",
       "      <th>1</th>\n",
       "      <td>01-0000</td>\n",
       "      <td>01-00</td>\n",
       "      <td>1</td>\n",
       "      <td>M01</td>\n",
       "      <td>446</td>\n",
       "      <td>78</td>\n",
       "      <td>524</td>\n",
       "      <td>None</td>\n",
       "      <td>0</td>\n",
       "      <td>None</td>\n",
       "    </tr>\n",
       "    <tr>\n",
       "      <th>2</th>\n",
       "      <td>01-0000</td>\n",
       "      <td>01-00</td>\n",
       "      <td>2</td>\n",
       "      <td>M02</td>\n",
       "      <td>524</td>\n",
       "      <td>9</td>\n",
       "      <td>533</td>\n",
       "      <td>None</td>\n",
       "      <td>0</td>\n",
       "      <td>None</td>\n",
       "    </tr>\n",
       "    <tr>\n",
       "      <th>3</th>\n",
       "      <td>01-0000</td>\n",
       "      <td>01-00</td>\n",
       "      <td>3</td>\n",
       "      <td>M03</td>\n",
       "      <td>547</td>\n",
       "      <td>36</td>\n",
       "      <td>583</td>\n",
       "      <td>None</td>\n",
       "      <td>0</td>\n",
       "      <td>None</td>\n",
       "    </tr>\n",
       "    <tr>\n",
       "      <th>4</th>\n",
       "      <td>01-0000</td>\n",
       "      <td>01-00</td>\n",
       "      <td>4</td>\n",
       "      <td>M04</td>\n",
       "      <td>583</td>\n",
       "      <td>49</td>\n",
       "      <td>632</td>\n",
       "      <td>None</td>\n",
       "      <td>0</td>\n",
       "      <td>None</td>\n",
       "    </tr>\n",
       "    <tr>\n",
       "      <th>5</th>\n",
       "      <td>01-0000</td>\n",
       "      <td>01-00</td>\n",
       "      <td>5</td>\n",
       "      <td>M05</td>\n",
       "      <td>643</td>\n",
       "      <td>11</td>\n",
       "      <td>654</td>\n",
       "      <td>None</td>\n",
       "      <td>0</td>\n",
       "      <td>None</td>\n",
       "    </tr>\n",
       "    <tr>\n",
       "      <th>6</th>\n",
       "      <td>01-0000</td>\n",
       "      <td>01-00</td>\n",
       "      <td>6</td>\n",
       "      <td>M06</td>\n",
       "      <td>654</td>\n",
       "      <td>62</td>\n",
       "      <td>716</td>\n",
       "      <td>None</td>\n",
       "      <td>0</td>\n",
       "      <td>None</td>\n",
       "    </tr>\n",
       "    <tr>\n",
       "      <th>7</th>\n",
       "      <td>01-0000</td>\n",
       "      <td>01-00</td>\n",
       "      <td>7</td>\n",
       "      <td>M07</td>\n",
       "      <td>721</td>\n",
       "      <td>56</td>\n",
       "      <td>777</td>\n",
       "      <td>None</td>\n",
       "      <td>0</td>\n",
       "      <td>None</td>\n",
       "    </tr>\n",
       "    <tr>\n",
       "      <th>...</th>\n",
       "      <td>...</td>\n",
       "      <td>...</td>\n",
       "      <td>...</td>\n",
       "      <td>...</td>\n",
       "      <td>...</td>\n",
       "      <td>...</td>\n",
       "      <td>...</td>\n",
       "      <td>...</td>\n",
       "      <td>...</td>\n",
       "      <td>...</td>\n",
       "    </tr>\n",
       "    <tr>\n",
       "      <th>92</th>\n",
       "      <td>01-0009</td>\n",
       "      <td>01-09</td>\n",
       "      <td>2</td>\n",
       "      <td>M02</td>\n",
       "      <td>363</td>\n",
       "      <td>61</td>\n",
       "      <td>424</td>\n",
       "      <td>None</td>\n",
       "      <td>0</td>\n",
       "      <td>None</td>\n",
       "    </tr>\n",
       "    <tr>\n",
       "      <th>93</th>\n",
       "      <td>01-0009</td>\n",
       "      <td>01-09</td>\n",
       "      <td>3</td>\n",
       "      <td>M06</td>\n",
       "      <td>424</td>\n",
       "      <td>7</td>\n",
       "      <td>431</td>\n",
       "      <td>None</td>\n",
       "      <td>0</td>\n",
       "      <td>None</td>\n",
       "    </tr>\n",
       "    <tr>\n",
       "      <th>94</th>\n",
       "      <td>01-0009</td>\n",
       "      <td>01-09</td>\n",
       "      <td>4</td>\n",
       "      <td>M08</td>\n",
       "      <td>431</td>\n",
       "      <td>64</td>\n",
       "      <td>495</td>\n",
       "      <td>None</td>\n",
       "      <td>0</td>\n",
       "      <td>None</td>\n",
       "    </tr>\n",
       "    <tr>\n",
       "      <th>95</th>\n",
       "      <td>01-0009</td>\n",
       "      <td>01-09</td>\n",
       "      <td>5</td>\n",
       "      <td>M09</td>\n",
       "      <td>520</td>\n",
       "      <td>76</td>\n",
       "      <td>596</td>\n",
       "      <td>None</td>\n",
       "      <td>0</td>\n",
       "      <td>None</td>\n",
       "    </tr>\n",
       "    <tr>\n",
       "      <th>96</th>\n",
       "      <td>01-0009</td>\n",
       "      <td>01-09</td>\n",
       "      <td>6</td>\n",
       "      <td>M05</td>\n",
       "      <td>596</td>\n",
       "      <td>47</td>\n",
       "      <td>643</td>\n",
       "      <td>None</td>\n",
       "      <td>0</td>\n",
       "      <td>None</td>\n",
       "    </tr>\n",
       "    <tr>\n",
       "      <th>97</th>\n",
       "      <td>01-0009</td>\n",
       "      <td>01-09</td>\n",
       "      <td>7</td>\n",
       "      <td>M03</td>\n",
       "      <td>652</td>\n",
       "      <td>52</td>\n",
       "      <td>704</td>\n",
       "      <td>None</td>\n",
       "      <td>0</td>\n",
       "      <td>None</td>\n",
       "    </tr>\n",
       "    <tr>\n",
       "      <th>98</th>\n",
       "      <td>01-0009</td>\n",
       "      <td>01-09</td>\n",
       "      <td>8</td>\n",
       "      <td>M04</td>\n",
       "      <td>758</td>\n",
       "      <td>90</td>\n",
       "      <td>848</td>\n",
       "      <td>None</td>\n",
       "      <td>0</td>\n",
       "      <td>None</td>\n",
       "    </tr>\n",
       "    <tr>\n",
       "      <th>99</th>\n",
       "      <td>01-0009</td>\n",
       "      <td>01-09</td>\n",
       "      <td>9</td>\n",
       "      <td>M07</td>\n",
       "      <td>885</td>\n",
       "      <td>45</td>\n",
       "      <td>930</td>\n",
       "      <td>None</td>\n",
       "      <td>0</td>\n",
       "      <td>None</td>\n",
       "    </tr>\n",
       "  </tbody>\n",
       "</table>\n",
       "<p>100 rows × 10 columns</p>\n",
       "</div>"
      ],
      "text/plain": [
       "        Job Routing_ID  Operation Machine  Start  Processing Time  End  \\\n",
       "0   01-0000      01-00          0     M00     76               29  105   \n",
       "1   01-0000      01-00          1     M01    446               78  524   \n",
       "2   01-0000      01-00          2     M02    524                9  533   \n",
       "3   01-0000      01-00          3     M03    547               36  583   \n",
       "4   01-0000      01-00          4     M04    583               49  632   \n",
       "5   01-0000      01-00          5     M05    643               11  654   \n",
       "6   01-0000      01-00          6     M06    654               62  716   \n",
       "7   01-0000      01-00          7     M07    721               56  777   \n",
       "..      ...        ...        ...     ...    ...              ...  ...   \n",
       "92  01-0009      01-09          2     M02    363               61  424   \n",
       "93  01-0009      01-09          3     M06    424                7  431   \n",
       "94  01-0009      01-09          4     M08    431               64  495   \n",
       "95  01-0009      01-09          5     M09    520               76  596   \n",
       "96  01-0009      01-09          6     M05    596               47  643   \n",
       "97  01-0009      01-09          7     M03    652               52  704   \n",
       "98  01-0009      01-09          8     M04    758               90  848   \n",
       "99  01-0009      01-09          9     M07    885               45  930   \n",
       "\n",
       "   Arrival  Ready Time Due Date  \n",
       "0     None           0     None  \n",
       "1     None           0     None  \n",
       "2     None           0     None  \n",
       "3     None           0     None  \n",
       "4     None           0     None  \n",
       "5     None           0     None  \n",
       "6     None           0     None  \n",
       "7     None           0     None  \n",
       "..     ...         ...      ...  \n",
       "92    None           0     None  \n",
       "93    None           0     None  \n",
       "94    None           0     None  \n",
       "95    None           0     None  \n",
       "96    None           0     None  \n",
       "97    None           0     None  \n",
       "98    None           0     None  \n",
       "99    None           0     None  \n",
       "\n",
       "[100 rows x 10 columns]"
      ]
     },
     "execution_count": 8,
     "metadata": {},
     "output_type": "execute_result"
    }
   ],
   "source": [
    "schedule_job_collection = solver.get_schedule()\n",
    "df_schedule = schedule_job_collection.to_operations_dataframe()\n",
    "df_schedule"
   ]
  },
  {
   "cell_type": "code",
   "execution_count": 9,
   "id": "779f0fa2bbf1d9ad",
   "metadata": {
    "ExecuteTime": {
     "end_time": "2025-08-16T14:17:16.761979Z",
     "start_time": "2025-08-16T14:17:15.964832Z"
    }
   },
   "outputs": [
    {
     "data": {
      "image/png": "[encoded data removed]",
      "text/plain": [
       "<Figure size 1600x800 with 1 Axes>"
      ]
     },
     "metadata": {},
     "output_type": "display_data"
    }
   ],
   "source": [
    "file_path = examples_path / \"cp_makespan_gantt_chart.png\"\n",
    "\n",
    "fig = DataFramePlotGenerator.get_gantt_chart_figure(df_schedule, perspective=\"Machine\")\n",
    "fig.savefig(file_path, dpi=300)\n",
    "plt.show()"
   ]
  },
  {
   "cell_type": "code",
   "execution_count": 10,
   "id": "8fba5e8d292fcce6",
   "metadata": {
    "ExecuteTime": {
     "end_time": "2025-08-16T14:17:16.806474Z",
     "start_time": "2025-08-16T14:17:16.787776Z"
    }
   },
   "outputs": [
    {
     "name": "stdout",
     "output_type": "stream",
     "text": [
      "+ No machine conflicts found.\n",
      "+ All job operations are scheduled in non-overlapping, correct sequence.\n",
      "+ All operations start at or after the earliest allowed time.\n",
      "+ All durations match the difference between start and end.\n"
     ]
    },
    {
     "data": {
      "text/plain": [
       "True"
      ]
     },
     "execution_count": 10,
     "metadata": {},
     "output_type": "execute_result"
    }
   ],
   "source": [
    "DataFrameChecker.check_core_schedule_constraints(df_schedule)\n",
    "DataFrameChecker.is_duration_correct(df_schedule)"
   ]
  }
 ],
 "metadata": {
  "kernelspec": {
   "display_name": "Python 3 (ipykernel)",
   "language": "python",
   "name": "python3"
  },
  "language_info": {
   "codemirror_mode": {
    "name": "ipython",
    "version": 3
   },
   "file_extension": ".py",
   "mimetype": "text/x-python",
   "name": "python",
   "nbconvert_exporter": "python",
   "pygments_lexer": "ipython3",
   "version": "3.13.2"
  }
 },
 "nbformat": 4,
 "nbformat_minor": 5
}
