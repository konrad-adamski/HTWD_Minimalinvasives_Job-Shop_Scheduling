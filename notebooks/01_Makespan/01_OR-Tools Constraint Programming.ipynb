{
 "cells": [
  {
   "metadata": {},
   "cell_type": "markdown",
   "source": "# Makespan minimization with Constraint Programming (OR-Tools)",
   "id": "e28b8c137cc8e87d"
  },
  {
   "metadata": {
    "ExecuteTime": {
     "end_time": "2025-08-10T21:39:11.702966Z",
     "start_time": "2025-08-10T21:39:10.776642Z"
    }
   },
   "cell_type": "code",
   "source": [
    "\n",
    "import pandas as pd\n",
    "from matplotlib import pyplot as plt\n",
    "\n",
    "# DataFrame analyses\n",
    "from src.DataFrameAnalyses import DataFramePlotGenerator, DataFrameChecker\n",
    "\n",
    "# Domain data\n",
    "from src.domain.Query import RoutingQuery\n",
    "from src.domain.Initializer import JobsInitializer\n",
    "from src.domain.Collection import LiveJobCollection\n",
    "\n",
    "# Solver\n",
    "from src.solvers.CP_Solver import Solver\n",
    "\n",
    "# Data store access\n",
    "from config.project_config import get_data_path\n",
    "\n",
    "pd.set_option('display.min_rows', 16)\n",
    "pd.set_option('display.max_rows', 29)"
   ],
   "id": "12f96d516683c46b",
   "outputs": [],
   "execution_count": 1
  },
  {
   "metadata": {
    "ExecuteTime": {
     "end_time": "2025-08-10T21:39:11.713585Z",
     "start_time": "2025-08-10T21:39:11.710016Z"
    }
   },
   "cell_type": "code",
   "source": [
    "# File paths\n",
    "examples_path = get_data_path(\"examples\")\n",
    "logs_path = get_data_path(\"solver_logs\")"
   ],
   "id": "9362c4ceb77a9e01",
   "outputs": [
    {
     "name": "stdout",
     "output_type": "stream",
     "text": [
      "Key 'solver_logs' not found.\n"
     ]
    }
   ],
   "execution_count": 2
  },
  {
   "cell_type": "markdown",
   "id": "15ea383be0cdadad",
   "metadata": {},
   "source": "### I. Load routing"
  },
  {
   "cell_type": "code",
   "id": "4fa5a40337263898",
   "metadata": {
    "ExecuteTime": {
     "end_time": "2025-08-10T21:39:15.451371Z",
     "start_time": "2025-08-10T21:39:11.719405Z"
    }
   },
   "source": [
    "routings = RoutingQuery.get_by_source_name(source_name=\"Fisher and Thompson 10x10\")\n",
    "\n",
    "# Example\n",
    "for routing in routings[:1]:\n",
    "    print(routing)\n",
    "    for operation in routing.operations:\n",
    "        print(f\" {operation}\")"
   ],
   "outputs": [
    {
     "name": "stdout",
     "output_type": "stream",
     "text": [
      "Routing(id='01-00', source_id=1)\n",
      " RoutingOperation(routing_id='01-00', position_number=0, machine_name='M00', duration=29)\n",
      " RoutingOperation(routing_id='01-00', position_number=1, machine_name='M01', duration=78)\n",
      " RoutingOperation(routing_id='01-00', position_number=2, machine_name='M02', duration=9)\n",
      " RoutingOperation(routing_id='01-00', position_number=3, machine_name='M03', duration=36)\n",
      " RoutingOperation(routing_id='01-00', position_number=4, machine_name='M04', duration=49)\n",
      " RoutingOperation(routing_id='01-00', position_number=5, machine_name='M05', duration=11)\n",
      " RoutingOperation(routing_id='01-00', position_number=6, machine_name='M06', duration=62)\n",
      " RoutingOperation(routing_id='01-00', position_number=7, machine_name='M07', duration=56)\n",
      " RoutingOperation(routing_id='01-00', position_number=8, machine_name='M08', duration=44)\n",
      " RoutingOperation(routing_id='01-00', position_number=9, machine_name='M09', duration=21)\n"
     ]
    }
   ],
   "execution_count": 3
  },
  {
   "metadata": {},
   "cell_type": "markdown",
   "source": "### II. Create jobs routings (without any change)",
   "id": "d9daf3e17d2330c2"
  },
  {
   "metadata": {
    "ExecuteTime": {
     "end_time": "2025-08-10T21:39:15.553951Z",
     "start_time": "2025-08-10T21:39:15.536230Z"
    }
   },
   "cell_type": "code",
   "source": [
    "jobs = JobsInitializer.create_simple_jobs(routings = routings, shuffle=False)\n",
    "for job in jobs[:2]:\n",
    "    print(job)\n",
    "    for operation in job.operations:\n",
    "        print(f\" {operation}\")\n"
   ],
   "id": "131a88c4bd855466",
   "outputs": [
    {
     "name": "stdout",
     "output_type": "stream",
     "text": [
      "Job(id='01-0000', routing_id='01-00', arrival=None, earliest_start=0, due_date=None, sum_duration=395, max_bottleneck_utilization=None)\n",
      " JobOperation(job_id='01-0000', position_number=0, machine_name='M00', duration=29)\n",
      " JobOperation(job_id='01-0000', position_number=1, machine_name='M01', duration=78)\n",
      " JobOperation(job_id='01-0000', position_number=2, machine_name='M02', duration=9)\n",
      " JobOperation(job_id='01-0000', position_number=3, machine_name='M03', duration=36)\n",
      " JobOperation(job_id='01-0000', position_number=4, machine_name='M04', duration=49)\n",
      " JobOperation(job_id='01-0000', position_number=5, machine_name='M05', duration=11)\n",
      " JobOperation(job_id='01-0000', position_number=6, machine_name='M06', duration=62)\n",
      " JobOperation(job_id='01-0000', position_number=7, machine_name='M07', duration=56)\n",
      " JobOperation(job_id='01-0000', position_number=8, machine_name='M08', duration=44)\n",
      " JobOperation(job_id='01-0000', position_number=9, machine_name='M09', duration=21)\n",
      "Job(id='01-0001', routing_id='01-01', arrival=None, earliest_start=0, due_date=None, sum_duration=510, max_bottleneck_utilization=None)\n",
      " JobOperation(job_id='01-0001', position_number=0, machine_name='M00', duration=43)\n",
      " JobOperation(job_id='01-0001', position_number=1, machine_name='M02', duration=90)\n",
      " JobOperation(job_id='01-0001', position_number=2, machine_name='M04', duration=75)\n",
      " JobOperation(job_id='01-0001', position_number=3, machine_name='M09', duration=11)\n",
      " JobOperation(job_id='01-0001', position_number=4, machine_name='M03', duration=69)\n",
      " JobOperation(job_id='01-0001', position_number=5, machine_name='M01', duration=28)\n",
      " JobOperation(job_id='01-0001', position_number=6, machine_name='M06', duration=46)\n",
      " JobOperation(job_id='01-0001', position_number=7, machine_name='M05', duration=46)\n",
      " JobOperation(job_id='01-0001', position_number=8, machine_name='M07', duration=72)\n",
      " JobOperation(job_id='01-0001', position_number=9, machine_name='M08', duration=30)\n"
     ]
    }
   ],
   "execution_count": 4
  },
  {
   "metadata": {
    "ExecuteTime": {
     "end_time": "2025-08-10T21:39:15.613659Z",
     "start_time": "2025-08-10T21:39:15.610221Z"
    }
   },
   "cell_type": "code",
   "source": [
    "jobs_collection = LiveJobCollection(jobs)\n",
    "print(f\"Total number of operations: {jobs_collection.count_operations()}\")"
   ],
   "id": "9a22b189cd55f5f4",
   "outputs": [
    {
     "name": "stdout",
     "output_type": "stream",
     "text": [
      "Total number of operations: 100\n"
     ]
    }
   ],
   "execution_count": 5
  },
  {
   "metadata": {},
   "cell_type": "markdown",
   "source": "## Scheduling",
   "id": "16020c96f76ac2a6"
  },
  {
   "metadata": {
    "ExecuteTime": {
     "end_time": "2025-08-10T21:39:15.644893Z",
     "start_time": "2025-08-10T21:39:15.634476Z"
    }
   },
   "cell_type": "code",
   "source": [
    "solver = Solver(\n",
    "    jobs_collection = jobs_collection,\n",
    "    schedule_start= 0\n",
    ")\n",
    "solver.build_makespan_model()\n",
    "solver.print_model_info()"
   ],
   "id": "fda2609e5307ad62",
   "outputs": [
    {
     "name": "stdout",
     "output_type": "stream",
     "text": [
      "Number of preparable operations: 100\n",
      "Number of previous operations  : 0\n",
      "Number of active operation     : 0\n",
      "Number of variables            : 201\n",
      "Number of constraints          : 220\n"
     ]
    }
   ],
   "execution_count": 6
  },
  {
   "metadata": {
    "ExecuteTime": {
     "end_time": "2025-08-10T21:39:45.611418Z",
     "start_time": "2025-08-10T21:39:45.597006Z"
    }
   },
   "cell_type": "code",
   "source": [
    "log_file_path = logs_path / \"makespan_cp.log\"\n",
    "\n",
    "solver.solve_model(\n",
    "    log_file= log_file_path\n",
    ")\n",
    "solver.print_solver_info()"
   ],
   "id": "34f3ff617ff2093b",
   "outputs": [
    {
     "ename": "TypeError",
     "evalue": "unsupported operand type(s) for /: 'NoneType' and 'str'",
     "output_type": "error",
     "traceback": [
      "\u001B[31m---------------------------------------------------------------------------\u001B[39m",
      "\u001B[31mTypeError\u001B[39m                                 Traceback (most recent call last)",
      "\u001B[36mCell\u001B[39m\u001B[36m \u001B[39m\u001B[32mIn[8]\u001B[39m\u001B[32m, line 1\u001B[39m\n\u001B[32m----> \u001B[39m\u001B[32m1\u001B[39m log_file_path = \u001B[43mlogs_path\u001B[49m\u001B[43m \u001B[49m\u001B[43m/\u001B[49m\u001B[43m \u001B[49m\u001B[33;43m\"\u001B[39;49m\u001B[33;43mmakespan_cp.log\u001B[39;49m\u001B[33;43m\"\u001B[39;49m\n\u001B[32m      3\u001B[39m solver.solve_model(\n\u001B[32m      4\u001B[39m     log_file= log_file_path\n\u001B[32m      5\u001B[39m )\n\u001B[32m      6\u001B[39m solver.print_solver_info()\n",
      "\u001B[31mTypeError\u001B[39m: unsupported operand type(s) for /: 'NoneType' and 'str'"
     ]
    }
   ],
   "execution_count": 8
  },
  {
   "metadata": {
    "ExecuteTime": {
     "end_time": "2025-08-10T21:39:15.919802800Z",
     "start_time": "2025-08-10T00:23:00.457574Z"
    }
   },
   "cell_type": "code",
   "source": [
    "schedule_job_collection = solver.get_schedule()\n",
    "df_schedule = schedule_job_collection.to_operations_dataframe()\n",
    "df_schedule"
   ],
   "id": "73a6b1a7f52818b8",
   "outputs": [
    {
     "data": {
      "text/plain": [
       "        Job Routing_ID  Operation Machine  Start  Processing Time  End  \\\n",
       "0   01-0000      01-00          0     M00    119               29  148   \n",
       "1   01-0000      01-00          1     M01    445               78  523   \n",
       "2   01-0000      01-00          2     M02    523                9  532   \n",
       "3   01-0000      01-00          3     M03    532               36  568   \n",
       "4   01-0000      01-00          4     M04    568               49  617   \n",
       "5   01-0000      01-00          5     M05    641               11  652   \n",
       "6   01-0000      01-00          6     M06    652               62  714   \n",
       "7   01-0000      01-00          7     M07    721               56  777   \n",
       "..      ...        ...        ...     ...    ...              ...  ...   \n",
       "92  01-0009      01-09          2     M02    361               61  422   \n",
       "93  01-0009      01-09          3     M06    422                7  429   \n",
       "94  01-0009      01-09          4     M08    429               64  493   \n",
       "95  01-0009      01-09          5     M09    518               76  594   \n",
       "96  01-0009      01-09          6     M05    594               47  641   \n",
       "97  01-0009      01-09          7     M03    735               52  787   \n",
       "98  01-0009      01-09          8     M04    787               90  877   \n",
       "99  01-0009      01-09          9     M07    885               45  930   \n",
       "\n",
       "   Arrival  Ready Time Due Date  \n",
       "0     None           0     None  \n",
       "1     None           0     None  \n",
       "2     None           0     None  \n",
       "3     None           0     None  \n",
       "4     None           0     None  \n",
       "5     None           0     None  \n",
       "6     None           0     None  \n",
       "7     None           0     None  \n",
       "..     ...         ...      ...  \n",
       "92    None           0     None  \n",
       "93    None           0     None  \n",
       "94    None           0     None  \n",
       "95    None           0     None  \n",
       "96    None           0     None  \n",
       "97    None           0     None  \n",
       "98    None           0     None  \n",
       "99    None           0     None  \n",
       "\n",
       "[100 rows x 10 columns]"
      ],
      "text/html": [
       "<div>\n",
       "<style scoped>\n",
       "    .dataframe tbody tr th:only-of-type {\n",
       "        vertical-align: middle;\n",
       "    }\n",
       "\n",
       "    .dataframe tbody tr th {\n",
       "        vertical-align: top;\n",
       "    }\n",
       "\n",
       "    .dataframe thead th {\n",
       "        text-align: right;\n",
       "    }\n",
       "</style>\n",
       "<table border=\"1\" class=\"dataframe\">\n",
       "  <thead>\n",
       "    <tr style=\"text-align: right;\">\n",
       "      <th></th>\n",
       "      <th>Job</th>\n",
       "      <th>Routing_ID</th>\n",
       "      <th>Operation</th>\n",
       "      <th>Machine</th>\n",
       "      <th>Start</th>\n",
       "      <th>Processing Time</th>\n",
       "      <th>End</th>\n",
       "      <th>Arrival</th>\n",
       "      <th>Ready Time</th>\n",
       "      <th>Due Date</th>\n",
       "    </tr>\n",
       "  </thead>\n",
       "  <tbody>\n",
       "    <tr>\n",
       "      <th>0</th>\n",
       "      <td>01-0000</td>\n",
       "      <td>01-00</td>\n",
       "      <td>0</td>\n",
       "      <td>M00</td>\n",
       "      <td>119</td>\n",
       "      <td>29</td>\n",
       "      <td>148</td>\n",
       "      <td>None</td>\n",
       "      <td>0</td>\n",
       "      <td>None</td>\n",
       "    </tr>\n",
       "    <tr>\n",
       "      <th>1</th>\n",
       "      <td>01-0000</td>\n",
       "      <td>01-00</td>\n",
       "      <td>1</td>\n",
       "      <td>M01</td>\n",
       "      <td>445</td>\n",
       "      <td>78</td>\n",
       "      <td>523</td>\n",
       "      <td>None</td>\n",
       "      <td>0</td>\n",
       "      <td>None</td>\n",
       "    </tr>\n",
       "    <tr>\n",
       "      <th>2</th>\n",
       "      <td>01-0000</td>\n",
       "      <td>01-00</td>\n",
       "      <td>2</td>\n",
       "      <td>M02</td>\n",
       "      <td>523</td>\n",
       "      <td>9</td>\n",
       "      <td>532</td>\n",
       "      <td>None</td>\n",
       "      <td>0</td>\n",
       "      <td>None</td>\n",
       "    </tr>\n",
       "    <tr>\n",
       "      <th>3</th>\n",
       "      <td>01-0000</td>\n",
       "      <td>01-00</td>\n",
       "      <td>3</td>\n",
       "      <td>M03</td>\n",
       "      <td>532</td>\n",
       "      <td>36</td>\n",
       "      <td>568</td>\n",
       "      <td>None</td>\n",
       "      <td>0</td>\n",
       "      <td>None</td>\n",
       "    </tr>\n",
       "    <tr>\n",
       "      <th>4</th>\n",
       "      <td>01-0000</td>\n",
       "      <td>01-00</td>\n",
       "      <td>4</td>\n",
       "      <td>M04</td>\n",
       "      <td>568</td>\n",
       "      <td>49</td>\n",
       "      <td>617</td>\n",
       "      <td>None</td>\n",
       "      <td>0</td>\n",
       "      <td>None</td>\n",
       "    </tr>\n",
       "    <tr>\n",
       "      <th>5</th>\n",
       "      <td>01-0000</td>\n",
       "      <td>01-00</td>\n",
       "      <td>5</td>\n",
       "      <td>M05</td>\n",
       "      <td>641</td>\n",
       "      <td>11</td>\n",
       "      <td>652</td>\n",
       "      <td>None</td>\n",
       "      <td>0</td>\n",
       "      <td>None</td>\n",
       "    </tr>\n",
       "    <tr>\n",
       "      <th>6</th>\n",
       "      <td>01-0000</td>\n",
       "      <td>01-00</td>\n",
       "      <td>6</td>\n",
       "      <td>M06</td>\n",
       "      <td>652</td>\n",
       "      <td>62</td>\n",
       "      <td>714</td>\n",
       "      <td>None</td>\n",
       "      <td>0</td>\n",
       "      <td>None</td>\n",
       "    </tr>\n",
       "    <tr>\n",
       "      <th>7</th>\n",
       "      <td>01-0000</td>\n",
       "      <td>01-00</td>\n",
       "      <td>7</td>\n",
       "      <td>M07</td>\n",
       "      <td>721</td>\n",
       "      <td>56</td>\n",
       "      <td>777</td>\n",
       "      <td>None</td>\n",
       "      <td>0</td>\n",
       "      <td>None</td>\n",
       "    </tr>\n",
       "    <tr>\n",
       "      <th>...</th>\n",
       "      <td>...</td>\n",
       "      <td>...</td>\n",
       "      <td>...</td>\n",
       "      <td>...</td>\n",
       "      <td>...</td>\n",
       "      <td>...</td>\n",
       "      <td>...</td>\n",
       "      <td>...</td>\n",
       "      <td>...</td>\n",
       "      <td>...</td>\n",
       "    </tr>\n",
       "    <tr>\n",
       "      <th>92</th>\n",
       "      <td>01-0009</td>\n",
       "      <td>01-09</td>\n",
       "      <td>2</td>\n",
       "      <td>M02</td>\n",
       "      <td>361</td>\n",
       "      <td>61</td>\n",
       "      <td>422</td>\n",
       "      <td>None</td>\n",
       "      <td>0</td>\n",
       "      <td>None</td>\n",
       "    </tr>\n",
       "    <tr>\n",
       "      <th>93</th>\n",
       "      <td>01-0009</td>\n",
       "      <td>01-09</td>\n",
       "      <td>3</td>\n",
       "      <td>M06</td>\n",
       "      <td>422</td>\n",
       "      <td>7</td>\n",
       "      <td>429</td>\n",
       "      <td>None</td>\n",
       "      <td>0</td>\n",
       "      <td>None</td>\n",
       "    </tr>\n",
       "    <tr>\n",
       "      <th>94</th>\n",
       "      <td>01-0009</td>\n",
       "      <td>01-09</td>\n",
       "      <td>4</td>\n",
       "      <td>M08</td>\n",
       "      <td>429</td>\n",
       "      <td>64</td>\n",
       "      <td>493</td>\n",
       "      <td>None</td>\n",
       "      <td>0</td>\n",
       "      <td>None</td>\n",
       "    </tr>\n",
       "    <tr>\n",
       "      <th>95</th>\n",
       "      <td>01-0009</td>\n",
       "      <td>01-09</td>\n",
       "      <td>5</td>\n",
       "      <td>M09</td>\n",
       "      <td>518</td>\n",
       "      <td>76</td>\n",
       "      <td>594</td>\n",
       "      <td>None</td>\n",
       "      <td>0</td>\n",
       "      <td>None</td>\n",
       "    </tr>\n",
       "    <tr>\n",
       "      <th>96</th>\n",
       "      <td>01-0009</td>\n",
       "      <td>01-09</td>\n",
       "      <td>6</td>\n",
       "      <td>M05</td>\n",
       "      <td>594</td>\n",
       "      <td>47</td>\n",
       "      <td>641</td>\n",
       "      <td>None</td>\n",
       "      <td>0</td>\n",
       "      <td>None</td>\n",
       "    </tr>\n",
       "    <tr>\n",
       "      <th>97</th>\n",
       "      <td>01-0009</td>\n",
       "      <td>01-09</td>\n",
       "      <td>7</td>\n",
       "      <td>M03</td>\n",
       "      <td>735</td>\n",
       "      <td>52</td>\n",
       "      <td>787</td>\n",
       "      <td>None</td>\n",
       "      <td>0</td>\n",
       "      <td>None</td>\n",
       "    </tr>\n",
       "    <tr>\n",
       "      <th>98</th>\n",
       "      <td>01-0009</td>\n",
       "      <td>01-09</td>\n",
       "      <td>8</td>\n",
       "      <td>M04</td>\n",
       "      <td>787</td>\n",
       "      <td>90</td>\n",
       "      <td>877</td>\n",
       "      <td>None</td>\n",
       "      <td>0</td>\n",
       "      <td>None</td>\n",
       "    </tr>\n",
       "    <tr>\n",
       "      <th>99</th>\n",
       "      <td>01-0009</td>\n",
       "      <td>01-09</td>\n",
       "      <td>9</td>\n",
       "      <td>M07</td>\n",
       "      <td>885</td>\n",
       "      <td>45</td>\n",
       "      <td>930</td>\n",
       "      <td>None</td>\n",
       "      <td>0</td>\n",
       "      <td>None</td>\n",
       "    </tr>\n",
       "  </tbody>\n",
       "</table>\n",
       "<p>100 rows × 10 columns</p>\n",
       "</div>"
      ]
     },
     "execution_count": 10,
     "metadata": {},
     "output_type": "execute_result"
    }
   ],
   "execution_count": 10
  },
  {
   "metadata": {
    "ExecuteTime": {
     "end_time": "2025-08-10T21:39:15.935761300Z",
     "start_time": "2025-08-10T00:23:00.497970Z"
    }
   },
   "cell_type": "code",
   "source": [
    "file_path = examples_path / \"cp_makespan_gantt_chart.png\"\n",
    "\n",
    "fig = DataFramePlotGenerator.get_gantt_chart_figure(df_schedule, perspective=\"Machine\")\n",
    "fig.savefig(file_path, dpi=300)\n",
    "plt.show()"
   ],
   "id": "779f0fa2bbf1d9ad",
   "outputs": [
    {
     "data": {
      "text/plain": [
       "<Figure size 1600x800 with 1 Axes>"
      ],
      "image/png": "[encoded data removed]"
     },
     "metadata": {},
     "output_type": "display_data"
    }
   ],
   "execution_count": 11
  },
  {
   "metadata": {
    "ExecuteTime": {
     "end_time": "2025-08-10T21:39:15.935761300Z",
     "start_time": "2025-08-10T00:23:00.965608Z"
    }
   },
   "cell_type": "code",
   "source": [
    "DataFrameChecker.check_core_schedule_constraints(df_schedule)\n",
    "DataFrameChecker.is_duration_correct(df_schedule)"
   ],
   "id": "8fba5e8d292fcce6",
   "outputs": [
    {
     "name": "stdout",
     "output_type": "stream",
     "text": [
      "+ No machine conflicts found.\n",
      "+ All job operations are scheduled in non-overlapping, correct sequence.\n",
      "+ All operations start at or after the earliest allowed time.\n",
      "+ All durations match the difference between start and end.\n"
     ]
    },
    {
     "data": {
      "text/plain": [
       "True"
      ]
     },
     "execution_count": 12,
     "metadata": {},
     "output_type": "execute_result"
    }
   ],
   "execution_count": 12
  }
 ],
 "metadata": {
  "kernelspec": {
   "display_name": "Python 3 (ipykernel)",
   "language": "python",
   "name": "python3"
  },
  "language_info": {
   "codemirror_mode": {
    "name": "ipython",
    "version": 3
   },
   "file_extension": ".py",
   "mimetype": "text/x-python",
   "name": "python",
   "nbconvert_exporter": "python",
   "pygments_lexer": "ipython3",
   "version": "3.13.2"
  }
 },
 "nbformat": 4,
 "nbformat_minor": 5
}
