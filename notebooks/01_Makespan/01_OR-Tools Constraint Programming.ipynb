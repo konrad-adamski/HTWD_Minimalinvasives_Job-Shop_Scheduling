{
 "cells": [
  {
   "cell_type": "markdown",
   "id": "e28b8c137cc8e87d",
   "metadata": {},
   "source": [
    "# Makespan minimization with Constraint Programming (OR-Tools)"
   ]
  },
  {
   "cell_type": "code",
   "id": "12f96d516683c46b",
   "metadata": {
    "ExecuteTime": {
     "end_time": "2025-08-17T15:05:27.332484Z",
     "start_time": "2025-08-17T15:05:27.329446Z"
    }
   },
   "source": [
    "import pandas as pd\n",
    "from matplotlib import pyplot as plt\n",
    "\n",
    "from src.Logger import Logger\n",
    "\n",
    "# DataFrame analyses\n",
    "from src.DataFrameAnalyses import DataFramePlotGenerator, DataFrameChecker\n",
    "\n",
    "# Domain data\n",
    "from src.domain.Query import RoutingQuery\n",
    "from src.domain.Initializer import JobsInitializer\n",
    "from src.domain.Collection import LiveJobCollection\n",
    "\n",
    "# Solver\n",
    "from src.solvers.CP_Solver import Solver\n",
    "\n",
    "# Data store access\n",
    "from config.project_config import get_examples_path\n",
    "\n",
    "pd.set_option('display.min_rows', 16)\n",
    "pd.set_option('display.max_rows', 29)"
   ],
   "outputs": [],
   "execution_count": 11
  },
  {
   "cell_type": "code",
   "id": "9362c4ceb77a9e01",
   "metadata": {
    "ExecuteTime": {
     "end_time": "2025-08-17T15:05:27.357497Z",
     "start_time": "2025-08-17T15:05:27.354681Z"
    }
   },
   "source": [
    "# File paths\n",
    "examples_path = get_examples_path(\"Makespan\", as_string= True)\n",
    "\n",
    "# Logger\n",
    "logger = Logger(log_file = f\"{examples_path}/experiment_logger.log\")\n"
   ],
   "outputs": [],
   "execution_count": 12
  },
  {
   "cell_type": "markdown",
   "id": "15ea383be0cdadad",
   "metadata": {},
   "source": [
    "### I. Load routing"
   ]
  },
  {
   "cell_type": "code",
   "id": "4fa5a40337263898",
   "metadata": {
    "ExecuteTime": {
     "end_time": "2025-08-17T15:05:31.414923Z",
     "start_time": "2025-08-17T15:05:27.365797Z"
    }
   },
   "source": [
    "routings = RoutingQuery.get_by_source_name(source_name=\"Fisher and Thompson 10x10\")\n",
    "\n",
    "# Example\n",
    "for routing in routings[:1]:\n",
    "    print(routing)\n",
    "    for operation in routing.operations:\n",
    "        print(f\" {operation}\")"
   ],
   "outputs": [
    {
     "name": "stdout",
     "output_type": "stream",
     "text": [
      "Routing(id='01-00', source_id=1)\n",
      " RoutingOperation(routing_id='01-00', position_number=0, machine_name='M00', duration=29)\n",
      " RoutingOperation(routing_id='01-00', position_number=1, machine_name='M01', duration=78)\n",
      " RoutingOperation(routing_id='01-00', position_number=2, machine_name='M02', duration=9)\n",
      " RoutingOperation(routing_id='01-00', position_number=3, machine_name='M03', duration=36)\n",
      " RoutingOperation(routing_id='01-00', position_number=4, machine_name='M04', duration=49)\n",
      " RoutingOperation(routing_id='01-00', position_number=5, machine_name='M05', duration=11)\n",
      " RoutingOperation(routing_id='01-00', position_number=6, machine_name='M06', duration=62)\n",
      " RoutingOperation(routing_id='01-00', position_number=7, machine_name='M07', duration=56)\n",
      " RoutingOperation(routing_id='01-00', position_number=8, machine_name='M08', duration=44)\n",
      " RoutingOperation(routing_id='01-00', position_number=9, machine_name='M09', duration=21)\n"
     ]
    }
   ],
   "execution_count": 13
  },
  {
   "cell_type": "markdown",
   "id": "d9daf3e17d2330c2",
   "metadata": {},
   "source": [
    "### II. Create jobs routings (without any change)"
   ]
  },
  {
   "cell_type": "code",
   "id": "131a88c4bd855466",
   "metadata": {
    "ExecuteTime": {
     "end_time": "2025-08-17T15:05:31.456368Z",
     "start_time": "2025-08-17T15:05:31.424175Z"
    }
   },
   "source": [
    "jobs = JobsInitializer.create_simple_jobs(routings = routings, shuffle=False)\n",
    "for job in jobs[:2]:\n",
    "    print(job)\n",
    "    for operation in job.operations:\n",
    "        print(f\" {operation}\")\n"
   ],
   "outputs": [
    {
     "name": "stdout",
     "output_type": "stream",
     "text": [
      "Job(id='01-0000', routing_id='01-00', arrival=None, earliest_start=0, due_date=None, sum_duration=395, max_bottleneck_utilization=None)\n",
      " JobOperation(job_id='01-0000', position_number=0, machine_name='M00', duration=29)\n",
      " JobOperation(job_id='01-0000', position_number=1, machine_name='M01', duration=78)\n",
      " JobOperation(job_id='01-0000', position_number=2, machine_name='M02', duration=9)\n",
      " JobOperation(job_id='01-0000', position_number=3, machine_name='M03', duration=36)\n",
      " JobOperation(job_id='01-0000', position_number=4, machine_name='M04', duration=49)\n",
      " JobOperation(job_id='01-0000', position_number=5, machine_name='M05', duration=11)\n",
      " JobOperation(job_id='01-0000', position_number=6, machine_name='M06', duration=62)\n",
      " JobOperation(job_id='01-0000', position_number=7, machine_name='M07', duration=56)\n",
      " JobOperation(job_id='01-0000', position_number=8, machine_name='M08', duration=44)\n",
      " JobOperation(job_id='01-0000', position_number=9, machine_name='M09', duration=21)\n",
      "Job(id='01-0001', routing_id='01-01', arrival=None, earliest_start=0, due_date=None, sum_duration=510, max_bottleneck_utilization=None)\n",
      " JobOperation(job_id='01-0001', position_number=0, machine_name='M00', duration=43)\n",
      " JobOperation(job_id='01-0001', position_number=1, machine_name='M02', duration=90)\n",
      " JobOperation(job_id='01-0001', position_number=2, machine_name='M04', duration=75)\n",
      " JobOperation(job_id='01-0001', position_number=3, machine_name='M09', duration=11)\n",
      " JobOperation(job_id='01-0001', position_number=4, machine_name='M03', duration=69)\n",
      " JobOperation(job_id='01-0001', position_number=5, machine_name='M01', duration=28)\n",
      " JobOperation(job_id='01-0001', position_number=6, machine_name='M06', duration=46)\n",
      " JobOperation(job_id='01-0001', position_number=7, machine_name='M05', duration=46)\n",
      " JobOperation(job_id='01-0001', position_number=8, machine_name='M07', duration=72)\n",
      " JobOperation(job_id='01-0001', position_number=9, machine_name='M08', duration=30)\n"
     ]
    }
   ],
   "execution_count": 14
  },
  {
   "cell_type": "code",
   "id": "9a22b189cd55f5f4",
   "metadata": {
    "ExecuteTime": {
     "end_time": "2025-08-17T15:05:31.468828Z",
     "start_time": "2025-08-17T15:05:31.464352Z"
    }
   },
   "source": [
    "jobs_collection = LiveJobCollection(jobs)\n",
    "print(f\"Total number of operations: {jobs_collection.count_operations()}\")"
   ],
   "outputs": [
    {
     "name": "stdout",
     "output_type": "stream",
     "text": [
      "Total number of operations: 100\n"
     ]
    }
   ],
   "execution_count": 15
  },
  {
   "cell_type": "markdown",
   "id": "16020c96f76ac2a6",
   "metadata": {},
   "source": [
    "## Scheduling"
   ]
  },
  {
   "cell_type": "code",
   "id": "fda2609e5307ad62",
   "metadata": {
    "ExecuteTime": {
     "end_time": "2025-08-17T15:05:31.497260Z",
     "start_time": "2025-08-17T15:05:31.482526Z"
    }
   },
   "source": [
    "solver = Solver(\n",
    "    jobs_collection = jobs_collection,\n",
    "    schedule_start= 0,\n",
    "    logger = logger\n",
    ")\n",
    "solver.build_makespan_model()\n",
    "solver.log_model_info()"
   ],
   "outputs": [
    {
     "name": "stderr",
     "output_type": "stream",
     "text": [
      "2025-08-17 17:05:31 INFO: Model info ---------------\n",
      "2025-08-17 17:05:31 INFO: Number of preparable operations: 100\n",
      "2025-08-17 17:05:31 INFO: Number of previous operations  : 0\n",
      "2025-08-17 17:05:31 INFO: Number of active operation     : 0\n",
      "2025-08-17 17:05:31 INFO: Number of variables            : 201\n",
      "2025-08-17 17:05:31 INFO: Number of constraints          : 220\n"
     ]
    }
   ],
   "execution_count": 16
  },
  {
   "cell_type": "code",
   "id": "34f3ff617ff2093b",
   "metadata": {
    "ExecuteTime": {
     "end_time": "2025-08-17T15:05:33.924291Z",
     "start_time": "2025-08-17T15:05:31.523077Z"
    }
   },
   "source": [
    "solver.solve_model(\n",
    "    log_file= f\"{examples_path}/cp_solver.log\",\n",
    ")\n",
    "solver.log_solver_info()"
   ],
   "outputs": [
    {
     "name": "stderr",
     "output_type": "stream",
     "text": [
      "2025-08-17 17:05:33 INFO: Solver info --------------\n",
      "2025-08-17 17:05:33 INFO: Status              : OPTIMAL\n",
      "2025-08-17 17:05:33 INFO: Objective value     : 930.0\n",
      "2025-08-17 17:05:33 INFO: Best objective bound: 930.0\n",
      "2025-08-17 17:05:33 INFO: Number of branches  : 0\n",
      "2025-08-17 17:05:33 INFO: Wall time           : 2.38\n",
      "2025-08-17 17:05:33 INFO: Tardiness cost      : 0\n",
      "2025-08-17 17:05:33 INFO: Earliness cost      : 0\n",
      "2025-08-17 17:05:33 INFO: Deviation cost      : 0\n"
     ]
    }
   ],
   "execution_count": 17
  },
  {
   "cell_type": "code",
   "id": "73a6b1a7f52818b8",
   "metadata": {
    "ExecuteTime": {
     "end_time": "2025-08-17T15:05:33.950385Z",
     "start_time": "2025-08-17T15:05:33.942101Z"
    }
   },
   "source": [
    "schedule_job_collection = solver.get_schedule()\n",
    "df_schedule = schedule_job_collection.to_operations_dataframe()\n",
    "df_schedule"
   ],
   "outputs": [
    {
     "data": {
      "text/plain": [
       "        Job Routing_ID  Operation Machine  Start  Processing Time  End  \\\n",
       "0   01-0000      01-00          0     M00     43               29   72   \n",
       "1   01-0000      01-00          1     M01    448               78  526   \n",
       "2   01-0000      01-00          2     M02    526                9  535   \n",
       "3   01-0000      01-00          3     M03    535               36  571   \n",
       "4   01-0000      01-00          4     M04    571               49  620   \n",
       "5   01-0000      01-00          5     M05    644               11  655   \n",
       "6   01-0000      01-00          6     M06    655               62  717   \n",
       "7   01-0000      01-00          7     M07    721               56  777   \n",
       "..      ...        ...        ...     ...    ...              ...  ...   \n",
       "92  01-0009      01-09          2     M02    314               61  375   \n",
       "93  01-0009      01-09          3     M06    375                7  382   \n",
       "94  01-0009      01-09          4     M08    416               64  480   \n",
       "95  01-0009      01-09          5     M09    521               76  597   \n",
       "96  01-0009      01-09          6     M05    597               47  644   \n",
       "97  01-0009      01-09          7     M03    738               52  790   \n",
       "98  01-0009      01-09          8     M04    790               90  880   \n",
       "99  01-0009      01-09          9     M07    885               45  930   \n",
       "\n",
       "   Arrival  Ready Time Due Date  \n",
       "0     None           0     None  \n",
       "1     None           0     None  \n",
       "2     None           0     None  \n",
       "3     None           0     None  \n",
       "4     None           0     None  \n",
       "5     None           0     None  \n",
       "6     None           0     None  \n",
       "7     None           0     None  \n",
       "..     ...         ...      ...  \n",
       "92    None           0     None  \n",
       "93    None           0     None  \n",
       "94    None           0     None  \n",
       "95    None           0     None  \n",
       "96    None           0     None  \n",
       "97    None           0     None  \n",
       "98    None           0     None  \n",
       "99    None           0     None  \n",
       "\n",
       "[100 rows x 10 columns]"
      ],
      "text/html": [
       "<div>\n",
       "<style scoped>\n",
       "    .dataframe tbody tr th:only-of-type {\n",
       "        vertical-align: middle;\n",
       "    }\n",
       "\n",
       "    .dataframe tbody tr th {\n",
       "        vertical-align: top;\n",
       "    }\n",
       "\n",
       "    .dataframe thead th {\n",
       "        text-align: right;\n",
       "    }\n",
       "</style>\n",
       "<table border=\"1\" class=\"dataframe\">\n",
       "  <thead>\n",
       "    <tr style=\"text-align: right;\">\n",
       "      <th></th>\n",
       "      <th>Job</th>\n",
       "      <th>Routing_ID</th>\n",
       "      <th>Operation</th>\n",
       "      <th>Machine</th>\n",
       "      <th>Start</th>\n",
       "      <th>Processing Time</th>\n",
       "      <th>End</th>\n",
       "      <th>Arrival</th>\n",
       "      <th>Ready Time</th>\n",
       "      <th>Due Date</th>\n",
       "    </tr>\n",
       "  </thead>\n",
       "  <tbody>\n",
       "    <tr>\n",
       "      <th>0</th>\n",
       "      <td>01-0000</td>\n",
       "      <td>01-00</td>\n",
       "      <td>0</td>\n",
       "      <td>M00</td>\n",
       "      <td>43</td>\n",
       "      <td>29</td>\n",
       "      <td>72</td>\n",
       "      <td>None</td>\n",
       "      <td>0</td>\n",
       "      <td>None</td>\n",
       "    </tr>\n",
       "    <tr>\n",
       "      <th>1</th>\n",
       "      <td>01-0000</td>\n",
       "      <td>01-00</td>\n",
       "      <td>1</td>\n",
       "      <td>M01</td>\n",
       "      <td>448</td>\n",
       "      <td>78</td>\n",
       "      <td>526</td>\n",
       "      <td>None</td>\n",
       "      <td>0</td>\n",
       "      <td>None</td>\n",
       "    </tr>\n",
       "    <tr>\n",
       "      <th>2</th>\n",
       "      <td>01-0000</td>\n",
       "      <td>01-00</td>\n",
       "      <td>2</td>\n",
       "      <td>M02</td>\n",
       "      <td>526</td>\n",
       "      <td>9</td>\n",
       "      <td>535</td>\n",
       "      <td>None</td>\n",
       "      <td>0</td>\n",
       "      <td>None</td>\n",
       "    </tr>\n",
       "    <tr>\n",
       "      <th>3</th>\n",
       "      <td>01-0000</td>\n",
       "      <td>01-00</td>\n",
       "      <td>3</td>\n",
       "      <td>M03</td>\n",
       "      <td>535</td>\n",
       "      <td>36</td>\n",
       "      <td>571</td>\n",
       "      <td>None</td>\n",
       "      <td>0</td>\n",
       "      <td>None</td>\n",
       "    </tr>\n",
       "    <tr>\n",
       "      <th>4</th>\n",
       "      <td>01-0000</td>\n",
       "      <td>01-00</td>\n",
       "      <td>4</td>\n",
       "      <td>M04</td>\n",
       "      <td>571</td>\n",
       "      <td>49</td>\n",
       "      <td>620</td>\n",
       "      <td>None</td>\n",
       "      <td>0</td>\n",
       "      <td>None</td>\n",
       "    </tr>\n",
       "    <tr>\n",
       "      <th>5</th>\n",
       "      <td>01-0000</td>\n",
       "      <td>01-00</td>\n",
       "      <td>5</td>\n",
       "      <td>M05</td>\n",
       "      <td>644</td>\n",
       "      <td>11</td>\n",
       "      <td>655</td>\n",
       "      <td>None</td>\n",
       "      <td>0</td>\n",
       "      <td>None</td>\n",
       "    </tr>\n",
       "    <tr>\n",
       "      <th>6</th>\n",
       "      <td>01-0000</td>\n",
       "      <td>01-00</td>\n",
       "      <td>6</td>\n",
       "      <td>M06</td>\n",
       "      <td>655</td>\n",
       "      <td>62</td>\n",
       "      <td>717</td>\n",
       "      <td>None</td>\n",
       "      <td>0</td>\n",
       "      <td>None</td>\n",
       "    </tr>\n",
       "    <tr>\n",
       "      <th>7</th>\n",
       "      <td>01-0000</td>\n",
       "      <td>01-00</td>\n",
       "      <td>7</td>\n",
       "      <td>M07</td>\n",
       "      <td>721</td>\n",
       "      <td>56</td>\n",
       "      <td>777</td>\n",
       "      <td>None</td>\n",
       "      <td>0</td>\n",
       "      <td>None</td>\n",
       "    </tr>\n",
       "    <tr>\n",
       "      <th>...</th>\n",
       "      <td>...</td>\n",
       "      <td>...</td>\n",
       "      <td>...</td>\n",
       "      <td>...</td>\n",
       "      <td>...</td>\n",
       "      <td>...</td>\n",
       "      <td>...</td>\n",
       "      <td>...</td>\n",
       "      <td>...</td>\n",
       "      <td>...</td>\n",
       "    </tr>\n",
       "    <tr>\n",
       "      <th>92</th>\n",
       "      <td>01-0009</td>\n",
       "      <td>01-09</td>\n",
       "      <td>2</td>\n",
       "      <td>M02</td>\n",
       "      <td>314</td>\n",
       "      <td>61</td>\n",
       "      <td>375</td>\n",
       "      <td>None</td>\n",
       "      <td>0</td>\n",
       "      <td>None</td>\n",
       "    </tr>\n",
       "    <tr>\n",
       "      <th>93</th>\n",
       "      <td>01-0009</td>\n",
       "      <td>01-09</td>\n",
       "      <td>3</td>\n",
       "      <td>M06</td>\n",
       "      <td>375</td>\n",
       "      <td>7</td>\n",
       "      <td>382</td>\n",
       "      <td>None</td>\n",
       "      <td>0</td>\n",
       "      <td>None</td>\n",
       "    </tr>\n",
       "    <tr>\n",
       "      <th>94</th>\n",
       "      <td>01-0009</td>\n",
       "      <td>01-09</td>\n",
       "      <td>4</td>\n",
       "      <td>M08</td>\n",
       "      <td>416</td>\n",
       "      <td>64</td>\n",
       "      <td>480</td>\n",
       "      <td>None</td>\n",
       "      <td>0</td>\n",
       "      <td>None</td>\n",
       "    </tr>\n",
       "    <tr>\n",
       "      <th>95</th>\n",
       "      <td>01-0009</td>\n",
       "      <td>01-09</td>\n",
       "      <td>5</td>\n",
       "      <td>M09</td>\n",
       "      <td>521</td>\n",
       "      <td>76</td>\n",
       "      <td>597</td>\n",
       "      <td>None</td>\n",
       "      <td>0</td>\n",
       "      <td>None</td>\n",
       "    </tr>\n",
       "    <tr>\n",
       "      <th>96</th>\n",
       "      <td>01-0009</td>\n",
       "      <td>01-09</td>\n",
       "      <td>6</td>\n",
       "      <td>M05</td>\n",
       "      <td>597</td>\n",
       "      <td>47</td>\n",
       "      <td>644</td>\n",
       "      <td>None</td>\n",
       "      <td>0</td>\n",
       "      <td>None</td>\n",
       "    </tr>\n",
       "    <tr>\n",
       "      <th>97</th>\n",
       "      <td>01-0009</td>\n",
       "      <td>01-09</td>\n",
       "      <td>7</td>\n",
       "      <td>M03</td>\n",
       "      <td>738</td>\n",
       "      <td>52</td>\n",
       "      <td>790</td>\n",
       "      <td>None</td>\n",
       "      <td>0</td>\n",
       "      <td>None</td>\n",
       "    </tr>\n",
       "    <tr>\n",
       "      <th>98</th>\n",
       "      <td>01-0009</td>\n",
       "      <td>01-09</td>\n",
       "      <td>8</td>\n",
       "      <td>M04</td>\n",
       "      <td>790</td>\n",
       "      <td>90</td>\n",
       "      <td>880</td>\n",
       "      <td>None</td>\n",
       "      <td>0</td>\n",
       "      <td>None</td>\n",
       "    </tr>\n",
       "    <tr>\n",
       "      <th>99</th>\n",
       "      <td>01-0009</td>\n",
       "      <td>01-09</td>\n",
       "      <td>9</td>\n",
       "      <td>M07</td>\n",
       "      <td>885</td>\n",
       "      <td>45</td>\n",
       "      <td>930</td>\n",
       "      <td>None</td>\n",
       "      <td>0</td>\n",
       "      <td>None</td>\n",
       "    </tr>\n",
       "  </tbody>\n",
       "</table>\n",
       "<p>100 rows × 10 columns</p>\n",
       "</div>"
      ]
     },
     "execution_count": 18,
     "metadata": {},
     "output_type": "execute_result"
    }
   ],
   "execution_count": 18
  },
  {
   "cell_type": "code",
   "id": "779f0fa2bbf1d9ad",
   "metadata": {
    "ExecuteTime": {
     "end_time": "2025-08-17T15:05:34.381982Z",
     "start_time": "2025-08-17T15:05:33.989888Z"
    }
   },
   "source": [
    "fig = DataFramePlotGenerator.get_gantt_chart_figure(df_schedule, perspective=\"Machine\")\n",
    "fig.savefig(f\"{examples_path}/cp_gantt_chart.png\", dpi=300)\n",
    "plt.show()"
   ],
   "outputs": [
    {
     "data": {
      "text/plain": [
       "<Figure size 1600x800 with 1 Axes>"
      ],
      "image/png": "[encoded data removed]"
     },
     "metadata": {},
     "output_type": "display_data"
    }
   ],
   "execution_count": 19
  },
  {
   "cell_type": "code",
   "id": "8fba5e8d292fcce6",
   "metadata": {
    "ExecuteTime": {
     "end_time": "2025-08-17T15:05:34.423065Z",
     "start_time": "2025-08-17T15:05:34.403853Z"
    }
   },
   "source": [
    "DataFrameChecker.check_core_schedule_constraints(df_schedule)\n",
    "DataFrameChecker.is_duration_correct(df_schedule)"
   ],
   "outputs": [
    {
     "name": "stdout",
     "output_type": "stream",
     "text": [
      "+ No machine conflicts found.\n",
      "+ All job operations are scheduled in non-overlapping, correct sequence.\n",
      "+ All operations start at or after the earliest allowed time.\n",
      "+ All durations match the difference between start and end.\n"
     ]
    },
    {
     "data": {
      "text/plain": [
       "True"
      ]
     },
     "execution_count": 20,
     "metadata": {},
     "output_type": "execute_result"
    }
   ],
   "execution_count": 20
  }
 ],
 "metadata": {
  "kernelspec": {
   "display_name": "Python 3 (ipykernel)",
   "language": "python",
   "name": "python3"
  },
  "language_info": {
   "codemirror_mode": {
    "name": "ipython",
    "version": 3
   },
   "file_extension": ".py",
   "mimetype": "text/x-python",
   "name": "python",
   "nbconvert_exporter": "python",
   "pygments_lexer": "ipython3",
   "version": "3.13.2"
  }
 },
 "nbformat": 4,
 "nbformat_minor": 5
}
