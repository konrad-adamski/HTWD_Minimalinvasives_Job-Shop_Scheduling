{
 "cells": [
  {
   "metadata": {},
   "cell_type": "code",
   "source": [
    "import pandas as pd\n",
    "\n",
    "# Utils\n",
    "import src.utils.visualization.gantt_diagram as gantt\n",
    "from src.domain.Collection import LiveJobCollection\n",
    "from src.domain.Initializer import JobsInitializer\n",
    "from src.domain.Query import JobQuery\n",
    "from src.utils.analysis_basics import check_constraints as check\n",
    "\n",
    "\n",
    "# Data access\n",
    "from configs.path_manager import get_path\n",
    "\n",
    "pd.set_option('display.min_rows', 12)\n",
    "pd.set_option('display.max_rows', 16)"
   ],
   "id": "12f96d516683c46b",
   "outputs": [],
   "execution_count": null
  },
  {
   "metadata": {
    "ExecuteTime": {
     "end_time": "2025-08-07T19:42:16.948746Z",
     "start_time": "2025-08-07T19:42:16.645551Z"
    }
   },
   "cell_type": "code",
   "source": [
    "from src.domain.Query import RoutingQuery\n",
    "from src.domain.Initializer import JobsInitializer\n",
    "from src.domain.Collection import LiveJobCollection"
   ],
   "id": "8a4af3d28e1456fe",
   "outputs": [],
   "execution_count": 1
  },
  {
   "cell_type": "markdown",
   "id": "15ea383be0cdadad",
   "metadata": {},
   "source": [
    "### Generation of job-shop scheduling problem and the associated jobs information"
   ]
  },
  {
   "cell_type": "code",
   "id": "4fa5a40337263898",
   "metadata": {
    "ExecuteTime": {
     "end_time": "2025-08-07T19:42:18.362409Z",
     "start_time": "2025-08-07T19:42:18.341580Z"
    }
   },
   "source": [
    "routings = RoutingQuery.get_by_source_name(source_name=\"Fisher and Thompson 10x10\")\n",
    "\n",
    "for routing in routings[:2]:\n",
    "    print(routing)\n",
    "    for operation in routing.operations:\n",
    "        print(f\" {operation}\")"
   ],
   "outputs": [
    {
     "name": "stdout",
     "output_type": "stream",
     "text": [
      "Routing(id='01-00', source_id=1)\n",
      " RoutingOperation(routing_id='01-00', position_number=0, machine_name='M01-00', duration=29)\n",
      " RoutingOperation(routing_id='01-00', position_number=1, machine_name='M01-01', duration=78)\n",
      " RoutingOperation(routing_id='01-00', position_number=2, machine_name='M01-02', duration=9)\n",
      " RoutingOperation(routing_id='01-00', position_number=3, machine_name='M01-03', duration=36)\n",
      " RoutingOperation(routing_id='01-00', position_number=4, machine_name='M01-04', duration=49)\n",
      " RoutingOperation(routing_id='01-00', position_number=5, machine_name='M01-05', duration=11)\n",
      " RoutingOperation(routing_id='01-00', position_number=6, machine_name='M01-06', duration=62)\n",
      " RoutingOperation(routing_id='01-00', position_number=7, machine_name='M01-07', duration=56)\n",
      " RoutingOperation(routing_id='01-00', position_number=8, machine_name='M01-08', duration=44)\n",
      " RoutingOperation(routing_id='01-00', position_number=9, machine_name='M01-09', duration=21)\n",
      "Routing(id='01-01', source_id=1)\n",
      " RoutingOperation(routing_id='01-01', position_number=0, machine_name='M01-00', duration=43)\n",
      " RoutingOperation(routing_id='01-01', position_number=1, machine_name='M01-02', duration=90)\n",
      " RoutingOperation(routing_id='01-01', position_number=2, machine_name='M01-04', duration=75)\n",
      " RoutingOperation(routing_id='01-01', position_number=3, machine_name='M01-09', duration=11)\n",
      " RoutingOperation(routing_id='01-01', position_number=4, machine_name='M01-03', duration=69)\n",
      " RoutingOperation(routing_id='01-01', position_number=5, machine_name='M01-01', duration=28)\n",
      " RoutingOperation(routing_id='01-01', position_number=6, machine_name='M01-06', duration=46)\n",
      " RoutingOperation(routing_id='01-01', position_number=7, machine_name='M01-05', duration=46)\n",
      " RoutingOperation(routing_id='01-01', position_number=8, machine_name='M01-07', duration=72)\n",
      " RoutingOperation(routing_id='01-01', position_number=9, machine_name='M01-08', duration=30)\n"
     ]
    }
   ],
   "execution_count": 2
  },
  {
   "metadata": {
    "ExecuteTime": {
     "end_time": "2025-08-07T19:42:21.430351Z",
     "start_time": "2025-08-07T19:42:21.427339Z"
    }
   },
   "cell_type": "code",
   "source": [
    "jobs = JobsInitializer.create_simple_jobs(routings = routings, shuffle=False)\n",
    "for job in jobs[:2]:\n",
    "    print(job)\n",
    "    for operation in job.operations:\n",
    "        print(f\" {operation}\")\n"
   ],
   "id": "131a88c4bd855466",
   "outputs": [
    {
     "name": "stdout",
     "output_type": "stream",
     "text": [
      "Job(id='01-0000', routing_id='01-00', arrival=None, earliest_start=0, deadline=None, sum_duration=395, max_bottleneck_utilization=None)\n",
      " JobOperation(job_id='01-0000', position_number=0, machine_name='M01-00', duration=29)\n",
      " JobOperation(job_id='01-0000', position_number=1, machine_name='M01-01', duration=78)\n",
      " JobOperation(job_id='01-0000', position_number=2, machine_name='M01-02', duration=9)\n",
      " JobOperation(job_id='01-0000', position_number=3, machine_name='M01-03', duration=36)\n",
      " JobOperation(job_id='01-0000', position_number=4, machine_name='M01-04', duration=49)\n",
      " JobOperation(job_id='01-0000', position_number=5, machine_name='M01-05', duration=11)\n",
      " JobOperation(job_id='01-0000', position_number=6, machine_name='M01-06', duration=62)\n",
      " JobOperation(job_id='01-0000', position_number=7, machine_name='M01-07', duration=56)\n",
      " JobOperation(job_id='01-0000', position_number=8, machine_name='M01-08', duration=44)\n",
      " JobOperation(job_id='01-0000', position_number=9, machine_name='M01-09', duration=21)\n",
      "Job(id='01-0001', routing_id='01-01', arrival=None, earliest_start=0, deadline=None, sum_duration=510, max_bottleneck_utilization=None)\n",
      " JobOperation(job_id='01-0001', position_number=0, machine_name='M01-00', duration=43)\n",
      " JobOperation(job_id='01-0001', position_number=1, machine_name='M01-02', duration=90)\n",
      " JobOperation(job_id='01-0001', position_number=2, machine_name='M01-04', duration=75)\n",
      " JobOperation(job_id='01-0001', position_number=3, machine_name='M01-09', duration=11)\n",
      " JobOperation(job_id='01-0001', position_number=4, machine_name='M01-03', duration=69)\n",
      " JobOperation(job_id='01-0001', position_number=5, machine_name='M01-01', duration=28)\n",
      " JobOperation(job_id='01-0001', position_number=6, machine_name='M01-06', duration=46)\n",
      " JobOperation(job_id='01-0001', position_number=7, machine_name='M01-05', duration=46)\n",
      " JobOperation(job_id='01-0001', position_number=8, machine_name='M01-07', duration=72)\n",
      " JobOperation(job_id='01-0001', position_number=9, machine_name='M01-08', duration=30)\n"
     ]
    }
   ],
   "execution_count": 3
  },
  {
   "metadata": {
    "ExecuteTime": {
     "end_time": "2025-08-07T19:42:34.751214Z",
     "start_time": "2025-08-07T19:42:34.747720Z"
    }
   },
   "cell_type": "code",
   "source": [
    "jobs_collection = LiveJobCollection(jobs)\n",
    "print(f\"Total number of operations: {jobs_collection.count_operations()}\")"
   ],
   "id": "9a22b189cd55f5f4",
   "outputs": [
    {
     "name": "stdout",
     "output_type": "stream",
     "text": [
      "Total number of operations: 100\n"
     ]
    }
   ],
   "execution_count": 4
  },
  {
   "metadata": {},
   "cell_type": "markdown",
   "source": "## Scheduling",
   "id": "16020c96f76ac2a6"
  },
  {
   "metadata": {},
   "cell_type": "markdown",
   "source": "### a) Makespan",
   "id": "575fb83733d37482"
  },
  {
   "metadata": {
    "ExecuteTime": {
     "end_time": "2025-08-07T19:42:40.121253Z",
     "start_time": "2025-08-07T19:42:37.216210Z"
    }
   },
   "cell_type": "code",
   "source": [
    "from src.solvers.CP_Solver import Solver\n",
    "\n",
    "model, index_mapper, start_times, end_times = Solver.build_makespan_model(\n",
    "    jobs_collection = jobs_collection,\n",
    "    schedule_start= 0,\n",
    ")\n",
    "\n",
    "solver, status = Solver.solve_model(\n",
    "    model=model,\n",
    "    print_log_search_progress=False,\n",
    "    time_limit= 120,\n",
    "    gap_limit= 0,\n",
    "    log_file= None\n",
    ")\n",
    "\n",
    "schedule_job_collection = Solver.get_schedule(\n",
    "    index_mapper = index_mapper,\n",
    "    start_times = start_times,\n",
    "    end_times = end_times,\n",
    "    solver = solver\n",
    ")\n",
    "\n",
    "schedule_job_collection.to_operations_dataframe()"
   ],
   "id": "b03d1ff0cc9f1744",
   "outputs": [
    {
     "data": {
      "text/plain": [
       "        Job Routing_ID  Operation Machine  Start  Processing Time  End  \\\n",
       "0   01-0000      01-00          0  M01-00     76               29  105   \n",
       "1   01-0000      01-00          1  M01-01    448               78  526   \n",
       "2   01-0000      01-00          2  M01-02    526                9  535   \n",
       "3   01-0000      01-00          3  M01-03    535               36  571   \n",
       "4   01-0000      01-00          4  M01-04    575               49  624   \n",
       "..      ...        ...        ...     ...    ...              ...  ...   \n",
       "95  01-0009      01-09          5  M01-09    518               76  594   \n",
       "96  01-0009      01-09          6  M01-05    637               47  684   \n",
       "97  01-0009      01-09          7  M01-03    738               52  790   \n",
       "98  01-0009      01-09          8  M01-04    790               90  880   \n",
       "99  01-0009      01-09          9  M01-07    885               45  930   \n",
       "\n",
       "    Ready Time Deadline  \n",
       "0            0     None  \n",
       "1            0     None  \n",
       "2            0     None  \n",
       "3            0     None  \n",
       "4            0     None  \n",
       "..         ...      ...  \n",
       "95           0     None  \n",
       "96           0     None  \n",
       "97           0     None  \n",
       "98           0     None  \n",
       "99           0     None  \n",
       "\n",
       "[100 rows x 9 columns]"
      ],
      "text/html": [
       "<div>\n",
       "<style scoped>\n",
       "    .dataframe tbody tr th:only-of-type {\n",
       "        vertical-align: middle;\n",
       "    }\n",
       "\n",
       "    .dataframe tbody tr th {\n",
       "        vertical-align: top;\n",
       "    }\n",
       "\n",
       "    .dataframe thead th {\n",
       "        text-align: right;\n",
       "    }\n",
       "</style>\n",
       "<table border=\"1\" class=\"dataframe\">\n",
       "  <thead>\n",
       "    <tr style=\"text-align: right;\">\n",
       "      <th></th>\n",
       "      <th>Job</th>\n",
       "      <th>Routing_ID</th>\n",
       "      <th>Operation</th>\n",
       "      <th>Machine</th>\n",
       "      <th>Start</th>\n",
       "      <th>Processing Time</th>\n",
       "      <th>End</th>\n",
       "      <th>Ready Time</th>\n",
       "      <th>Deadline</th>\n",
       "    </tr>\n",
       "  </thead>\n",
       "  <tbody>\n",
       "    <tr>\n",
       "      <th>0</th>\n",
       "      <td>01-0000</td>\n",
       "      <td>01-00</td>\n",
       "      <td>0</td>\n",
       "      <td>M01-00</td>\n",
       "      <td>76</td>\n",
       "      <td>29</td>\n",
       "      <td>105</td>\n",
       "      <td>0</td>\n",
       "      <td>None</td>\n",
       "    </tr>\n",
       "    <tr>\n",
       "      <th>1</th>\n",
       "      <td>01-0000</td>\n",
       "      <td>01-00</td>\n",
       "      <td>1</td>\n",
       "      <td>M01-01</td>\n",
       "      <td>448</td>\n",
       "      <td>78</td>\n",
       "      <td>526</td>\n",
       "      <td>0</td>\n",
       "      <td>None</td>\n",
       "    </tr>\n",
       "    <tr>\n",
       "      <th>2</th>\n",
       "      <td>01-0000</td>\n",
       "      <td>01-00</td>\n",
       "      <td>2</td>\n",
       "      <td>M01-02</td>\n",
       "      <td>526</td>\n",
       "      <td>9</td>\n",
       "      <td>535</td>\n",
       "      <td>0</td>\n",
       "      <td>None</td>\n",
       "    </tr>\n",
       "    <tr>\n",
       "      <th>3</th>\n",
       "      <td>01-0000</td>\n",
       "      <td>01-00</td>\n",
       "      <td>3</td>\n",
       "      <td>M01-03</td>\n",
       "      <td>535</td>\n",
       "      <td>36</td>\n",
       "      <td>571</td>\n",
       "      <td>0</td>\n",
       "      <td>None</td>\n",
       "    </tr>\n",
       "    <tr>\n",
       "      <th>4</th>\n",
       "      <td>01-0000</td>\n",
       "      <td>01-00</td>\n",
       "      <td>4</td>\n",
       "      <td>M01-04</td>\n",
       "      <td>575</td>\n",
       "      <td>49</td>\n",
       "      <td>624</td>\n",
       "      <td>0</td>\n",
       "      <td>None</td>\n",
       "    </tr>\n",
       "    <tr>\n",
       "      <th>...</th>\n",
       "      <td>...</td>\n",
       "      <td>...</td>\n",
       "      <td>...</td>\n",
       "      <td>...</td>\n",
       "      <td>...</td>\n",
       "      <td>...</td>\n",
       "      <td>...</td>\n",
       "      <td>...</td>\n",
       "      <td>...</td>\n",
       "    </tr>\n",
       "    <tr>\n",
       "      <th>95</th>\n",
       "      <td>01-0009</td>\n",
       "      <td>01-09</td>\n",
       "      <td>5</td>\n",
       "      <td>M01-09</td>\n",
       "      <td>518</td>\n",
       "      <td>76</td>\n",
       "      <td>594</td>\n",
       "      <td>0</td>\n",
       "      <td>None</td>\n",
       "    </tr>\n",
       "    <tr>\n",
       "      <th>96</th>\n",
       "      <td>01-0009</td>\n",
       "      <td>01-09</td>\n",
       "      <td>6</td>\n",
       "      <td>M01-05</td>\n",
       "      <td>637</td>\n",
       "      <td>47</td>\n",
       "      <td>684</td>\n",
       "      <td>0</td>\n",
       "      <td>None</td>\n",
       "    </tr>\n",
       "    <tr>\n",
       "      <th>97</th>\n",
       "      <td>01-0009</td>\n",
       "      <td>01-09</td>\n",
       "      <td>7</td>\n",
       "      <td>M01-03</td>\n",
       "      <td>738</td>\n",
       "      <td>52</td>\n",
       "      <td>790</td>\n",
       "      <td>0</td>\n",
       "      <td>None</td>\n",
       "    </tr>\n",
       "    <tr>\n",
       "      <th>98</th>\n",
       "      <td>01-0009</td>\n",
       "      <td>01-09</td>\n",
       "      <td>8</td>\n",
       "      <td>M01-04</td>\n",
       "      <td>790</td>\n",
       "      <td>90</td>\n",
       "      <td>880</td>\n",
       "      <td>0</td>\n",
       "      <td>None</td>\n",
       "    </tr>\n",
       "    <tr>\n",
       "      <th>99</th>\n",
       "      <td>01-0009</td>\n",
       "      <td>01-09</td>\n",
       "      <td>9</td>\n",
       "      <td>M01-07</td>\n",
       "      <td>885</td>\n",
       "      <td>45</td>\n",
       "      <td>930</td>\n",
       "      <td>0</td>\n",
       "      <td>None</td>\n",
       "    </tr>\n",
       "  </tbody>\n",
       "</table>\n",
       "<p>100 rows × 9 columns</p>\n",
       "</div>"
      ]
     },
     "execution_count": 5,
     "metadata": {},
     "output_type": "execute_result"
    }
   ],
   "execution_count": 5
  },
  {
   "metadata": {
    "ExecuteTime": {
     "end_time": "2025-08-07T19:42:47.694405Z",
     "start_time": "2025-08-07T19:42:47.690713Z"
    }
   },
   "cell_type": "code",
   "source": [
    "Solver.get_solver_info(\n",
    "    solver = solver,\n",
    "    status = status,\n",
    ")"
   ],
   "id": "d503bd64ed74140f",
   "outputs": [
    {
     "data": {
      "text/plain": [
       "{'status': 'OPTIMAL',\n",
       " 'objective_value': 930.0,\n",
       " 'best_objective_bound': 930.0,\n",
       " 'number_of_branches': 0,\n",
       " 'wall_time': 2.86}"
      ]
     },
     "execution_count": 6,
     "metadata": {},
     "output_type": "execute_result"
    }
   ],
   "execution_count": 6
  },
  {
   "metadata": {},
   "cell_type": "code",
   "source": [
    "gantt.get_plot(df_schedule, perspective=\"Machine\")\n",
    "check.check_core_schedule_constraints(df_schedule)\n",
    "check.is_start_correct(df_schedule, df_jobs_arrivals)\n",
    "check.is_duration_correct(df_schedule)"
   ],
   "id": "8fba5e8d292fcce6",
   "outputs": [],
   "execution_count": null
  },
  {
   "metadata": {},
   "cell_type": "markdown",
   "source": "### b) Flow Time",
   "id": "678f61aefcdafa87"
  },
  {
   "metadata": {},
   "cell_type": "code",
   "source": [
    "job_earliest_starts = get_earliest_start_dict(df_jobs_arrival_for_flowtime, earliest_start_column = \"Arrival\")\n",
    "job_earliest_starts"
   ],
   "id": "140195e33d9027fe",
   "outputs": [],
   "execution_count": null
  },
  {
   "metadata": {},
   "cell_type": "code",
   "source": [
    "log_file_path = None # logs_path / \"flowtime_cp.log\"\n",
    "\n",
    "schedule = solve_jssp_flowtime_minimization(\n",
    "    job_ops=job_ops,\n",
    "    earliest_start=job_earliest_starts,\n",
    "    schedule_start=0,\n",
    "    solver_time_limit=max_time,\n",
    "    msg=True,\n",
    "    solver_relative_gap_limit=0.05,\n",
    "    log_file=log_file_path\n",
    ")\n",
    "df_schedule = get_schedule_dframe(schedule)\n",
    "df_schedule"
   ],
   "id": "9a96bae4be276e89",
   "outputs": [],
   "execution_count": null
  },
  {
   "metadata": {},
   "cell_type": "code",
   "source": [
    "gantt.get_plot(df_schedule, perspective=\"Machine\")\n",
    "check.check_core_schedule_constraints(df_schedule)\n",
    "\n",
    "check.is_start_correct(df_schedule, df_jobs_arrival_for_flowtime)\n",
    "check.is_duration_correct(df_schedule)"
   ],
   "id": "6b05b9a4fa62b49b",
   "outputs": [],
   "execution_count": null
  }
 ],
 "metadata": {
  "kernelspec": {
   "display_name": "Python 3 (ipykernel)",
   "language": "python",
   "name": "python3"
  },
  "language_info": {
   "codemirror_mode": {
    "name": "ipython",
    "version": 3
   },
   "file_extension": ".py",
   "mimetype": "text/x-python",
   "name": "python",
   "nbconvert_exporter": "python",
   "pygments_lexer": "ipython3",
   "version": "3.13.2"
  }
 },
 "nbformat": 4,
 "nbformat_minor": 5
}
