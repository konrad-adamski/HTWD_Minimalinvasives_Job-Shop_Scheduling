{
 "cells": [
  {
   "metadata": {},
   "cell_type": "markdown",
   "source": "# Makespan minimization with Constraint Programming (OR-Tools)",
   "id": "e28b8c137cc8e87d"
  },
  {
   "metadata": {
    "ExecuteTime": {
     "end_time": "2025-08-07T22:01:58.565574Z",
     "start_time": "2025-08-07T22:01:57.986225Z"
    }
   },
   "cell_type": "code",
   "source": [
    "import json\n",
    "import pandas as pd\n",
    "\n",
    "# Utils\n",
    "import src.utils.visualization.gantt_diagram as gantt\n",
    "from src.utils.analysis_basics import check_constraints as check\n",
    "\n",
    "# Domain data\n",
    "from src.domain.Query import RoutingQuery\n",
    "from src.domain.Initializer import JobsInitializer\n",
    "from src.domain.Collection import LiveJobCollection\n",
    "\n",
    "# Solver\n",
    "from src.solvers.CP_Solver import Solver\n",
    "\n",
    "pd.set_option('display.min_rows', 16)\n",
    "pd.set_option('display.max_rows', 29)"
   ],
   "id": "12f96d516683c46b",
   "outputs": [],
   "execution_count": 1
  },
  {
   "cell_type": "markdown",
   "id": "15ea383be0cdadad",
   "metadata": {},
   "source": "### I. Load routing"
  },
  {
   "cell_type": "code",
   "id": "4fa5a40337263898",
   "metadata": {
    "ExecuteTime": {
     "end_time": "2025-08-07T22:01:58.589959Z",
     "start_time": "2025-08-07T22:01:58.569069Z"
    }
   },
   "source": [
    "routings = RoutingQuery.get_by_source_name(source_name=\"Fisher and Thompson 10x10\")\n",
    "\n",
    "for routing in routings[:2]:\n",
    "    print(routing)\n",
    "    for operation in routing.operations:\n",
    "        print(f\" {operation}\")"
   ],
   "outputs": [
    {
     "name": "stdout",
     "output_type": "stream",
     "text": [
      "Routing(id='01-00', source_id=1)\n",
      " RoutingOperation(routing_id='01-00', position_number=0, machine_name='M01-00', duration=29)\n",
      " RoutingOperation(routing_id='01-00', position_number=1, machine_name='M01-01', duration=78)\n",
      " RoutingOperation(routing_id='01-00', position_number=2, machine_name='M01-02', duration=9)\n",
      " RoutingOperation(routing_id='01-00', position_number=3, machine_name='M01-03', duration=36)\n",
      " RoutingOperation(routing_id='01-00', position_number=4, machine_name='M01-04', duration=49)\n",
      " RoutingOperation(routing_id='01-00', position_number=5, machine_name='M01-05', duration=11)\n",
      " RoutingOperation(routing_id='01-00', position_number=6, machine_name='M01-06', duration=62)\n",
      " RoutingOperation(routing_id='01-00', position_number=7, machine_name='M01-07', duration=56)\n",
      " RoutingOperation(routing_id='01-00', position_number=8, machine_name='M01-08', duration=44)\n",
      " RoutingOperation(routing_id='01-00', position_number=9, machine_name='M01-09', duration=21)\n",
      "Routing(id='01-01', source_id=1)\n",
      " RoutingOperation(routing_id='01-01', position_number=0, machine_name='M01-00', duration=43)\n",
      " RoutingOperation(routing_id='01-01', position_number=1, machine_name='M01-02', duration=90)\n",
      " RoutingOperation(routing_id='01-01', position_number=2, machine_name='M01-04', duration=75)\n",
      " RoutingOperation(routing_id='01-01', position_number=3, machine_name='M01-09', duration=11)\n",
      " RoutingOperation(routing_id='01-01', position_number=4, machine_name='M01-03', duration=69)\n",
      " RoutingOperation(routing_id='01-01', position_number=5, machine_name='M01-01', duration=28)\n",
      " RoutingOperation(routing_id='01-01', position_number=6, machine_name='M01-06', duration=46)\n",
      " RoutingOperation(routing_id='01-01', position_number=7, machine_name='M01-05', duration=46)\n",
      " RoutingOperation(routing_id='01-01', position_number=8, machine_name='M01-07', duration=72)\n",
      " RoutingOperation(routing_id='01-01', position_number=9, machine_name='M01-08', duration=30)\n"
     ]
    }
   ],
   "execution_count": 2
  },
  {
   "metadata": {},
   "cell_type": "markdown",
   "source": "### II. Create jobs routings (without any change)",
   "id": "d9daf3e17d2330c2"
  },
  {
   "metadata": {
    "ExecuteTime": {
     "end_time": "2025-08-07T22:01:58.672999Z",
     "start_time": "2025-08-07T22:01:58.670019Z"
    }
   },
   "cell_type": "code",
   "source": [
    "jobs = JobsInitializer.create_simple_jobs(routings = routings, shuffle=False)\n",
    "for job in jobs[:2]:\n",
    "    print(job)\n",
    "    for operation in job.operations:\n",
    "        print(f\" {operation}\")\n"
   ],
   "id": "131a88c4bd855466",
   "outputs": [
    {
     "name": "stdout",
     "output_type": "stream",
     "text": [
      "Job(id='01-0000', routing_id='01-00', arrival=None, earliest_start=0, deadline=None, sum_duration=395, max_bottleneck_utilization=None)\n",
      " JobOperation(job_id='01-0000', position_number=0, machine_name='M01-00', duration=29)\n",
      " JobOperation(job_id='01-0000', position_number=1, machine_name='M01-01', duration=78)\n",
      " JobOperation(job_id='01-0000', position_number=2, machine_name='M01-02', duration=9)\n",
      " JobOperation(job_id='01-0000', position_number=3, machine_name='M01-03', duration=36)\n",
      " JobOperation(job_id='01-0000', position_number=4, machine_name='M01-04', duration=49)\n",
      " JobOperation(job_id='01-0000', position_number=5, machine_name='M01-05', duration=11)\n",
      " JobOperation(job_id='01-0000', position_number=6, machine_name='M01-06', duration=62)\n",
      " JobOperation(job_id='01-0000', position_number=7, machine_name='M01-07', duration=56)\n",
      " JobOperation(job_id='01-0000', position_number=8, machine_name='M01-08', duration=44)\n",
      " JobOperation(job_id='01-0000', position_number=9, machine_name='M01-09', duration=21)\n",
      "Job(id='01-0001', routing_id='01-01', arrival=None, earliest_start=0, deadline=None, sum_duration=510, max_bottleneck_utilization=None)\n",
      " JobOperation(job_id='01-0001', position_number=0, machine_name='M01-00', duration=43)\n",
      " JobOperation(job_id='01-0001', position_number=1, machine_name='M01-02', duration=90)\n",
      " JobOperation(job_id='01-0001', position_number=2, machine_name='M01-04', duration=75)\n",
      " JobOperation(job_id='01-0001', position_number=3, machine_name='M01-09', duration=11)\n",
      " JobOperation(job_id='01-0001', position_number=4, machine_name='M01-03', duration=69)\n",
      " JobOperation(job_id='01-0001', position_number=5, machine_name='M01-01', duration=28)\n",
      " JobOperation(job_id='01-0001', position_number=6, machine_name='M01-06', duration=46)\n",
      " JobOperation(job_id='01-0001', position_number=7, machine_name='M01-05', duration=46)\n",
      " JobOperation(job_id='01-0001', position_number=8, machine_name='M01-07', duration=72)\n",
      " JobOperation(job_id='01-0001', position_number=9, machine_name='M01-08', duration=30)\n"
     ]
    }
   ],
   "execution_count": 3
  },
  {
   "metadata": {
    "ExecuteTime": {
     "end_time": "2025-08-07T22:01:58.685059Z",
     "start_time": "2025-08-07T22:01:58.681975Z"
    }
   },
   "cell_type": "code",
   "source": [
    "jobs_collection = LiveJobCollection(jobs)\n",
    "print(f\"Total number of operations: {jobs_collection.count_operations()}\")"
   ],
   "id": "9a22b189cd55f5f4",
   "outputs": [
    {
     "name": "stdout",
     "output_type": "stream",
     "text": [
      "Total number of operations: 100\n"
     ]
    }
   ],
   "execution_count": 4
  },
  {
   "metadata": {},
   "cell_type": "markdown",
   "source": "## Scheduling",
   "id": "16020c96f76ac2a6"
  },
  {
   "metadata": {
    "ExecuteTime": {
     "end_time": "2025-08-07T22:01:58.768252Z",
     "start_time": "2025-08-07T22:01:58.761811Z"
    }
   },
   "cell_type": "code",
   "source": [
    "solver = Solver(\n",
    "    jobs_collection = jobs_collection,\n",
    "    schedule_start= 0\n",
    ")\n",
    "solver.build_makespan_model()"
   ],
   "id": "fda2609e5307ad62",
   "outputs": [],
   "execution_count": 5
  },
  {
   "metadata": {
    "ExecuteTime": {
     "end_time": "2025-08-07T22:01:58.778318Z",
     "start_time": "2025-08-07T22:01:58.775538Z"
    }
   },
   "cell_type": "code",
   "source": [
    "model_log = solver.get_model_info()\n",
    "print(json.dumps(model_log, indent=2))"
   ],
   "id": "17b4c1fbc8000c5c",
   "outputs": [
    {
     "name": "stdout",
     "output_type": "stream",
     "text": [
      "{\n",
      "  \"number_of_operations_to_schedule\": 100,\n",
      "  \"number_of_operations_with_previous_schedule\": 0,\n",
      "  \"number_of_active_operation_to_consider\": 0,\n",
      "  \"number_of_variables\": 201,\n",
      "  \"number_of_constraints\": 220\n",
      "}\n"
     ]
    }
   ],
   "execution_count": 6
  },
  {
   "metadata": {
    "ExecuteTime": {
     "end_time": "2025-08-07T22:02:10.065880Z",
     "start_time": "2025-08-07T22:02:07.805235Z"
    }
   },
   "cell_type": "code",
   "source": "solver.solve_model()",
   "id": "34f3ff617ff2093b",
   "outputs": [],
   "execution_count": 11
  },
  {
   "metadata": {
    "ExecuteTime": {
     "end_time": "2025-08-07T22:02:01.843081Z",
     "start_time": "2025-08-07T22:02:01.840527Z"
    }
   },
   "cell_type": "code",
   "source": [
    "solver_log = solver.get_solver_info()\n",
    "print(json.dumps(solver_log, indent=2))"
   ],
   "id": "8c9c0eaff89d38a5",
   "outputs": [
    {
     "name": "stdout",
     "output_type": "stream",
     "text": [
      "{\n",
      "  \"status\": \"OPTIMAL\",\n",
      "  \"objective_value\": 930.0,\n",
      "  \"best_objective_bound\": 930.0,\n",
      "  \"number_of_branches\": 0,\n",
      "  \"wall_time\": 2.98\n",
      "}\n"
     ]
    }
   ],
   "execution_count": 8
  },
  {
   "metadata": {
    "ExecuteTime": {
     "end_time": "2025-08-07T22:02:01.887514Z",
     "start_time": "2025-08-07T22:02:01.875471Z"
    }
   },
   "cell_type": "code",
   "source": [
    "schedule_job_collection = solver.get_schedule()\n",
    "df_schedule = schedule_job_collection.to_operations_dataframe()\n",
    "df_schedule"
   ],
   "id": "73a6b1a7f52818b8",
   "outputs": [
    {
     "data": {
      "text/plain": [
       "        Job Routing_ID  Operation Machine  Start  Processing Time  End  \\\n",
       "0   01-0000      01-00          0  M01-00    119               29  148   \n",
       "1   01-0000      01-00          1  M01-01    445               78  523   \n",
       "2   01-0000      01-00          2  M01-02    523                9  532   \n",
       "3   01-0000      01-00          3  M01-03    532               36  568   \n",
       "4   01-0000      01-00          4  M01-04    568               49  617   \n",
       "5   01-0000      01-00          5  M01-05    617               11  628   \n",
       "6   01-0000      01-00          6  M01-06    645               62  707   \n",
       "7   01-0000      01-00          7  M01-07    721               56  777   \n",
       "..      ...        ...        ...     ...    ...              ...  ...   \n",
       "92  01-0009      01-09          2  M01-02    338               61  399   \n",
       "93  01-0009      01-09          3  M01-06    402                7  409   \n",
       "94  01-0009      01-09          4  M01-08    420               64  484   \n",
       "95  01-0009      01-09          5  M01-09    535               76  611   \n",
       "96  01-0009      01-09          6  M01-05    628               47  675   \n",
       "97  01-0009      01-09          7  M01-03    675               52  727   \n",
       "98  01-0009      01-09          8  M01-04    727               90  817   \n",
       "99  01-0009      01-09          9  M01-07    885               45  930   \n",
       "\n",
       "    Ready Time Deadline  \n",
       "0            0     None  \n",
       "1            0     None  \n",
       "2            0     None  \n",
       "3            0     None  \n",
       "4            0     None  \n",
       "5            0     None  \n",
       "6            0     None  \n",
       "7            0     None  \n",
       "..         ...      ...  \n",
       "92           0     None  \n",
       "93           0     None  \n",
       "94           0     None  \n",
       "95           0     None  \n",
       "96           0     None  \n",
       "97           0     None  \n",
       "98           0     None  \n",
       "99           0     None  \n",
       "\n",
       "[100 rows x 9 columns]"
      ],
      "text/html": [
       "<div>\n",
       "<style scoped>\n",
       "    .dataframe tbody tr th:only-of-type {\n",
       "        vertical-align: middle;\n",
       "    }\n",
       "\n",
       "    .dataframe tbody tr th {\n",
       "        vertical-align: top;\n",
       "    }\n",
       "\n",
       "    .dataframe thead th {\n",
       "        text-align: right;\n",
       "    }\n",
       "</style>\n",
       "<table border=\"1\" class=\"dataframe\">\n",
       "  <thead>\n",
       "    <tr style=\"text-align: right;\">\n",
       "      <th></th>\n",
       "      <th>Job</th>\n",
       "      <th>Routing_ID</th>\n",
       "      <th>Operation</th>\n",
       "      <th>Machine</th>\n",
       "      <th>Start</th>\n",
       "      <th>Processing Time</th>\n",
       "      <th>End</th>\n",
       "      <th>Ready Time</th>\n",
       "      <th>Deadline</th>\n",
       "    </tr>\n",
       "  </thead>\n",
       "  <tbody>\n",
       "    <tr>\n",
       "      <th>0</th>\n",
       "      <td>01-0000</td>\n",
       "      <td>01-00</td>\n",
       "      <td>0</td>\n",
       "      <td>M01-00</td>\n",
       "      <td>119</td>\n",
       "      <td>29</td>\n",
       "      <td>148</td>\n",
       "      <td>0</td>\n",
       "      <td>None</td>\n",
       "    </tr>\n",
       "    <tr>\n",
       "      <th>1</th>\n",
       "      <td>01-0000</td>\n",
       "      <td>01-00</td>\n",
       "      <td>1</td>\n",
       "      <td>M01-01</td>\n",
       "      <td>445</td>\n",
       "      <td>78</td>\n",
       "      <td>523</td>\n",
       "      <td>0</td>\n",
       "      <td>None</td>\n",
       "    </tr>\n",
       "    <tr>\n",
       "      <th>2</th>\n",
       "      <td>01-0000</td>\n",
       "      <td>01-00</td>\n",
       "      <td>2</td>\n",
       "      <td>M01-02</td>\n",
       "      <td>523</td>\n",
       "      <td>9</td>\n",
       "      <td>532</td>\n",
       "      <td>0</td>\n",
       "      <td>None</td>\n",
       "    </tr>\n",
       "    <tr>\n",
       "      <th>3</th>\n",
       "      <td>01-0000</td>\n",
       "      <td>01-00</td>\n",
       "      <td>3</td>\n",
       "      <td>M01-03</td>\n",
       "      <td>532</td>\n",
       "      <td>36</td>\n",
       "      <td>568</td>\n",
       "      <td>0</td>\n",
       "      <td>None</td>\n",
       "    </tr>\n",
       "    <tr>\n",
       "      <th>4</th>\n",
       "      <td>01-0000</td>\n",
       "      <td>01-00</td>\n",
       "      <td>4</td>\n",
       "      <td>M01-04</td>\n",
       "      <td>568</td>\n",
       "      <td>49</td>\n",
       "      <td>617</td>\n",
       "      <td>0</td>\n",
       "      <td>None</td>\n",
       "    </tr>\n",
       "    <tr>\n",
       "      <th>5</th>\n",
       "      <td>01-0000</td>\n",
       "      <td>01-00</td>\n",
       "      <td>5</td>\n",
       "      <td>M01-05</td>\n",
       "      <td>617</td>\n",
       "      <td>11</td>\n",
       "      <td>628</td>\n",
       "      <td>0</td>\n",
       "      <td>None</td>\n",
       "    </tr>\n",
       "    <tr>\n",
       "      <th>6</th>\n",
       "      <td>01-0000</td>\n",
       "      <td>01-00</td>\n",
       "      <td>6</td>\n",
       "      <td>M01-06</td>\n",
       "      <td>645</td>\n",
       "      <td>62</td>\n",
       "      <td>707</td>\n",
       "      <td>0</td>\n",
       "      <td>None</td>\n",
       "    </tr>\n",
       "    <tr>\n",
       "      <th>7</th>\n",
       "      <td>01-0000</td>\n",
       "      <td>01-00</td>\n",
       "      <td>7</td>\n",
       "      <td>M01-07</td>\n",
       "      <td>721</td>\n",
       "      <td>56</td>\n",
       "      <td>777</td>\n",
       "      <td>0</td>\n",
       "      <td>None</td>\n",
       "    </tr>\n",
       "    <tr>\n",
       "      <th>...</th>\n",
       "      <td>...</td>\n",
       "      <td>...</td>\n",
       "      <td>...</td>\n",
       "      <td>...</td>\n",
       "      <td>...</td>\n",
       "      <td>...</td>\n",
       "      <td>...</td>\n",
       "      <td>...</td>\n",
       "      <td>...</td>\n",
       "    </tr>\n",
       "    <tr>\n",
       "      <th>92</th>\n",
       "      <td>01-0009</td>\n",
       "      <td>01-09</td>\n",
       "      <td>2</td>\n",
       "      <td>M01-02</td>\n",
       "      <td>338</td>\n",
       "      <td>61</td>\n",
       "      <td>399</td>\n",
       "      <td>0</td>\n",
       "      <td>None</td>\n",
       "    </tr>\n",
       "    <tr>\n",
       "      <th>93</th>\n",
       "      <td>01-0009</td>\n",
       "      <td>01-09</td>\n",
       "      <td>3</td>\n",
       "      <td>M01-06</td>\n",
       "      <td>402</td>\n",
       "      <td>7</td>\n",
       "      <td>409</td>\n",
       "      <td>0</td>\n",
       "      <td>None</td>\n",
       "    </tr>\n",
       "    <tr>\n",
       "      <th>94</th>\n",
       "      <td>01-0009</td>\n",
       "      <td>01-09</td>\n",
       "      <td>4</td>\n",
       "      <td>M01-08</td>\n",
       "      <td>420</td>\n",
       "      <td>64</td>\n",
       "      <td>484</td>\n",
       "      <td>0</td>\n",
       "      <td>None</td>\n",
       "    </tr>\n",
       "    <tr>\n",
       "      <th>95</th>\n",
       "      <td>01-0009</td>\n",
       "      <td>01-09</td>\n",
       "      <td>5</td>\n",
       "      <td>M01-09</td>\n",
       "      <td>535</td>\n",
       "      <td>76</td>\n",
       "      <td>611</td>\n",
       "      <td>0</td>\n",
       "      <td>None</td>\n",
       "    </tr>\n",
       "    <tr>\n",
       "      <th>96</th>\n",
       "      <td>01-0009</td>\n",
       "      <td>01-09</td>\n",
       "      <td>6</td>\n",
       "      <td>M01-05</td>\n",
       "      <td>628</td>\n",
       "      <td>47</td>\n",
       "      <td>675</td>\n",
       "      <td>0</td>\n",
       "      <td>None</td>\n",
       "    </tr>\n",
       "    <tr>\n",
       "      <th>97</th>\n",
       "      <td>01-0009</td>\n",
       "      <td>01-09</td>\n",
       "      <td>7</td>\n",
       "      <td>M01-03</td>\n",
       "      <td>675</td>\n",
       "      <td>52</td>\n",
       "      <td>727</td>\n",
       "      <td>0</td>\n",
       "      <td>None</td>\n",
       "    </tr>\n",
       "    <tr>\n",
       "      <th>98</th>\n",
       "      <td>01-0009</td>\n",
       "      <td>01-09</td>\n",
       "      <td>8</td>\n",
       "      <td>M01-04</td>\n",
       "      <td>727</td>\n",
       "      <td>90</td>\n",
       "      <td>817</td>\n",
       "      <td>0</td>\n",
       "      <td>None</td>\n",
       "    </tr>\n",
       "    <tr>\n",
       "      <th>99</th>\n",
       "      <td>01-0009</td>\n",
       "      <td>01-09</td>\n",
       "      <td>9</td>\n",
       "      <td>M01-07</td>\n",
       "      <td>885</td>\n",
       "      <td>45</td>\n",
       "      <td>930</td>\n",
       "      <td>0</td>\n",
       "      <td>None</td>\n",
       "    </tr>\n",
       "  </tbody>\n",
       "</table>\n",
       "<p>100 rows × 9 columns</p>\n",
       "</div>"
      ]
     },
     "execution_count": 9,
     "metadata": {},
     "output_type": "execute_result"
    }
   ],
   "execution_count": 9
  },
  {
   "metadata": {
    "ExecuteTime": {
     "end_time": "2025-08-07T22:02:02.138667Z",
     "start_time": "2025-08-07T22:02:01.928756Z"
    }
   },
   "cell_type": "code",
   "source": [
    "gantt.get_plot(df_schedule, perspective=\"Machine\")\n",
    "check.check_core_schedule_constraints(df_schedule)\n",
    "# check.is_start_correct(df_schedule, df_jobs_arrivals)\n",
    "check.is_duration_correct(df_schedule)"
   ],
   "id": "8fba5e8d292fcce6",
   "outputs": [
    {
     "data": {
      "text/plain": [
       "<Figure size 1600x800 with 1 Axes>"
      ],
      "image/png": "[encoded data removed]"
     },
     "metadata": {},
     "output_type": "display_data"
    },
    {
     "name": "stdout",
     "output_type": "stream",
     "text": [
      "+ No machine conflicts found.\n",
      "+ All job operations are scheduled in non-overlapping, correct sequence.\n",
      "+ All durations match the difference between start and end.\n"
     ]
    },
    {
     "data": {
      "text/plain": [
       "True"
      ]
     },
     "execution_count": 10,
     "metadata": {},
     "output_type": "execute_result"
    }
   ],
   "execution_count": 10
  }
 ],
 "metadata": {
  "kernelspec": {
   "display_name": "Python 3 (ipykernel)",
   "language": "python",
   "name": "python3"
  },
  "language_info": {
   "codemirror_mode": {
    "name": "ipython",
    "version": 3
   },
   "file_extension": ".py",
   "mimetype": "text/x-python",
   "name": "python",
   "nbconvert_exporter": "python",
   "pygments_lexer": "ipython3",
   "version": "3.13.2"
  }
 },
 "nbformat": 4,
 "nbformat_minor": 5
}
