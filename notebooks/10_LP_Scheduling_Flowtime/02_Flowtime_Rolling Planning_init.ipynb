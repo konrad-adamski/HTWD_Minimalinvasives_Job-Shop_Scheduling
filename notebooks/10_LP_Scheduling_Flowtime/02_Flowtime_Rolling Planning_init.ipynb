{
 "cells": [
  {
   "metadata": {},
   "cell_type": "markdown",
   "source": "# Rolling Planning mit Flow Time",
   "id": "32fc1f21510c5eb1"
  },
  {
   "metadata": {},
   "cell_type": "code",
   "outputs": [],
   "execution_count": null,
   "source": [
    "from configs.config import get_path\n",
    "import src.utils.converter as convert\n",
    "import src.utils.presenter as show\n",
    "import src.utils.checker as check\n",
    "\n",
    "import src.utils.gen_jobs as gen_jobs\n",
    "import src.utils.rolling_scheduling as rolling_schedule\n",
    "\n",
    "import time\n",
    "import pandas as pd\n",
    "pd.set_option('display.max_rows', 26)"
   ],
   "id": "9a55f6b752d56c94"
  },
  {
   "metadata": {},
   "cell_type": "code",
   "outputs": [],
   "execution_count": null,
   "source": [
    "import src.models.lp.flowtime_solver as solver\n",
    "from src.simulation.ProductionDaySimulation import ProductionDaySimulation"
   ],
   "id": "888a0fdc4f6bf188"
  },
  {
   "metadata": {},
   "cell_type": "code",
   "outputs": [],
   "execution_count": null,
   "source": "max_time = 60*60*2 # 2h",
   "id": "a06c7d58bb5b09d3"
  },
  {
   "metadata": {},
   "cell_type": "markdown",
   "source": "## Generierung des Datensatzes für 10 Tage (Ankunft)",
   "id": "2f2e4625a73a4f17"
  },
  {
   "metadata": {},
   "cell_type": "code",
   "outputs": [],
   "execution_count": null,
   "source": [
    "basic_data_path = get_path(\"data\", \"basic\")\n",
    "\n",
    "df_instance = pd.read_csv(basic_data_path / \"00_instance.csv\")\n",
    "df_jssp, df_jobs_arrivals = gen_jobs.create_jobs_for_days(df_instance, day_count = 10, u_b_mmax= 0.92, shuffle = True)\n",
    "df_jobs_arrivals"
   ],
   "id": "1ccb2430a4304c49"
  },
  {
   "metadata": {},
   "cell_type": "code",
   "outputs": [],
   "execution_count": null,
   "source": "df_jssp",
   "id": "a5822546edac11ca"
  },
  {
   "metadata": {},
   "cell_type": "markdown",
   "source": "## Params",
   "id": "840a5a943126559b"
  },
  {
   "metadata": {},
   "cell_type": "code",
   "outputs": [],
   "execution_count": null,
   "source": [
    "# fix\n",
    "day_length = 1440\n",
    "horizon_days = 2"
   ],
   "id": "fdaffc2531bbf07d"
  },
  {
   "metadata": {},
   "cell_type": "code",
   "outputs": [],
   "execution_count": null,
   "source": [
    "# init\n",
    "day_numb = 0\n",
    "\n",
    "day_start = 0\n",
    "day_end = 0\n",
    "planning_end = 0"
   ],
   "id": "140436c7339a6384"
  },
  {
   "metadata": {},
   "cell_type": "markdown",
   "source": "# Initialisierung (Tag 0)",
   "id": "17f174892ed15693"
  },
  {
   "metadata": {},
   "cell_type": "code",
   "outputs": [],
   "execution_count": null,
   "source": "day_numb = 0",
   "id": "4dd526dcd80e8b97"
  },
  {
   "metadata": {},
   "cell_type": "code",
   "outputs": [],
   "execution_count": null,
   "source": [
    "day_start = day_length*day_numb                      # 0\n",
    "day_end = day_start + day_length                     # 1440\n",
    "planning_end =  day_start + horizon_days*day_length  # 4320"
   ],
   "id": "e08972dccd0e42f2"
  },
  {
   "metadata": {},
   "cell_type": "code",
   "outputs": [],
   "execution_count": null,
   "source": [
    "# I)\n",
    "df_jssp_curr, df_times_curr = rolling_schedule.filter_jobs_by_arrival_window(df_jobs_arrivals, df_jssp, day_start, planning_end)\n",
    "df_jssp_curr"
   ],
   "id": "35b39e257e841516"
  },
  {
   "metadata": {},
   "cell_type": "code",
   "outputs": [],
   "execution_count": null,
   "source": "df_times_curr ",
   "id": "b94cd696cf7e8d6"
  },
  {
   "metadata": {},
   "cell_type": "markdown",
   "source": "### Scheduling",
   "id": "2d07ad4eb7a4fa0d"
  },
  {
   "metadata": {},
   "cell_type": "code",
   "outputs": [],
   "execution_count": null,
   "source": [
    "starting_time = time.time()\n",
    "\n",
    "# Scheduling\n",
    "df_plan = solver.solve_jssp_flowtime(df_jssp_curr, df_times_curr, solver= \"HiGHS\", msg=False, timeLimit=max_time, gapRel= 0.02)\n",
    "df_plan\n",
    "\n",
    "# Informationen\n",
    "ending_time = time.time()\n",
    "solver_duration = ending_time - starting_time\n",
    "print(f\"\\nScheduling-Dauer: {int(solver_duration // 60)} Minuten und {(solver_duration % 60):.2f} Sekunden.\")\n",
    "df_plan"
   ],
   "id": "6bcf24c9314f8a55"
  },
  {
   "metadata": {},
   "cell_type": "code",
   "outputs": [],
   "execution_count": null,
   "source": [
    "show.plot_gantt_jobs(df_plan)\n",
    "\n",
    "check.is_machine_conflict_free(df_plan)\n",
    "check.is_operation_sequence_correct(df_plan)\n",
    "check.is_job_timing_correct(df_plan)\n",
    "check.is_start_correct(df_plan)"
   ],
   "id": "f6c1f86f79dd872f"
  },
  {
   "metadata": {},
   "cell_type": "markdown",
   "source": "### Simulation",
   "id": "2407c1e7c6204351"
  },
  {
   "metadata": {},
   "cell_type": "code",
   "outputs": [],
   "execution_count": null,
   "source": [
    "simulation = ProductionDaySimulation(df_plan, vc=0.25)\n",
    "df_execution, df_undone = simulation.run(start_time = day_start, end_time=day_end)"
   ],
   "id": "ef2e621f3a97d58"
  },
  {
   "metadata": {},
   "cell_type": "code",
   "outputs": [],
   "execution_count": null,
   "source": [
    "if not df_execution.empty:\n",
    "    show.plot_gantt_machines(df_execution, duration_column=\"Simulated Processing Time\")\n",
    "else:\n",
    "    print(f\"Nothing executed on day {day_numb}\")"
   ],
   "id": "677472214a0035c"
  },
  {
   "metadata": {},
   "cell_type": "code",
   "outputs": [],
   "execution_count": null,
   "source": "df_undone",
   "id": "f2f4bcd722ec4321"
  },
  {
   "metadata": {},
   "cell_type": "markdown",
   "source": "#### Export",
   "id": "a646ce280a0c3872"
  },
  {
   "metadata": {},
   "cell_type": "code",
   "outputs": [],
   "execution_count": null,
   "source": "export_data_path = get_path(\"data\", \"lp_flowtime\")",
   "id": "53e6987e68a58c20"
  },
  {
   "metadata": {},
   "cell_type": "code",
   "outputs": [],
   "execution_count": null,
   "source": [
    "df_jssp.to_csv(export_data_path / \"02_flowtime_all_jssp.csv\", index = False)\n",
    "df_jobs_arrivals.to_csv(export_data_path / \"02_flowtime_all_times.csv\", index = False)"
   ],
   "id": "6cab964749425cb6"
  },
  {
   "metadata": {},
   "cell_type": "code",
   "outputs": [],
   "execution_count": null,
   "source": [
    "df_plan.to_csv(export_data_path / \"02_flowtime_init_plan.csv\", index = False)\n",
    "df_execution.to_csv(export_data_path / \"02_flowtime_execution.csv\", index = False)\n",
    "df_undone.to_csv(export_data_path / \"02_flowtime_init_undone.csv\", index = False)"
   ],
   "id": "94dd66260a2ec9a3"
  }
 ],
 "metadata": {
  "kernelspec": {
   "display_name": "Python 3 (ipykernel)",
   "language": "python",
   "name": "python3"
  },
  "language_info": {
   "codemirror_mode": {
    "name": "ipython",
    "version": 3
   },
   "file_extension": ".py",
   "mimetype": "text/x-python",
   "name": "python",
   "nbconvert_exporter": "python",
   "pygments_lexer": "ipython3",
   "version": "3.13.2"
  }
 },
 "nbformat": 4,
 "nbformat_minor": 5
}
