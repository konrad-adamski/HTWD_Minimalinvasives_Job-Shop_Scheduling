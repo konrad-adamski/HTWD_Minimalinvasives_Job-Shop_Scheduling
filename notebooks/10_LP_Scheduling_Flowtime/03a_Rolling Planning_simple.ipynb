{
 "cells": [
  {
   "cell_type": "markdown",
   "id": "d73a6a9f-87d2-47fc-8f69-025505dae28e",
   "metadata": {},
   "source": [
    "# Rolling Planning mit Flow Time"
   ]
  },
  {
   "cell_type": "code",
   "execution_count": 1,
   "id": "10e52df8-3c13-4726-b42a-2be226ddf554",
   "metadata": {},
   "outputs": [],
   "source": [
    "from configs.config import get_path\n",
    "import src.utils.converter as convert\n",
    "import src.utils.presenter as show\n",
    "import src.utils.checker as check\n",
    "\n",
    "import src.utils.gen_jobs as gen_jobs\n",
    "import src.utils.rolling_scheduling as rolling_schedule\n",
    "\n",
    "import time\n",
    "import pandas as pd\n",
    "pd.set_option('display.max_rows', 26)"
   ]
  },
  {
   "cell_type": "code",
   "execution_count": 2,
   "id": "3f991dc0-f230-4385-9d3d-1235b1a1a58f",
   "metadata": {},
   "outputs": [],
   "source": [
    "import src.models.lp.flowtime_solver as solver\n",
    "from src.simulation.ProductionDaySimulation import ProductionDaySimulation"
   ]
  },
  {
   "cell_type": "code",
   "execution_count": 3,
   "id": "3b3e4c43-3f37-4b8c-b3d6-bf4f4ddf4498",
   "metadata": {},
   "outputs": [],
   "source": [
    "max_time = 60*60*5 # 5h"
   ]
  },
  {
   "cell_type": "markdown",
   "id": "a6a0410e-32c3-47f8-9444-33108a0d3cc7",
   "metadata": {},
   "source": [
    "## Laden der Initialisierungsdaten"
   ]
  },
  {
   "cell_type": "code",
   "execution_count": 4,
   "id": "adb9b94e-f56b-4beb-963c-20bf47cc7e59",
   "metadata": {},
   "outputs": [],
   "source": [
    "data_path = get_path(\"data\", \"lp_flowtime\")\n"
   ]
  },
  {
   "cell_type": "code",
   "execution_count": 5,
   "id": "24d6b2f3-4137-48d7-83a4-d688df4306db",
   "metadata": {},
   "outputs": [],
   "source": [
    "df_jssp = pd.read_csv(data_path / \"02_flowtime_all_jssp.csv\")\n",
    "df_times = pd.read_csv(data_path / \"02_flowtime_all_times.csv\")"
   ]
  },
  {
   "cell_type": "markdown",
   "id": "c724f155-6930-4f4d-86c7-1c4945a8ef76",
   "metadata": {},
   "source": [
    "### Tag 0 "
   ]
  },
  {
   "cell_type": "code",
   "execution_count": 6,
   "id": "490dcbe4-b173-4e2c-bc31-a2f3ca3db863",
   "metadata": {},
   "outputs": [],
   "source": [
    "df_plan = pd.read_csv(data_path / \"02_flowtime_init_plan.csv\")\n",
    "df_execution = pd.read_csv(data_path / \"02_flowtime_execution.csv\")\n",
    "df_undone = pd.read_csv(data_path / \"02_flowtime_init_undone.csv\")"
   ]
  },
  {
   "cell_type": "markdown",
   "id": "af2c2bd3-b17b-4a3d-89c9-45caaa2c0abd",
   "metadata": {},
   "source": [
    "### Settings"
   ]
  },
  {
   "cell_type": "code",
   "execution_count": 7,
   "id": "6b68264c-dbc9-4d94-ad26-e0b2842dcb59",
   "metadata": {},
   "outputs": [],
   "source": [
    "def get_schedule_filename(prefix: str = \"\", day: int = 0, data_txt: str = \"schedule\", suffix: str = \"\") -> str:\n",
    "    file_template = \"{prefix}_{data}_{day:02d}{suffix}.csv\"\n",
    "    if suffix:\n",
    "        suffix = f\"_{suffix}\"\n",
    "    return data_path / file_template.format(prefix=prefix,data=data_txt,day=day, suffix=suffix)"
   ]
  },
  {
   "cell_type": "markdown",
   "id": "afcfa329-fb5d-481a-a295-b75163d9a154",
   "metadata": {},
   "source": [
    "## Params"
   ]
  },
  {
   "cell_type": "code",
   "execution_count": 8,
   "id": "b75e3d2a-2b67-4cc3-ae84-b969f4384475",
   "metadata": {},
   "outputs": [],
   "source": [
    "# fix\n",
    "day_length = 1440\n",
    "horizon_days = 2\n",
    "\n",
    "notebook_prefix = \"3a\""
   ]
  },
  {
   "cell_type": "markdown",
   "id": "f2308d11-b686-47d4-a2ee-473b15f451dc",
   "metadata": {},
   "source": [
    "#### Rescheduling für Tage 1-5\n",
    "- Tag 1: Ankunfttermine in [1, 2] + unabgeschlosse von Vortagen (evtl. Tag 0)\n",
    "- Tag 2: Ankunfttermine in [2, 3] + unabgeschlosse von Vortagen (evtl. Tag 0 \"oder\" Tag 1)\n",
    "- ...\n",
    "- Tag 5: Ankunfttermine in [5, 6] + unabgeschlosse von Vortagen"
   ]
  },
  {
   "cell_type": "code",
   "execution_count": 9,
   "id": "776fc4a8-6f31-4d69-88da-14cdbc2cf517",
   "metadata": {},
   "outputs": [],
   "source": [
    "first_start = 1\n",
    "last_planning_start = 5"
   ]
  },
  {
   "cell_type": "code",
   "execution_count": 10,
   "id": "6bb862a8-906f-4015-89d8-972510aaf186",
   "metadata": {},
   "outputs": [
    {
     "name": "stdout",
     "output_type": "stream",
     "text": [
      "BigM: 31000\n"
     ]
    },
    {
     "ename": "KeyboardInterrupt",
     "evalue": "",
     "output_type": "error",
     "traceback": [
      "\u001b[31m---------------------------------------------------------------------------\u001b[39m",
      "\u001b[31mKeyboardInterrupt\u001b[39m                         Traceback (most recent call last)",
      "\u001b[36mCell\u001b[39m\u001b[36m \u001b[39m\u001b[32mIn[10]\u001b[39m\u001b[32m, line 17\u001b[39m\n\u001b[32m     14\u001b[39m \u001b[38;5;66;03m# ------------------- III. Rescheduling durchführen -------------------------------\u001b[39;00m\n\u001b[32m     16\u001b[39m starting_time = time.time()\n\u001b[32m---> \u001b[39m\u001b[32m17\u001b[39m df_plan = \u001b[43msolver\u001b[49m\u001b[43m.\u001b[49m\u001b[43msolve_jssp_individual_flowtime_with_fixed_ops\u001b[49m\u001b[43m(\u001b[49m\u001b[43mdf_jssp_curr\u001b[49m\u001b[43m,\u001b[49m\u001b[43m \u001b[49m\u001b[43mdf_times_curr\u001b[49m\u001b[43m,\u001b[49m\u001b[43m \u001b[49m\u001b[43mdf_execution_important\u001b[49m\u001b[43m,\u001b[49m\n\u001b[32m     18\u001b[39m \u001b[43m                                                               \u001b[49m\u001b[43mreschedule_start\u001b[49m\u001b[43m \u001b[49m\u001b[43m=\u001b[49m\u001b[43m \u001b[49m\u001b[43mday_start\u001b[49m\u001b[43m,\u001b[49m\n\u001b[32m     19\u001b[39m \u001b[43m                                                               \u001b[49m\u001b[43msolver\u001b[49m\u001b[43m=\u001b[49m\u001b[43m \u001b[49m\u001b[33;43m\"\u001b[39;49m\u001b[33;43mHiGHS\u001b[39;49m\u001b[33;43m\"\u001b[39;49m\u001b[43m,\u001b[49m\u001b[43m \u001b[49m\u001b[43mmsg\u001b[49m\u001b[43m=\u001b[49m\u001b[38;5;28;43;01mFalse\u001b[39;49;00m\u001b[43m,\u001b[49m\u001b[43m \u001b[49m\u001b[43mtimeLimit\u001b[49m\u001b[43m=\u001b[49m\u001b[43mmax_time\u001b[49m\u001b[43m,\u001b[49m\u001b[43m \u001b[49m\u001b[43mgapRel\u001b[49m\u001b[43m=\u001b[49m\u001b[43m \u001b[49m\u001b[32;43m0.05\u001b[39;49m\u001b[43m)\u001b[49m\n\u001b[32m     20\u001b[39m solver_duration = time.time() - starting_time\n\u001b[32m     21\u001b[39m \u001b[38;5;28mprint\u001b[39m(\u001b[33mf\u001b[39m\u001b[33m\"\u001b[39m\u001b[38;5;130;01m\\n\u001b[39;00m\u001b[33m  Scheduling-Dauer: \u001b[39m\u001b[38;5;132;01m{\u001b[39;00m\u001b[38;5;28mint\u001b[39m(solver_duration\u001b[38;5;250m \u001b[39m//\u001b[38;5;250m \u001b[39m\u001b[32m60\u001b[39m)\u001b[38;5;132;01m}\u001b[39;00m\u001b[33m Minuten und \u001b[39m\u001b[38;5;132;01m{\u001b[39;00m(solver_duration\u001b[38;5;250m \u001b[39m%\u001b[38;5;250m \u001b[39m\u001b[32m60\u001b[39m)\u001b[38;5;132;01m:\u001b[39;00m\u001b[33m.2f\u001b[39m\u001b[38;5;132;01m}\u001b[39;00m\u001b[33m Sekunden.\u001b[39m\u001b[33m\"\u001b[39m)\n",
      "\u001b[36mFile \u001b[39m\u001b[32m~\\Coding\\HTWD_Minimalinvasives_Job-Shop_Scheduling\\src\\models\\lp\\flowtime_solver.py:463\u001b[39m, in \u001b[36msolve_jssp_individual_flowtime_with_fixed_ops\u001b[39m\u001b[34m(df_jssp, df_arrivals, df_executed, reschedule_start, solver, epsilon, sort_ascending, **solver_args)\u001b[39m\n\u001b[32m    460\u001b[39m \u001b[38;5;28;01melse\u001b[39;00m:\n\u001b[32m    461\u001b[39m     \u001b[38;5;28;01mraise\u001b[39;00m \u001b[38;5;167;01mValueError\u001b[39;00m(\u001b[33m\"\u001b[39m\u001b[33mSolver must be \u001b[39m\u001b[33m'\u001b[39m\u001b[33mCBC\u001b[39m\u001b[33m'\u001b[39m\u001b[33m or \u001b[39m\u001b[33m'\u001b[39m\u001b[33mHiGHS\u001b[39m\u001b[33m'\u001b[39m\u001b[33m\"\u001b[39m)\n\u001b[32m--> \u001b[39m\u001b[32m463\u001b[39m \u001b[43mprob\u001b[49m\u001b[43m.\u001b[49m\u001b[43msolve\u001b[49m\u001b[43m(\u001b[49m\u001b[43mcmd\u001b[49m\u001b[43m)\u001b[49m\n\u001b[32m    464\u001b[39m objective_value = pulp.value(prob.objective)\n\u001b[32m    466\u001b[39m \u001b[38;5;66;03m# 7. Ergebnisse extrahieren\u001b[39;00m\n",
      "\u001b[36mFile \u001b[39m\u001b[32m~\\Coding\\HTWD_Minimalinvasives_Job-Shop_Scheduling\\.venv\\Lib\\site-packages\\pulp\\pulp.py:2058\u001b[39m, in \u001b[36mLpProblem.solve\u001b[39m\u001b[34m(self, solver, **kwargs)\u001b[39m\n\u001b[32m   2056\u001b[39m \u001b[38;5;66;03m# time it\u001b[39;00m\n\u001b[32m   2057\u001b[39m \u001b[38;5;28mself\u001b[39m.startClock()\n\u001b[32m-> \u001b[39m\u001b[32m2058\u001b[39m status = \u001b[43msolver\u001b[49m\u001b[43m.\u001b[49m\u001b[43mactualSolve\u001b[49m\u001b[43m(\u001b[49m\u001b[38;5;28;43mself\u001b[39;49m\u001b[43m,\u001b[49m\u001b[43m \u001b[49m\u001b[43m*\u001b[49m\u001b[43m*\u001b[49m\u001b[43mkwargs\u001b[49m\u001b[43m)\u001b[49m\n\u001b[32m   2059\u001b[39m \u001b[38;5;28mself\u001b[39m.stopClock()\n\u001b[32m   2060\u001b[39m \u001b[38;5;28mself\u001b[39m.restoreObjective(wasNone, dummyVar)\n",
      "\u001b[36mFile \u001b[39m\u001b[32m~\\Coding\\HTWD_Minimalinvasives_Job-Shop_Scheduling\\.venv\\Lib\\site-packages\\pulp\\apis\\highs_api.py:162\u001b[39m, in \u001b[36mHiGHS_CMD.actualSolve\u001b[39m\u001b[34m(self, lp)\u001b[39m\n\u001b[32m    155\u001b[39m process = subprocess.Popen(command, stdout=pipe, stderr=pipe)\n\u001b[32m    157\u001b[39m \u001b[38;5;66;03m# HiGHS return code semantics (see: https://github.com/ERGO-Code/HiGHS/issues/527#issuecomment-946575028)\u001b[39;00m\n\u001b[32m    158\u001b[39m \u001b[38;5;66;03m# - -1: error\u001b[39;00m\n\u001b[32m    159\u001b[39m \u001b[38;5;66;03m# -  0: success\u001b[39;00m\n\u001b[32m    160\u001b[39m \u001b[38;5;66;03m# -  1: warning\u001b[39;00m\n\u001b[32m--> \u001b[39m\u001b[32m162\u001b[39m \u001b[38;5;28;01mif\u001b[39;00m \u001b[43mprocess\u001b[49m\u001b[43m.\u001b[49m\u001b[43mwait\u001b[49m\u001b[43m(\u001b[49m\u001b[43m)\u001b[49m == -\u001b[32m1\u001b[39m:\n\u001b[32m    163\u001b[39m     \u001b[38;5;28;01mraise\u001b[39;00m PulpSolverError(\n\u001b[32m    164\u001b[39m         \u001b[33m\"\u001b[39m\u001b[33mPulp: Error while executing HiGHS, use msg=True for more details\u001b[39m\u001b[33m\"\u001b[39m\n\u001b[32m    165\u001b[39m         + \u001b[38;5;28mself\u001b[39m.path\n\u001b[32m    166\u001b[39m     )\n\u001b[32m    167\u001b[39m \u001b[38;5;28;01mif\u001b[39;00m pipe \u001b[38;5;129;01mis\u001b[39;00m \u001b[38;5;129;01mnot\u001b[39;00m \u001b[38;5;28;01mNone\u001b[39;00m:\n",
      "\u001b[36mFile \u001b[39m\u001b[32m~\\AppData\\Local\\Programs\\Python\\Python313\\Lib\\subprocess.py:1276\u001b[39m, in \u001b[36mPopen.wait\u001b[39m\u001b[34m(self, timeout)\u001b[39m\n\u001b[32m   1274\u001b[39m     endtime = _time() + timeout\n\u001b[32m   1275\u001b[39m \u001b[38;5;28;01mtry\u001b[39;00m:\n\u001b[32m-> \u001b[39m\u001b[32m1276\u001b[39m     \u001b[38;5;28;01mreturn\u001b[39;00m \u001b[38;5;28;43mself\u001b[39;49m\u001b[43m.\u001b[49m\u001b[43m_wait\u001b[49m\u001b[43m(\u001b[49m\u001b[43mtimeout\u001b[49m\u001b[43m=\u001b[49m\u001b[43mtimeout\u001b[49m\u001b[43m)\u001b[49m\n\u001b[32m   1277\u001b[39m \u001b[38;5;28;01mexcept\u001b[39;00m \u001b[38;5;167;01mKeyboardInterrupt\u001b[39;00m:\n\u001b[32m   1278\u001b[39m     \u001b[38;5;66;03m# https://bugs.python.org/issue25942\u001b[39;00m\n\u001b[32m   1279\u001b[39m     \u001b[38;5;66;03m# The first keyboard interrupt waits briefly for the child to\u001b[39;00m\n\u001b[32m   1280\u001b[39m     \u001b[38;5;66;03m# exit under the common assumption that it also received the ^C\u001b[39;00m\n\u001b[32m   1281\u001b[39m     \u001b[38;5;66;03m# generated SIGINT and will exit rapidly.\u001b[39;00m\n\u001b[32m   1282\u001b[39m     \u001b[38;5;28;01mif\u001b[39;00m timeout \u001b[38;5;129;01mis\u001b[39;00m \u001b[38;5;129;01mnot\u001b[39;00m \u001b[38;5;28;01mNone\u001b[39;00m:\n",
      "\u001b[36mFile \u001b[39m\u001b[32m~\\AppData\\Local\\Programs\\Python\\Python313\\Lib\\subprocess.py:1602\u001b[39m, in \u001b[36mPopen._wait\u001b[39m\u001b[34m(self, timeout)\u001b[39m\n\u001b[32m   1599\u001b[39m     timeout_millis = \u001b[38;5;28mint\u001b[39m(timeout * \u001b[32m1000\u001b[39m)\n\u001b[32m   1600\u001b[39m \u001b[38;5;28;01mif\u001b[39;00m \u001b[38;5;28mself\u001b[39m.returncode \u001b[38;5;129;01mis\u001b[39;00m \u001b[38;5;28;01mNone\u001b[39;00m:\n\u001b[32m   1601\u001b[39m     \u001b[38;5;66;03m# API note: Returns immediately if timeout_millis == 0.\u001b[39;00m\n\u001b[32m-> \u001b[39m\u001b[32m1602\u001b[39m     result = \u001b[43m_winapi\u001b[49m\u001b[43m.\u001b[49m\u001b[43mWaitForSingleObject\u001b[49m\u001b[43m(\u001b[49m\u001b[38;5;28;43mself\u001b[39;49m\u001b[43m.\u001b[49m\u001b[43m_handle\u001b[49m\u001b[43m,\u001b[49m\n\u001b[32m   1603\u001b[39m \u001b[43m                                         \u001b[49m\u001b[43mtimeout_millis\u001b[49m\u001b[43m)\u001b[49m\n\u001b[32m   1604\u001b[39m     \u001b[38;5;28;01mif\u001b[39;00m result == _winapi.WAIT_TIMEOUT:\n\u001b[32m   1605\u001b[39m         \u001b[38;5;28;01mraise\u001b[39;00m TimeoutExpired(\u001b[38;5;28mself\u001b[39m.args, timeout)\n",
      "\u001b[31mKeyboardInterrupt\u001b[39m: "
     ]
    }
   ],
   "source": [
    "for day_numb in range(first_start, last_planning_start + 1):\n",
    "    day_start = day_length * day_numb\n",
    "    day_end = day_start + day_length\n",
    "    planning_end = day_start + horizon_days * day_length\n",
    "\n",
    "    # ------------------- I. Ankunfts- und Operationsvorbereitung -------------------\n",
    "    df_jssp_curr, df_times_curr = rolling_schedule.filter_jobs_by_arrival_window(df_times, df_jssp, day_start, planning_end)\n",
    "    df_jssp_curr = rolling_schedule.extend_with_undone_operations(df_jssp_curr, df_undone)\n",
    "    df_times_curr = rolling_schedule.update_times_after_operation_changes(df_times, df_jssp_curr)\n",
    "\n",
    "    # ------------------- II. Relevante laufende Operationen -------------------------\n",
    "    df_execution_important = rolling_schedule.get_operations_running_into_day(df_execution, day_start)\n",
    "\n",
    "    # ------------------- III. Rescheduling durchführen -------------------------------\n",
    "\n",
    "    starting_time = time.time()\n",
    "    df_plan = solver.solve_jssp_individual_flowtime_with_fixed_ops(df_jssp_curr, df_times_curr, df_execution_important,\n",
    "                                                                   reschedule_start = day_start,\n",
    "                                                                   solver= \"HiGHS\", msg=False, timeLimit=max_time, gapRel= 0.05)\n",
    "    solver_duration = time.time() - starting_time\n",
    "    print(f\"\\n  Scheduling-Dauer: {int(solver_duration // 60)} Minuten und {(solver_duration % 60):.2f} Sekunden.\")\n",
    "\n",
    "    df_plan.to_csv(get_schedule_filename(notebook_prefix, day=day_numb), index=False)\n",
    "\n",
    "    show.plot_gantt_machines(df_plan, title=f\"Gantt-Diagramm ab Tag {day_numb}\")\n",
    "    check.check_constraints(df_plan)\n",
    "\n",
    "    # ------------------- IV. Einen Tag simulieren -------------------------------------\n",
    "\n",
    "    simulation = ProductionDaySimulation(df_plan, vc=0.25)\n",
    "    df_execution, df_undone = simulation.run(start_time=day_start, end_time=day_end)\n",
    "    if not df_execution.empty:\n",
    "        show.plot_gantt_machines(df_execution, title=f\"Gantt-Diagramm für Simulationstag {day_numb}\", duration_column=\"Simulated Processing Time\")\n",
    "    else:\n",
    "        print(f\"Nothing executed on day {day_numb}\")\n",
    "    \n"
   ]
  }
 ],
 "metadata": {
  "kernelspec": {
   "display_name": "Python 3 (ipykernel)",
   "language": "python",
   "name": "python3"
  },
  "language_info": {
   "codemirror_mode": {
    "name": "ipython",
    "version": 3
   },
   "file_extension": ".py",
   "mimetype": "text/x-python",
   "name": "python",
   "nbconvert_exporter": "python",
   "pygments_lexer": "ipython3",
   "version": "3.13.2"
  }
 },
 "nbformat": 4,
 "nbformat_minor": 5
}
