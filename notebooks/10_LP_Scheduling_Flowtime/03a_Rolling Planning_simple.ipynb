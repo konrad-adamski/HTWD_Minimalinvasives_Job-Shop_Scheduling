{
 "cells": [
  {
   "metadata": {},
   "cell_type": "markdown",
   "source": "# Rolling Planning mit Flow Time",
   "id": "56e627a5c2a78d6a"
  },
  {
   "metadata": {},
   "cell_type": "code",
   "outputs": [],
   "execution_count": null,
   "source": [
    "from configs.config import get_path\n",
    "import src.utils.converter as convert\n",
    "import src.utils.presenter as show\n",
    "import src.utils.checker as check\n",
    "\n",
    "import src.utils.gen_jobs as gen_jobs\n",
    "import src.utils.rolling_scheduling as rolling_schedule\n",
    "\n",
    "import time\n",
    "import pandas as pd\n",
    "pd.set_option('display.max_rows', 26)"
   ],
   "id": "e2b96afc58da5f85"
  },
  {
   "metadata": {},
   "cell_type": "code",
   "outputs": [],
   "execution_count": null,
   "source": [
    "import src.models.lp.flowtime_solver as solver\n",
    "from src.simulation.ProductionDaySimulation import ProductionDaySimulation"
   ],
   "id": "931e14b970e85e0f"
  },
  {
   "metadata": {},
   "cell_type": "code",
   "outputs": [],
   "execution_count": null,
   "source": "max_time = 60*60*3 # 3h",
   "id": "324c9316defa0862"
  },
  {
   "metadata": {},
   "cell_type": "markdown",
   "source": "## Laden der Initialisierungsdaten",
   "id": "5412baa527a59360"
  },
  {
   "metadata": {},
   "cell_type": "code",
   "outputs": [],
   "execution_count": null,
   "source": "data_path = get_path(\"data\", \"lp_flowtime\")\n",
   "id": "67342bdf6ab2224d"
  },
  {
   "metadata": {},
   "cell_type": "code",
   "outputs": [],
   "execution_count": null,
   "source": [
    "df_jssp = pd.read_csv(data_path / \"02_flowtime_all_jssp.csv\")\n",
    "df_times = pd.read_csv(data_path / \"02_flowtime_all_times.csv\")"
   ],
   "id": "a0ebb02c93f22054"
  },
  {
   "metadata": {},
   "cell_type": "markdown",
   "source": "### Tag 0 ",
   "id": "55d5d2d073fb86e0"
  },
  {
   "metadata": {},
   "cell_type": "code",
   "outputs": [],
   "execution_count": null,
   "source": [
    "df_plan = pd.read_csv(data_path / \"02_flowtime_init_plan.csv\")\n",
    "df_execution = pd.read_csv(data_path / \"02_flowtime_execution.csv\")\n",
    "df_undone = pd.read_csv(data_path / \"02_flowtime_init_undone.csv\")"
   ],
   "id": "286a2f178ea0e683"
  },
  {
   "metadata": {},
   "cell_type": "markdown",
   "source": "### Settings",
   "id": "6bd9b05fe8d7e442"
  },
  {
   "metadata": {},
   "cell_type": "code",
   "outputs": [],
   "execution_count": null,
   "source": [
    "def get_schedule_filename(prefix: str = \"\", day: int = 0, data_txt: str = \"schedule\", suffix: str = \"\") -> str:\n",
    "    file_template = \"{prefix}_{data}_{day:02d}{suffix}.csv\"\n",
    "    if suffix:\n",
    "        suffix = f\"_{suffix}\"\n",
    "    return data_path / file_template.format(prefix=prefix,data=data_txt,day=day, suffix=suffix)"
   ],
   "id": "ed31b592af7c4f9c"
  },
  {
   "metadata": {},
   "cell_type": "markdown",
   "source": "## Params",
   "id": "696b2ff4bd062052"
  },
  {
   "metadata": {},
   "cell_type": "code",
   "outputs": [],
   "execution_count": null,
   "source": [
    "# fix\n",
    "day_length = 1440\n",
    "horizon_days = 2\n",
    "\n",
    "notebook_prefix = \"3a\""
   ],
   "id": "460f0f12c9b85199"
  },
  {
   "metadata": {},
   "cell_type": "markdown",
   "source": [
    "#### Rescheduling für Tage 1-5\n",
    "- Tag 1: Ankunfttermine in [1, 2] + unabgeschlosse von Vortagen (evtl. Tag 0)\n",
    "- Tag 2: Ankunfttermine in [2, 3] + unabgeschlosse von Vortagen (evtl. Tag 0 \"oder\" Tag 1)\n",
    "- ...\n",
    "- Tag 5: Ankunfttermine in [5, 6] + unabgeschlosse von Vortagen"
   ],
   "id": "65864d39acffdc58"
  },
  {
   "metadata": {},
   "cell_type": "code",
   "outputs": [],
   "execution_count": null,
   "source": [
    "first_start = 1\n",
    "last_planning_start = 5"
   ],
   "id": "5f1eebe0aa3d5efa"
  },
  {
   "metadata": {},
   "cell_type": "code",
   "outputs": [],
   "execution_count": null,
   "source": [
    "for day_numb in range(first_start, last_planning_start + 1):\n",
    "    day_start = day_length * day_numb\n",
    "    day_end = day_start + day_length\n",
    "    planning_end = day_start + horizon_days * day_length\n",
    "\n",
    "    # ------------------- I. Ankunfts- und Operationsvorbereitung -------------------\n",
    "    df_jssp_curr, df_times_curr = rolling_schedule.filter_jobs_by_arrival_window(df_times, df_jssp, day_start, planning_end)\n",
    "    df_jssp_curr = rolling_schedule.extend_with_undone_operations(df_jssp_curr, df_undone)\n",
    "    df_times_curr = rolling_schedule.update_times_after_operation_changes(df_times, df_jssp_curr)\n",
    "\n",
    "    # ------------------- II. Relevante laufende Operationen -------------------------\n",
    "    df_execution_important = rolling_schedule.get_operations_running_into_day(df_execution, day_start)\n",
    "\n",
    "    # ------------------- III. Rescheduling durchführen -------------------------------\n",
    "\n",
    "    starting_time = time.time()\n",
    "    df_plan = solver.solve_jssp_individual_flowtime_with_fixed_ops(df_jssp_curr, df_times_curr, df_execution_important,\n",
    "                                                                   reschedule_start = day_start,\n",
    "                                                                   solver= \"HiGHS\", msg=False, timeLimit=max_time, gapRel= 0.05)\n",
    "    solver_duration = time.time() - starting_time\n",
    "    print(f\"\\n  Scheduling-Dauer: {int(solver_duration // 60)} Minuten und {(solver_duration % 60):.2f} Sekunden.\")\n",
    "\n",
    "    df_plan.to_csv(get_schedule_filename(notebook_prefix, day=day_numb), index=False)\n",
    "\n",
    "    show.plot_gantt_machines(df_plan, title=f\"Gantt-Diagramm ab Tag {day_numb}\")\n",
    "    check.check_constraints(df_plan)\n",
    "\n",
    "    # ------------------- IV. Einen Tag simulieren -------------------------------------\n",
    "\n",
    "    simulation = ProductionDaySimulation(df_plan, vc=0.25)\n",
    "    df_execution, df_undone = simulation.run(start_time=day_start, end_time=day_end)\n",
    "    if not df_execution.empty:\n",
    "        show.plot_gantt_machines(df_execution, title=f\"Gantt-Diagramm für Simulationstag {day_numb}\", duration_column=\"Simulated Processing Time\")\n",
    "    else:\n",
    "        print(f\"Nothing executed on day {day_numb}\")\n",
    "    \n"
   ],
   "id": "e28d9b539b63f602"
  }
 ],
 "metadata": {
  "kernelspec": {
   "display_name": "Python 3 (ipykernel)",
   "language": "python",
   "name": "python3"
  },
  "language_info": {
   "codemirror_mode": {
    "name": "ipython",
    "version": 3
   },
   "file_extension": ".py",
   "mimetype": "text/x-python",
   "name": "python",
   "nbconvert_exporter": "python",
   "pygments_lexer": "ipython3",
   "version": "3.13.2"
  }
 },
 "nbformat": 4,
 "nbformat_minor": 5
}
