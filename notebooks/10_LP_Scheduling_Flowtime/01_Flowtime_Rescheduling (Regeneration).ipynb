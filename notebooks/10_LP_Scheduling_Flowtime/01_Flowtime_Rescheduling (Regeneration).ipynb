{
 "cells": [
  {
   "metadata": {},
   "cell_type": "markdown",
   "source": [
    "# Rescheduling mit Flow Time\n",
    "> Planunghorizont Tag 0: 2 Tage\n",
    "> Rescheduling des Tages 1"
   ],
   "id": "8c770624c9963f6e"
  },
  {
   "metadata": {},
   "cell_type": "code",
   "outputs": [],
   "execution_count": null,
   "source": [
    "from configs.config import get_path\n",
    "import src.utils.converter as convert\n",
    "import src.utils.presenter as show\n",
    "import src.utils.checker as check\n",
    "\n",
    "import src.utils.gen_interarrival as gen_interarrival\n",
    "import src.utils.gen_jobs as gen_jobs\n",
    "\n",
    "import time\n",
    "import pandas as pd\n",
    "pd.set_option('display.max_rows', 26)"
   ],
   "id": "ecfa485af4d74c05"
  },
  {
   "metadata": {},
   "cell_type": "code",
   "outputs": [],
   "execution_count": null,
   "source": [
    "import src.models.lp.flowtime_solver as solver\n",
    "from src.simulation.ProductionDaySimulation import ProductionDaySimulation"
   ],
   "id": "334573c50ec1a9a6"
  },
  {
   "metadata": {},
   "cell_type": "code",
   "outputs": [],
   "execution_count": null,
   "source": "max_time = 60*60*1  # 1h",
   "id": "77b7372aa877abe2"
  },
  {
   "metadata": {},
   "cell_type": "code",
   "outputs": [],
   "execution_count": null,
   "source": [
    "#import utils.scheduling_solver as ssv\n",
    "#import utils.rescheduling_solver as rssv\n",
    "#from ProductionDaySimulation import ProductionDaySimulation"
   ],
   "id": "bb2ed826939da734"
  },
  {
   "metadata": {},
   "cell_type": "code",
   "outputs": [],
   "execution_count": null,
   "source": [
    "basic_data_path = get_path(\"data\", \"basic\")\n",
    "\n",
    "df_instance = pd.read_csv(basic_data_path / \"00_instance.csv\")\n",
    "df_instance"
   ],
   "id": "d93cf7c6bf8fa61f"
  },
  {
   "metadata": {},
   "cell_type": "markdown",
   "source": "### 1) Aufträge generieren",
   "id": "8f86176746a88487"
  },
  {
   "metadata": {},
   "cell_type": "code",
   "outputs": [],
   "execution_count": null,
   "source": [
    "df_jssp = gen_jobs.create_multiple_jobs(df_instance, repetitions = 4, shuffle = True)\n",
    "df_jssp"
   ],
   "id": "9669e88a49434f8d"
  },
  {
   "metadata": {},
   "cell_type": "markdown",
   "source": "### 2) Mittlere Interarrival-Zeit berechnen",
   "id": "d2c71b9719f86ce"
  },
  {
   "metadata": {},
   "cell_type": "code",
   "outputs": [],
   "execution_count": null,
   "source": [
    "t_a = gen_interarrival.calculate_mean_interarrival_time(df_jssp, u_b_mmax= 0.92)\n",
    "t_a"
   ],
   "id": "4856d690ce3b0bb7"
  },
  {
   "metadata": {},
   "cell_type": "markdown",
   "source": "### 3) Ankunftszeiten erzeugen",
   "id": "68a64f001b6c7aec"
  },
  {
   "metadata": {},
   "cell_type": "code",
   "outputs": [],
   "execution_count": null,
   "source": [
    "df_jobs_arrivals = gen_interarrival.generate_arrivals(df_jssp, mean_interarrival_time=t_a, start_time=0.0)\n",
    "df_jobs_arrivals"
   ],
   "id": "eb9b34daa34231b1"
  },
  {
   "metadata": {},
   "cell_type": "markdown",
   "source": "### 4) Nur Jobs behalten, deren Ankunft im Zeitfenster liegt",
   "id": "53d1094455a5ff6e"
  },
  {
   "metadata": {},
   "cell_type": "code",
   "outputs": [],
   "execution_count": null,
   "source": [
    "day_count = 1\n",
    "\n",
    "time_limit = 60 * 24 * day_count\n",
    "df_jobs_arrivals = df_jobs_arrivals[df_jobs_arrivals['Arrival'] < time_limit].reset_index(drop=True)\n",
    "df_jobs_arrivals"
   ],
   "id": "fd4512a20c542f6"
  },
  {
   "metadata": {},
   "cell_type": "code",
   "outputs": [],
   "execution_count": null,
   "source": [
    "valid_jobs = set(df_jobs_arrivals['Job'])\n",
    "df_jssp = df_jssp[df_jssp['Job'].isin(valid_jobs)].reset_index(drop=True)\n",
    "df_jssp"
   ],
   "id": "8bf2dfa42ea4160d"
  },
  {
   "metadata": {},
   "cell_type": "code",
   "outputs": [],
   "execution_count": null,
   "source": [
    "# df_jssp, df_jobs_arrivals = gen_jobs.create_jobs_for_days(df_instance, day_count = 1, u_b_mmax= 0.92, shuffle = True)\n",
    "# df_jobs_arrivals"
   ],
   "id": "e1b292560dd16b7f"
  },
  {
   "metadata": {},
   "cell_type": "markdown",
   "source": "## I) Complete Scheduling",
   "id": "255408fbc141438b"
  },
  {
   "metadata": {},
   "cell_type": "code",
   "outputs": [],
   "execution_count": null,
   "source": [
    "starting_time = time.time()\n",
    "\n",
    "# Scheduling\n",
    "df_plan = solver.solve_jssp_flowtime(df_jssp, df_jobs_arrivals, solver= \"HiGHS\", msg=False, timeLimit=max_time, gapRel= 0.10)\n",
    "df_plan\n",
    "\n",
    "# Informationen\n",
    "ending_time = time.time()\n",
    "solver_duration = ending_time - starting_time\n",
    "print(f\"\\nScheduling-Dauer: {int(solver_duration // 60)} Minuten und {(solver_duration % 60):.2f} Sekunden.\")\n",
    "df_plan"
   ],
   "id": "f30f0b4fa9c24d75"
  },
  {
   "metadata": {},
   "cell_type": "code",
   "outputs": [],
   "execution_count": null,
   "source": [
    "show.plot_gantt_machines(df_plan)\n",
    "\n",
    "check.is_machine_conflict_free(df_plan)\n",
    "check.is_operation_sequence_correct(df_plan)\n",
    "check.is_job_timing_correct(df_plan)\n",
    "check.is_start_correct(df_plan)"
   ],
   "id": "178e6d3828fe4cb2"
  },
  {
   "metadata": {},
   "cell_type": "markdown",
   "source": "## II) Erster Tag (Tag 0)",
   "id": "550a9a265517fa7d"
  },
  {
   "metadata": {},
   "cell_type": "markdown",
   "source": "### a) Simulation",
   "id": "53aa98f65158254d"
  },
  {
   "metadata": {},
   "cell_type": "code",
   "outputs": [],
   "execution_count": null,
   "source": "day_length = 1440",
   "id": "c959a21ff78b5a93"
  },
  {
   "metadata": {},
   "cell_type": "code",
   "outputs": [],
   "execution_count": null,
   "source": [
    "day_numb = 0\n",
    "\n",
    "day_start = day_length*day_numb \n",
    "day_end = day_start + day_length"
   ],
   "id": "277d5d22b43beb1a"
  },
  {
   "metadata": {},
   "cell_type": "code",
   "outputs": [],
   "execution_count": null,
   "source": [
    "simulation = ProductionDaySimulation(df_plan, vc=0.25)\n",
    "df_execution, df_undone = simulation.run(start_time = day_start, end_time=day_end)"
   ],
   "id": "70ca0080de7e3930"
  },
  {
   "metadata": {},
   "cell_type": "code",
   "outputs": [],
   "execution_count": null,
   "source": "df_undone",
   "id": "7576a006c96678ed"
  },
  {
   "metadata": {},
   "cell_type": "code",
   "outputs": [],
   "execution_count": null,
   "source": [
    "if not df_execution.empty:\n",
    "    show.plot_gantt_machines(df_execution, title=f\"Gantt-Diagramm ab Tag {day_numb}\", duration_column=\"Simulated Processing Time\")\n",
    "else:\n",
    "    print(f\"Nothing executed on day {day_numb}\")"
   ],
   "id": "72a2faa1bd7ff364"
  },
  {
   "metadata": {},
   "cell_type": "markdown",
   "source": "### b) Verbleibene Jobs (Rest)",
   "id": "9eee6274a9c5ca8f"
  },
  {
   "metadata": {},
   "cell_type": "code",
   "outputs": [],
   "execution_count": null,
   "source": [
    "df_rest = df_plan.merge(df_execution[[\"Job\", \"Machine\"]], on=[\"Job\", \"Machine\"], how=\"left\", indicator=True)\n",
    "df_rest = df_rest[df_rest[\"_merge\"] == \"left_only\"].drop(columns=[\"_merge\"])\n",
    "df_rest = df_rest.sort_values(by=[\"Arrival\", \"Start\"]).reset_index(drop=True)\n",
    "df_rest"
   ],
   "id": "19225670439c78ee"
  },
  {
   "metadata": {},
   "cell_type": "code",
   "outputs": [],
   "execution_count": null,
   "source": [
    "allowed = df_rest[\"Job\"].unique() \n",
    "df_time_rest = df_jobs_arrivals[df_jobs_arrivals[\"Job\"].isin(allowed)].copy()\n",
    "df_time_rest"
   ],
   "id": "492b4f1c20c170a6"
  },
  {
   "metadata": {},
   "cell_type": "markdown",
   "source": [
    "## III) Rescheduling\n",
    "> vereinfacht, ohne neu Aufträge (nur der Rest)"
   ],
   "id": "887ba0b10bb940eb"
  },
  {
   "metadata": {},
   "cell_type": "code",
   "outputs": [],
   "execution_count": null,
   "source": [
    "# Reduktion der bereits ausgeführten Operationen auf die relevanten für die nächsten Tage\n",
    "df_execution_important = df_execution[df_execution[\"End\"] >= 1440]\n",
    "df_execution_important"
   ],
   "id": "81a332f11fd89f6d"
  },
  {
   "metadata": {},
   "cell_type": "code",
   "outputs": [],
   "execution_count": null,
   "source": [
    "df_reschedule = solver.solve_jssp_individual_flowtime_with_fixed_ops(df_rest, df_time_rest, df_execution_important,\n",
    "                                                                   reschedule_start = 1440,\n",
    "                                                                   solver= \"HiGHS\", msg=False, timeLimit=max_time, gapRel= 0.10)\n",
    "df_reschedule"
   ],
   "id": "5db3193617aa3bc5"
  },
  {
   "metadata": {},
   "cell_type": "code",
   "outputs": [],
   "execution_count": null,
   "source": [
    "show.plot_gantt_machines(df_reschedule)\n",
    "check.is_machine_conflict_free(df_reschedule)\n",
    "check.is_operation_sequence_correct(df_reschedule)\n",
    "check.is_job_timing_correct(df_reschedule)\n",
    "check.is_start_correct(df_reschedule)"
   ],
   "id": "edd43f1824e75424"
  },
  {
   "metadata": {},
   "cell_type": "code",
   "outputs": [],
   "execution_count": null,
   "source": "",
   "id": "5d06c7c03a35d69c"
  }
 ],
 "metadata": {
  "kernelspec": {
   "display_name": "Python 3 (ipykernel)",
   "language": "python",
   "name": "python3"
  },
  "language_info": {
   "codemirror_mode": {
    "name": "ipython",
    "version": 3
   },
   "file_extension": ".py",
   "mimetype": "text/x-python",
   "name": "python",
   "nbconvert_exporter": "python",
   "pygments_lexer": "ipython3",
   "version": "3.13.2"
  }
 },
 "nbformat": 4,
 "nbformat_minor": 5
}
