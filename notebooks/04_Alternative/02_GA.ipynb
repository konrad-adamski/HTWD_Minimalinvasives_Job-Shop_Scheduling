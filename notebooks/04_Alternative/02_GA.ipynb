{
 "cells": [
  {
   "metadata": {
    "ExecuteTime": {
     "end_time": "2025-09-09T08:14:34.485900Z",
     "start_time": "2025-09-09T08:14:33.688957Z"
    }
   },
   "cell_type": "code",
   "source": [
    "from decimal import Decimal\n",
    "from src.domain.Query import JobQuery\n",
    "\n",
    "\n",
    "from src.Logger import Logger\n",
    "from src.domain.Collection import LiveJobCollection\n",
    "\n",
    "from src.solvers.GA_Solver import Solver\n",
    "\n",
    "from src.DataFrameAnalyses import DataFrameChecker\n",
    "\n",
    "logger = Logger()"
   ],
   "id": "8d24f03a5bddecb6",
   "outputs": [],
   "execution_count": 1
  },
  {
   "metadata": {
    "ExecuteTime": {
     "end_time": "2025-09-09T08:14:34.514374Z",
     "start_time": "2025-09-09T08:14:34.489138Z"
    }
   },
   "cell_type": "code",
   "source": [
    "# Jobs for 1 days (shifts)\n",
    "timespan = 60*24*1\n",
    "\n",
    "jobs = JobQuery.get_by_source_name_max_util_and_lt_arrival(\n",
    "    source_name=\"Fisher and Thompson 10x10\",\n",
    "    max_bottleneck_utilization = Decimal(\"0.90\"),\n",
    "    arrival_limit= timespan\n",
    ")\n",
    "#jobs = [job for job in all_jobs if job.earliest_start <=timespan]\n",
    "\n",
    "jobs_collection = LiveJobCollection(jobs)"
   ],
   "id": "f512e7189bf6743e",
   "outputs": [],
   "execution_count": 2
  },
  {
   "metadata": {
    "collapsed": true,
    "ExecuteTime": {
     "end_time": "2025-09-09T08:17:13.928733Z",
     "start_time": "2025-09-09T08:14:34.589508Z"
    }
   },
   "cell_type": "code",
   "source": [
    "solver = Solver(jobs_collection, logger)\n",
    "solver.solve_model(\n",
    "    objective=\"sum_tardiness\",\n",
    "    pop_size=200,\n",
    "    ngen=5000,\n",
    "    seed=42)\n",
    "\n",
    "schedule_jobs_collection = solver.get_schedule()\n",
    "info = solver.get_solver_info()\n",
    "\n",
    "print(\"Solver Info:\", info)"
   ],
   "id": "initial_id",
   "outputs": [
    {
     "name": "stdout",
     "output_type": "stream",
     "text": [
      "Solver Info: {'objective_value': 3435}\n"
     ]
    }
   ],
   "execution_count": 3
  },
  {
   "metadata": {
    "ExecuteTime": {
     "end_time": "2025-09-09T08:17:13.976196Z",
     "start_time": "2025-09-09T08:17:13.961701Z"
    }
   },
   "cell_type": "code",
   "source": [
    "df_schedule = schedule_jobs_collection.to_operations_dataframe()\n",
    "df_schedule"
   ],
   "id": "402db815887e6f6c",
   "outputs": [
    {
     "data": {
      "text/plain": [
       "               Job Routing_ID  Operation Machine  Start  Processing Time  \\\n",
       "0    01-09000-0002      01-01          0     M00   1440               43   \n",
       "1    01-09000-0002      01-01          1     M02   1831               90   \n",
       "2    01-09000-0002      01-01          2     M04   1974               75   \n",
       "3    01-09000-0002      01-01          3     M09   2182               11   \n",
       "4    01-09000-0002      01-01          4     M03   2196               69   \n",
       "..             ...        ...        ...     ...    ...              ...   \n",
       "165  01-09000-0011      01-02          5     M05   2892               10   \n",
       "166  01-09000-0011      01-02          6     M07   3256               12   \n",
       "167  01-09000-0011      01-02          7     M06   3268               89   \n",
       "168  01-09000-0011      01-02          8     M09   3357               45   \n",
       "169  01-09000-0011      01-02          9     M04   3402               33   \n",
       "\n",
       "      End  Arrival  Ready Time  Due Date  \n",
       "0    1483      118        1440      3354  \n",
       "1    1921      118        1440      3354  \n",
       "2    2049      118        1440      3354  \n",
       "3    2193      118        1440      3354  \n",
       "4    2265      118        1440      3354  \n",
       "..    ...      ...         ...       ...  \n",
       "165  2902      951        1440      3940  \n",
       "166  3268      951        1440      3940  \n",
       "167  3357      951        1440      3940  \n",
       "168  3402      951        1440      3940  \n",
       "169  3435      951        1440      3940  \n",
       "\n",
       "[170 rows x 10 columns]"
      ],
      "text/html": [
       "<div>\n",
       "<style scoped>\n",
       "    .dataframe tbody tr th:only-of-type {\n",
       "        vertical-align: middle;\n",
       "    }\n",
       "\n",
       "    .dataframe tbody tr th {\n",
       "        vertical-align: top;\n",
       "    }\n",
       "\n",
       "    .dataframe thead th {\n",
       "        text-align: right;\n",
       "    }\n",
       "</style>\n",
       "<table border=\"1\" class=\"dataframe\">\n",
       "  <thead>\n",
       "    <tr style=\"text-align: right;\">\n",
       "      <th></th>\n",
       "      <th>Job</th>\n",
       "      <th>Routing_ID</th>\n",
       "      <th>Operation</th>\n",
       "      <th>Machine</th>\n",
       "      <th>Start</th>\n",
       "      <th>Processing Time</th>\n",
       "      <th>End</th>\n",
       "      <th>Arrival</th>\n",
       "      <th>Ready Time</th>\n",
       "      <th>Due Date</th>\n",
       "    </tr>\n",
       "  </thead>\n",
       "  <tbody>\n",
       "    <tr>\n",
       "      <th>0</th>\n",
       "      <td>01-09000-0002</td>\n",
       "      <td>01-01</td>\n",
       "      <td>0</td>\n",
       "      <td>M00</td>\n",
       "      <td>1440</td>\n",
       "      <td>43</td>\n",
       "      <td>1483</td>\n",
       "      <td>118</td>\n",
       "      <td>1440</td>\n",
       "      <td>3354</td>\n",
       "    </tr>\n",
       "    <tr>\n",
       "      <th>1</th>\n",
       "      <td>01-09000-0002</td>\n",
       "      <td>01-01</td>\n",
       "      <td>1</td>\n",
       "      <td>M02</td>\n",
       "      <td>1831</td>\n",
       "      <td>90</td>\n",
       "      <td>1921</td>\n",
       "      <td>118</td>\n",
       "      <td>1440</td>\n",
       "      <td>3354</td>\n",
       "    </tr>\n",
       "    <tr>\n",
       "      <th>2</th>\n",
       "      <td>01-09000-0002</td>\n",
       "      <td>01-01</td>\n",
       "      <td>2</td>\n",
       "      <td>M04</td>\n",
       "      <td>1974</td>\n",
       "      <td>75</td>\n",
       "      <td>2049</td>\n",
       "      <td>118</td>\n",
       "      <td>1440</td>\n",
       "      <td>3354</td>\n",
       "    </tr>\n",
       "    <tr>\n",
       "      <th>3</th>\n",
       "      <td>01-09000-0002</td>\n",
       "      <td>01-01</td>\n",
       "      <td>3</td>\n",
       "      <td>M09</td>\n",
       "      <td>2182</td>\n",
       "      <td>11</td>\n",
       "      <td>2193</td>\n",
       "      <td>118</td>\n",
       "      <td>1440</td>\n",
       "      <td>3354</td>\n",
       "    </tr>\n",
       "    <tr>\n",
       "      <th>4</th>\n",
       "      <td>01-09000-0002</td>\n",
       "      <td>01-01</td>\n",
       "      <td>4</td>\n",
       "      <td>M03</td>\n",
       "      <td>2196</td>\n",
       "      <td>69</td>\n",
       "      <td>2265</td>\n",
       "      <td>118</td>\n",
       "      <td>1440</td>\n",
       "      <td>3354</td>\n",
       "    </tr>\n",
       "    <tr>\n",
       "      <th>...</th>\n",
       "      <td>...</td>\n",
       "      <td>...</td>\n",
       "      <td>...</td>\n",
       "      <td>...</td>\n",
       "      <td>...</td>\n",
       "      <td>...</td>\n",
       "      <td>...</td>\n",
       "      <td>...</td>\n",
       "      <td>...</td>\n",
       "      <td>...</td>\n",
       "    </tr>\n",
       "    <tr>\n",
       "      <th>165</th>\n",
       "      <td>01-09000-0011</td>\n",
       "      <td>01-02</td>\n",
       "      <td>5</td>\n",
       "      <td>M05</td>\n",
       "      <td>2892</td>\n",
       "      <td>10</td>\n",
       "      <td>2902</td>\n",
       "      <td>951</td>\n",
       "      <td>1440</td>\n",
       "      <td>3940</td>\n",
       "    </tr>\n",
       "    <tr>\n",
       "      <th>166</th>\n",
       "      <td>01-09000-0011</td>\n",
       "      <td>01-02</td>\n",
       "      <td>6</td>\n",
       "      <td>M07</td>\n",
       "      <td>3256</td>\n",
       "      <td>12</td>\n",
       "      <td>3268</td>\n",
       "      <td>951</td>\n",
       "      <td>1440</td>\n",
       "      <td>3940</td>\n",
       "    </tr>\n",
       "    <tr>\n",
       "      <th>167</th>\n",
       "      <td>01-09000-0011</td>\n",
       "      <td>01-02</td>\n",
       "      <td>7</td>\n",
       "      <td>M06</td>\n",
       "      <td>3268</td>\n",
       "      <td>89</td>\n",
       "      <td>3357</td>\n",
       "      <td>951</td>\n",
       "      <td>1440</td>\n",
       "      <td>3940</td>\n",
       "    </tr>\n",
       "    <tr>\n",
       "      <th>168</th>\n",
       "      <td>01-09000-0011</td>\n",
       "      <td>01-02</td>\n",
       "      <td>8</td>\n",
       "      <td>M09</td>\n",
       "      <td>3357</td>\n",
       "      <td>45</td>\n",
       "      <td>3402</td>\n",
       "      <td>951</td>\n",
       "      <td>1440</td>\n",
       "      <td>3940</td>\n",
       "    </tr>\n",
       "    <tr>\n",
       "      <th>169</th>\n",
       "      <td>01-09000-0011</td>\n",
       "      <td>01-02</td>\n",
       "      <td>9</td>\n",
       "      <td>M04</td>\n",
       "      <td>3402</td>\n",
       "      <td>33</td>\n",
       "      <td>3435</td>\n",
       "      <td>951</td>\n",
       "      <td>1440</td>\n",
       "      <td>3940</td>\n",
       "    </tr>\n",
       "  </tbody>\n",
       "</table>\n",
       "<p>170 rows × 10 columns</p>\n",
       "</div>"
      ]
     },
     "execution_count": 4,
     "metadata": {},
     "output_type": "execute_result"
    }
   ],
   "execution_count": 4
  },
  {
   "metadata": {
    "ExecuteTime": {
     "end_time": "2025-09-09T08:17:14.061425Z",
     "start_time": "2025-09-09T08:17:14.027197Z"
    }
   },
   "cell_type": "code",
   "source": [
    "DataFrameChecker.check_core_schedule_constraints(df_schedule)\n",
    "DataFrameChecker.is_duration_correct(df_schedule)"
   ],
   "id": "818cf50c03fd5f7f",
   "outputs": [
    {
     "name": "stdout",
     "output_type": "stream",
     "text": [
      "+ No machine conflicts found.\n",
      "+ All job operations are scheduled in non-overlapping, correct sequence.\n",
      "+ All operations start at or after the earliest allowed time.\n",
      "+ All durations match the difference between start and end.\n"
     ]
    },
    {
     "data": {
      "text/plain": [
       "True"
      ]
     },
     "execution_count": 5,
     "metadata": {},
     "output_type": "execute_result"
    }
   ],
   "execution_count": 5
  },
  {
   "metadata": {
    "ExecuteTime": {
     "end_time": "2025-09-09T08:17:14.105182Z",
     "start_time": "2025-09-09T08:17:14.092329Z"
    }
   },
   "cell_type": "code",
   "source": [
    "from src.DataFrameAnalyses import DataFrameMetricsAnalyser\n",
    "\n",
    "df_jobs_metrics = schedule_jobs_collection.to_jobs_metrics_dataframe()\n",
    "DataFrameMetricsAnalyser.get_jobs_metrics_aggregated(df_jobs_metrics, column=\"Tardiness\")"
   ],
   "id": "32122acf374d0a38",
   "outputs": [
    {
     "data": {
      "text/plain": [
       "Tardiness_Interval   0  0 - 60  60 - 120  >120\n",
       "count               17       0         0     0"
      ],
      "text/html": [
       "<div>\n",
       "<style scoped>\n",
       "    .dataframe tbody tr th:only-of-type {\n",
       "        vertical-align: middle;\n",
       "    }\n",
       "\n",
       "    .dataframe tbody tr th {\n",
       "        vertical-align: top;\n",
       "    }\n",
       "\n",
       "    .dataframe thead th {\n",
       "        text-align: right;\n",
       "    }\n",
       "</style>\n",
       "<table border=\"1\" class=\"dataframe\">\n",
       "  <thead>\n",
       "    <tr style=\"text-align: right;\">\n",
       "      <th>Tardiness_Interval</th>\n",
       "      <th>0</th>\n",
       "      <th>0 - 60</th>\n",
       "      <th>60 - 120</th>\n",
       "      <th>&gt;120</th>\n",
       "    </tr>\n",
       "  </thead>\n",
       "  <tbody>\n",
       "    <tr>\n",
       "      <th>count</th>\n",
       "      <td>17</td>\n",
       "      <td>0</td>\n",
       "      <td>0</td>\n",
       "      <td>0</td>\n",
       "    </tr>\n",
       "  </tbody>\n",
       "</table>\n",
       "</div>"
      ]
     },
     "execution_count": 6,
     "metadata": {},
     "output_type": "execute_result"
    }
   ],
   "execution_count": 6
  }
 ],
 "metadata": {
  "kernelspec": {
   "display_name": "Python 3",
   "language": "python",
   "name": "python3"
  },
  "language_info": {
   "codemirror_mode": {
    "name": "ipython",
    "version": 2
   },
   "file_extension": ".py",
   "mimetype": "text/x-python",
   "name": "python",
   "nbconvert_exporter": "python",
   "pygments_lexer": "ipython2",
   "version": "2.7.6"
  }
 },
 "nbformat": 4,
 "nbformat_minor": 5
}
