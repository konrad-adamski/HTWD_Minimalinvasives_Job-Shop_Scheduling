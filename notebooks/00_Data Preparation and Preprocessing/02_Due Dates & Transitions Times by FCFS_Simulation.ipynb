{
 "cells": [
  {
   "cell_type": "code",
   "id": "3d4164fcc4bd2082",
   "metadata": {},
   "source": [
    "import pandas as pd\n",
    "import matplotlib.pyplot as plt\n",
    "\n",
    "# DataFrame analyses\n",
    "from src.DataFrameAnalyses import DataFramePlotGenerator\n",
    "\n",
    "# Simulation\n",
    "from src.simulation.ProductionSimulation import ProductionSimulation\n",
    "\n",
    "pd.set_option('display.min_rows', 21)\n",
    "pd.set_option('display.max_rows', 25)\n"
   ],
   "outputs": [],
   "execution_count": null
  },
  {
   "cell_type": "code",
   "id": "e651076f8d9a5191",
   "metadata": {},
   "source": [
    "from decimal import Decimal\n",
    "from src.domain.Collection import LiveJobCollection\n",
    "from src.domain.Query import JobQuery\n",
    "from src.DataFrameEnrichment import DataFrameEnrichment"
   ],
   "outputs": [],
   "execution_count": null
  },
  {
   "cell_type": "code",
   "id": "70c90c80f71e6456",
   "metadata": {},
   "source": [
    "source_name= \"Fisher and Thompson 10x10\"\n",
    "max_bottleneck_utilization=Decimal(\"0.85\")"
   ],
   "outputs": [],
   "execution_count": null
  },
  {
   "cell_type": "markdown",
   "id": "f5d47929e35281cb",
   "metadata": {},
   "source": "# I. Due Dates"
  },
  {
   "cell_type": "code",
   "id": "6c88e0512bf89340",
   "metadata": {},
   "source": [
    "jobs = JobQuery.get_by_source_name_and_max_bottleneck_utilization(\n",
    "    source_name=source_name,\n",
    "    max_bottleneck_utilization=max_bottleneck_utilization\n",
    ")\n",
    "\n",
    "# Collection with jobs\n",
    "jobs_collection = LiveJobCollection(jobs)\n",
    "jobs_collection.to_jobs_dataframe()"
   ],
   "outputs": [],
   "execution_count": null
  },
  {
   "cell_type": "markdown",
   "id": "a9d68bca39044d39",
   "metadata": {},
   "source": [
    "## A) Simulation"
   ]
  },
  {
   "metadata": {},
   "cell_type": "code",
   "source": [
    "for job in jobs_collection.values():\n",
    "    for operation in job.operations:\n",
    "        operation.sim_duration = operation.duration"
   ],
   "id": "2e66abb639c8cbf8",
   "outputs": [],
   "execution_count": null
  },
  {
   "metadata": {},
   "cell_type": "code",
   "source": [
    "simulation = ProductionSimulation(verbose = False, with_earliest_start=True)\n",
    "simulation.run(jobs_collection, start_time = 0, end_time = None)"
   ],
   "id": "aa56409973ee8679",
   "outputs": [],
   "execution_count": null
  },
  {
   "cell_type": "code",
   "id": "f287b902d5aeeefe",
   "metadata": {},
   "source": [
    "finished_operations = simulation.get_finished_operation_collection()\n",
    "df_fcfs = finished_operations.to_operations_dataframe()\n",
    "df_fcfs\n"
   ],
   "outputs": [],
   "execution_count": null
  },
  {
   "cell_type": "code",
   "id": "50a8841bba5f461f",
   "metadata": {},
   "source": [
    "df_jobs_times_temp = finished_operations.to_jobs_metrics_dataframe()\n",
    "df_jobs_times_temp\n"
   ],
   "outputs": [],
   "execution_count": null
  },
  {
   "metadata": {},
   "cell_type": "code",
   "source": [
    "fig = DataFramePlotGenerator.get_elapsed_time_density_plot_figure_side_by_side(\n",
    "    df_jobs_times_temp,\n",
    "    routing_filter=[\"01-01\", \"01-05\"],\n",
    "    x_max=5000\n",
    ")\n",
    "output_path = \"elapsed_time_density.pdf\"\n",
    "fig.savefig(output_path, format=\"pdf\", bbox_inches=\"tight\")\n",
    "plt.show()\n",
    "\n",
    "\n"
   ],
   "id": "7956bc79e7911b0d",
   "outputs": [],
   "execution_count": null
  },
  {
   "cell_type": "markdown",
   "id": "82ba1de9c50c7709",
   "metadata": {},
   "source": [
    "## B) Generation of deadlines using log-normal distribution"
   ]
  },
  {
   "cell_type": "code",
   "id": "3ca1d5ad7e3b858",
   "metadata": {},
   "source": [
    "df_jobs_times = DataFrameEnrichment.add_groupwise_lognormal_due_dates_by_group_mean(df_jobs_times_temp, sigma=0.25)\n",
    "df_jobs_times"
   ],
   "outputs": [],
   "execution_count": null
  },
  {
   "cell_type": "markdown",
   "id": "cb22c3581dc1ff6a",
   "metadata": {},
   "source": [
    "####  Plot of the new deadlines"
   ]
  },
  {
   "metadata": {},
   "cell_type": "code",
   "source": [
    "fig = DataFramePlotGenerator.get_scheduling_window_density_plot_figure_side_by_side(\n",
    "    df_jobs_times,\n",
    "    routing_filter=[\"01-01\", \"01-05\"], x_max=5000\n",
    ")\n",
    "\n",
    "output_path = \"scheduling_window_density.pdf\"\n",
    "fig.savefig(output_path, format=\"pdf\", bbox_inches=\"tight\")\n",
    "\n",
    "plt.show()"
   ],
   "id": "ea8e0bf8d519e8cd",
   "outputs": [],
   "execution_count": null
  },
  {
   "cell_type": "markdown",
   "id": "38e4c6e21099e402",
   "metadata": {},
   "source": [
    "#### Ensuring that the processing time is achievable to a certain extent in the best-case scenario"
   ]
  },
  {
   "cell_type": "code",
   "id": "a186cc88732448cd",
   "metadata": {},
   "source": [
    "# min. 100 % of processing time for each job is covered in best-case\n",
    "df_jobs_times_final = DataFrameEnrichment.ensure_reasonable_due_dates(df_jobs_times, min_coverage = 1.0)\n",
    "\n",
    "diff_count = (df_jobs_times_final[\"Due Date\"] > df_jobs_times[\"Due Date\"]).sum()\n",
    "\n",
    "# Info: Compare the \"Due Date\" column\n",
    "print(f\"Number of different entries in 'Due Date': {diff_count}\")\n",
    "\n",
    "df_jobs_times_final"
   ],
   "outputs": [],
   "execution_count": null
  },
  {
   "cell_type": "markdown",
   "id": "9c7ad0bf542c64b8",
   "metadata": {},
   "source": [
    "# II. Transition Times"
   ]
  },
  {
   "cell_type": "code",
   "id": "a90510d9-c4ee-4ca2-b7fc-c9b108834695",
   "metadata": {},
   "source": [
    "df_fcfs"
   ],
   "outputs": [],
   "execution_count": null
  },
  {
   "cell_type": "code",
   "id": "0e57daff-e597-4194-bf2e-b6c736578b1a",
   "metadata": {},
   "source": [
    "# noinspection PyProtectedMember\n",
    "df_transition_times = DataFrameEnrichment._compute_transition_times_per_job_operation_backward(df_fcfs)\n",
    "df_transition_times"
   ],
   "outputs": [],
   "execution_count": null
  },
  {
   "metadata": {},
   "cell_type": "code",
   "source": [
    "df_avg_transition_times = DataFrameEnrichment.compute_avg_transition_times_per_machine_backward(df_fcfs)\n",
    "df_avg_transition_times"
   ],
   "id": "802455ce0594dff",
   "outputs": [],
   "execution_count": null
  },
  {
   "metadata": {},
   "cell_type": "code",
   "source": "",
   "id": "7bef14252fe2d386",
   "outputs": [],
   "execution_count": null
  },
  {
   "metadata": {},
   "cell_type": "code",
   "source": [
    "transitions_df = finished_operations.to_transition_time_dataframe()\n",
    "transitions_df"
   ],
   "id": "bcd683221a2bb94d",
   "outputs": [],
   "execution_count": null
  },
  {
   "metadata": {},
   "cell_type": "code",
   "source": [
    "waiting_df = finished_operations.to_waiting_time_dataframe()\n",
    "waiting_df"
   ],
   "id": "868d04f976dc99e8",
   "outputs": [],
   "execution_count": null
  },
  {
   "metadata": {},
   "cell_type": "code",
   "source": [
    "DataFrameEnrichment.aggregate_mean_per_group(\n",
    "    transitions_df,\n",
    "    group_column = \"Machine\",\n",
    "    value_column = \"Transition Time\",\n",
    "    new_column_name = \"Ø Transition Time\",\n",
    ")"
   ],
   "id": "4ca92d96a966d49a",
   "outputs": [],
   "execution_count": null
  },
  {
   "metadata": {},
   "cell_type": "code",
   "source": [
    "DataFrameEnrichment.aggregate_mean_per_group(\n",
    "    waiting_df,\n",
    "    group_column = \"Machine\",\n",
    "    value_column = \"Waiting Time\",\n",
    "    new_column_name = \"Ø Waiting Time\",\n",
    ")"
   ],
   "id": "6346eebe1e78a153",
   "outputs": [],
   "execution_count": null
  }
 ],
 "metadata": {
  "kernelspec": {
   "display_name": "Python 3 (ipykernel)",
   "language": "python",
   "name": "python3"
  },
  "language_info": {
   "codemirror_mode": {
    "name": "ipython",
    "version": 3
   },
   "file_extension": ".py",
   "mimetype": "text/x-python",
   "name": "python",
   "nbconvert_exporter": "python",
   "pygments_lexer": "ipython3",
   "version": "3.13.2"
  }
 },
 "nbformat": 4,
 "nbformat_minor": 5
}
