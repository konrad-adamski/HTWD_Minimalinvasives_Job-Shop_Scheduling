{
 "cells": [
  {
   "cell_type": "markdown",
   "id": "a0f2ba610e97e240",
   "metadata": {},
   "source": [
    "# Data Preparation"
   ]
  },
  {
   "cell_type": "code",
   "id": "f51ef995b478e9c0",
   "metadata": {
    "ExecuteTime": {
     "end_time": "2025-07-29T05:14:56.723485Z",
     "start_time": "2025-07-29T05:14:56.540109Z"
    }
   },
   "source": [
    "import json\n",
    "\n",
    "# utils\n",
    "from src.utils.converter import *\n",
    "\n",
    "# data access\n",
    "from configs.path_manager import get_path"
   ],
   "outputs": [],
   "execution_count": 1
  },
  {
   "cell_type": "markdown",
   "id": "bc30371f2ab1a45a",
   "metadata": {},
   "source": "## I. Data Import"
  },
  {
   "cell_type": "code",
   "id": "dd5bfcd2-c77c-45c2-a9a5-51e6ab68dd5b",
   "metadata": {
    "ExecuteTime": {
     "end_time": "2025-07-29T05:14:56.729421Z",
     "start_time": "2025-07-29T05:14:56.727642Z"
    }
   },
   "source": [
    "basic_data_path = get_path(\"data\", \"basic\")"
   ],
   "outputs": [],
   "execution_count": 2
  },
  {
   "cell_type": "code",
   "id": "9ddc890411927d0e",
   "metadata": {
    "ExecuteTime": {
     "end_time": "2025-07-29T05:14:56.811442Z",
     "start_time": "2025-07-29T05:14:56.806469Z"
    }
   },
   "source": [
    "file_path = basic_data_path / \"jobshop.txt\"\n",
    "\n",
    "# read file\n",
    "file = open(file_path, encoding=\"utf-8\")\n",
    "content = file.read()\n",
    "file.close()\n",
    "\n",
    "# Output for control purposes (first 100 lines)\n",
    "print(\"\\n\".join(content.split(\"\\n\")[:100]))"
   ],
   "outputs": [
    {
     "name": "stdout",
     "output_type": "stream",
     "text": [
      "This file contains a set of 82 JSP test instances.\n",
      "\n",
      "These instances are contributed to the OR-Library by\n",
      "Dirk C. Mattfeld (email dirk@uni-bremen.de) and \n",
      "Rob J.M. Vaessens (email robv@win.tue.nl).\n",
      " \n",
      "o abz5-abz9 are from\n",
      "   J. Adams, E. Balas and D. Zawack (1988),\n",
      "   The shifting bottleneck procedure for job shop scheduling,\n",
      "   Management Science 34, 391-401.\n",
      "o ft06, ft10, and ft20 are from \n",
      "   H. Fisher, G.L. Thompson (1963), \n",
      "   Probabilistic learning combinations of local job-shop scheduling rules, \n",
      "     J.F. Muth, G.L. Thompson (eds.), \n",
      "     Industrial Scheduling, \n",
      "     Prentice Hall, Englewood Cliffs, New Jersey, \n",
      "   225-251.\n",
      "o la01-la40 are from \n",
      "   S. Lawrence (1984),\n",
      "   Resource constrained project scheduling: an experimental investigation of \n",
      "     heuristic scheduling techniques (Supplement), \n",
      "   Graduate School of Industrial Administration,\n",
      "   Carnegie-Mellon University, Pittsburgh, Pennsylvania.\n",
      "o orb01-orb10 are from \n",
      "   D. Applegate, W. Cook (1991),\n",
      "   A computational study of the job-shop scheduling instance,\n",
      "   ORSA Journal on Computing 3, 149-156. \n",
      "   (they were generated in Bonn in 1986)\n",
      "o swv01-swv20 are from \n",
      "   R.H. Storer, S.D. Wu, R. Vaccari (1992),\n",
      "   New search spaces for sequencing instances with application to job shop \n",
      "     scheduling, \n",
      "   Management Science 38, 1495-1509.\n",
      "o yn1-yn4 are from \n",
      "   T. Yamada, R. Nakano (1992),\n",
      "   A genetic algorithm applicable to large-scale job-shop instances,\n",
      "     R. Manner, B. Manderick (eds.),\n",
      "     Parallel instance solving from nature 2,\n",
      "     North-Holland, Amsterdam, \n",
      "   281-290.\n",
      "\n",
      "\n",
      "++++++++++++++++++++++++++++++++++++++++++++++++++++++++++++++++++++++++++\n",
      "\n",
      "Each instance consists of a line of description, a line containing the \n",
      "number of jobs and the number of machines, and then one line for each job,\n",
      "listing the machine number and processing time for each step of the job. \n",
      "The machines are numbered starting with 0.\n",
      " \n",
      "\n",
      " +++++++++++++++++++++++++++++\n",
      " \n",
      " instance abz5\n",
      " \n",
      " +++++++++++++++++++++++++++++\n",
      " Adams, Balas, and Zawack 10x10 instance (Table 1, instance 5)\n",
      " 10 10\n",
      " 4 88 8 68 6 94 5 99 1 67 2 89 9 77 7 99 0 86 3 92\n",
      " 5 72 3 50 6 69 4 75 2 94 8 66 0 92 1 82 7 94 9 63\n",
      " 9 83 8 61 0 83 1 65 6 64 5 85 7 78 4 85 2 55 3 77\n",
      " 7 94 2 68 1 61 4 99 3 54 6 75 5 66 0 76 9 63 8 67\n",
      " 3 69 4 88 9 82 8 95 0 99 2 67 6 95 5 68 7 67 1 86\n",
      " 1 99 4 81 5 64 6 66 8 80 2 80 7 69 9 62 3 79 0 88\n",
      " 7 50 1 86 4 97 3 96 0 95 8 97 2 66 5 99 6 52 9 71\n",
      " 4 98 6 73 3 82 2 51 1 71 5 94 7 85 0 62 8 95 9 79\n",
      " 0 94 6 71 3 81 7 85 1 66 2 90 4 76 5 58 8 93 9 97\n",
      " 3 50 0 59 1 82 8 67 7 56 9 96 6 58 4 81 5 59 2 96\n",
      " +++++++++++++++++++++++++++++\n",
      " \n",
      " instance abz6\n",
      " \n",
      " +++++++++++++++++++++++++++++\n",
      " Adams, and Zawack 10x10 instance (Table 1, instance 6)\n",
      " 10 10\n",
      " 7 62 8 24 5 25 3 84 4 47 6 38 2 82 0 93 9 24 1 66\n",
      " 5 47 2 97 8 92 9 22 1 93 4 29 7 56 3 80 0 78 6 67\n",
      " 1 45 7 46 6 22 2 26 9 38 0 69 4 40 3 33 8 75 5 96\n",
      " 4 85 8 76 5 68 9 88 3 36 6 75 2 56 1 35 0 77 7 85\n",
      " 8 60 9 20 7 25 3 63 4 81 0 52 1 30 5 98 6 54 2 86\n",
      " 3 87 9 73 5 51 2 95 4 65 1 86 6 22 8 58 0 80 7 65\n",
      " 5 81 2 53 7 57 6 71 9 81 0 43 4 26 8 54 3 58 1 69\n",
      " 4 20 6 86 5 21 8 79 9 62 2 34 0 27 1 81 7 30 3 46\n",
      " 9 68 6 66 5 98 8 86 7 66 0 56 3 82 1 95 4 47 2 78\n",
      " 0 30 3 50 7 34 2 58 1 77 5 34 8 84 4 40 9 46 6 44\n",
      " +++++++++++++++++++++++++++++\n",
      " \n",
      " instance abz7\n",
      " \n",
      " +++++++++++++++++++++++++++++\n",
      " Adams, Balas, and Zawack 15 x 20 instance (Table 1, instance 7)\n",
      " 20 15\n",
      "  2 24  3 12  9 17  4 27  0 21  6 25  8 27  7 26  1 30  5 31 11 18 14 16 13 39 10 19 12 26\n",
      "  6 30  3 15 12 20 11 19  1 24 13 15 10 28  2 36  5 26  7 15  0 11  8 23 14 20  9 26  4 28\n",
      "  6 35  0 22 13 23  7 32  2 20  3 12 12 19 10 23  9 17  1 14  5 16 11 29  8 16  4 22 14 22\n",
      "  9 20  6 29  1 19  7 14 12 33  4 30  0 32  5 21 11 29 10 24 14 25  2 29  3 13  8 20 13 18\n",
      " 11 23 13 20  1 28  6 32  7 16  5 18  8 24  9 23  3 24 10 34  2 24  0 24 14 28 12 15  4 18\n",
      "  8 24 11 19 14 21  1 33  7 34  6 35  5 40 10 36  3 23  2 26  4 15  9 28 13 38 12 13  0 25\n",
      " 13 27  3 30  6 21  8 19 12 12  4 27  2 39  9 13 14 12  5 36 10 21 11 17  1 29  0 17  7 33\n",
      "  5 27  4 19  6 29  9 20  3 21 10 40  8 14 14 39 13 39  2 27  1 36 12 12 11 37  7 22  0 13\n",
      " 13 32 11 29  8 24  3 27  5 40  4 21  9 26  0 27 14 27  6 16  2 21 10 13  7 28 12 28  1 32\n"
     ]
    }
   ],
   "execution_count": 3
  },
  {
   "metadata": {},
   "cell_type": "markdown",
   "source": "## II. Exclusion of the initial text",
   "id": "8dbb7aa6a7e6c742"
  },
  {
   "cell_type": "code",
   "id": "2e1c7bbc5429247d",
   "metadata": {
    "ExecuteTime": {
     "end_time": "2025-07-29T05:14:56.820327Z",
     "start_time": "2025-07-29T05:14:56.816369Z"
    }
   },
   "source": [
    "content_without_introduction = exclude_initial_text(content)\n",
    "\n",
    "# example (first three instances with corresponding matrices)\n",
    "print(\"\\n\".join(re.split(r\"\\n.*\\+{3,}.*\\n\", content_without_introduction)[:6]))"
   ],
   "outputs": [
    {
     "name": "stdout",
     "output_type": "stream",
     "text": [
      " \n",
      " instance abz5\n",
      " \n",
      " Adams, Balas, and Zawack 10x10 instance (Table 1, instance 5)\n",
      " 10 10\n",
      " 4 88 8 68 6 94 5 99 1 67 2 89 9 77 7 99 0 86 3 92\n",
      " 5 72 3 50 6 69 4 75 2 94 8 66 0 92 1 82 7 94 9 63\n",
      " 9 83 8 61 0 83 1 65 6 64 5 85 7 78 4 85 2 55 3 77\n",
      " 7 94 2 68 1 61 4 99 3 54 6 75 5 66 0 76 9 63 8 67\n",
      " 3 69 4 88 9 82 8 95 0 99 2 67 6 95 5 68 7 67 1 86\n",
      " 1 99 4 81 5 64 6 66 8 80 2 80 7 69 9 62 3 79 0 88\n",
      " 7 50 1 86 4 97 3 96 0 95 8 97 2 66 5 99 6 52 9 71\n",
      " 4 98 6 73 3 82 2 51 1 71 5 94 7 85 0 62 8 95 9 79\n",
      " 0 94 6 71 3 81 7 85 1 66 2 90 4 76 5 58 8 93 9 97\n",
      " 3 50 0 59 1 82 8 67 7 56 9 96 6 58 4 81 5 59 2 96\n",
      " \n",
      " instance abz6\n",
      " \n",
      " Adams, and Zawack 10x10 instance (Table 1, instance 6)\n",
      " 10 10\n",
      " 7 62 8 24 5 25 3 84 4 47 6 38 2 82 0 93 9 24 1 66\n",
      " 5 47 2 97 8 92 9 22 1 93 4 29 7 56 3 80 0 78 6 67\n",
      " 1 45 7 46 6 22 2 26 9 38 0 69 4 40 3 33 8 75 5 96\n",
      " 4 85 8 76 5 68 9 88 3 36 6 75 2 56 1 35 0 77 7 85\n",
      " 8 60 9 20 7 25 3 63 4 81 0 52 1 30 5 98 6 54 2 86\n",
      " 3 87 9 73 5 51 2 95 4 65 1 86 6 22 8 58 0 80 7 65\n",
      " 5 81 2 53 7 57 6 71 9 81 0 43 4 26 8 54 3 58 1 69\n",
      " 4 20 6 86 5 21 8 79 9 62 2 34 0 27 1 81 7 30 3 46\n",
      " 9 68 6 66 5 98 8 86 7 66 0 56 3 82 1 95 4 47 2 78\n",
      " 0 30 3 50 7 34 2 58 1 77 5 34 8 84 4 40 9 46 6 44\n",
      " \n",
      " instance abz7\n",
      " \n",
      " Adams, Balas, and Zawack 15 x 20 instance (Table 1, instance 7)\n",
      " 20 15\n",
      "  2 24  3 12  9 17  4 27  0 21  6 25  8 27  7 26  1 30  5 31 11 18 14 16 13 39 10 19 12 26\n",
      "  6 30  3 15 12 20 11 19  1 24 13 15 10 28  2 36  5 26  7 15  0 11  8 23 14 20  9 26  4 28\n",
      "  6 35  0 22 13 23  7 32  2 20  3 12 12 19 10 23  9 17  1 14  5 16 11 29  8 16  4 22 14 22\n",
      "  9 20  6 29  1 19  7 14 12 33  4 30  0 32  5 21 11 29 10 24 14 25  2 29  3 13  8 20 13 18\n",
      " 11 23 13 20  1 28  6 32  7 16  5 18  8 24  9 23  3 24 10 34  2 24  0 24 14 28 12 15  4 18\n",
      "  8 24 11 19 14 21  1 33  7 34  6 35  5 40 10 36  3 23  2 26  4 15  9 28 13 38 12 13  0 25\n",
      " 13 27  3 30  6 21  8 19 12 12  4 27  2 39  9 13 14 12  5 36 10 21 11 17  1 29  0 17  7 33\n",
      "  5 27  4 19  6 29  9 20  3 21 10 40  8 14 14 39 13 39  2 27  1 36 12 12 11 37  7 22  0 13\n",
      " 13 32 11 29  8 24  3 27  5 40  4 21  9 26  0 27 14 27  6 16  2 21 10 13  7 28 12 28  1 32\n",
      " 12 35  1 11  5 39 14 18  7 23  0 34  3 24 13 11  8 30 11 31  4 15 10 15  2 28  9 26  6 33\n",
      " 10 28  5 37 12 29  1 31  7 25  8 13 14 14  4 20  3 27  9 25 13 31 11 14  6 25  2 39  0 36\n",
      "  0 22 11 25  5 28 13 35  4 31  8 21  9 20 14 19  2 29  7 32 10 18  1 18  3 11 12 17  6 15\n",
      " 12 39  5 32  2 36  8 14  3 28 13 37  0 38  6 20  7 19 11 12 14 22  1 36  4 15  9 32 10 16\n",
      "  8 28  1 29 14 40 12 23  4 34  5 33  6 27 10 17  0 20  7 28 11 21  2 21 13 20  9 33  3 27\n",
      "  9 21 14 34  3 30 12 38  0 11 11 16  2 14  5 14  1 34  8 33  4 23 13 40 10 12  6 23  7 27\n",
      "  9 13 14 40  7 36  4 17  0 13  5 33  8 25 13 24 10 23  3 36  2 29  1 18 11 13  6 33 12 13\n",
      "  3 25  5 15  2 28 12 40  7 39  1 31  8 35  6 31 11 36  4 12 10 33 14 19  9 16 13 27  0 21\n",
      " 12 22 10 14  0 12  2 20  5 12  1 18 11 17  8 39 14 31  3 31  7 32  9 20 13 29  4 13  6 26\n",
      "  5 18 10 30  7 38 14 22 13 15 11 20  9 16  3 17  1 12  2 13 12 40  6 17  8 30  4 38  0 13\n",
      "  9 31  8 39 12 27  1 14  5 33  3 31 11 22 13 36  0 16  7 11 14 14  4 29  6 28  2 22 10 17\n"
     ]
    }
   ],
   "execution_count": 4
  },
  {
   "cell_type": "markdown",
   "id": "c35784e950d28f0c",
   "metadata": {},
   "source": "## II. Conversion to dictionary"
  },
  {
   "cell_type": "code",
   "id": "bae567478d378ced",
   "metadata": {
    "ExecuteTime": {
     "end_time": "2025-07-29T05:14:56.849638Z",
     "start_time": "2025-07-29T05:14:56.846150Z"
    }
   },
   "source": [
    "# dictionary with instances as keys and matrix as value (string)\n",
    "instances_string_dict = parse_text_with_instances_to_dict(content_without_introduction, verbose=False)\n",
    "\n",
    "# example\n",
    "print(instances_string_dict[\"instance ft10\"])"
   ],
   "outputs": [
    {
     "name": "stdout",
     "output_type": "stream",
     "text": [
      " 0 29 1 78 2  9 3 36 4 49 5 11 6 62 7 56 8 44 9 21\n",
      " 0 43 2 90 4 75 9 11 3 69 1 28 6 46 5 46 7 72 8 30\n",
      " 1 91 0 85 3 39 2 74 8 90 5 10 7 12 6 89 9 45 4 33\n",
      " 1 81 2 95 0 71 4 99 6  9 8 52 7 85 3 98 9 22 5 43\n",
      " 2 14 0  6 1 22 5 61 3 26 4 69 8 21 7 49 9 72 6 53\n",
      " 2 84 1  2 5 52 3 95 8 48 9 72 0 47 6 65 4  6 7 25\n",
      " 1 46 0 37 3 61 2 13 6 32 5 21 9 32 8 89 7 30 4 55\n",
      " 2 31 0 86 1 46 5 74 4 32 6 88 8 19 9 48 7 36 3 79\n",
      " 0 76 1 69 3 76 5 51 2 85 9 11 6 40 7 89 4 26 8 74\n",
      " 1 85 0 13 2 61 6  7 8 64 9 76 5 47 3 52 4 90 7 45\n"
     ]
    }
   ],
   "execution_count": 5
  },
  {
   "metadata": {
    "ExecuteTime": {
     "end_time": "2025-07-29T05:14:56.871263Z",
     "start_time": "2025-07-29T05:14:56.864365Z"
    }
   },
   "cell_type": "code",
   "source": [
    "# dictionary with instances as keys and matrix as value (dictionary/JSON of routings)\n",
    "instances_dict = structure_dict(instances_string_dict)\n",
    "\n",
    "# example\n",
    "instance_ft10 = instances_dict[\"instance ft10\"]\n",
    "for routing_id, operations in instance_ft10.items():\n",
    "    print(f\"{routing_id}: {operations}\")"
   ],
   "id": "775ee3c61ce213dc",
   "outputs": [
    {
     "name": "stdout",
     "output_type": "stream",
     "text": [
      "0: [[0, 29], [1, 78], [2, 9], [3, 36], [4, 49], [5, 11], [6, 62], [7, 56], [8, 44], [9, 21]]\n",
      "1: [[0, 43], [2, 90], [4, 75], [9, 11], [3, 69], [1, 28], [6, 46], [5, 46], [7, 72], [8, 30]]\n",
      "2: [[1, 91], [0, 85], [3, 39], [2, 74], [8, 90], [5, 10], [7, 12], [6, 89], [9, 45], [4, 33]]\n",
      "3: [[1, 81], [2, 95], [0, 71], [4, 99], [6, 9], [8, 52], [7, 85], [3, 98], [9, 22], [5, 43]]\n",
      "4: [[2, 14], [0, 6], [1, 22], [5, 61], [3, 26], [4, 69], [8, 21], [7, 49], [9, 72], [6, 53]]\n",
      "5: [[2, 84], [1, 2], [5, 52], [3, 95], [8, 48], [9, 72], [0, 47], [6, 65], [4, 6], [7, 25]]\n",
      "6: [[1, 46], [0, 37], [3, 61], [2, 13], [6, 32], [5, 21], [9, 32], [8, 89], [7, 30], [4, 55]]\n",
      "7: [[2, 31], [0, 86], [1, 46], [5, 74], [4, 32], [6, 88], [8, 19], [9, 48], [7, 36], [3, 79]]\n",
      "8: [[0, 76], [1, 69], [3, 76], [5, 51], [2, 85], [9, 11], [6, 40], [7, 89], [4, 26], [8, 74]]\n",
      "9: [[1, 85], [0, 13], [2, 61], [6, 7], [8, 64], [9, 76], [5, 47], [3, 52], [4, 90], [7, 45]]\n"
     ]
    }
   ],
   "execution_count": 6
  },
  {
   "metadata": {},
   "cell_type": "markdown",
   "source": "### JSON Export",
   "id": "b2e058eafe352c2d"
  },
  {
   "metadata": {
    "ExecuteTime": {
     "end_time": "2025-07-29T05:14:56.930973Z",
     "start_time": "2025-07-29T05:14:56.890529Z"
    }
   },
   "cell_type": "code",
   "source": [
    "file_path = basic_data_path / \"jobshop_instances.json\"\n",
    "with open(file_path, \"w\", encoding=\"utf-8\") as f:\n",
    "    json.dump(instances_dict, f, indent=2)"
   ],
   "id": "c812b11e-319a-4805-9d43-8e4fa63ab214",
   "outputs": [],
   "execution_count": 7
  },
  {
   "metadata": {},
   "cell_type": "markdown",
   "source": "## III. Export of 10x10 Fisher-Thompson",
   "id": "5b61a88971e98237"
  },
  {
   "metadata": {},
   "cell_type": "markdown",
   "source": "### CSV Export",
   "id": "ebde9b6a97b25987"
  },
  {
   "metadata": {
    "ExecuteTime": {
     "end_time": "2025-07-29T05:14:57.006102Z",
     "start_time": "2025-07-29T05:14:56.997110Z"
    }
   },
   "cell_type": "code",
   "source": [
    "instance = instances_dict[\"instance ft10\"]\n",
    "df_routings_ft10 = routing_dict_to_df(instance)\n",
    "df_routings_ft10"
   ],
   "id": "ad42270c-c074-42f5-b8f0-dc252ce8de2e",
   "outputs": [
    {
     "data": {
      "text/plain": [
       "    Routing_ID  Operation Machine  Processing Time\n",
       "0            0          0     M00               29\n",
       "1            0          1     M01               78\n",
       "2            0          2     M02                9\n",
       "3            0          3     M03               36\n",
       "4            0          4     M04               49\n",
       "..         ...        ...     ...              ...\n",
       "95           9          5     M09               76\n",
       "96           9          6     M05               47\n",
       "97           9          7     M03               52\n",
       "98           9          8     M04               90\n",
       "99           9          9     M07               45\n",
       "\n",
       "[100 rows x 4 columns]"
      ],
      "text/html": [
       "<div>\n",
       "<style scoped>\n",
       "    .dataframe tbody tr th:only-of-type {\n",
       "        vertical-align: middle;\n",
       "    }\n",
       "\n",
       "    .dataframe tbody tr th {\n",
       "        vertical-align: top;\n",
       "    }\n",
       "\n",
       "    .dataframe thead th {\n",
       "        text-align: right;\n",
       "    }\n",
       "</style>\n",
       "<table border=\"1\" class=\"dataframe\">\n",
       "  <thead>\n",
       "    <tr style=\"text-align: right;\">\n",
       "      <th></th>\n",
       "      <th>Routing_ID</th>\n",
       "      <th>Operation</th>\n",
       "      <th>Machine</th>\n",
       "      <th>Processing Time</th>\n",
       "    </tr>\n",
       "  </thead>\n",
       "  <tbody>\n",
       "    <tr>\n",
       "      <th>0</th>\n",
       "      <td>0</td>\n",
       "      <td>0</td>\n",
       "      <td>M00</td>\n",
       "      <td>29</td>\n",
       "    </tr>\n",
       "    <tr>\n",
       "      <th>1</th>\n",
       "      <td>0</td>\n",
       "      <td>1</td>\n",
       "      <td>M01</td>\n",
       "      <td>78</td>\n",
       "    </tr>\n",
       "    <tr>\n",
       "      <th>2</th>\n",
       "      <td>0</td>\n",
       "      <td>2</td>\n",
       "      <td>M02</td>\n",
       "      <td>9</td>\n",
       "    </tr>\n",
       "    <tr>\n",
       "      <th>3</th>\n",
       "      <td>0</td>\n",
       "      <td>3</td>\n",
       "      <td>M03</td>\n",
       "      <td>36</td>\n",
       "    </tr>\n",
       "    <tr>\n",
       "      <th>4</th>\n",
       "      <td>0</td>\n",
       "      <td>4</td>\n",
       "      <td>M04</td>\n",
       "      <td>49</td>\n",
       "    </tr>\n",
       "    <tr>\n",
       "      <th>...</th>\n",
       "      <td>...</td>\n",
       "      <td>...</td>\n",
       "      <td>...</td>\n",
       "      <td>...</td>\n",
       "    </tr>\n",
       "    <tr>\n",
       "      <th>95</th>\n",
       "      <td>9</td>\n",
       "      <td>5</td>\n",
       "      <td>M09</td>\n",
       "      <td>76</td>\n",
       "    </tr>\n",
       "    <tr>\n",
       "      <th>96</th>\n",
       "      <td>9</td>\n",
       "      <td>6</td>\n",
       "      <td>M05</td>\n",
       "      <td>47</td>\n",
       "    </tr>\n",
       "    <tr>\n",
       "      <th>97</th>\n",
       "      <td>9</td>\n",
       "      <td>7</td>\n",
       "      <td>M03</td>\n",
       "      <td>52</td>\n",
       "    </tr>\n",
       "    <tr>\n",
       "      <th>98</th>\n",
       "      <td>9</td>\n",
       "      <td>8</td>\n",
       "      <td>M04</td>\n",
       "      <td>90</td>\n",
       "    </tr>\n",
       "    <tr>\n",
       "      <th>99</th>\n",
       "      <td>9</td>\n",
       "      <td>9</td>\n",
       "      <td>M07</td>\n",
       "      <td>45</td>\n",
       "    </tr>\n",
       "  </tbody>\n",
       "</table>\n",
       "<p>100 rows × 4 columns</p>\n",
       "</div>"
      ]
     },
     "execution_count": 8,
     "metadata": {},
     "output_type": "execute_result"
    }
   ],
   "execution_count": 8
  },
  {
   "cell_type": "code",
   "id": "3f659236-5633-48fc-be7d-41ef2ad4f62a",
   "metadata": {
    "ExecuteTime": {
     "end_time": "2025-07-29T05:14:57.037434Z",
     "start_time": "2025-07-29T05:14:57.032467Z"
    }
   },
   "source": "df_routings_ft10.to_csv(basic_data_path / \"ft10_routings.csv\", index = False)",
   "outputs": [],
   "execution_count": 9
  }
 ],
 "metadata": {
  "kernelspec": {
   "display_name": "Python 3 (ipykernel)",
   "language": "python",
   "name": "python3"
  },
  "language_info": {
   "codemirror_mode": {
    "name": "ipython",
    "version": 3
   },
   "file_extension": ".py",
   "mimetype": "text/x-python",
   "name": "python",
   "nbconvert_exporter": "python",
   "pygments_lexer": "ipython3",
   "version": "3.13.2"
  }
 },
 "nbformat": 4,
 "nbformat_minor": 5
}
