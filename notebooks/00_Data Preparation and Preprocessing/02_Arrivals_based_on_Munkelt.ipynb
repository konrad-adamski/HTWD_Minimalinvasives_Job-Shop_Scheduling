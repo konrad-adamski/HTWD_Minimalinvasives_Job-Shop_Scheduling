{
 "cells": [
  {
   "cell_type": "markdown",
   "id": "4f2e40c8-522b-4948-996a-e8a0cd97684b",
   "metadata": {},
   "source": "# Intermediate arrival times"
  },
  {
   "cell_type": "code",
   "id": "e2e3a8be-dd30-4799-a3f3-3a3f46863370",
   "metadata": {
    "ExecuteTime": {
     "end_time": "2025-07-29T05:15:11.082136Z",
     "start_time": "2025-07-29T05:15:10.887257Z"
    }
   },
   "source": [
    "import pandas as pd\n",
    "\n",
    "# Data access\n",
    "from configs.path_manager import get_path\n",
    "\n",
    "# Utils\n",
    "from src.utils.initialization import jobs_jssp_init as init, arrivals_init as term"
   ],
   "outputs": [],
   "execution_count": 1
  },
  {
   "cell_type": "code",
   "id": "9d982257-9f3a-4c4a-adb6-9b4b25362d3c",
   "metadata": {
    "ExecuteTime": {
     "end_time": "2025-07-29T05:15:11.095910Z",
     "start_time": "2025-07-29T05:15:11.086141Z"
    }
   },
   "source": [
    "# Load file\n",
    "basic_data_path = get_path(\"data\", \"basic\")\n",
    "df_routings = pd.read_csv(basic_data_path / \"ft10_routings.csv\")\n",
    "df_routings"
   ],
   "outputs": [
    {
     "data": {
      "text/plain": [
       "    Routing_ID  Operation Machine  Processing Time\n",
       "0            0          0     M00               29\n",
       "1            0          1     M01               78\n",
       "2            0          2     M02                9\n",
       "3            0          3     M03               36\n",
       "4            0          4     M04               49\n",
       "..         ...        ...     ...              ...\n",
       "95           9          5     M09               76\n",
       "96           9          6     M05               47\n",
       "97           9          7     M03               52\n",
       "98           9          8     M04               90\n",
       "99           9          9     M07               45\n",
       "\n",
       "[100 rows x 4 columns]"
      ],
      "text/html": [
       "<div>\n",
       "<style scoped>\n",
       "    .dataframe tbody tr th:only-of-type {\n",
       "        vertical-align: middle;\n",
       "    }\n",
       "\n",
       "    .dataframe tbody tr th {\n",
       "        vertical-align: top;\n",
       "    }\n",
       "\n",
       "    .dataframe thead th {\n",
       "        text-align: right;\n",
       "    }\n",
       "</style>\n",
       "<table border=\"1\" class=\"dataframe\">\n",
       "  <thead>\n",
       "    <tr style=\"text-align: right;\">\n",
       "      <th></th>\n",
       "      <th>Routing_ID</th>\n",
       "      <th>Operation</th>\n",
       "      <th>Machine</th>\n",
       "      <th>Processing Time</th>\n",
       "    </tr>\n",
       "  </thead>\n",
       "  <tbody>\n",
       "    <tr>\n",
       "      <th>0</th>\n",
       "      <td>0</td>\n",
       "      <td>0</td>\n",
       "      <td>M00</td>\n",
       "      <td>29</td>\n",
       "    </tr>\n",
       "    <tr>\n",
       "      <th>1</th>\n",
       "      <td>0</td>\n",
       "      <td>1</td>\n",
       "      <td>M01</td>\n",
       "      <td>78</td>\n",
       "    </tr>\n",
       "    <tr>\n",
       "      <th>2</th>\n",
       "      <td>0</td>\n",
       "      <td>2</td>\n",
       "      <td>M02</td>\n",
       "      <td>9</td>\n",
       "    </tr>\n",
       "    <tr>\n",
       "      <th>3</th>\n",
       "      <td>0</td>\n",
       "      <td>3</td>\n",
       "      <td>M03</td>\n",
       "      <td>36</td>\n",
       "    </tr>\n",
       "    <tr>\n",
       "      <th>4</th>\n",
       "      <td>0</td>\n",
       "      <td>4</td>\n",
       "      <td>M04</td>\n",
       "      <td>49</td>\n",
       "    </tr>\n",
       "    <tr>\n",
       "      <th>...</th>\n",
       "      <td>...</td>\n",
       "      <td>...</td>\n",
       "      <td>...</td>\n",
       "      <td>...</td>\n",
       "    </tr>\n",
       "    <tr>\n",
       "      <th>95</th>\n",
       "      <td>9</td>\n",
       "      <td>5</td>\n",
       "      <td>M09</td>\n",
       "      <td>76</td>\n",
       "    </tr>\n",
       "    <tr>\n",
       "      <th>96</th>\n",
       "      <td>9</td>\n",
       "      <td>6</td>\n",
       "      <td>M05</td>\n",
       "      <td>47</td>\n",
       "    </tr>\n",
       "    <tr>\n",
       "      <th>97</th>\n",
       "      <td>9</td>\n",
       "      <td>7</td>\n",
       "      <td>M03</td>\n",
       "      <td>52</td>\n",
       "    </tr>\n",
       "    <tr>\n",
       "      <th>98</th>\n",
       "      <td>9</td>\n",
       "      <td>8</td>\n",
       "      <td>M04</td>\n",
       "      <td>90</td>\n",
       "    </tr>\n",
       "    <tr>\n",
       "      <th>99</th>\n",
       "      <td>9</td>\n",
       "      <td>9</td>\n",
       "      <td>M07</td>\n",
       "      <td>45</td>\n",
       "    </tr>\n",
       "  </tbody>\n",
       "</table>\n",
       "<p>100 rows × 4 columns</p>\n",
       "</div>"
      ]
     },
     "execution_count": 2,
     "metadata": {},
     "output_type": "execute_result"
    }
   ],
   "execution_count": 2
  },
  {
   "cell_type": "markdown",
   "id": "3d93bc0f-0558-40e4-abc7-b7c44a2ed90a",
   "metadata": {},
   "source": "## I) Average arrival time t_a"
  },
  {
   "cell_type": "markdown",
   "id": "44ecaec2-4196-44ff-a928-b6b6c8f02380",
   "metadata": {},
   "source": "### 1. Vector of processing times on the bottleneck machine (Engpassmaschine)"
  },
  {
   "cell_type": "markdown",
   "id": "ad7b63e3-a182-481a-b69e-02b6982dd86a",
   "metadata": {},
   "source": "#### a) Identification of the bottleneck machine (7.12)"
  },
  {
   "cell_type": "code",
   "id": "a4cb86b8-33d2-4801-ad73-026104f7a320",
   "metadata": {
    "ExecuteTime": {
     "end_time": "2025-07-29T05:15:11.193879Z",
     "start_time": "2025-07-29T05:15:11.190348Z"
    }
   },
   "source": [
    "engpassmaschine = term._get_engpassmaschine(df_routings, verbose = True)\n",
    "engpassmaschine"
   ],
   "outputs": [
    {
     "name": "stdout",
     "output_type": "stream",
     "text": [
      "Machine load (total processing time):\n",
      "  M00: 493\n",
      "  M01: 548\n",
      "  M02: 556\n",
      "  M03: 631\n",
      "  M04: 534\n",
      "  M05: 416\n",
      "  M06: 491\n",
      "  M07: 499\n",
      "  M08: 531\n",
      "  M09: 410\n"
     ]
    },
    {
     "data": {
      "text/plain": [
       "'M03'"
      ]
     },
     "execution_count": 3,
     "metadata": {},
     "output_type": "execute_result"
    }
   ],
   "execution_count": 3
  },
  {
   "cell_type": "markdown",
   "id": "515dbca0-74bc-4c56-aa47-c763778e35e1",
   "metadata": {},
   "source": "#### b) Create vector of processing times on the bottleneck machine"
  },
  {
   "cell_type": "code",
   "id": "35ba0bb2-5bdc-45b5-9a1c-4d6fd4cf3414",
   "metadata": {
    "ExecuteTime": {
     "end_time": "2025-07-29T05:15:11.237015Z",
     "start_time": "2025-07-29T05:15:11.230861Z"
    }
   },
   "source": [
    "vec_t_b_mmax = term._get_vec_t_b_mmax(df_routings)\n",
    "vec_t_b_mmax"
   ],
   "outputs": [
    {
     "data": {
      "text/plain": [
       "[36, 69, 39, 98, 26, 95, 61, 79, 76, 52]"
      ]
     },
     "execution_count": 4,
     "metadata": {},
     "output_type": "execute_result"
    }
   ],
   "execution_count": 4
  },
  {
   "cell_type": "markdown",
   "id": "cd2b440d-6307-4262-ae98-3aa3ff2da124",
   "metadata": {},
   "source": "### 2. Routings probabilities"
  },
  {
   "cell_type": "code",
   "id": "b808ec0f-c8be-4ab4-8294-2f5227669489",
   "metadata": {
    "ExecuteTime": {
     "end_time": "2025-07-29T05:15:11.271217Z",
     "start_time": "2025-07-29T05:15:11.267502Z"
    }
   },
   "source": [
    "# Number of different Routings\n",
    "n_routings = df_routings['Routing_ID'].nunique()\n",
    "\n",
    "p = [1.0 / n_routings] * n_routings\n",
    "p"
   ],
   "outputs": [
    {
     "data": {
      "text/plain": [
       "[0.1, 0.1, 0.1, 0.1, 0.1, 0.1, 0.1, 0.1, 0.1, 0.1]"
      ]
     },
     "execution_count": 5,
     "metadata": {},
     "output_type": "execute_result"
    }
   ],
   "execution_count": 5
  },
  {
   "cell_type": "markdown",
   "id": "6ed94c87-563a-4d0f-9a74-271355681992",
   "metadata": {},
   "source": [
    "### 3. Calculate the average inter-arrival time t_a using the formula (7.16)\n",
    "> All-in-One"
   ]
  },
  {
   "cell_type": "code",
   "id": "50101568-a2ec-4ac4-bd99-66d50ac98fa1",
   "metadata": {
    "ExecuteTime": {
     "end_time": "2025-07-29T05:15:11.372418Z",
     "start_time": "2025-07-29T05:15:11.368101Z"
    }
   },
   "source": [
    "t_a = term.calculate_mean_interarrival_time(df_routings, u_b_mmax = 0.9)\n",
    "t_a"
   ],
   "outputs": [
    {
     "data": {
      "text/plain": [
       "70.11"
      ]
     },
     "execution_count": 6,
     "metadata": {},
     "output_type": "execute_result"
    }
   ],
   "execution_count": 6
  },
  {
   "cell_type": "markdown",
   "id": "b0d3a601-1bd8-4322-b2ba-17e8a3877bec",
   "metadata": {},
   "source": "## II) Arrival times"
  },
  {
   "cell_type": "markdown",
   "id": "7c70f912-39f2-4d7d-bc77-430a6efc1082",
   "metadata": {},
   "source": [
    "#### Generation of exponentially distributed inter-arrival times with mean t_a\n",
    "#### with a random job sequence"
   ]
  },
  {
   "cell_type": "code",
   "id": "06a10e09-a403-4e15-ae75-01d9edc703ca",
   "metadata": {
    "ExecuteTime": {
     "end_time": "2025-07-29T05:15:11.480945Z",
     "start_time": "2025-07-29T05:15:11.470928Z"
    }
   },
   "source": [
    "df_jssp = init.generate_jssp_from_routings(df_routings, shuffle = True)\n",
    "df_jobs = df_jssp[[\"Job\", \"Routing_ID\"]].drop_duplicates()\n",
    "\n",
    "arrivals = term.generate_arrivals_from_mean_interarrival_time(10, t_a)\n",
    "df_jobs_arrivals = df_jobs.copy()\n",
    "df_jobs_arrivals['Arrival'] = arrivals\n",
    "df_jobs_arrivals"
   ],
   "outputs": [
    {
     "data": {
      "text/plain": [
       "         Job  Routing_ID  Arrival\n",
       "0   J25-0000           8        0\n",
       "10  J25-0001           6       50\n",
       "20  J25-0002           0      118\n",
       "30  J25-0003           2      164\n",
       "40  J25-0004           3      207\n",
       "50  J25-0005           1      418\n",
       "60  J25-0006           9      711\n",
       "70  J25-0007           5      846\n",
       "80  J25-0008           4      909\n",
       "90  J25-0009           7      925"
      ],
      "text/html": [
       "<div>\n",
       "<style scoped>\n",
       "    .dataframe tbody tr th:only-of-type {\n",
       "        vertical-align: middle;\n",
       "    }\n",
       "\n",
       "    .dataframe tbody tr th {\n",
       "        vertical-align: top;\n",
       "    }\n",
       "\n",
       "    .dataframe thead th {\n",
       "        text-align: right;\n",
       "    }\n",
       "</style>\n",
       "<table border=\"1\" class=\"dataframe\">\n",
       "  <thead>\n",
       "    <tr style=\"text-align: right;\">\n",
       "      <th></th>\n",
       "      <th>Job</th>\n",
       "      <th>Routing_ID</th>\n",
       "      <th>Arrival</th>\n",
       "    </tr>\n",
       "  </thead>\n",
       "  <tbody>\n",
       "    <tr>\n",
       "      <th>0</th>\n",
       "      <td>J25-0000</td>\n",
       "      <td>8</td>\n",
       "      <td>0</td>\n",
       "    </tr>\n",
       "    <tr>\n",
       "      <th>10</th>\n",
       "      <td>J25-0001</td>\n",
       "      <td>6</td>\n",
       "      <td>50</td>\n",
       "    </tr>\n",
       "    <tr>\n",
       "      <th>20</th>\n",
       "      <td>J25-0002</td>\n",
       "      <td>0</td>\n",
       "      <td>118</td>\n",
       "    </tr>\n",
       "    <tr>\n",
       "      <th>30</th>\n",
       "      <td>J25-0003</td>\n",
       "      <td>2</td>\n",
       "      <td>164</td>\n",
       "    </tr>\n",
       "    <tr>\n",
       "      <th>40</th>\n",
       "      <td>J25-0004</td>\n",
       "      <td>3</td>\n",
       "      <td>207</td>\n",
       "    </tr>\n",
       "    <tr>\n",
       "      <th>50</th>\n",
       "      <td>J25-0005</td>\n",
       "      <td>1</td>\n",
       "      <td>418</td>\n",
       "    </tr>\n",
       "    <tr>\n",
       "      <th>60</th>\n",
       "      <td>J25-0006</td>\n",
       "      <td>9</td>\n",
       "      <td>711</td>\n",
       "    </tr>\n",
       "    <tr>\n",
       "      <th>70</th>\n",
       "      <td>J25-0007</td>\n",
       "      <td>5</td>\n",
       "      <td>846</td>\n",
       "    </tr>\n",
       "    <tr>\n",
       "      <th>80</th>\n",
       "      <td>J25-0008</td>\n",
       "      <td>4</td>\n",
       "      <td>909</td>\n",
       "    </tr>\n",
       "    <tr>\n",
       "      <th>90</th>\n",
       "      <td>J25-0009</td>\n",
       "      <td>7</td>\n",
       "      <td>925</td>\n",
       "    </tr>\n",
       "  </tbody>\n",
       "</table>\n",
       "</div>"
      ]
     },
     "execution_count": 7,
     "metadata": {},
     "output_type": "execute_result"
    }
   ],
   "execution_count": 7
  }
 ],
 "metadata": {
  "kernelspec": {
   "display_name": "Python 3 (ipykernel)",
   "language": "python",
   "name": "python3"
  },
  "language_info": {
   "codemirror_mode": {
    "name": "ipython",
    "version": 3
   },
   "file_extension": ".py",
   "mimetype": "text/x-python",
   "name": "python",
   "nbconvert_exporter": "python",
   "pygments_lexer": "ipython3",
   "version": "3.13.2"
  }
 },
 "nbformat": 4,
 "nbformat_minor": 5
}
