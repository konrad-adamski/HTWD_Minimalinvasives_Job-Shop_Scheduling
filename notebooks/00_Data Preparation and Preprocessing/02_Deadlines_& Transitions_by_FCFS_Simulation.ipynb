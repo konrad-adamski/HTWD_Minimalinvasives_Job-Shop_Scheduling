{
 "cells": [
  {
   "cell_type": "code",
   "id": "3d4164fcc4bd2082",
   "metadata": {
    "ExecuteTime": {
     "end_time": "2025-08-08T23:10:28.065260Z",
     "start_time": "2025-08-08T23:10:26.973174Z"
    }
   },
   "source": [
    "import pandas as pd\n",
    "import matplotlib.pyplot as plt\n",
    "\n",
    "# Utils\n",
    "from src.utils.analysis_basics.check_gen_deadlines import plotfig_empirical_scheduling_window_distributions\n",
    "\n",
    "# Simulation\n",
    "from src.simulation.ProductionSimulation import ProductionSimulation\n",
    "\n",
    "pd.set_option('display.min_rows', 21)\n",
    "pd.set_option('display.max_rows', 25)\n"
   ],
   "outputs": [
    {
     "ename": "ImportError",
     "evalue": "cannot import name 'plotfig_empirical_flow_budget_distributions' from 'src.utils.analysis_basics.check_gen_deadlines' (C:\\Users\\konra\\Coding\\HTWD_Minimalinvasives_Job-Shop_Scheduling\\src\\utils\\analysis_basics\\check_gen_deadlines.py)",
     "output_type": "error",
     "traceback": [
      "\u001B[31m---------------------------------------------------------------------------\u001B[39m",
      "\u001B[31mImportError\u001B[39m                               Traceback (most recent call last)",
      "\u001B[36mCell\u001B[39m\u001B[36m \u001B[39m\u001B[32mIn[1]\u001B[39m\u001B[32m, line 5\u001B[39m\n\u001B[32m      2\u001B[39m \u001B[38;5;28;01mimport\u001B[39;00m\u001B[38;5;250m \u001B[39m\u001B[34;01mmatplotlib\u001B[39;00m\u001B[34;01m.\u001B[39;00m\u001B[34;01mpyplot\u001B[39;00m\u001B[38;5;250m \u001B[39m\u001B[38;5;28;01mas\u001B[39;00m\u001B[38;5;250m \u001B[39m\u001B[34;01mplt\u001B[39;00m\n\u001B[32m      4\u001B[39m \u001B[38;5;66;03m# Utils\u001B[39;00m\n\u001B[32m----> \u001B[39m\u001B[32m5\u001B[39m \u001B[38;5;28;01mfrom\u001B[39;00m\u001B[38;5;250m \u001B[39m\u001B[34;01msrc\u001B[39;00m\u001B[34;01m.\u001B[39;00m\u001B[34;01mutils\u001B[39;00m\u001B[34;01m.\u001B[39;00m\u001B[34;01manalysis_basics\u001B[39;00m\u001B[34;01m.\u001B[39;00m\u001B[34;01mcheck_gen_deadlines\u001B[39;00m\u001B[38;5;250m \u001B[39m\u001B[38;5;28;01mimport\u001B[39;00m plotfig_empirical_flow_budget_distributions\n\u001B[32m      7\u001B[39m \u001B[38;5;66;03m# Simulation\u001B[39;00m\n\u001B[32m      8\u001B[39m \u001B[38;5;28;01mfrom\u001B[39;00m\u001B[38;5;250m \u001B[39m\u001B[34;01msrc\u001B[39;00m\u001B[34;01m.\u001B[39;00m\u001B[34;01msimulation\u001B[39;00m\u001B[34;01m.\u001B[39;00m\u001B[34;01mProductionSimulation\u001B[39;00m\u001B[38;5;250m \u001B[39m\u001B[38;5;28;01mimport\u001B[39;00m ProductionSimulation\n",
      "\u001B[31mImportError\u001B[39m: cannot import name 'plotfig_empirical_flow_budget_distributions' from 'src.utils.analysis_basics.check_gen_deadlines' (C:\\Users\\konra\\Coding\\HTWD_Minimalinvasives_Job-Shop_Scheduling\\src\\utils\\analysis_basics\\check_gen_deadlines.py)"
     ]
    }
   ],
   "execution_count": 1
  },
  {
   "metadata": {},
   "cell_type": "code",
   "source": [
    "from decimal import Decimal\n",
    "from src.domain.Collection import LiveJobCollection\n",
    "from src.domain.Query import JobQuery\n",
    "# from src.domain.Initializer import MachineInitializer, DataSourceInitializer\n",
    "from src.DataFrameEnrichment import DataFrameEnrichment"
   ],
   "id": "e651076f8d9a5191",
   "outputs": [],
   "execution_count": null
  },
  {
   "metadata": {},
   "cell_type": "code",
   "source": [
    "source_name= \"Fisher and Thompson 10x10\"\n",
    "max_bottleneck_utilization=Decimal(\"0.85\")"
   ],
   "id": "70c90c80f71e6456",
   "outputs": [],
   "execution_count": null
  },
  {
   "cell_type": "markdown",
   "id": "f5d47929e35281cb",
   "metadata": {},
   "source": [
    "# I. Deadlines"
   ]
  },
  {
   "cell_type": "code",
   "id": "6c88e0512bf89340",
   "metadata": {},
   "source": [
    "jobs = JobQuery.get_by_source_name_and_max_bottleneck_utilization(\n",
    "    source_name=source_name,\n",
    "    max_bottleneck_utilization=max_bottleneck_utilization\n",
    ")\n",
    "\n",
    "# Collection with jobs\n",
    "jobs_collection = LiveJobCollection(jobs)\n",
    "jobs_collection.to_jobs_dataframe()"
   ],
   "outputs": [],
   "execution_count": null
  },
  {
   "cell_type": "markdown",
   "id": "a9d68bca39044d39",
   "metadata": {},
   "source": [
    "## A) Simulation"
   ]
  },
  {
   "cell_type": "code",
   "id": "aa56409973ee8679",
   "metadata": {},
   "source": [
    "simulation = ProductionSimulation(sigma = 0, verbose = False, with_earliest_start=True)\n",
    "simulation.run(jobs_collection, start_time = 0, end_time = None)"
   ],
   "outputs": [],
   "execution_count": null
  },
  {
   "cell_type": "code",
   "id": "f287b902d5aeeefe",
   "metadata": {},
   "source": [
    "finished_operations = simulation.get_finished_operation_collection()\n",
    "df_fcfs = finished_operations.to_operations_dataframe()\n",
    "df_fcfs\n"
   ],
   "outputs": [],
   "execution_count": null
  },
  {
   "cell_type": "code",
   "id": "bb23e620616c1e9d",
   "metadata": {},
   "source": [
    "#if day_count <= 5:\n",
    "#    gantt.get_plot(df_fcfs_execution, perspective=\"Machine\")"
   ],
   "outputs": [],
   "execution_count": null
  },
  {
   "cell_type": "code",
   "id": "50a8841bba5f461f",
   "metadata": {},
   "source": [
    "df_jobs_times_temp = finished_operations.to_jobs_metrics_dataframe()\n",
    "df_jobs_times_temp\n"
   ],
   "outputs": [],
   "execution_count": null
  },
  {
   "cell_type": "code",
   "id": "639a36ee08f92d18",
   "metadata": {},
   "source": [
    "plotfig_empirical_flow_budget_distributions(df_jobs_times_temp, due_date_column=\"End\", y_max=0.0015)\n",
    "plt.show()"
   ],
   "outputs": [],
   "execution_count": null
  },
  {
   "cell_type": "markdown",
   "id": "82ba1de9c50c7709",
   "metadata": {},
   "source": [
    "## B) Generation of deadlines using log-normal distribution"
   ]
  },
  {
   "cell_type": "code",
   "id": "3ca1d5ad7e3b858",
   "metadata": {},
   "source": [
    "df_jobs_times = DataFrameEnrichment.add_groupwise_lognormal_deadlines_by_group_mean(df_jobs_times_temp, sigma=0.25)\n",
    "df_jobs_times"
   ],
   "outputs": [],
   "execution_count": null
  },
  {
   "cell_type": "markdown",
   "id": "cb22c3581dc1ff6a",
   "metadata": {},
   "source": [
    "####  Plot of the new deadlines"
   ]
  },
  {
   "cell_type": "code",
   "id": "df08c6bea504bb45",
   "metadata": {},
   "source": [
    "plotfig_empirical_flow_budget_distributions(df_jobs_times, y_max=0.0015)\n",
    "plt.show()"
   ],
   "outputs": [],
   "execution_count": null
  },
  {
   "cell_type": "markdown",
   "id": "38e4c6e21099e402",
   "metadata": {},
   "source": [
    "#### Ensuring that the processing time is achievable to a certain extent in the best-case scenario"
   ]
  },
  {
   "cell_type": "code",
   "id": "a186cc88732448cd",
   "metadata": {},
   "source": [
    "# min. 100 % of processing time for each job is covered in best-case\n",
    "df_jobs_times_final = DataFrameEnrichment.ensure_reasonable_deadlines(df_jobs_times, min_coverage = 1.0)\n",
    "\n",
    "diff_count = (df_jobs_times_final[\"Deadline\"] > df_jobs_times[\"Deadline\"]).sum()\n",
    "\n",
    "# Info: Compare the \"Deadline\" column\n",
    "print(f\"Number of different entries in 'Deadline': {diff_count}\")\n",
    "\n",
    "df_jobs_times_final"
   ],
   "outputs": [],
   "execution_count": null
  },
  {
   "cell_type": "code",
   "id": "e59bb00224cf1bd0",
   "metadata": {},
   "source": [
    "# --- Update in DB ---\n",
    "\"\"\"\n",
    "JobQuery.update_job_deadlines_from_df(\n",
    "    df = df_jobs_times_final,\n",
    "    job_column=\"Job\",\n",
    "    deadline_column = \"Deadline\"\n",
    ")\n",
    "\"\"\"\n",
    "None"
   ],
   "outputs": [],
   "execution_count": null
  },
  {
   "cell_type": "markdown",
   "id": "9c7ad0bf542c64b8",
   "metadata": {},
   "source": "# II. Transition Times"
  },
  {
   "cell_type": "code",
   "id": "a90510d9-c4ee-4ca2-b7fc-c9b108834695",
   "metadata": {},
   "source": [
    "df_fcfs"
   ],
   "outputs": [],
   "execution_count": null
  },
  {
   "cell_type": "code",
   "id": "0e57daff-e597-4194-bf2e-b6c736578b1a",
   "metadata": {},
   "source": [
    "# noinspection PyProtectedMember\n",
    "df_jobs_transition_times = DataFrameEnrichment._compute_transition_times_per_job_backward(df_fcfs)\n",
    "df_jobs_transition_times     "
   ],
   "outputs": [],
   "execution_count": null
  },
  {
   "cell_type": "code",
   "id": "4946365e-7d5e-4aa6-9a85-88235bf71638",
   "metadata": {},
   "source": [
    "df_avg_transition_times = DataFrameEnrichment.compute_avg_transition_times_per_machine_backward(df_fcfs)\n",
    "df_avg_transition_times"
   ],
   "outputs": [],
   "execution_count": null
  },
  {
   "metadata": {},
   "cell_type": "code",
   "source": [
    "# --- Add to DB ---\n",
    "\n",
    "\"\"\"\"\n",
    "MachineInitializer.insert_from_dataframe(\n",
    "    df = df_avg_transition_times,\n",
    "    source_name= source_name,\n",
    "    max_bottleneck_utilization=max_bottleneck_utilization,\n",
    ")\n",
    "\"\"\"\n",
    "None"
   ],
   "id": "101f506b7cbfaa87",
   "outputs": [],
   "execution_count": null
  },
  {
   "cell_type": "markdown",
   "id": "c6793417f77d2f79",
   "metadata": {},
   "source": [
    "### ____________________________________________________________________________________"
   ]
  }
 ],
 "metadata": {
  "kernelspec": {
   "display_name": "Python 3 (ipykernel)",
   "language": "python",
   "name": "python3"
  },
  "language_info": {
   "codemirror_mode": {
    "name": "ipython",
    "version": 3
   },
   "file_extension": ".py",
   "mimetype": "text/x-python",
   "name": "python",
   "nbconvert_exporter": "python",
   "pygments_lexer": "ipython3",
   "version": "3.13.2"
  }
 },
 "nbformat": 4,
 "nbformat_minor": 5
}
