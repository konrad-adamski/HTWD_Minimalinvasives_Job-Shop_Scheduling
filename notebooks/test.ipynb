{
 "cells": [
  {
   "metadata": {},
   "cell_type": "markdown",
   "source": [
    "$\n",
    "\\min\\; Z\n",
    "  = w_t \\cdot \\sum_{j \\in \\mathcal{J}} Tardiness_j\n",
    "  + w_e \\cdot \\sum_{j \\in \\mathcal{J}} Earliness_j\n",
    "  + w_{\\mathrm{dev}} \\cdot \\sum_{(j,o) \\in \\mathcal{O}} Deviation_{j,o}\n",
    "$\n",
    "\n"
   ],
   "id": "e688c5ea5625ec01"
  },
  {
   "metadata": {},
   "cell_type": "markdown",
   "source": [
    "$\n",
    "\\min\\; Z\n",
    "  = w_t \\cdot \\sum_{j \\in \\mathcal{J}} \\max(CompTime_j - DueDate_j, 0)\n",
    "  + w_e \\cdot \\sum_{j \\in \\mathcal{J}} \\max(DueDate_j - CompTime_j, 0)\n",
    "  + w_{\\mathrm{dev}} \\cdot \\sum_{(j,o) \\in \\mathcal{O}} \\left| S_{j,o} - S^{\\mathrm{orig}}_{j,o} \\right|\n",
    "$\n"
   ],
   "id": "5dfa9e5138659bea"
  },
  {
   "metadata": {},
   "cell_type": "markdown",
   "source": [
    "wobei:\n",
    "\n",
    "* \\$\\mathrm{CompTime}\\_j\\$ = Fertigstellungszeit des letzten Vorgangs von Job \\$j\\$\n",
    "* \\$\\mathrm{DueDate}\\_j\\$ = Wunschliefertermin von Job \\$j\\$\n",
    "* \\$S\\_{j,o}\\$ = Startzeit von Operation \\$o\\$ aus Job \\$j\\$\n",
    "* \\$S^{\\mathrm{orig}}\\_{j,o}\\$ = ursprüngliche Startzeit derselben Operation\n",
    "* **Freigaberegel für die erste Operation:** Die erste Operation eines Jobs \\$j\\$ darf frühestens beginnen bei\n",
    "\n",
    "$$\n",
    "\\mathrm{EarliestStart}_j\n",
    "= \\mathrm{DueDate}_j\n",
    "- \\sum_{o \\in \\mathcal{O}_j} \\mathrm{Duration}_{j,o}\n",
    "- \\sum_{o \\in \\mathcal{O}_j} \\mathrm{TransitionTime}_{j,o}\n",
    "$$\n",
    "\n"
   ],
   "id": "15b0991fc64f20ed"
  },
  {
   "metadata": {},
   "cell_type": "markdown",
   "source": [
    "\n",
    "\n",
    "\n",
    "\n"
   ],
   "id": "2aa930a69ca53d4f"
  },
  {
   "metadata": {},
   "cell_type": "code",
   "outputs": [],
   "execution_count": null,
   "source": "",
   "id": "bbe4d0501e857f85"
  }
 ],
 "metadata": {
  "kernelspec": {
   "display_name": "Python 3",
   "language": "python",
   "name": "python3"
  },
  "language_info": {
   "codemirror_mode": {
    "name": "ipython",
    "version": 2
   },
   "file_extension": ".py",
   "mimetype": "text/x-python",
   "name": "python",
   "nbconvert_exporter": "python",
   "pygments_lexer": "ipython2",
   "version": "2.7.6"
  }
 },
 "nbformat": 4,
 "nbformat_minor": 5
}
