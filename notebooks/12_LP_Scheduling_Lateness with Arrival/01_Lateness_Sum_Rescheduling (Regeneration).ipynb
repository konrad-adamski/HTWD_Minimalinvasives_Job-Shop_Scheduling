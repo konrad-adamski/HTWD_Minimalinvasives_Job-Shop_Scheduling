{
 "cells": [
  {
   "cell_type": "markdown",
   "id": "53c73a85-6ed9-4164-8069-6dd08b733ae5",
   "metadata": {},
   "source": [
    "# Rescheduling mit Lateness (Summe)\n",
    "> Planunghorizont Tag 0: 2 Tage <br>\n",
    "> Rescheduling des Tages 1"
   ]
  },
  {
   "cell_type": "code",
   "execution_count": 1,
   "id": "43a0dd27-a517-4bb7-893b-bedb4ce63cf6",
   "metadata": {},
   "outputs": [],
   "source": [
    "# Datenzugriff\n",
    "from configs.config import get_path\n",
    "\n",
    "# Utils\n",
    "import src.utils.presenter as show\n",
    "from src.utils.production_process import convert\n",
    "from src.utils.production_process import initialize as init\n",
    "from src.utils.analize import check_constrains as check\n",
    "\n",
    "from src.utils.production_process import time_determination as term\n",
    "from src.utils.production_process import gen_deadline as gen_deadline\n",
    "\n",
    "# Solver Model\n",
    "from src.models.lp import lateness_scheduling as lp_late_schedule\n",
    "from src.models.lp import lateness_rescheduling as lp_late_reschedule\n",
    "import src.models.heuristics.fcfs as fcfs\n",
    "\n",
    "# Extern\n",
    "import pandas as pd\n",
    "pd.set_option('display.max_rows', 21)"
   ]
  },
  {
   "cell_type": "code",
   "execution_count": 2,
   "id": "adea4135-cc3a-4fed-9edf-2ac06073ebb7",
   "metadata": {},
   "outputs": [],
   "source": [
    "max_time = 60*5 # 5 min"
   ]
  },
  {
   "cell_type": "code",
   "execution_count": 3,
   "id": "831e8968-45e3-4d89-a69c-31c64b32ead9",
   "metadata": {},
   "outputs": [
    {
     "name": "stdout",
     "output_type": "stream",
     "text": [
      "\n",
      "Schedule-Informationen:\n",
      "  Makespan: 2400\n"
     ]
    },
    {
     "data": {
      "text/html": [
       "<div>\n",
       "<style scoped>\n",
       "    .dataframe tbody tr th:only-of-type {\n",
       "        vertical-align: middle;\n",
       "    }\n",
       "\n",
       "    .dataframe tbody tr th {\n",
       "        vertical-align: top;\n",
       "    }\n",
       "\n",
       "    .dataframe thead th {\n",
       "        text-align: right;\n",
       "    }\n",
       "</style>\n",
       "<table border=\"1\" class=\"dataframe\">\n",
       "  <thead>\n",
       "    <tr style=\"text-align: right;\">\n",
       "      <th></th>\n",
       "      <th>Job</th>\n",
       "      <th>Production_Plan_ID</th>\n",
       "      <th>Arrival</th>\n",
       "      <th>Deadline</th>\n",
       "    </tr>\n",
       "  </thead>\n",
       "  <tbody>\n",
       "    <tr>\n",
       "      <th>0</th>\n",
       "      <td>0</td>\n",
       "      <td>0</td>\n",
       "      <td>49</td>\n",
       "      <td>848.0</td>\n",
       "    </tr>\n",
       "    <tr>\n",
       "      <th>1</th>\n",
       "      <td>1</td>\n",
       "      <td>1</td>\n",
       "      <td>130</td>\n",
       "      <td>1162.0</td>\n",
       "    </tr>\n",
       "    <tr>\n",
       "      <th>2</th>\n",
       "      <td>2</td>\n",
       "      <td>2</td>\n",
       "      <td>151</td>\n",
       "      <td>1300.0</td>\n",
       "    </tr>\n",
       "    <tr>\n",
       "      <th>3</th>\n",
       "      <td>3</td>\n",
       "      <td>3</td>\n",
       "      <td>226</td>\n",
       "      <td>1551.0</td>\n",
       "    </tr>\n",
       "    <tr>\n",
       "      <th>4</th>\n",
       "      <td>4</td>\n",
       "      <td>4</td>\n",
       "      <td>386</td>\n",
       "      <td>1181.0</td>\n",
       "    </tr>\n",
       "    <tr>\n",
       "      <th>5</th>\n",
       "      <td>5</td>\n",
       "      <td>5</td>\n",
       "      <td>464</td>\n",
       "      <td>1467.0</td>\n",
       "    </tr>\n",
       "    <tr>\n",
       "      <th>6</th>\n",
       "      <td>6</td>\n",
       "      <td>6</td>\n",
       "      <td>480</td>\n",
       "      <td>1322.0</td>\n",
       "    </tr>\n",
       "    <tr>\n",
       "      <th>7</th>\n",
       "      <td>7</td>\n",
       "      <td>7</td>\n",
       "      <td>506</td>\n",
       "      <td>1596.0</td>\n",
       "    </tr>\n",
       "    <tr>\n",
       "      <th>8</th>\n",
       "      <td>8</td>\n",
       "      <td>8</td>\n",
       "      <td>526</td>\n",
       "      <td>1734.0</td>\n",
       "    </tr>\n",
       "    <tr>\n",
       "      <th>9</th>\n",
       "      <td>9</td>\n",
       "      <td>9</td>\n",
       "      <td>535</td>\n",
       "      <td>1627.0</td>\n",
       "    </tr>\n",
       "    <tr>\n",
       "      <th>10</th>\n",
       "      <td>10</td>\n",
       "      <td>0</td>\n",
       "      <td>922</td>\n",
       "      <td>1721.0</td>\n",
       "    </tr>\n",
       "    <tr>\n",
       "      <th>11</th>\n",
       "      <td>11</td>\n",
       "      <td>9</td>\n",
       "      <td>928</td>\n",
       "      <td>2020.0</td>\n",
       "    </tr>\n",
       "    <tr>\n",
       "      <th>12</th>\n",
       "      <td>12</td>\n",
       "      <td>8</td>\n",
       "      <td>950</td>\n",
       "      <td>2158.0</td>\n",
       "    </tr>\n",
       "    <tr>\n",
       "      <th>13</th>\n",
       "      <td>13</td>\n",
       "      <td>2</td>\n",
       "      <td>1001</td>\n",
       "      <td>2150.0</td>\n",
       "    </tr>\n",
       "    <tr>\n",
       "      <th>14</th>\n",
       "      <td>14</td>\n",
       "      <td>4</td>\n",
       "      <td>1127</td>\n",
       "      <td>1922.0</td>\n",
       "    </tr>\n",
       "    <tr>\n",
       "      <th>15</th>\n",
       "      <td>15</td>\n",
       "      <td>7</td>\n",
       "      <td>1142</td>\n",
       "      <td>2232.0</td>\n",
       "    </tr>\n",
       "    <tr>\n",
       "      <th>16</th>\n",
       "      <td>16</td>\n",
       "      <td>1</td>\n",
       "      <td>1254</td>\n",
       "      <td>2286.0</td>\n",
       "    </tr>\n",
       "    <tr>\n",
       "      <th>17</th>\n",
       "      <td>17</td>\n",
       "      <td>3</td>\n",
       "      <td>1285</td>\n",
       "      <td>2610.0</td>\n",
       "    </tr>\n",
       "    <tr>\n",
       "      <th>18</th>\n",
       "      <td>18</td>\n",
       "      <td>5</td>\n",
       "      <td>1397</td>\n",
       "      <td>2400.0</td>\n",
       "    </tr>\n",
       "    <tr>\n",
       "      <th>19</th>\n",
       "      <td>19</td>\n",
       "      <td>6</td>\n",
       "      <td>1398</td>\n",
       "      <td>2240.0</td>\n",
       "    </tr>\n",
       "  </tbody>\n",
       "</table>\n",
       "</div>"
      ],
      "text/plain": [
       "    Job  Production_Plan_ID  Arrival  Deadline\n",
       "0     0                   0       49     848.0\n",
       "1     1                   1      130    1162.0\n",
       "2     2                   2      151    1300.0\n",
       "3     3                   3      226    1551.0\n",
       "4     4                   4      386    1181.0\n",
       "5     5                   5      464    1467.0\n",
       "6     6                   6      480    1322.0\n",
       "7     7                   7      506    1596.0\n",
       "8     8                   8      526    1734.0\n",
       "9     9                   9      535    1627.0\n",
       "10   10                   0      922    1721.0\n",
       "11   11                   9      928    2020.0\n",
       "12   12                   8      950    2158.0\n",
       "13   13                   2     1001    2150.0\n",
       "14   14                   4     1127    1922.0\n",
       "15   15                   7     1142    2232.0\n",
       "16   16                   1     1254    2286.0\n",
       "17   17                   3     1285    2610.0\n",
       "18   18                   5     1397    2400.0\n",
       "19   19                   6     1398    2240.0"
      ]
     },
     "execution_count": 3,
     "metadata": {},
     "output_type": "execute_result"
    }
   ],
   "source": [
    "basic_data_path = get_path(\"data\", \"basic\")\n",
    "day_count = 1\n",
    "\n",
    "df_instance = pd.read_csv(basic_data_path / \"instance.csv\")\n",
    "df_jssp, df_job_arrivals = init.create_production_orders_for_shifts(df_template=df_instance, shift_count=day_count,\n",
    "                                                                 u_b_mmax= 0.94, shift_length=1440, shuffle=True,\n",
    "                                                                 job_seed=40, arrival_seed=80)\n",
    "df_job_times = gen_deadline.get_times_df(df_jssp, df_job_arrivals, fcfs.schedule_with_arrivals, target_service=1.0)\n",
    "df_job_times"
   ]
  },
  {
   "cell_type": "markdown",
   "id": "3267907a-c7e0-4c75-9ee0-4a09ff87ea60",
   "metadata": {},
   "source": [
    "## I) Complete Scheduling"
   ]
  },
  {
   "cell_type": "code",
   "execution_count": null,
   "id": "864614f5-1267-4995-9e6f-965f56fcfab6",
   "metadata": {},
   "outputs": [
    {
     "name": "stdout",
     "output_type": "stream",
     "text": [
      "BigM: 6000\n"
     ]
    }
   ],
   "source": [
    "# Scheduling\n",
    "df_schedule = lp_late_schedule.solve_jssp_sum(df_jssp, df_job_times, solver= \"HiGHS\", msg=False, timeLimit=max_time, gapRel= 0.01)\n",
    "df_schedule"
   ]
  },
  {
   "cell_type": "code",
   "execution_count": null,
   "id": "82bc22b3-300b-4851-9fba-b5e9facd8912",
   "metadata": {},
   "outputs": [],
   "source": [
    "last_ops = df_schedule.sort_values(['Job', 'Operation']).drop_duplicates('Job', keep='last')\n",
    "print(show.count_column_grouped(last_ops, 'Absolute Lateness'))"
   ]
  },
  {
   "cell_type": "code",
   "execution_count": null,
   "id": "9044a301-09b4-4644-b309-05a94f0442c4",
   "metadata": {},
   "outputs": [],
   "source": [
    "show.plot_gantt(df_schedule, perspective=\"Machine\")\n",
    "check.is_machine_conflict_free(df_schedule)\n",
    "check.is_operation_sequence_correct(df_schedule)\n",
    "check.is_job_timing_correct(df_schedule)\n",
    "check.is_start_correct(df_schedule)"
   ]
  },
  {
   "cell_type": "markdown",
   "id": "3e7096a7-8e3e-4278-ac1e-3aec3807f681",
   "metadata": {},
   "source": [
    "## II) Erster Tag (Tag 0)"
   ]
  },
  {
   "cell_type": "markdown",
   "id": "89bfc735-8d24-4aab-a9dc-9f60b7187e67",
   "metadata": {},
   "source": [
    "### a) Simulation"
   ]
  },
  {
   "cell_type": "code",
   "execution_count": null,
   "id": "eace3b8a-233e-44f0-ba67-8578355c6f3e",
   "metadata": {},
   "outputs": [],
   "source": [
    "day_length = 1440"
   ]
  },
  {
   "cell_type": "code",
   "execution_count": null,
   "id": "2ae3b72f-14ca-4550-9e66-547d94f88ab9",
   "metadata": {},
   "outputs": [],
   "source": [
    "day_numb = 0\n",
    "\n",
    "day_start = day_length*day_numb \n",
    "day_end = day_start + day_length"
   ]
  },
  {
   "cell_type": "code",
   "execution_count": null,
   "id": "24110bd6-46ca-4d87-a1cc-c9b261b3384f",
   "metadata": {
    "scrolled": true
   },
   "outputs": [],
   "source": [
    "simulation = ProductionDaySimulation(df_plan, vc=0.25)\n",
    "df_execution = simulation.run(start_time = day_start, end_time=day_end)"
   ]
  },
  {
   "cell_type": "code",
   "execution_count": null,
   "id": "c5daef60-9f0e-4c4e-bdcb-c42ae3c17cbf",
   "metadata": {},
   "outputs": [],
   "source": [
    "df_plan_undone = process_filter.get_unexecuted_operations(df_schedule, df_execution)\n",
    "df_plan_undone "
   ]
  },
  {
   "cell_type": "code",
   "execution_count": null,
   "id": "0aca4a5b-dbde-465f-ac59-bf9a052ad537",
   "metadata": {},
   "outputs": [],
   "source": [
    "if not df_execution.empty:\n",
    "    show.plot_gantt(df_execution, perspective=\"Machine\", title=f\"Gantt-Diagramm ab Tag {day_numb}\")\n",
    "else:\n",
    "    print(f\"Nothing executed on day {day_numb}\")"
   ]
  },
  {
   "cell_type": "markdown",
   "id": "ae9b85c7-7a18-4611-b738-4b9b18aaf935",
   "metadata": {},
   "source": [
    "### b) Verbleibene Jobs (Rest)"
   ]
  },
  {
   "cell_type": "code",
   "execution_count": null,
   "id": "7dc54407-57b7-4b58-88c0-750cdfc7cca6",
   "metadata": {},
   "outputs": [],
   "source": [
    "df_plan_undone "
   ]
  },
  {
   "cell_type": "code",
   "execution_count": null,
   "id": "9ecd6d73-e14b-4613-88ce-06abd43ccd5f",
   "metadata": {},
   "outputs": [],
   "source": [
    "df_job_times_undone = process_filter.update_times_after_operation_changes(df_job_times, df_plan_undone)\n",
    "df_job_times_undone"
   ]
  },
  {
   "cell_type": "markdown",
   "id": "c91e614a-f011-412b-8ed3-375d11daf3c1",
   "metadata": {},
   "source": [
    "## III) Rescheduling\n",
    "> vereinfacht, ohne neu Aufträge (nur der Rest)"
   ]
  },
  {
   "cell_type": "code",
   "execution_count": null,
   "id": "e16a4366-f820-4f5c-8b00-8c875eb6dea1",
   "metadata": {},
   "outputs": [],
   "source": [
    "# Reduktion der bereits ausgeführten Operationen auf die relevanten für die nächsten Tage\n",
    "df_execution_important = df_execution[df_execution[\"End\"] >= 1440]\n",
    "df_execution_important"
   ]
  },
  {
   "cell_type": "code",
   "execution_count": null,
   "id": "4be98c5f-ae83-4b75-8abe-e4c21ea229f6",
   "metadata": {},
   "outputs": [],
   "source": [
    "df_reschedule = lp_late_reschedule.solve_jssp_sum_with_fixed_ops(df_plan_undone, df_job_times_undone,\n",
    "                                                                 df_execution_important,\n",
    "                                                                 reschedule_start = 1440,\n",
    "                                                                 solver= \"HiGHS\", msg=False, timeLimit=max_time, gapRel= 0.0)\n",
    "df_reschedule"
   ]
  },
  {
   "cell_type": "code",
   "execution_count": null,
   "id": "3872b9e7-9be1-4f7b-9e15-2b1f9f0e3da5",
   "metadata": {},
   "outputs": [],
   "source": [
    "last_ops = df_reschedule.sort_values(['Job', 'Operation']).drop_duplicates('Job', keep='last')\n",
    "print(show.count_column_grouped(last_ops, 'Lateness'))"
   ]
  },
  {
   "cell_type": "code",
   "execution_count": null,
   "id": "998d89ac-d726-4c0f-ae1e-6f87b8528a81",
   "metadata": {},
   "outputs": [],
   "source": [
    "show.plot_gantt_machines(df_reschedule)\n",
    "check.is_machine_conflict_free(df_reschedule)\n",
    "check.is_operation_sequence_correct(df_reschedule)\n",
    "check.is_job_timing_correct(df_reschedule)\n",
    "check.is_start_correct(df_reschedule)"
   ]
  },
  {
   "cell_type": "markdown",
   "id": "65ec35e5-141a-4330-af58-c5ce59a5e584",
   "metadata": {},
   "source": [
    "## Simulation + neuer Schedule "
   ]
  },
  {
   "cell_type": "code",
   "execution_count": null,
   "id": "710ea9d5-2145-418e-b70c-bfa2e28e8acc",
   "metadata": {},
   "outputs": [],
   "source": [
    "df_combined = pd.concat([df_execution, df_reschedule], ignore_index=True)\n",
    "df_combined"
   ]
  },
  {
   "cell_type": "code",
   "execution_count": null,
   "id": "9789a952-764a-46ae-8b63-9424f38c5086",
   "metadata": {},
   "outputs": [],
   "source": [
    "df = df_combined\n",
    "show.plot_gantt_machines(df)\n",
    "check.is_machine_conflict_free(df)\n",
    "check.is_operation_sequence_correct(df)\n",
    "check.is_job_timing_correct(df)\n",
    "check.is_start_correct(df)"
   ]
  }
 ],
 "metadata": {
  "kernelspec": {
   "display_name": "Python 3 (ipykernel)",
   "language": "python",
   "name": "python3"
  },
  "language_info": {
   "codemirror_mode": {
    "name": "ipython",
    "version": 3
   },
   "file_extension": ".py",
   "mimetype": "text/x-python",
   "name": "python",
   "nbconvert_exporter": "python",
   "pygments_lexer": "ipython3",
   "version": "3.13.2"
  }
 },
 "nbformat": 4,
 "nbformat_minor": 5
}
