{
 "cells": [
  {
   "cell_type": "markdown",
   "id": "931bc80c98da12ed",
   "metadata": {},
   "source": [
    "# Rescheduling mit Tardiness (Summe)\n",
    "> Planunghorizont Tag 0: 2 Tage\n",
    "> Rescheduling des Tages 1"
   ]
  },
  {
   "cell_type": "code",
   "execution_count": 1,
   "id": "7145f1ef-c5a0-4d12-a5cb-fd1f286f0a68",
   "metadata": {},
   "outputs": [],
   "source": [
    "from configs.config import get_path\n",
    "import src.utils.converter as convert\n",
    "import src.utils.presenter as show\n",
    "import src.utils.checker as check\n",
    "\n",
    "import math\n",
    "import pandas as pd\n",
    "pd.set_option('display.max_rows', 21)\n",
    "\n",
    "import src.utils.gen_jobs as gen_jobs\n",
    "import src.utils.gen_deadline as gen_deadline\n",
    "import src.utils.rolling_scheduling as rolling_schedule\n",
    "\n",
    "import src.models.cp.lateness as solver\n",
    "import src.models.heuristics.fcfs as heuristics\n",
    "\n",
    "import numpy as np\n",
    "from ortools.sat.python import cp_model\n",
    "\n",
    "import seaborn as sns\n",
    "import matplotlib.pyplot as plt\n",
    "\n",
    "import time"
   ]
  },
  {
   "cell_type": "code",
   "execution_count": 2,
   "id": "5f6a1202420181e2",
   "metadata": {
    "ExecuteTime": {
     "end_time": "2025-06-05T04:30:41.584541Z",
     "start_time": "2025-06-05T04:30:41.582013Z"
    }
   },
   "outputs": [],
   "source": [
    "max_time = 60 * 45 # 45 min\n",
    "max_time = 60 * 5 # 5 min"
   ]
  },
  {
   "cell_type": "code",
   "execution_count": 3,
   "id": "cd015f1d1e4d9eb9",
   "metadata": {
    "ExecuteTime": {
     "end_time": "2025-06-05T04:30:41.615851Z",
     "start_time": "2025-06-05T04:30:41.612676Z"
    }
   },
   "outputs": [
    {
     "data": {
      "text/html": [
       "<div>\n",
       "<style scoped>\n",
       "    .dataframe tbody tr th:only-of-type {\n",
       "        vertical-align: middle;\n",
       "    }\n",
       "\n",
       "    .dataframe tbody tr th {\n",
       "        vertical-align: top;\n",
       "    }\n",
       "\n",
       "    .dataframe thead th {\n",
       "        text-align: right;\n",
       "    }\n",
       "</style>\n",
       "<table border=\"1\" class=\"dataframe\">\n",
       "  <thead>\n",
       "    <tr style=\"text-align: right;\">\n",
       "      <th></th>\n",
       "      <th>Job</th>\n",
       "      <th>Operation</th>\n",
       "      <th>Machine</th>\n",
       "      <th>Processing Time</th>\n",
       "    </tr>\n",
       "  </thead>\n",
       "  <tbody>\n",
       "    <tr>\n",
       "      <th>0</th>\n",
       "      <td>Job_000</td>\n",
       "      <td>0</td>\n",
       "      <td>M0</td>\n",
       "      <td>29</td>\n",
       "    </tr>\n",
       "    <tr>\n",
       "      <th>1</th>\n",
       "      <td>Job_000</td>\n",
       "      <td>1</td>\n",
       "      <td>M1</td>\n",
       "      <td>78</td>\n",
       "    </tr>\n",
       "    <tr>\n",
       "      <th>2</th>\n",
       "      <td>Job_000</td>\n",
       "      <td>2</td>\n",
       "      <td>M2</td>\n",
       "      <td>9</td>\n",
       "    </tr>\n",
       "    <tr>\n",
       "      <th>3</th>\n",
       "      <td>Job_000</td>\n",
       "      <td>3</td>\n",
       "      <td>M3</td>\n",
       "      <td>36</td>\n",
       "    </tr>\n",
       "    <tr>\n",
       "      <th>4</th>\n",
       "      <td>Job_000</td>\n",
       "      <td>4</td>\n",
       "      <td>M4</td>\n",
       "      <td>49</td>\n",
       "    </tr>\n",
       "    <tr>\n",
       "      <th>...</th>\n",
       "      <td>...</td>\n",
       "      <td>...</td>\n",
       "      <td>...</td>\n",
       "      <td>...</td>\n",
       "    </tr>\n",
       "    <tr>\n",
       "      <th>315</th>\n",
       "      <td>Job_031</td>\n",
       "      <td>5</td>\n",
       "      <td>M1</td>\n",
       "      <td>28</td>\n",
       "    </tr>\n",
       "    <tr>\n",
       "      <th>316</th>\n",
       "      <td>Job_031</td>\n",
       "      <td>6</td>\n",
       "      <td>M6</td>\n",
       "      <td>46</td>\n",
       "    </tr>\n",
       "    <tr>\n",
       "      <th>317</th>\n",
       "      <td>Job_031</td>\n",
       "      <td>7</td>\n",
       "      <td>M5</td>\n",
       "      <td>46</td>\n",
       "    </tr>\n",
       "    <tr>\n",
       "      <th>318</th>\n",
       "      <td>Job_031</td>\n",
       "      <td>8</td>\n",
       "      <td>M7</td>\n",
       "      <td>72</td>\n",
       "    </tr>\n",
       "    <tr>\n",
       "      <th>319</th>\n",
       "      <td>Job_031</td>\n",
       "      <td>9</td>\n",
       "      <td>M8</td>\n",
       "      <td>30</td>\n",
       "    </tr>\n",
       "  </tbody>\n",
       "</table>\n",
       "<p>320 rows × 4 columns</p>\n",
       "</div>"
      ],
      "text/plain": [
       "         Job  Operation Machine  Processing Time\n",
       "0    Job_000          0      M0               29\n",
       "1    Job_000          1      M1               78\n",
       "2    Job_000          2      M2                9\n",
       "3    Job_000          3      M3               36\n",
       "4    Job_000          4      M4               49\n",
       "..       ...        ...     ...              ...\n",
       "315  Job_031          5      M1               28\n",
       "316  Job_031          6      M6               46\n",
       "317  Job_031          7      M5               46\n",
       "318  Job_031          8      M7               72\n",
       "319  Job_031          9      M8               30\n",
       "\n",
       "[320 rows x 4 columns]"
      ]
     },
     "execution_count": 3,
     "metadata": {},
     "output_type": "execute_result"
    }
   ],
   "source": [
    "basic_data_path = get_path(\"data\", \"basic\")\n",
    "df_instance = pd.read_csv(basic_data_path / \"00_instance.csv\")\n",
    "\n",
    "df_ops, df_jobs_arrivals = gen_jobs.create_jobs_for_days(df_instance, day_count = 1, u_b_mmax= 0.94, shuffle = True)\n",
    "df_ops"
   ]
  },
  {
   "cell_type": "code",
   "execution_count": 4,
   "id": "32d6297f58247d17",
   "metadata": {
    "ExecuteTime": {
     "end_time": "2025-06-05T04:30:45.181804Z",
     "start_time": "2025-06-05T04:30:42.100621Z"
    }
   },
   "outputs": [
    {
     "data": {
      "text/html": [
       "<div>\n",
       "<style scoped>\n",
       "    .dataframe tbody tr th:only-of-type {\n",
       "        vertical-align: middle;\n",
       "    }\n",
       "\n",
       "    .dataframe tbody tr th {\n",
       "        vertical-align: top;\n",
       "    }\n",
       "\n",
       "    .dataframe thead th {\n",
       "        text-align: right;\n",
       "    }\n",
       "</style>\n",
       "<table border=\"1\" class=\"dataframe\">\n",
       "  <thead>\n",
       "    <tr style=\"text-align: right;\">\n",
       "      <th></th>\n",
       "      <th>Job</th>\n",
       "      <th>Arrival</th>\n",
       "      <th>Deadline</th>\n",
       "    </tr>\n",
       "  </thead>\n",
       "  <tbody>\n",
       "    <tr>\n",
       "      <th>0</th>\n",
       "      <td>Job_000</td>\n",
       "      <td>0</td>\n",
       "      <td>1323</td>\n",
       "    </tr>\n",
       "    <tr>\n",
       "      <th>1</th>\n",
       "      <td>Job_001</td>\n",
       "      <td>81</td>\n",
       "      <td>1789</td>\n",
       "    </tr>\n",
       "    <tr>\n",
       "      <th>2</th>\n",
       "      <td>Job_002</td>\n",
       "      <td>101</td>\n",
       "      <td>2004</td>\n",
       "    </tr>\n",
       "    <tr>\n",
       "      <th>3</th>\n",
       "      <td>Job_003</td>\n",
       "      <td>142</td>\n",
       "      <td>2335</td>\n",
       "    </tr>\n",
       "    <tr>\n",
       "      <th>4</th>\n",
       "      <td>Job_004</td>\n",
       "      <td>177</td>\n",
       "      <td>1493</td>\n",
       "    </tr>\n",
       "  </tbody>\n",
       "</table>\n",
       "</div>"
      ],
      "text/plain": [
       "       Job  Arrival  Deadline\n",
       "0  Job_000        0      1323\n",
       "1  Job_001       81      1789\n",
       "2  Job_002      101      2004\n",
       "3  Job_003      142      2335\n",
       "4  Job_004      177      1493"
      ]
     },
     "execution_count": 4,
     "metadata": {},
     "output_type": "execute_result"
    }
   ],
   "source": [
    "# a) Initialisierung der Deadlines\n",
    "df_jobs = gen_deadline.get_times_df(df_ops, df_jobs_arrivals, heuristics.schedule_fcfs_with_arrivals, target_service=1.0)\n",
    "\n",
    "# Rundung für CP \n",
    "df_jobs[\"Arrival\"] = np.floor(df_jobs[\"Arrival\"]).astype(int)\n",
    "df_jobs[\"Deadline\"] = np.ceil(df_jobs[\"Deadline\"]).astype(int)\n",
    "df_jobs.head()"
   ]
  },
  {
   "cell_type": "code",
   "execution_count": 5,
   "id": "aec5c154-c423-4882-988b-0e41e91ccf9f",
   "metadata": {
    "ExecuteTime": {
     "end_time": "2025-06-05T04:30:45.223204Z",
     "start_time": "2025-06-05T04:30:45.214115Z"
    }
   },
   "outputs": [
    {
     "data": {
      "text/html": [
       "<div>\n",
       "<style scoped>\n",
       "    .dataframe tbody tr th:only-of-type {\n",
       "        vertical-align: middle;\n",
       "    }\n",
       "\n",
       "    .dataframe tbody tr th {\n",
       "        vertical-align: top;\n",
       "    }\n",
       "\n",
       "    .dataframe thead th {\n",
       "        text-align: right;\n",
       "    }\n",
       "</style>\n",
       "<table border=\"1\" class=\"dataframe\">\n",
       "  <thead>\n",
       "    <tr style=\"text-align: right;\">\n",
       "      <th></th>\n",
       "      <th>Job</th>\n",
       "      <th>Arrival</th>\n",
       "      <th>Deadline</th>\n",
       "      <th>Ready Time</th>\n",
       "      <th>Processing Time</th>\n",
       "      <th>Slack</th>\n",
       "    </tr>\n",
       "  </thead>\n",
       "  <tbody>\n",
       "    <tr>\n",
       "      <th>0</th>\n",
       "      <td>Job_000</td>\n",
       "      <td>0</td>\n",
       "      <td>1835</td>\n",
       "      <td>1440</td>\n",
       "      <td>395</td>\n",
       "      <td>0</td>\n",
       "    </tr>\n",
       "    <tr>\n",
       "      <th>1</th>\n",
       "      <td>Job_001</td>\n",
       "      <td>81</td>\n",
       "      <td>2301</td>\n",
       "      <td>1440</td>\n",
       "      <td>510</td>\n",
       "      <td>351</td>\n",
       "    </tr>\n",
       "    <tr>\n",
       "      <th>2</th>\n",
       "      <td>Job_002</td>\n",
       "      <td>101</td>\n",
       "      <td>2516</td>\n",
       "      <td>1440</td>\n",
       "      <td>568</td>\n",
       "      <td>508</td>\n",
       "    </tr>\n",
       "    <tr>\n",
       "      <th>3</th>\n",
       "      <td>Job_003</td>\n",
       "      <td>142</td>\n",
       "      <td>2847</td>\n",
       "      <td>1440</td>\n",
       "      <td>655</td>\n",
       "      <td>752</td>\n",
       "    </tr>\n",
       "    <tr>\n",
       "      <th>4</th>\n",
       "      <td>Job_004</td>\n",
       "      <td>177</td>\n",
       "      <td>2005</td>\n",
       "      <td>1440</td>\n",
       "      <td>393</td>\n",
       "      <td>172</td>\n",
       "    </tr>\n",
       "    <tr>\n",
       "      <th>...</th>\n",
       "      <td>...</td>\n",
       "      <td>...</td>\n",
       "      <td>...</td>\n",
       "      <td>...</td>\n",
       "      <td>...</td>\n",
       "      <td>...</td>\n",
       "    </tr>\n",
       "    <tr>\n",
       "      <th>27</th>\n",
       "      <td>Job_027</td>\n",
       "      <td>1390</td>\n",
       "      <td>3707</td>\n",
       "      <td>1440</td>\n",
       "      <td>539</td>\n",
       "      <td>1728</td>\n",
       "    </tr>\n",
       "    <tr>\n",
       "      <th>28</th>\n",
       "      <td>Job_028</td>\n",
       "      <td>1391</td>\n",
       "      <td>3226</td>\n",
       "      <td>1440</td>\n",
       "      <td>395</td>\n",
       "      <td>1391</td>\n",
       "    </tr>\n",
       "    <tr>\n",
       "      <th>29</th>\n",
       "      <td>Job_029</td>\n",
       "      <td>1410</td>\n",
       "      <td>3239</td>\n",
       "      <td>1440</td>\n",
       "      <td>393</td>\n",
       "      <td>1406</td>\n",
       "    </tr>\n",
       "    <tr>\n",
       "      <th>30</th>\n",
       "      <td>Job_030</td>\n",
       "      <td>1423</td>\n",
       "      <td>3258</td>\n",
       "      <td>1440</td>\n",
       "      <td>395</td>\n",
       "      <td>1423</td>\n",
       "    </tr>\n",
       "    <tr>\n",
       "      <th>31</th>\n",
       "      <td>Job_031</td>\n",
       "      <td>1424</td>\n",
       "      <td>3644</td>\n",
       "      <td>1440</td>\n",
       "      <td>510</td>\n",
       "      <td>1694</td>\n",
       "    </tr>\n",
       "  </tbody>\n",
       "</table>\n",
       "<p>32 rows × 6 columns</p>\n",
       "</div>"
      ],
      "text/plain": [
       "        Job  Arrival  Deadline  Ready Time  Processing Time  Slack\n",
       "0   Job_000        0      1835        1440              395      0\n",
       "1   Job_001       81      2301        1440              510    351\n",
       "2   Job_002      101      2516        1440              568    508\n",
       "3   Job_003      142      2847        1440              655    752\n",
       "4   Job_004      177      2005        1440              393    172\n",
       "..      ...      ...       ...         ...              ...    ...\n",
       "27  Job_027     1390      3707        1440              539   1728\n",
       "28  Job_028     1391      3226        1440              395   1391\n",
       "29  Job_029     1410      3239        1440              393   1406\n",
       "30  Job_030     1423      3258        1440              395   1423\n",
       "31  Job_031     1424      3644        1440              510   1694\n",
       "\n",
       "[32 rows x 6 columns]"
      ]
     },
     "execution_count": 5,
     "metadata": {},
     "output_type": "execute_result"
    }
   ],
   "source": [
    "# b) Bestimmung der \"Ready Time\"\n",
    "df_jobs['Ready Time'] = ((df_jobs['Arrival'] // 1440) + 1) * 1440\n",
    "\n",
    "# c) Processing Time\n",
    "processing_time = df_ops.groupby('Job')['Processing Time'].sum()\n",
    "df_jobs = pd.merge(df_jobs, processing_time, on='Job')\n",
    "\n",
    "# d) Bestimmung des Slacks\n",
    "df_jobs['Slack'] = df_jobs['Deadline'] - (df_jobs['Ready Time'] + df_jobs['Processing Time'])\n",
    "\n",
    "# e) Anpassung der Deadlines\n",
    "min_slack = df_jobs['Slack'].min()\n",
    "\n",
    "if min_slack < 0:\n",
    "    df_jobs[\"Deadline\"] = df_jobs[\"Deadline\"] + abs(min_slack)\n",
    "df_jobs\n",
    "\n",
    "# f) erneute Bestimmung des Slacks\n",
    "df_jobs['Slack'] = df_jobs['Deadline'] - (df_jobs['Ready Time'] + df_jobs['Processing Time'])\n",
    "df_jobs "
   ]
  },
  {
   "cell_type": "code",
   "execution_count": 6,
   "id": "7da2c8f5-2399-4404-8114-79042a08e6d3",
   "metadata": {
    "ExecuteTime": {
     "end_time": "2025-06-05T04:30:45.260008Z",
     "start_time": "2025-06-05T04:30:45.258122Z"
    }
   },
   "outputs": [],
   "source": [
    "day_length = 1440"
   ]
  },
  {
   "cell_type": "markdown",
   "id": "1a0ae21915147fa5",
   "metadata": {},
   "source": [
    "## I) Tag 1"
   ]
  },
  {
   "cell_type": "code",
   "execution_count": 7,
   "id": "04776d25-4938-4628-9b10-e5528285f76e",
   "metadata": {
    "ExecuteTime": {
     "end_time": "2025-06-05T04:30:45.332476Z",
     "start_time": "2025-06-05T04:30:45.329624Z"
    }
   },
   "outputs": [
    {
     "name": "stdout",
     "output_type": "stream",
     "text": [
      "Tag 01: [1440, 2880)\n"
     ]
    }
   ],
   "source": [
    "day_numb = 1\n",
    "\n",
    "day_start = day_length*day_numb \n",
    "day_end = day_start + day_length\n",
    "print(f\"Tag {day_numb:02d}: [{day_start}, {day_end})\")"
   ]
  },
  {
   "cell_type": "code",
   "execution_count": 8,
   "id": "637281af-4ac8-481a-ab73-2b11e24a8cd5",
   "metadata": {
    "ExecuteTime": {
     "end_time": "2025-06-05T04:30:45.412140Z",
     "start_time": "2025-06-05T04:30:45.409252Z"
    }
   },
   "outputs": [],
   "source": [
    "def filter_ops_and_jobs_by_ready_time(df_jobs: pd.DataFrame, df_ops: pd.DataFrame, \n",
    "                              ready_time_col = \"Ready Time\", ready_time: int = 0) -> tuple[pd.DataFrame, pd.DataFrame]:\n",
    "\n",
    "    # Jobs zeitlich filtern\n",
    "    time_filter = df_jobs[ready_time_col] == ready_time\n",
    "    df_jobs_filtered = df_jobs[time_filter].copy()\n",
    "\n",
    "    # Operationen nach (gefilterten) Jobs filtern\n",
    "    jobs = df_jobs_filtered[\"Job\"]\n",
    "    df_ops_filtered = df_ops[df_ops[\"Job\"].isin(jobs)].copy()\n",
    "    return df_jobs_filtered, df_ops_filtered"
   ]
  },
  {
   "cell_type": "code",
   "execution_count": 9,
   "id": "9453627d-6d60-4163-b5ae-c867f787b033",
   "metadata": {
    "ExecuteTime": {
     "end_time": "2025-06-05T04:30:45.465853Z",
     "start_time": "2025-06-05T04:30:45.458703Z"
    }
   },
   "outputs": [
    {
     "data": {
      "text/html": [
       "<div>\n",
       "<style scoped>\n",
       "    .dataframe tbody tr th:only-of-type {\n",
       "        vertical-align: middle;\n",
       "    }\n",
       "\n",
       "    .dataframe tbody tr th {\n",
       "        vertical-align: top;\n",
       "    }\n",
       "\n",
       "    .dataframe thead th {\n",
       "        text-align: right;\n",
       "    }\n",
       "</style>\n",
       "<table border=\"1\" class=\"dataframe\">\n",
       "  <thead>\n",
       "    <tr style=\"text-align: right;\">\n",
       "      <th></th>\n",
       "      <th>Job</th>\n",
       "      <th>Arrival</th>\n",
       "      <th>Deadline</th>\n",
       "      <th>Ready Time</th>\n",
       "      <th>Processing Time</th>\n",
       "      <th>Slack</th>\n",
       "    </tr>\n",
       "  </thead>\n",
       "  <tbody>\n",
       "    <tr>\n",
       "      <th>0</th>\n",
       "      <td>Job_000</td>\n",
       "      <td>0</td>\n",
       "      <td>1835</td>\n",
       "      <td>1440</td>\n",
       "      <td>395</td>\n",
       "      <td>0</td>\n",
       "    </tr>\n",
       "    <tr>\n",
       "      <th>1</th>\n",
       "      <td>Job_001</td>\n",
       "      <td>81</td>\n",
       "      <td>2301</td>\n",
       "      <td>1440</td>\n",
       "      <td>510</td>\n",
       "      <td>351</td>\n",
       "    </tr>\n",
       "    <tr>\n",
       "      <th>2</th>\n",
       "      <td>Job_002</td>\n",
       "      <td>101</td>\n",
       "      <td>2516</td>\n",
       "      <td>1440</td>\n",
       "      <td>568</td>\n",
       "      <td>508</td>\n",
       "    </tr>\n",
       "    <tr>\n",
       "      <th>3</th>\n",
       "      <td>Job_003</td>\n",
       "      <td>142</td>\n",
       "      <td>2847</td>\n",
       "      <td>1440</td>\n",
       "      <td>655</td>\n",
       "      <td>752</td>\n",
       "    </tr>\n",
       "    <tr>\n",
       "      <th>4</th>\n",
       "      <td>Job_004</td>\n",
       "      <td>177</td>\n",
       "      <td>2005</td>\n",
       "      <td>1440</td>\n",
       "      <td>393</td>\n",
       "      <td>172</td>\n",
       "    </tr>\n",
       "    <tr>\n",
       "      <th>...</th>\n",
       "      <td>...</td>\n",
       "      <td>...</td>\n",
       "      <td>...</td>\n",
       "      <td>...</td>\n",
       "      <td>...</td>\n",
       "      <td>...</td>\n",
       "    </tr>\n",
       "    <tr>\n",
       "      <th>27</th>\n",
       "      <td>Job_027</td>\n",
       "      <td>1390</td>\n",
       "      <td>3707</td>\n",
       "      <td>1440</td>\n",
       "      <td>539</td>\n",
       "      <td>1728</td>\n",
       "    </tr>\n",
       "    <tr>\n",
       "      <th>28</th>\n",
       "      <td>Job_028</td>\n",
       "      <td>1391</td>\n",
       "      <td>3226</td>\n",
       "      <td>1440</td>\n",
       "      <td>395</td>\n",
       "      <td>1391</td>\n",
       "    </tr>\n",
       "    <tr>\n",
       "      <th>29</th>\n",
       "      <td>Job_029</td>\n",
       "      <td>1410</td>\n",
       "      <td>3239</td>\n",
       "      <td>1440</td>\n",
       "      <td>393</td>\n",
       "      <td>1406</td>\n",
       "    </tr>\n",
       "    <tr>\n",
       "      <th>30</th>\n",
       "      <td>Job_030</td>\n",
       "      <td>1423</td>\n",
       "      <td>3258</td>\n",
       "      <td>1440</td>\n",
       "      <td>395</td>\n",
       "      <td>1423</td>\n",
       "    </tr>\n",
       "    <tr>\n",
       "      <th>31</th>\n",
       "      <td>Job_031</td>\n",
       "      <td>1424</td>\n",
       "      <td>3644</td>\n",
       "      <td>1440</td>\n",
       "      <td>510</td>\n",
       "      <td>1694</td>\n",
       "    </tr>\n",
       "  </tbody>\n",
       "</table>\n",
       "<p>32 rows × 6 columns</p>\n",
       "</div>"
      ],
      "text/plain": [
       "        Job  Arrival  Deadline  Ready Time  Processing Time  Slack\n",
       "0   Job_000        0      1835        1440              395      0\n",
       "1   Job_001       81      2301        1440              510    351\n",
       "2   Job_002      101      2516        1440              568    508\n",
       "3   Job_003      142      2847        1440              655    752\n",
       "4   Job_004      177      2005        1440              393    172\n",
       "..      ...      ...       ...         ...              ...    ...\n",
       "27  Job_027     1390      3707        1440              539   1728\n",
       "28  Job_028     1391      3226        1440              395   1391\n",
       "29  Job_029     1410      3239        1440              393   1406\n",
       "30  Job_030     1423      3258        1440              395   1423\n",
       "31  Job_031     1424      3644        1440              510   1694\n",
       "\n",
       "[32 rows x 6 columns]"
      ]
     },
     "execution_count": 9,
     "metadata": {},
     "output_type": "execute_result"
    }
   ],
   "source": [
    "df_jobs_curr, df_ops_curr = filter_ops_and_jobs_by_ready_time(df_jobs, df_ops, ready_time = day_start)\n",
    "df_jobs_curr"
   ]
  },
  {
   "cell_type": "markdown",
   "id": "169b670c-d333-4f64-a6ed-db381fe55864",
   "metadata": {},
   "source": [
    "### A) Scheduling für Tag 1"
   ]
  },
  {
   "cell_type": "code",
   "execution_count": null,
   "id": "b975b99a32e0c9",
   "metadata": {
    "ExecuteTime": {
     "end_time": "2025-06-05T04:30:45.693238Z",
     "start_time": "2025-06-05T04:30:45.558525Z"
    }
   },
   "outputs": [],
   "source": [
    "starting_time = time.time()\n",
    "\n",
    "# Scheduling\n",
    "df_plan = solver.solve_cp_jssp_lateness_by_tardiness_and_earliness(df_ops_curr, df_jobs_curr, w_t = 5,\n",
    "                                                                schedule_start = 1440,\n",
    "                                                                msg=False, timeLimit=max_time, gapRel= 0.00)\n",
    "df_plan\n",
    "\n",
    "# Informationen\n",
    "ending_time = time.time()\n",
    "solver_duration = ending_time - starting_time\n",
    "print(f\"\\nScheduling-Dauer: {int(solver_duration // 60)} Minuten und {(solver_duration % 60):.2f} Sekunden.\")\n",
    "df_plan"
   ]
  },
  {
   "cell_type": "code",
   "execution_count": null,
   "id": "f867fe992cdec24b",
   "metadata": {
    "ExecuteTime": {
     "end_time": "2025-06-05T04:30:46.014193Z",
     "start_time": "2025-06-05T04:30:45.730460Z"
    }
   },
   "outputs": [],
   "source": [
    "show.plot_gantt_machines(df_plan)\n",
    "\n",
    "check.is_machine_conflict_free(df_plan)\n",
    "check.is_operation_sequence_correct(df_plan)\n",
    "check.is_job_timing_correct(df_plan)\n",
    "check.is_start_correct(df_plan)"
   ]
  },
  {
   "cell_type": "markdown",
   "id": "013c2961-02cc-4454-a10e-2ef710696e47",
   "metadata": {},
   "source": [
    "### B) Aufteilung in heutige und zukünftge Operationen"
   ]
  },
  {
   "cell_type": "code",
   "execution_count": null,
   "id": "047caf4a-2e40-4ae0-b1e8-8e1e535200ad",
   "metadata": {
    "ExecuteTime": {
     "end_time": "2025-06-05T04:30:46.038282Z",
     "start_time": "2025-06-05T04:30:46.035742Z"
    }
   },
   "outputs": [],
   "source": [
    "def filter_plan_for_today(df_plan, latest_op_start: int = 0): # exclusive\n",
    "    filt = (df_plan.Start < latest_op_start)\n",
    "    return df_plan[filt].sort_values(by=\"Job\").reset_index(drop=True)"
   ]
  },
  {
   "cell_type": "code",
   "execution_count": null,
   "id": "2e086e4a-2f66-4926-8d4a-bd8363ad75e7",
   "metadata": {
    "ExecuteTime": {
     "end_time": "2025-06-05T04:30:46.078854Z",
     "start_time": "2025-06-05T04:30:46.071933Z"
    }
   },
   "outputs": [],
   "source": [
    "df_plan_for_sim = filter_plan_for_today(df_plan, latest_op_start = day_end)\n",
    "df_plan_for_sim"
   ]
  },
  {
   "cell_type": "code",
   "execution_count": null,
   "id": "c7a76424-4ddc-43fd-868b-5c49bfb2f0e0",
   "metadata": {
    "ExecuteTime": {
     "end_time": "2025-06-05T04:30:46.136695Z",
     "start_time": "2025-06-05T04:30:46.134207Z"
    }
   },
   "outputs": [],
   "source": [
    "def filter_plan_for_future(df_plan, earliest_op_start: int = 0):\n",
    "    filt = (df_plan.Start >= earliest_op_start)\n",
    "    return df_plan[filt].sort_values(by=[\"Job\", \"Start\"]).reset_index(drop=True)"
   ]
  },
  {
   "cell_type": "code",
   "execution_count": null,
   "id": "3a6662c3-b88b-44f4-9af7-e507106e89cc",
   "metadata": {
    "ExecuteTime": {
     "end_time": "2025-06-05T04:30:46.182653Z",
     "start_time": "2025-06-05T04:30:46.176423Z"
    }
   },
   "outputs": [],
   "source": [
    "df_plan_waiting = filter_plan_for_future(df_plan, earliest_op_start = day_end)\n",
    "df_plan_waiting"
   ]
  },
  {
   "cell_type": "markdown",
   "id": "29de6b6f5fdb1216",
   "metadata": {},
   "source": [
    "### C) Simulation"
   ]
  },
  {
   "cell_type": "code",
   "execution_count": null,
   "id": "2d47fad8a87cd228",
   "metadata": {
    "ExecuteTime": {
     "end_time": "2025-06-05T04:30:46.272147Z",
     "start_time": "2025-06-05T04:30:46.247242Z"
    },
    "scrolled": true
   },
   "outputs": [],
   "source": [
    "simulation = ProductionDaySimulation(df_plan_for_sim, vc=0.35)\n",
    "df_execution, df_plan_undone = simulation.run(start_time = day_start, end_time=day_end)"
   ]
  },
  {
   "cell_type": "code",
   "execution_count": null,
   "id": "865c984ef6606386",
   "metadata": {
    "ExecuteTime": {
     "end_time": "2025-06-05T04:30:46.344731Z",
     "start_time": "2025-06-05T04:30:46.338604Z"
    }
   },
   "outputs": [],
   "source": [
    "df_plan_undone"
   ]
  },
  {
   "cell_type": "code",
   "execution_count": null,
   "id": "fc08c795b3652d8c",
   "metadata": {
    "ExecuteTime": {
     "end_time": "2025-06-05T04:30:46.646431Z",
     "start_time": "2025-06-05T04:30:46.406817Z"
    }
   },
   "outputs": [],
   "source": [
    "if not df_execution.empty:\n",
    "    show.plot_gantt_machines(df_execution, title=f\"Gantt-Diagramm ab Tag {day_numb}\", duration_column=\"Simulated Processing Time\")\n",
    "else:\n",
    "    print(f\"Nothing executed on day {day_numb}\")"
   ]
  },
  {
   "cell_type": "markdown",
   "id": "14248e58beedb4b7",
   "metadata": {},
   "source": [
    "## II) Tag 2\n",
    "> vereinfacht, ohne neu Aufträge (nur der Rest)"
   ]
  },
  {
   "cell_type": "code",
   "execution_count": null,
   "id": "896f44b4-9e7a-4f38-91ca-23700063a2e1",
   "metadata": {
    "ExecuteTime": {
     "end_time": "2025-06-05T04:30:46.665629Z",
     "start_time": "2025-06-05T04:30:46.662633Z"
    }
   },
   "outputs": [],
   "source": [
    "day_numb = 2\n",
    "\n",
    "day_start = day_length*day_numb \n",
    "day_end = day_start + day_length\n",
    "print(f\"Tag {day_numb:02d}: [{day_start}, {day_end})\")"
   ]
  },
  {
   "cell_type": "markdown",
   "id": "584b7955-4649-4572-8a43-2f1076ebca33",
   "metadata": {},
   "source": [
    "#### a) Filtern nach der aktuellen \"Ready Time\""
   ]
  },
  {
   "cell_type": "code",
   "execution_count": null,
   "id": "cf12f319-17d6-4e39-b0d1-7ce27df4beb1",
   "metadata": {
    "ExecuteTime": {
     "end_time": "2025-06-05T04:30:46.689732Z",
     "start_time": "2025-06-05T04:30:46.683824Z"
    }
   },
   "outputs": [],
   "source": [
    "df_jobs_curr, df_ops_curr = filter_ops_and_jobs_by_ready_time(df_jobs, df_ops, ready_time = day_start)\n",
    "df_jobs_curr"
   ]
  },
  {
   "cell_type": "markdown",
   "id": "d7cf333c-c30d-4137-9897-1902bcc1ed76",
   "metadata": {},
   "source": [
    "### b) Operationen, die zuvor \"ready\" waren, aber noch nicht starten sollten"
   ]
  },
  {
   "cell_type": "code",
   "execution_count": null,
   "id": "1175fa1c-66e9-44bf-a053-9f163fe4f529",
   "metadata": {
    "ExecuteTime": {
     "end_time": "2025-06-05T04:30:46.738280Z",
     "start_time": "2025-06-05T04:30:46.732209Z"
    }
   },
   "outputs": [],
   "source": [
    "df_plan_waiting"
   ]
  },
  {
   "cell_type": "code",
   "execution_count": null,
   "id": "fcb1061f-7c8f-4e7e-9a7e-c58e73706f93",
   "metadata": {
    "ExecuteTime": {
     "end_time": "2025-06-05T04:30:46.797416Z",
     "start_time": "2025-06-05T04:30:46.788971Z"
    }
   },
   "outputs": [],
   "source": [
    "# Sicherstellen, dass beide DataFrames die Spalten 'Job' und 'Operation' haben\n",
    "df_ops_waiting = df_ops.merge(df_plan_waiting[[\"Job\", \"Operation\"]], on=[\"Job\", \"Operation\"], how=\"inner\")\n",
    "df_ops_waiting"
   ]
  },
  {
   "cell_type": "code",
   "execution_count": null,
   "id": "47098840-311e-4517-909b-2aac0047ef11",
   "metadata": {
    "ExecuteTime": {
     "end_time": "2025-06-05T04:30:46.870713Z",
     "start_time": "2025-06-05T04:30:46.863798Z"
    }
   },
   "outputs": [],
   "source": [
    "df_jobs_waiting = df_jobs[df_jobs[\"Job\"].isin(df_plan_waiting[\"Job\"].unique())]\n",
    "df_jobs_waiting"
   ]
  },
  {
   "cell_type": "markdown",
   "id": "5dde760c-ca03-4cdc-bd74-501f6a03aa36",
   "metadata": {},
   "source": [
    "#### c) Unerledigte Operationen"
   ]
  },
  {
   "cell_type": "code",
   "execution_count": null,
   "id": "494b6e6e-4efd-4445-adf9-69de48a0c333",
   "metadata": {
    "ExecuteTime": {
     "end_time": "2025-06-05T04:30:47.001414Z",
     "start_time": "2025-06-05T04:30:46.995535Z"
    }
   },
   "outputs": [],
   "source": [
    "df_plan_undone"
   ]
  },
  {
   "cell_type": "code",
   "execution_count": null,
   "id": "eabf25fc-cbf0-40b2-bf8b-d795f174df6c",
   "metadata": {
    "ExecuteTime": {
     "end_time": "2025-06-05T04:30:47.128441Z",
     "start_time": "2025-06-05T04:30:47.121053Z"
    }
   },
   "outputs": [],
   "source": [
    "# Sicherstellen, dass beide DataFrames die Spalten 'Job' und 'Operation' haben\n",
    "df_ops_undone = df_ops.merge(df_plan_undone[[\"Job\", \"Operation\"]], on=[\"Job\", \"Operation\"], how=\"inner\")\n",
    "df_ops_undone"
   ]
  },
  {
   "cell_type": "code",
   "execution_count": null,
   "id": "e4fc8575-4925-40f9-a61c-71875b9081a2",
   "metadata": {
    "ExecuteTime": {
     "end_time": "2025-06-05T04:30:47.224364Z",
     "start_time": "2025-06-05T04:30:47.218558Z"
    }
   },
   "outputs": [],
   "source": [
    "df_jobs_undone = df_jobs[df_jobs[\"Job\"].isin(df_ops_undone[\"Job\"].unique())]\n",
    "df_jobs_undone"
   ]
  },
  {
   "cell_type": "markdown",
   "id": "283bba15-bf89-473d-8b74-8de4ab01e2c0",
   "metadata": {},
   "source": [
    "### Zusammenführen"
   ]
  },
  {
   "cell_type": "code",
   "execution_count": null,
   "id": "b2a81c19-a143-4f15-899e-bd8c5647f722",
   "metadata": {
    "ExecuteTime": {
     "end_time": "2025-06-05T04:30:47.339558Z",
     "start_time": "2025-06-05T04:30:47.332935Z"
    }
   },
   "outputs": [],
   "source": [
    "# Operationen\n",
    "df_ops_curr_all = pd.concat([df_ops_curr, df_ops_waiting, df_ops_undone], ignore_index=True)\n",
    "df_ops_curr_all = df_ops_curr_all.sort_values(by=[\"Job\", \"Operation\"]).reset_index(drop=True)\n",
    "df_ops_curr_all"
   ]
  },
  {
   "cell_type": "code",
   "execution_count": null,
   "id": "9f91494e-42c9-419e-9859-739a464e6e9f",
   "metadata": {
    "ExecuteTime": {
     "end_time": "2025-06-05T04:30:47.446416Z",
     "start_time": "2025-06-05T04:30:47.439727Z"
    }
   },
   "outputs": [],
   "source": [
    "df_jobs_curr_all = pd.concat([df_jobs_curr, df_jobs_waiting, df_jobs_undone], ignore_index=True)\n",
    "df_jobs_curr_all = df_jobs_curr_all.drop_duplicates(subset=\"Job\", keep=\"first\").sort_values(by=\"Job\").reset_index(drop=True)\n",
    "df_jobs_curr_all"
   ]
  },
  {
   "cell_type": "markdown",
   "id": "0e6b6a97-8803-4713-956f-30d2b4f6cbf1",
   "metadata": {},
   "source": [
    "### A) Rescheduling für Tag 2"
   ]
  },
  {
   "cell_type": "code",
   "execution_count": null,
   "id": "7961e5d3a98a0d15",
   "metadata": {
    "ExecuteTime": {
     "end_time": "2025-06-05T04:30:47.553081Z",
     "start_time": "2025-06-05T04:30:47.546548Z"
    }
   },
   "outputs": [],
   "source": [
    "# Reduktion der bereits ausgeführten Operationen, die im heutigen Plan hineinlaufen\n",
    "df_execution_important = df_execution[df_execution[\"End\"] >= day_start]\n",
    "df_execution_important"
   ]
  },
  {
   "cell_type": "code",
   "execution_count": null,
   "id": "bb1de04cbfd3dbf9",
   "metadata": {
    "ExecuteTime": {
     "end_time": "2025-06-05T04:30:47.738777Z",
     "start_time": "2025-06-05T04:30:47.729474Z"
    }
   },
   "outputs": [],
   "source": [
    "def solve_cp_jssp_lateness_by_tardiness_and_earliness_with_fixed_ops(\n",
    "    df_jssp: pd.DataFrame,\n",
    "    df_arrivals_deadlines: pd.DataFrame,\n",
    "    df_executed: pd.DataFrame,\n",
    "    w_t: int = 5,\n",
    "    w_e: int = 1,\n",
    "    reschedule_start: float = 1440.0,\n",
    "    sort_ascending: bool = False,\n",
    "    msg: bool = False,\n",
    "    timeLimit: int = 3600,\n",
    "    gapRel: float = 0.0\n",
    ") -> pd.DataFrame:\n",
    "    model = cp_model.CpModel()\n",
    "\n",
    "    # Sicherstellen, dass die Gewichte ganzzahlig sind (CP-SAT Voraussetzung)\n",
    "    w_t = int(w_t)\n",
    "    w_e = int(w_e)\n",
    "\n",
    "    # === Vorbereitung: Jobliste, Ankünfte und Deadlines ===\n",
    "    df_arrivals_deadlines = df_arrivals_deadlines.sort_values(\"Deadline\", ascending=sort_ascending).reset_index(drop=True)\n",
    "    arrival = df_arrivals_deadlines.set_index(\"Job\")[\"Arrival\"].to_dict()\n",
    "    deadline = df_arrivals_deadlines.set_index(\"Job\")[\"Deadline\"].to_dict()\n",
    "    jobs = df_arrivals_deadlines[\"Job\"].tolist()\n",
    "\n",
    "    # === Operationen je Job gruppieren ===\n",
    "    ops_grouped = df_jssp.sort_values([\"Job\", \"Operation\"]).groupby(\"Job\")\n",
    "    all_ops, machines = [], set()\n",
    "    for job in jobs:\n",
    "        seq = []\n",
    "        for _, row in ops_grouped.get_group(job).iterrows():\n",
    "            op_id = int(row[\"Operation\"])\n",
    "            m = str(row[\"Machine\"])\n",
    "            d = int(round(row[\"Processing Time\"]))\n",
    "            seq.append((op_id, m, d))\n",
    "            machines.add(m)\n",
    "        all_ops.append(seq)\n",
    "\n",
    "    # === Grober Planungshorizont (für obere Schranken) ===\n",
    "    horizon = int(df_jssp[\"Processing Time\"].sum() + max(deadline.values()))\n",
    "\n",
    "    # === Fest eingeplante Operationen, die beim Rescheduling nicht verändert werden dürfen ===\n",
    "    df_executed_fixed = df_executed[df_executed[\"End\"] >= reschedule_start]\n",
    "    fixed_ops = {\n",
    "        m: list(grp[[\"Start\", \"End\"]].itertuples(index=False, name=None))\n",
    "        for m, grp in df_executed_fixed.groupby(\"Machine\")\n",
    "    }\n",
    "\n",
    "    # === Variablen definieren ===\n",
    "    starts, ends, intervals = {}, {}, {}\n",
    "    weighted_terms = []\n",
    "\n",
    "    for j, job in enumerate(jobs):\n",
    "        for o, (op_id, m, d) in enumerate(all_ops[j]):\n",
    "            suffix = f\"{j}_{o}\"\n",
    "            start = model.NewIntVar(0, horizon, f\"start_{suffix}\")\n",
    "            end = model.NewIntVar(0, horizon, f\"end_{suffix}\")\n",
    "            interval = model.NewIntervalVar(start, d, end, f\"interval_{suffix}\")\n",
    "            starts[(j, o)] = start\n",
    "            ends[(j, o)] = end\n",
    "            intervals[(j, o)] = (interval, m)\n",
    "\n",
    "    # === Zielfunktion: gewichtete Tardiness + Earliness ===\n",
    "    for j, job in enumerate(jobs):\n",
    "        last_op_index = len(all_ops[j]) - 1\n",
    "        job_end = ends[(j, last_op_index)]\n",
    "\n",
    "        # Lateness = tatsächliches Ende – Deadline\n",
    "        lateness = model.NewIntVar(-horizon, horizon, f\"lateness_{j}\")\n",
    "        model.Add(lateness == job_end - deadline[job])\n",
    "\n",
    "        # Tardiness = max(0, Lateness)\n",
    "        tardiness = model.NewIntVar(0, horizon, f\"tardiness_{j}\")\n",
    "        model.AddMaxEquality(tardiness, [lateness, 0])\n",
    "        term_tardiness = model.NewIntVar(0, horizon * w_t, f\"term_tardiness_{j}\")\n",
    "        model.Add(term_tardiness == w_t * tardiness)\n",
    "        weighted_terms.append(term_tardiness)\n",
    "\n",
    "        # Earliness = max(0, -Lateness)\n",
    "        earliness = model.NewIntVar(0, horizon, f\"earliness_{j}\")\n",
    "        model.AddMaxEquality(earliness, [-lateness, 0])\n",
    "        term_earliness = model.NewIntVar(0, horizon * w_e, f\"term_earliness_{j}\")\n",
    "        model.Add(term_earliness == w_e * earliness)\n",
    "        weighted_terms.append(term_earliness)\n",
    "\n",
    "        # Ankunftsbedingung + Rescheduling-Startzeit\n",
    "        model.Add(starts[(j, 0)] >= arrival[job])\n",
    "        model.Add(starts[(j, 0)] >= int(reschedule_start))\n",
    "\n",
    "        # Falls vorherige Operationen des Jobs bereits geplant wurden\n",
    "        if job in df_executed[\"Job\"].values:\n",
    "            last_fixed_end = df_executed[df_executed[\"Job\"] == job][\"End\"].max()\n",
    "            model.Add(starts[(j, 0)] >= int(math.ceil(last_fixed_end)))\n",
    "\n",
    "        # Technologische Reihenfolge einhalten\n",
    "        for o in range(1, len(all_ops[j])):\n",
    "            model.Add(starts[(j, o)] >= ends[(j, o - 1)])\n",
    "\n",
    "    # === Maschinenrestriktionen: Keine Überlappungen, auch mit fixen Intervallen ===\n",
    "    for m in machines:\n",
    "        machine_intervals = [interval for (j, o), (interval, mach) in intervals.items() if mach == m]\n",
    "\n",
    "        for fixed_start, fixed_end in fixed_ops.get(m, []):\n",
    "            start = math.floor(fixed_start)\n",
    "            end = math.ceil(fixed_end)\n",
    "            duration = end - start\n",
    "            fixed_interval = model.NewIntervalVar(start, duration, end, f\"fixed_{m}_{end}\")\n",
    "            machine_intervals.append(fixed_interval)\n",
    "\n",
    "        model.AddNoOverlap(machine_intervals)\n",
    "\n",
    "    # === Zielfunktion: Summe der gewichteten Tardiness- und Earliness-Werte minimieren ===\n",
    "    model.Minimize(sum(weighted_terms))\n",
    "\n",
    "    # === Solver-Konfiguration ===\n",
    "    solver = cp_model.CpSolver()\n",
    "    solver.parameters.log_search_progress = msg\n",
    "    solver.parameters.relative_gap_limit = gapRel\n",
    "    solver.parameters.max_time_in_seconds = timeLimit\n",
    "    status = solver.Solve(model)\n",
    "\n",
    "    # === Lösung extrahieren ===\n",
    "    records = []\n",
    "    if status in [cp_model.OPTIMAL, cp_model.FEASIBLE]:\n",
    "        for j, job in enumerate(jobs):\n",
    "            for o, (op_id, m, d) in enumerate(all_ops[j]):\n",
    "                st = solver.Value(starts[(j, o)])\n",
    "                ed = st + d\n",
    "                lateness_val = ed - deadline[job]\n",
    "                records.append({\n",
    "                    \"Job\": job,\n",
    "                    \"Operation\": op_id,\n",
    "                    \"Arrival\": arrival[job],\n",
    "                    \"Deadline\": deadline[job],\n",
    "                    \"Machine\": m,\n",
    "                    \"Start\": st,\n",
    "                    \"Processing Time\": d,\n",
    "                    \"End\": ed,\n",
    "                    \"Lateness\": lateness_val,\n",
    "                    \"Tardiness\": max(0, lateness_val),\n",
    "                    \"Earliness\": max(0, -lateness_val)\n",
    "                })\n",
    "\n",
    "        df_schedule = pd.DataFrame.from_records(records).sort_values([\"Start\", \"Job\", \"Operation\"]).reset_index(drop=True)\n",
    "    else:\n",
    "        print(f\"\\nSolver-Status         : {solver.StatusName(status)}\")\n",
    "        print(\"No feasible solution found!\")\n",
    "        df_schedule = pd.DataFrame()\n",
    "\n",
    "    # === Logging ===\n",
    "    print(f\"\\nSolver-Status         : {solver.StatusName(status)}\")\n",
    "    print(f\"Objective Value       : {solver.ObjectiveValue():.2f}\")\n",
    "    print(f\"Best Objective Bound  : {solver.BestObjectiveBound():.2f}\")\n",
    "    print(f\"Laufzeit              : {solver.WallTime():.2f} Sekunden\")\n",
    "\n",
    "    return df_schedule"
   ]
  },
  {
   "cell_type": "code",
   "execution_count": null,
   "id": "71a698b9768002c9",
   "metadata": {
    "ExecuteTime": {
     "end_time": "2025-06-05T04:31:24.193756Z",
     "start_time": "2025-06-05T04:30:47.826301Z"
    }
   },
   "outputs": [],
   "source": [
    "starting_time = time.time()\n",
    "df_reschedule = solve_cp_jssp_lateness_by_tardiness_and_earliness_with_fixed_ops(df_ops_curr_all, df_jobs_curr_all, \n",
    "                                                                                 df_execution_important,\n",
    "                                                                                 w_t = 5,\n",
    "                                                                                 reschedule_start = day_start, msg=False, \n",
    "                                                                                 timeLimit=max_time, gapRel= 0)\n",
    "# Informationen\n",
    "ending_time = time.time()\n",
    "solver_duration = ending_time - starting_time\n",
    "print(f\"\\nScheduling-Dauer: {int(solver_duration // 60)} Minuten und {(solver_duration % 60):.2f} Sekunden.\")\n",
    "df_reschedule"
   ]
  },
  {
   "cell_type": "code",
   "execution_count": null,
   "id": "d54c59129c8bf220",
   "metadata": {
    "ExecuteTime": {
     "end_time": "2025-06-05T04:31:24.562300Z",
     "start_time": "2025-06-05T04:31:24.215909Z"
    }
   },
   "outputs": [],
   "source": [
    "show.plot_gantt_machines(df_reschedule)\n",
    "check.is_machine_conflict_free(df_reschedule)\n",
    "check.is_operation_sequence_correct(df_reschedule)\n",
    "check.is_job_timing_correct(df_reschedule)\n",
    "check.is_start_correct(df_reschedule)"
   ]
  },
  {
   "cell_type": "code",
   "execution_count": null,
   "id": "d613e12ac2643f1e",
   "metadata": {
    "ExecuteTime": {
     "end_time": "2025-06-05T04:31:24.588208Z",
     "start_time": "2025-06-05T04:31:24.580874Z"
    }
   },
   "outputs": [],
   "source": [
    "last_ops = df_reschedule.sort_values(['Job', 'Operation']).drop_duplicates('Job', keep='last')\n",
    "show.count_column_grouped(last_ops, \"Lateness\", max_val = 180, steps= 60)"
   ]
  },
  {
   "cell_type": "code",
   "execution_count": null,
   "id": "2778158e-3e24-49f8-a5d0-2e4d56c22562",
   "metadata": {
    "ExecuteTime": {
     "end_time": "2025-06-05T04:31:24.647827Z",
     "start_time": "2025-06-05T04:31:24.641340Z"
    }
   },
   "outputs": [],
   "source": [
    " df_execution[df_execution.Job == \"Job_011\"]"
   ]
  },
  {
   "cell_type": "code",
   "execution_count": null,
   "id": "8d2921a0-8be1-41f4-907b-4f5f3cfa9f9c",
   "metadata": {
    "ExecuteTime": {
     "end_time": "2025-06-05T04:31:24.717991Z",
     "start_time": "2025-06-05T04:31:24.711365Z"
    }
   },
   "outputs": [],
   "source": [
    "df_reschedule[df_reschedule.Job == \"Job_011\"]"
   ]
  },
  {
   "cell_type": "markdown",
   "id": "65543ba776ec92ac",
   "metadata": {},
   "source": [
    "### Combi aus Simulation und Neuplannung"
   ]
  },
  {
   "cell_type": "code",
   "execution_count": null,
   "id": "b01494dfa39197f8",
   "metadata": {
    "ExecuteTime": {
     "end_time": "2025-06-05T04:31:24.807448Z",
     "start_time": "2025-06-05T04:31:24.798142Z"
    }
   },
   "outputs": [],
   "source": [
    "# Relevante Spalten\n",
    "columns_needed = [\"Job\", \"Operation\", \"Arrival\", \"Machine\", \"Start\", \"Processing Time\", \"End\"]\n",
    "\n",
    "# Spalte in df_execution umbenennen\n",
    "df_execution_important_renamed = df_execution.rename(columns={\"Simulated Processing Time\": \"Processing Time\"})\n",
    "\n",
    "# Auf die gewünschten Spalten beschränken\n",
    "df_exec_trimmed = df_execution_important_renamed[columns_needed]\n",
    "df_resched_trimmed = df_reschedule[columns_needed]\n",
    "\n",
    "# DataFrames zusammenführen\n",
    "df_combined = pd.concat([df_exec_trimmed, df_resched_trimmed], ignore_index=True)\n",
    "df_combined"
   ]
  },
  {
   "cell_type": "code",
   "execution_count": null,
   "id": "f42c27a4a1a70039",
   "metadata": {
    "ExecuteTime": {
     "end_time": "2025-06-05T04:31:25.372829Z",
     "start_time": "2025-06-05T04:31:24.886028Z"
    }
   },
   "outputs": [],
   "source": [
    "show.plot_gantt_machines(df_combined)\n",
    "check.is_machine_conflict_free(df_combined)\n",
    "check.is_operation_sequence_correct(df_combined)\n",
    "check.is_job_timing_correct(df_combined)\n",
    "check.is_start_correct(df_combined)"
   ]
  }
 ],
 "metadata": {
  "kernelspec": {
   "display_name": "Python 3 (ipykernel)",
   "language": "python",
   "name": "python3"
  },
  "language_info": {
   "codemirror_mode": {
    "name": "ipython",
    "version": 3
   },
   "file_extension": ".py",
   "mimetype": "text/x-python",
   "name": "python",
   "nbconvert_exporter": "python",
   "pygments_lexer": "ipython3",
   "version": "3.13.2"
  }
 },
 "nbformat": 4,
 "nbformat_minor": 5
}
