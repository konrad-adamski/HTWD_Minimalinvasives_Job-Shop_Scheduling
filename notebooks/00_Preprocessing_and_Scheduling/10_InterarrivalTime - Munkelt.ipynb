{
 "cells": [
  {
   "cell_type": "markdown",
   "id": "4f2e40c8-522b-4948-996a-e8a0cd97684b",
   "metadata": {},
   "source": [
    "# Zwischenankunktszeiten"
   ]
  },
  {
   "cell_type": "code",
   "id": "e2e3a8be-dd30-4799-a3f3-3a3f46863370",
   "metadata": {
    "ExecuteTime": {
     "end_time": "2025-07-20T20:39:22.786364Z",
     "start_time": "2025-07-20T20:39:22.262789Z"
    }
   },
   "source": [
    "# Datenzugriff\n",
    "from configs.path_manager import get_path\n",
    "import pandas as pd\n",
    "\n",
    "# Utils\n",
    "from src.utils.production_process import initialize as init\n",
    "from src.utils.production_process import term as term"
   ],
   "outputs": [],
   "execution_count": 1
  },
  {
   "cell_type": "code",
   "id": "9d982257-9f3a-4c4a-adb6-9b4b25362d3c",
   "metadata": {
    "ExecuteTime": {
     "end_time": "2025-07-20T20:39:24.404033Z",
     "start_time": "2025-07-20T20:39:24.388036Z"
    }
   },
   "source": [
    "# Datei laden\n",
    "basic_data_path = get_path(\"data\", \"basic\")\n",
    "df_instance = pd.read_csv(basic_data_path / \"instance.csv\")\n",
    "df_instance"
   ],
   "outputs": [
    {
     "data": {
      "text/plain": [
       "    Routing_ID  Operation Machine  Processing Time\n",
       "0            0          0     M00               29\n",
       "1            0          1     M01               78\n",
       "2            0          2     M02                9\n",
       "3            0          3     M03               36\n",
       "4            0          4     M04               49\n",
       "..         ...        ...     ...              ...\n",
       "95           9          5     M09               76\n",
       "96           9          6     M05               47\n",
       "97           9          7     M03               52\n",
       "98           9          8     M04               90\n",
       "99           9          9     M07               45\n",
       "\n",
       "[100 rows x 4 columns]"
      ],
      "text/html": [
       "<div>\n",
       "<style scoped>\n",
       "    .dataframe tbody tr th:only-of-type {\n",
       "        vertical-align: middle;\n",
       "    }\n",
       "\n",
       "    .dataframe tbody tr th {\n",
       "        vertical-align: top;\n",
       "    }\n",
       "\n",
       "    .dataframe thead th {\n",
       "        text-align: right;\n",
       "    }\n",
       "</style>\n",
       "<table border=\"1\" class=\"dataframe\">\n",
       "  <thead>\n",
       "    <tr style=\"text-align: right;\">\n",
       "      <th></th>\n",
       "      <th>Routing_ID</th>\n",
       "      <th>Operation</th>\n",
       "      <th>Machine</th>\n",
       "      <th>Processing Time</th>\n",
       "    </tr>\n",
       "  </thead>\n",
       "  <tbody>\n",
       "    <tr>\n",
       "      <th>0</th>\n",
       "      <td>0</td>\n",
       "      <td>0</td>\n",
       "      <td>M00</td>\n",
       "      <td>29</td>\n",
       "    </tr>\n",
       "    <tr>\n",
       "      <th>1</th>\n",
       "      <td>0</td>\n",
       "      <td>1</td>\n",
       "      <td>M01</td>\n",
       "      <td>78</td>\n",
       "    </tr>\n",
       "    <tr>\n",
       "      <th>2</th>\n",
       "      <td>0</td>\n",
       "      <td>2</td>\n",
       "      <td>M02</td>\n",
       "      <td>9</td>\n",
       "    </tr>\n",
       "    <tr>\n",
       "      <th>3</th>\n",
       "      <td>0</td>\n",
       "      <td>3</td>\n",
       "      <td>M03</td>\n",
       "      <td>36</td>\n",
       "    </tr>\n",
       "    <tr>\n",
       "      <th>4</th>\n",
       "      <td>0</td>\n",
       "      <td>4</td>\n",
       "      <td>M04</td>\n",
       "      <td>49</td>\n",
       "    </tr>\n",
       "    <tr>\n",
       "      <th>...</th>\n",
       "      <td>...</td>\n",
       "      <td>...</td>\n",
       "      <td>...</td>\n",
       "      <td>...</td>\n",
       "    </tr>\n",
       "    <tr>\n",
       "      <th>95</th>\n",
       "      <td>9</td>\n",
       "      <td>5</td>\n",
       "      <td>M09</td>\n",
       "      <td>76</td>\n",
       "    </tr>\n",
       "    <tr>\n",
       "      <th>96</th>\n",
       "      <td>9</td>\n",
       "      <td>6</td>\n",
       "      <td>M05</td>\n",
       "      <td>47</td>\n",
       "    </tr>\n",
       "    <tr>\n",
       "      <th>97</th>\n",
       "      <td>9</td>\n",
       "      <td>7</td>\n",
       "      <td>M03</td>\n",
       "      <td>52</td>\n",
       "    </tr>\n",
       "    <tr>\n",
       "      <th>98</th>\n",
       "      <td>9</td>\n",
       "      <td>8</td>\n",
       "      <td>M04</td>\n",
       "      <td>90</td>\n",
       "    </tr>\n",
       "    <tr>\n",
       "      <th>99</th>\n",
       "      <td>9</td>\n",
       "      <td>9</td>\n",
       "      <td>M07</td>\n",
       "      <td>45</td>\n",
       "    </tr>\n",
       "  </tbody>\n",
       "</table>\n",
       "<p>100 rows × 4 columns</p>\n",
       "</div>"
      ]
     },
     "execution_count": 2,
     "metadata": {},
     "output_type": "execute_result"
    }
   ],
   "execution_count": 2
  },
  {
   "cell_type": "markdown",
   "id": "3d93bc0f-0558-40e4-abc7-b7c44a2ed90a",
   "metadata": {},
   "source": [
    "## I) Mittlere Zwischenankunftszeit t_a"
   ]
  },
  {
   "cell_type": "markdown",
   "id": "44ecaec2-4196-44ff-a928-b6b6c8f02380",
   "metadata": {},
   "source": [
    "### 1. Vektor der Bearbeitungszeiten auf der Engpassmaschine"
   ]
  },
  {
   "cell_type": "markdown",
   "id": "ad7b63e3-a182-481a-b69e-02b6982dd86a",
   "metadata": {},
   "source": [
    "#### a) Bestimmung der Engpassmaschine (7.12)"
   ]
  },
  {
   "cell_type": "code",
   "id": "a4cb86b8-33d2-4801-ad73-026104f7a320",
   "metadata": {
    "ExecuteTime": {
     "end_time": "2025-07-20T20:39:31.648792Z",
     "start_time": "2025-07-20T20:39:31.642677Z"
    }
   },
   "source": [
    "engpassmaschine = term._get_engpassmaschine(df_instance, verbose = True)\n",
    "engpassmaschine"
   ],
   "outputs": [
    {
     "name": "stdout",
     "output_type": "stream",
     "text": [
      "Maschinenbelastung (Gesamtverarbeitungszeit):\n",
      "  M00: 493\n",
      "  M01: 548\n",
      "  M02: 556\n",
      "  M03: 631\n",
      "  M04: 534\n",
      "  M05: 416\n",
      "  M06: 491\n",
      "  M07: 499\n",
      "  M08: 531\n",
      "  M09: 410\n"
     ]
    },
    {
     "data": {
      "text/plain": [
       "'M03'"
      ]
     },
     "execution_count": 3,
     "metadata": {},
     "output_type": "execute_result"
    }
   ],
   "execution_count": 3
  },
  {
   "cell_type": "markdown",
   "id": "515dbca0-74bc-4c56-aa47-c763778e35e1",
   "metadata": {},
   "source": [
    "#### b) Vektor der Bearbeitungszeiten auf der Engpassmaschine erstellen"
   ]
  },
  {
   "cell_type": "code",
   "execution_count": 4,
   "id": "35ba0bb2-5bdc-45b5-9a1c-4d6fd4cf3414",
   "metadata": {},
   "outputs": [
    {
     "data": {
      "text/plain": [
       "[36, 69, 39, 98, 26, 95, 61, 79, 76, 52]"
      ]
     },
     "execution_count": 4,
     "metadata": {},
     "output_type": "execute_result"
    }
   ],
   "source": [
    "vec_t_b_mmax = term._get_vec_t_b_mmax(df_instance)\n",
    "vec_t_b_mmax"
   ]
  },
  {
   "cell_type": "markdown",
   "id": "cd2b440d-6307-4262-ae98-3aa3ff2da124",
   "metadata": {},
   "source": [
    "### 2. Job-Wahrscheinlichkeiten"
   ]
  },
  {
   "cell_type": "code",
   "execution_count": 18,
   "id": "b808ec0f-c8be-4ab4-8294-2f5227669489",
   "metadata": {},
   "outputs": [
    {
     "data": {
      "text/plain": [
       "[0.1, 0.1, 0.1, 0.1, 0.1, 0.1, 0.1, 0.1, 0.1, 0.1]"
      ]
     },
     "execution_count": 18,
     "metadata": {},
     "output_type": "execute_result"
    }
   ],
   "source": [
    "# Anzahl unterschiedlicher Jobs\n",
    "n_routings = df_instance['Routing_ID'].nunique()\n",
    "\n",
    "p = [1.0 / n_routings] * n_routings\n",
    "p"
   ]
  },
  {
   "cell_type": "markdown",
   "id": "6ed94c87-563a-4d0f-9a74-271355681992",
   "metadata": {},
   "source": [
    "### 3. Berechne die mittlere Zwischenankunftszeit t_a nach Formel (7.16) \n",
    "> All-in-One"
   ]
  },
  {
   "cell_type": "code",
   "execution_count": 8,
   "id": "50101568-a2ec-4ac4-bd99-66d50ac98fa1",
   "metadata": {},
   "outputs": [
    {
     "data": {
      "text/plain": [
       "70.11"
      ]
     },
     "execution_count": 8,
     "metadata": {},
     "output_type": "execute_result"
    }
   ],
   "source": [
    "t_a = term.calculate_mean_interarrival_time(df_instance, u_b_mmax = 0.9)\n",
    "t_a"
   ]
  },
  {
   "cell_type": "markdown",
   "id": "b0d3a601-1bd8-4322-b2ba-17e8a3877bec",
   "metadata": {},
   "source": [
    "## II) Ankunftszeiten"
   ]
  },
  {
   "cell_type": "markdown",
   "id": "7c70f912-39f2-4d7d-bc77-430a6efc1082",
   "metadata": {},
   "source": [
    "#### Generierung exponentiell verteilte Zwischenankunftszeiten mit Mittelwert t_a \n",
    "#### mit eine zufällige Job-Reihenfolge"
   ]
  },
  {
   "cell_type": "code",
   "execution_count": 17,
   "id": "06a10e09-a403-4e15-ae75-01d9edc703ca",
   "metadata": {},
   "outputs": [
    {
     "data": {
      "text/html": [
       "<div>\n",
       "<style scoped>\n",
       "    .dataframe tbody tr th:only-of-type {\n",
       "        vertical-align: middle;\n",
       "    }\n",
       "\n",
       "    .dataframe tbody tr th {\n",
       "        vertical-align: top;\n",
       "    }\n",
       "\n",
       "    .dataframe thead th {\n",
       "        text-align: right;\n",
       "    }\n",
       "</style>\n",
       "<table border=\"1\" class=\"dataframe\">\n",
       "  <thead>\n",
       "    <tr style=\"text-align: right;\">\n",
       "      <th></th>\n",
       "      <th>Job</th>\n",
       "      <th>Routing_ID</th>\n",
       "      <th>Arrival</th>\n",
       "    </tr>\n",
       "  </thead>\n",
       "  <tbody>\n",
       "    <tr>\n",
       "      <th>0</th>\n",
       "      <td>0</td>\n",
       "      <td>0</td>\n",
       "      <td>11</td>\n",
       "    </tr>\n",
       "    <tr>\n",
       "      <th>10</th>\n",
       "      <td>1</td>\n",
       "      <td>1</td>\n",
       "      <td>96</td>\n",
       "    </tr>\n",
       "    <tr>\n",
       "      <th>20</th>\n",
       "      <td>2</td>\n",
       "      <td>2</td>\n",
       "      <td>118</td>\n",
       "    </tr>\n",
       "    <tr>\n",
       "      <th>30</th>\n",
       "      <td>3</td>\n",
       "      <td>3</td>\n",
       "      <td>160</td>\n",
       "    </tr>\n",
       "    <tr>\n",
       "      <th>40</th>\n",
       "      <td>4</td>\n",
       "      <td>4</td>\n",
       "      <td>197</td>\n",
       "    </tr>\n",
       "    <tr>\n",
       "      <th>50</th>\n",
       "      <td>5</td>\n",
       "      <td>5</td>\n",
       "      <td>263</td>\n",
       "    </tr>\n",
       "    <tr>\n",
       "      <th>60</th>\n",
       "      <td>6</td>\n",
       "      <td>6</td>\n",
       "      <td>324</td>\n",
       "    </tr>\n",
       "    <tr>\n",
       "      <th>70</th>\n",
       "      <td>7</td>\n",
       "      <td>7</td>\n",
       "      <td>341</td>\n",
       "    </tr>\n",
       "    <tr>\n",
       "      <th>80</th>\n",
       "      <td>8</td>\n",
       "      <td>8</td>\n",
       "      <td>356</td>\n",
       "    </tr>\n",
       "    <tr>\n",
       "      <th>90</th>\n",
       "      <td>9</td>\n",
       "      <td>9</td>\n",
       "      <td>441</td>\n",
       "    </tr>\n",
       "  </tbody>\n",
       "</table>\n",
       "</div>"
      ],
      "text/plain": [
       "    Job  Routing_ID  Arrival\n",
       "0     0           0       11\n",
       "10    1           1       96\n",
       "20    2           2      118\n",
       "30    3           3      160\n",
       "40    4           4      197\n",
       "50    5           5      263\n",
       "60    6           6      324\n",
       "70    7           7      341\n",
       "80    8           8      356\n",
       "90    9           9      441"
      ]
     },
     "execution_count": 17,
     "metadata": {},
     "output_type": "execute_result"
    }
   ],
   "source": [
    "df_jssp = init.generate_jobs_from_routings(df_instance, shuffle = False)\n",
    "df_jobs = df_jssp[[\"Job\", \"Routing_ID\"]].drop_duplicates()\n",
    "\n",
    "arrivals = term.generate_arrivals_from_mean_interarrival_time(10, t_a)\n",
    "df_jobs_arrivals = df_jobs.copy()\n",
    "df_jobs_arrivals['Arrival'] = arrivals\n",
    "df_jobs_arrivals"
   ]
  }
 ],
 "metadata": {
  "kernelspec": {
   "display_name": "Python 3 (ipykernel)",
   "language": "python",
   "name": "python3"
  },
  "language_info": {
   "codemirror_mode": {
    "name": "ipython",
    "version": 3
   },
   "file_extension": ".py",
   "mimetype": "text/x-python",
   "name": "python",
   "nbconvert_exporter": "python",
   "pygments_lexer": "ipython3",
   "version": "3.13.2"
  }
 },
 "nbformat": 4,
 "nbformat_minor": 5
}
