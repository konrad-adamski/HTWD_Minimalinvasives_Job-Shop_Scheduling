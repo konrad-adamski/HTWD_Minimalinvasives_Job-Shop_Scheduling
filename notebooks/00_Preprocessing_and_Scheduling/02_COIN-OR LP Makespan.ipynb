{
 "cells": [
  {
   "cell_type": "markdown",
   "id": "b56bc3fb-acc1-4a9f-bdf8-3529a1515264",
   "metadata": {},
   "source": [
    "# COIN-OR"
   ]
  },
  {
   "cell_type": "code",
   "id": "51955937-85cf-4bf5-b6d2-8afbb92750c4",
   "metadata": {
    "ExecuteTime": {
     "end_time": "2025-07-17T23:32:46.827296Z",
     "start_time": "2025-07-17T23:32:46.233215Z"
    }
   },
   "source": [
    "# Datenzugriff\n",
    "from configs.path_manager import get_path\n",
    "import pandas as pd\n",
    "\n",
    "# Utils\n",
    "import src.utils.presenter as show\n",
    "from src.utils.initialization import jobs_jssp_init as init\n",
    "from src.utils.analize import check_constrains as check\n",
    "\n",
    "# Solver Model\n",
    "from src.models.lp import makespan\n",
    "# conda install -c conda-forge highs"
   ],
   "outputs": [],
   "execution_count": 2
  },
  {
   "cell_type": "code",
   "id": "06eb107a-5993-4b4b-ba61-8ae6df11e242",
   "metadata": {
    "ExecuteTime": {
     "end_time": "2025-07-17T23:32:48.438995Z",
     "start_time": "2025-07-17T23:32:48.436405Z"
    }
   },
   "source": [
    "max_time = 60*15 # 15 min\n",
    "logs_path = get_path(\"data\", \"logs\")"
   ],
   "outputs": [],
   "execution_count": 3
  },
  {
   "cell_type": "code",
   "id": "bcc819a3-bb19-4f48-8f57-a12284728ab7",
   "metadata": {
    "ExecuteTime": {
     "end_time": "2025-07-17T23:32:49.940629Z",
     "start_time": "2025-07-17T23:32:49.922505Z"
    }
   },
   "source": [
    "# Datei laden\n",
    "basic_data_path = get_path(\"data\", \"basic\")\n",
    "df_instance = pd.read_csv(basic_data_path / \"instance.csv\")\n",
    "\n",
    "df_jobs = init.generate_jobs_from_routings(df_instance, shuffle = False)\n",
    "df_jobs"
   ],
   "outputs": [
    {
     "data": {
      "text/plain": [
       "         Job  Routing_ID  Operation Machine  Processing Time\n",
       "0   J25-0000           0          0     M00               29\n",
       "1   J25-0000           0          1     M01               78\n",
       "2   J25-0000           0          2     M02                9\n",
       "3   J25-0000           0          3     M03               36\n",
       "4   J25-0000           0          4     M04               49\n",
       "..       ...         ...        ...     ...              ...\n",
       "95  J25-0009           9          5     M09               76\n",
       "96  J25-0009           9          6     M05               47\n",
       "97  J25-0009           9          7     M03               52\n",
       "98  J25-0009           9          8     M04               90\n",
       "99  J25-0009           9          9     M07               45\n",
       "\n",
       "[100 rows x 5 columns]"
      ],
      "text/html": [
       "<div>\n",
       "<style scoped>\n",
       "    .dataframe tbody tr th:only-of-type {\n",
       "        vertical-align: middle;\n",
       "    }\n",
       "\n",
       "    .dataframe tbody tr th {\n",
       "        vertical-align: top;\n",
       "    }\n",
       "\n",
       "    .dataframe thead th {\n",
       "        text-align: right;\n",
       "    }\n",
       "</style>\n",
       "<table border=\"1\" class=\"dataframe\">\n",
       "  <thead>\n",
       "    <tr style=\"text-align: right;\">\n",
       "      <th></th>\n",
       "      <th>Job</th>\n",
       "      <th>Routing_ID</th>\n",
       "      <th>Operation</th>\n",
       "      <th>Machine</th>\n",
       "      <th>Processing Time</th>\n",
       "    </tr>\n",
       "  </thead>\n",
       "  <tbody>\n",
       "    <tr>\n",
       "      <th>0</th>\n",
       "      <td>J25-0000</td>\n",
       "      <td>0</td>\n",
       "      <td>0</td>\n",
       "      <td>M00</td>\n",
       "      <td>29</td>\n",
       "    </tr>\n",
       "    <tr>\n",
       "      <th>1</th>\n",
       "      <td>J25-0000</td>\n",
       "      <td>0</td>\n",
       "      <td>1</td>\n",
       "      <td>M01</td>\n",
       "      <td>78</td>\n",
       "    </tr>\n",
       "    <tr>\n",
       "      <th>2</th>\n",
       "      <td>J25-0000</td>\n",
       "      <td>0</td>\n",
       "      <td>2</td>\n",
       "      <td>M02</td>\n",
       "      <td>9</td>\n",
       "    </tr>\n",
       "    <tr>\n",
       "      <th>3</th>\n",
       "      <td>J25-0000</td>\n",
       "      <td>0</td>\n",
       "      <td>3</td>\n",
       "      <td>M03</td>\n",
       "      <td>36</td>\n",
       "    </tr>\n",
       "    <tr>\n",
       "      <th>4</th>\n",
       "      <td>J25-0000</td>\n",
       "      <td>0</td>\n",
       "      <td>4</td>\n",
       "      <td>M04</td>\n",
       "      <td>49</td>\n",
       "    </tr>\n",
       "    <tr>\n",
       "      <th>...</th>\n",
       "      <td>...</td>\n",
       "      <td>...</td>\n",
       "      <td>...</td>\n",
       "      <td>...</td>\n",
       "      <td>...</td>\n",
       "    </tr>\n",
       "    <tr>\n",
       "      <th>95</th>\n",
       "      <td>J25-0009</td>\n",
       "      <td>9</td>\n",
       "      <td>5</td>\n",
       "      <td>M09</td>\n",
       "      <td>76</td>\n",
       "    </tr>\n",
       "    <tr>\n",
       "      <th>96</th>\n",
       "      <td>J25-0009</td>\n",
       "      <td>9</td>\n",
       "      <td>6</td>\n",
       "      <td>M05</td>\n",
       "      <td>47</td>\n",
       "    </tr>\n",
       "    <tr>\n",
       "      <th>97</th>\n",
       "      <td>J25-0009</td>\n",
       "      <td>9</td>\n",
       "      <td>7</td>\n",
       "      <td>M03</td>\n",
       "      <td>52</td>\n",
       "    </tr>\n",
       "    <tr>\n",
       "      <th>98</th>\n",
       "      <td>J25-0009</td>\n",
       "      <td>9</td>\n",
       "      <td>8</td>\n",
       "      <td>M04</td>\n",
       "      <td>90</td>\n",
       "    </tr>\n",
       "    <tr>\n",
       "      <th>99</th>\n",
       "      <td>J25-0009</td>\n",
       "      <td>9</td>\n",
       "      <td>9</td>\n",
       "      <td>M07</td>\n",
       "      <td>45</td>\n",
       "    </tr>\n",
       "  </tbody>\n",
       "</table>\n",
       "<p>100 rows × 5 columns</p>\n",
       "</div>"
      ]
     },
     "execution_count": 4,
     "metadata": {},
     "output_type": "execute_result"
    }
   ],
   "execution_count": 4
  },
  {
   "cell_type": "markdown",
   "id": "2aa634e7-af29-4ea1-ad91-2cc50ee50bcf",
   "metadata": {},
   "source": [
    "### a) CBC - COIN-OR Branch and Cut"
   ]
  },
  {
   "cell_type": "code",
   "id": "d3072f8d-0d42-4462-85cd-b8d108b9ebf0",
   "metadata": {
    "jupyter": {
     "is_executing": true
    },
    "ExecuteTime": {
     "start_time": "2025-07-17T23:33:28.859161Z"
    }
   },
   "source": [
    "log_file_path = None # logs_path / \"makespan_cbc.log\"\n",
    "\n",
    "# Scheduling\n",
    "df_schedule = makespan.solve_jssp(df_jobs, solver= \"CBC\", msg=False, time_limit=max_time,logPath=log_file_path)\n",
    "df_schedule"
   ],
   "outputs": [
    {
     "name": "stdout",
     "output_type": "stream",
     "text": [
      "BigM: 5200\n"
     ]
    }
   ],
   "execution_count": null
  },
  {
   "cell_type": "code",
   "execution_count": null,
   "id": "1723daae-65df-482f-abf1-7cfd6d2d19e5",
   "metadata": {
    "ExecuteTime": {
     "end_time": "2025-06-26T00:01:03.934239Z",
     "start_time": "2025-06-26T00:01:03.680271Z"
    }
   },
   "outputs": [],
   "source": [
    "show.plot_gantt(df_schedule, perspective=\"Job\")"
   ]
  },
  {
   "cell_type": "code",
   "execution_count": null,
   "id": "3e56c438-f379-4688-ace5-7d396133b119",
   "metadata": {
    "ExecuteTime": {
     "end_time": "2025-06-26T00:01:04.221627Z",
     "start_time": "2025-06-26T00:01:03.965368Z"
    }
   },
   "outputs": [],
   "source": [
    "show.plot_gantt(df_schedule, perspective=\"Machine\")\n",
    "check.is_machine_conflict_free(df_schedule)\n",
    "check.is_operation_sequence_correct(df_schedule)\n",
    "check.is_job_timing_correct(df_schedule)"
   ]
  },
  {
   "cell_type": "markdown",
   "id": "1d0bac2b-6f40-4281-8cdd-31d4ea5e8ae5",
   "metadata": {},
   "source": [
    "### b) HiGHS mit PuLP"
   ]
  },
  {
   "cell_type": "markdown",
   "id": "4074b3eb-9e08-4a14-af58-b824dab3925f",
   "metadata": {},
   "source": [
    "> high performance serial and parallel solver"
   ]
  },
  {
   "cell_type": "code",
   "execution_count": null,
   "id": "e956d51b-8461-4877-930b-e9733d3beb0e",
   "metadata": {
    "ExecuteTime": {
     "end_time": "2025-06-26T01:01:04.708689Z",
     "start_time": "2025-06-26T00:01:04.227526Z"
    }
   },
   "outputs": [],
   "source": [
    "log_file_path = None # logs_path / \"makespan_highs.log\"\n",
    "\n",
    "# Scheduling\n",
    "df_schedule = makespan.solve_jssp(df_jobs, solver= \"HiGHS\", msg=True, var_cat=\"Integer\", time_limit=max_time, logPath=log_file_path)\n",
    "df_schedule"
   ]
  },
  {
   "cell_type": "code",
   "execution_count": null,
   "id": "d91e3988-599e-4547-ae48-f9c52a8c3edf",
   "metadata": {
    "ExecuteTime": {
     "end_time": "2025-06-26T01:01:04.954004Z",
     "start_time": "2025-06-26T01:01:04.746890Z"
    }
   },
   "outputs": [],
   "source": [
    "show.plot_gantt(df_schedule, perspective=\"Job\")"
   ]
  },
  {
   "cell_type": "code",
   "execution_count": null,
   "id": "3c55e75d-7b9d-44dc-bed3-cdf467def1fe",
   "metadata": {
    "ExecuteTime": {
     "end_time": "2025-06-26T01:01:05.161800Z",
     "start_time": "2025-06-26T01:01:04.975042Z"
    }
   },
   "outputs": [],
   "source": [
    "show.plot_gantt(df_schedule, perspective=\"Machine\")\n",
    "check.is_machine_conflict_free(df_schedule)\n",
    "check.is_operation_sequence_correct(df_schedule)\n",
    "check.is_job_timing_correct(df_schedule)"
   ]
  }
 ],
 "metadata": {
  "kernelspec": {
   "display_name": "Python 3 (ipykernel)",
   "language": "python",
   "name": "python3"
  },
  "language_info": {
   "codemirror_mode": {
    "name": "ipython",
    "version": 3
   },
   "file_extension": ".py",
   "mimetype": "text/x-python",
   "name": "python",
   "nbconvert_exporter": "python",
   "pygments_lexer": "ipython3",
   "version": "3.13.2"
  }
 },
 "nbformat": 4,
 "nbformat_minor": 5
}
