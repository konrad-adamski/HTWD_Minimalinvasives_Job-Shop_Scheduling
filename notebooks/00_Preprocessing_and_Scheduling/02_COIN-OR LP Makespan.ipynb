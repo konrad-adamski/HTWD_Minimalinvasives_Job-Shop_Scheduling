{
 "cells": [
  {
   "cell_type": "markdown",
   "id": "b56bc3fb-acc1-4a9f-bdf8-3529a1515264",
   "metadata": {},
   "source": [
    "# COIN-OR"
   ]
  },
  {
   "cell_type": "code",
   "execution_count": 1,
   "id": "51955937-85cf-4bf5-b6d2-8afbb92750c4",
   "metadata": {},
   "outputs": [],
   "source": [
    "# Datenzugriff\n",
    "from configs.config import get_path\n",
    "import json\n",
    "\n",
    "# Utils\n",
    "import src.utils.presenter as show\n",
    "from src.utils.production_process import convert\n",
    "from src.utils.production_process import initialize as init\n",
    "from src.utils.analize import check_constrains as check\n",
    "\n",
    "# Solver Model\n",
    "from src.models.lp import makespan\n",
    "\n",
    "# conda install -c conda-forge highs"
   ]
  },
  {
   "cell_type": "code",
   "execution_count": 2,
   "id": "06eb107a-5993-4b4b-ba61-8ae6df11e242",
   "metadata": {},
   "outputs": [],
   "source": [
    "max_time = 60*10 # 10 min"
   ]
  },
  {
   "cell_type": "code",
   "execution_count": 3,
   "id": "bcc819a3-bb19-4f48-8f57-a12284728ab7",
   "metadata": {},
   "outputs": [
    {
     "data": {
      "text/html": [
       "<div>\n",
       "<style scoped>\n",
       "    .dataframe tbody tr th:only-of-type {\n",
       "        vertical-align: middle;\n",
       "    }\n",
       "\n",
       "    .dataframe tbody tr th {\n",
       "        vertical-align: top;\n",
       "    }\n",
       "\n",
       "    .dataframe thead th {\n",
       "        text-align: right;\n",
       "    }\n",
       "</style>\n",
       "<table border=\"1\" class=\"dataframe\">\n",
       "  <thead>\n",
       "    <tr style=\"text-align: right;\">\n",
       "      <th></th>\n",
       "      <th>Job</th>\n",
       "      <th>Production_Plan_ID</th>\n",
       "      <th>Operation</th>\n",
       "      <th>Machine</th>\n",
       "      <th>Processing Time</th>\n",
       "    </tr>\n",
       "  </thead>\n",
       "  <tbody>\n",
       "    <tr>\n",
       "      <th>0</th>\n",
       "      <td>0</td>\n",
       "      <td>0</td>\n",
       "      <td>0</td>\n",
       "      <td>M00</td>\n",
       "      <td>29</td>\n",
       "    </tr>\n",
       "    <tr>\n",
       "      <th>1</th>\n",
       "      <td>0</td>\n",
       "      <td>0</td>\n",
       "      <td>1</td>\n",
       "      <td>M01</td>\n",
       "      <td>78</td>\n",
       "    </tr>\n",
       "    <tr>\n",
       "      <th>2</th>\n",
       "      <td>0</td>\n",
       "      <td>0</td>\n",
       "      <td>2</td>\n",
       "      <td>M02</td>\n",
       "      <td>9</td>\n",
       "    </tr>\n",
       "    <tr>\n",
       "      <th>3</th>\n",
       "      <td>0</td>\n",
       "      <td>0</td>\n",
       "      <td>3</td>\n",
       "      <td>M03</td>\n",
       "      <td>36</td>\n",
       "    </tr>\n",
       "    <tr>\n",
       "      <th>4</th>\n",
       "      <td>0</td>\n",
       "      <td>0</td>\n",
       "      <td>4</td>\n",
       "      <td>M04</td>\n",
       "      <td>49</td>\n",
       "    </tr>\n",
       "    <tr>\n",
       "      <th>...</th>\n",
       "      <td>...</td>\n",
       "      <td>...</td>\n",
       "      <td>...</td>\n",
       "      <td>...</td>\n",
       "      <td>...</td>\n",
       "    </tr>\n",
       "    <tr>\n",
       "      <th>95</th>\n",
       "      <td>9</td>\n",
       "      <td>9</td>\n",
       "      <td>5</td>\n",
       "      <td>M09</td>\n",
       "      <td>76</td>\n",
       "    </tr>\n",
       "    <tr>\n",
       "      <th>96</th>\n",
       "      <td>9</td>\n",
       "      <td>9</td>\n",
       "      <td>6</td>\n",
       "      <td>M05</td>\n",
       "      <td>47</td>\n",
       "    </tr>\n",
       "    <tr>\n",
       "      <th>97</th>\n",
       "      <td>9</td>\n",
       "      <td>9</td>\n",
       "      <td>7</td>\n",
       "      <td>M03</td>\n",
       "      <td>52</td>\n",
       "    </tr>\n",
       "    <tr>\n",
       "      <th>98</th>\n",
       "      <td>9</td>\n",
       "      <td>9</td>\n",
       "      <td>8</td>\n",
       "      <td>M04</td>\n",
       "      <td>90</td>\n",
       "    </tr>\n",
       "    <tr>\n",
       "      <th>99</th>\n",
       "      <td>9</td>\n",
       "      <td>9</td>\n",
       "      <td>9</td>\n",
       "      <td>M07</td>\n",
       "      <td>45</td>\n",
       "    </tr>\n",
       "  </tbody>\n",
       "</table>\n",
       "<p>100 rows × 5 columns</p>\n",
       "</div>"
      ],
      "text/plain": [
       "    Job Production_Plan_ID  Operation Machine  Processing Time\n",
       "0     0                  0          0     M00               29\n",
       "1     0                  0          1     M01               78\n",
       "2     0                  0          2     M02                9\n",
       "3     0                  0          3     M03               36\n",
       "4     0                  0          4     M04               49\n",
       "..  ...                ...        ...     ...              ...\n",
       "95    9                  9          5     M09               76\n",
       "96    9                  9          6     M05               47\n",
       "97    9                  9          7     M03               52\n",
       "98    9                  9          8     M04               90\n",
       "99    9                  9          9     M07               45\n",
       "\n",
       "[100 rows x 5 columns]"
      ]
     },
     "execution_count": 3,
     "metadata": {},
     "output_type": "execute_result"
    }
   ],
   "source": [
    "# Datei laden\n",
    "basic_data_path = get_path(\"data\", \"basic\")\n",
    "file_path = basic_data_path / \"jobshop_instances.json\"\n",
    "\n",
    "with open(file_path, \"r\", encoding=\"utf-8\") as f:\n",
    "    jobshop_instances = json.load(f)\n",
    "\n",
    "instance =  jobshop_instances[\"instance ft10\"]\n",
    "df_instance = convert.jssp_dict_to_df(instance)\n",
    "\n",
    "df_production_orders = init.production_orders(df_instance)\n",
    "df_production_orders"
   ]
  },
  {
   "cell_type": "markdown",
   "id": "2aa634e7-af29-4ea1-ad91-2cc50ee50bcf",
   "metadata": {},
   "source": [
    "### a) CBC - COIN-OR Branch and Cut"
   ]
  },
  {
   "cell_type": "code",
   "execution_count": null,
   "id": "d3072f8d-0d42-4462-85cd-b8d108b9ebf0",
   "metadata": {},
   "outputs": [
    {
     "name": "stdout",
     "output_type": "stream",
     "text": [
      "BigM: 5200\n"
     ]
    }
   ],
   "source": [
    "# Scheduling\n",
    "df_schedule = makespan.solve_jssp(df_production_orders, solver= \"CBC\", var_cat=\"Integer\", msg=False, time_limit=max_time)\n",
    "df_schedule"
   ]
  },
  {
   "cell_type": "code",
   "execution_count": null,
   "id": "1723daae-65df-482f-abf1-7cfd6d2d19e5",
   "metadata": {},
   "outputs": [],
   "source": [
    "show.plot_gantt(df_schedule, perspective=\"Job\")"
   ]
  },
  {
   "cell_type": "code",
   "execution_count": null,
   "id": "3e56c438-f379-4688-ace5-7d396133b119",
   "metadata": {},
   "outputs": [],
   "source": [
    "show.plot_gantt(df_schedule, perspective=\"Machine\")\n",
    "check.is_machine_conflict_free(df_schedule)\n",
    "check.is_operation_sequence_correct(df_schedule)\n",
    "check.is_job_timing_correct(df_schedule)"
   ]
  },
  {
   "cell_type": "markdown",
   "id": "1d0bac2b-6f40-4281-8cdd-31d4ea5e8ae5",
   "metadata": {},
   "source": [
    "### b) HiGHS mit PuLP"
   ]
  },
  {
   "cell_type": "markdown",
   "id": "4074b3eb-9e08-4a14-af58-b824dab3925f",
   "metadata": {},
   "source": [
    "> high performance serial and parallel solver"
   ]
  },
  {
   "cell_type": "code",
   "execution_count": null,
   "id": "e956d51b-8461-4877-930b-e9733d3beb0e",
   "metadata": {},
   "outputs": [],
   "source": [
    "# Scheduling\n",
    "df_schedule = makespan.solve_jssp(df_production_orders, solver= \"HiGHS\", var_cat=\"Integer\", msg=False, time_limit=max_time)\n",
    "df_schedule"
   ]
  },
  {
   "cell_type": "code",
   "execution_count": null,
   "id": "d91e3988-599e-4547-ae48-f9c52a8c3edf",
   "metadata": {},
   "outputs": [],
   "source": [
    "show.plot_gantt(df_schedule, perspective=\"Job\")"
   ]
  },
  {
   "cell_type": "code",
   "execution_count": null,
   "id": "3c55e75d-7b9d-44dc-bed3-cdf467def1fe",
   "metadata": {},
   "outputs": [],
   "source": [
    "show.plot_gantt(df_schedule, perspective=\"Machine\")\n",
    "check.is_machine_conflict_free(df_schedule)\n",
    "check.is_operation_sequence_correct(df_schedule)\n",
    "check.is_job_timing_correct(df_schedule)"
   ]
  }
 ],
 "metadata": {
  "kernelspec": {
   "display_name": "Python 3 (ipykernel)",
   "language": "python",
   "name": "python3"
  },
  "language_info": {
   "codemirror_mode": {
    "name": "ipython",
    "version": 3
   },
   "file_extension": ".py",
   "mimetype": "text/x-python",
   "name": "python",
   "nbconvert_exporter": "python",
   "pygments_lexer": "ipython3",
   "version": "3.13.2"
  }
 },
 "nbformat": 4,
 "nbformat_minor": 5
}
