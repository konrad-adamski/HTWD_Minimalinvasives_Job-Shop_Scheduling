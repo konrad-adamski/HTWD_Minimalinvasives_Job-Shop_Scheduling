{
 "cells": [
  {
   "cell_type": "markdown",
   "id": "b56bc3fb-acc1-4a9f-bdf8-3529a1515264",
   "metadata": {},
   "source": [
    "# COIN-OR"
   ]
  },
  {
   "cell_type": "code",
   "execution_count": 1,
   "id": "51955937-85cf-4bf5-b6d2-8afbb92750c4",
   "metadata": {
    "ExecuteTime": {
     "end_time": "2025-06-26T01:17:49.313418Z",
     "start_time": "2025-06-26T01:17:49.310600Z"
    }
   },
   "outputs": [],
   "source": [
    "# Datenzugriff\n",
    "from configs.path_manager import get_path\n",
    "import pandas as pd\n",
    "\n",
    "# Utils\n",
    "import src.utils.presenter as show\n",
    "from src.utils.production_process import convert\n",
    "from src.utils.production_process import initialize as init\n",
    "from src.utils.analize import check_constrains as check\n",
    "\n",
    "# Solver Model\n",
    "from src.models.lp import makespan\n",
    "\n",
    "# conda install -c conda-forge highs"
   ]
  },
  {
   "cell_type": "code",
   "execution_count": 2,
   "id": "06eb107a-5993-4b4b-ba61-8ae6df11e242",
   "metadata": {
    "ExecuteTime": {
     "end_time": "2025-06-26T01:17:52.480815Z",
     "start_time": "2025-06-26T01:17:52.478537Z"
    }
   },
   "outputs": [],
   "source": [
    "max_time = 60*15 # 15 min\n",
    "logs_path = get_path(\"data\", \"logs\")"
   ]
  },
  {
   "cell_type": "code",
   "execution_count": 3,
   "id": "bcc819a3-bb19-4f48-8f57-a12284728ab7",
   "metadata": {
    "ExecuteTime": {
     "end_time": "2025-06-26T01:17:54.982348Z",
     "start_time": "2025-06-26T01:17:54.969195Z"
    }
   },
   "outputs": [
    {
     "data": {
      "text/html": [
       "<div>\n",
       "<style scoped>\n",
       "    .dataframe tbody tr th:only-of-type {\n",
       "        vertical-align: middle;\n",
       "    }\n",
       "\n",
       "    .dataframe tbody tr th {\n",
       "        vertical-align: top;\n",
       "    }\n",
       "\n",
       "    .dataframe thead th {\n",
       "        text-align: right;\n",
       "    }\n",
       "</style>\n",
       "<table border=\"1\" class=\"dataframe\">\n",
       "  <thead>\n",
       "    <tr style=\"text-align: right;\">\n",
       "      <th></th>\n",
       "      <th>Job</th>\n",
       "      <th>Routing_ID</th>\n",
       "      <th>Operation</th>\n",
       "      <th>Machine</th>\n",
       "      <th>Processing Time</th>\n",
       "    </tr>\n",
       "  </thead>\n",
       "  <tbody>\n",
       "    <tr>\n",
       "      <th>0</th>\n",
       "      <td>0</td>\n",
       "      <td>0</td>\n",
       "      <td>0</td>\n",
       "      <td>M00</td>\n",
       "      <td>29</td>\n",
       "    </tr>\n",
       "    <tr>\n",
       "      <th>1</th>\n",
       "      <td>0</td>\n",
       "      <td>0</td>\n",
       "      <td>1</td>\n",
       "      <td>M01</td>\n",
       "      <td>78</td>\n",
       "    </tr>\n",
       "    <tr>\n",
       "      <th>2</th>\n",
       "      <td>0</td>\n",
       "      <td>0</td>\n",
       "      <td>2</td>\n",
       "      <td>M02</td>\n",
       "      <td>9</td>\n",
       "    </tr>\n",
       "    <tr>\n",
       "      <th>3</th>\n",
       "      <td>0</td>\n",
       "      <td>0</td>\n",
       "      <td>3</td>\n",
       "      <td>M03</td>\n",
       "      <td>36</td>\n",
       "    </tr>\n",
       "    <tr>\n",
       "      <th>4</th>\n",
       "      <td>0</td>\n",
       "      <td>0</td>\n",
       "      <td>4</td>\n",
       "      <td>M04</td>\n",
       "      <td>49</td>\n",
       "    </tr>\n",
       "    <tr>\n",
       "      <th>...</th>\n",
       "      <td>...</td>\n",
       "      <td>...</td>\n",
       "      <td>...</td>\n",
       "      <td>...</td>\n",
       "      <td>...</td>\n",
       "    </tr>\n",
       "    <tr>\n",
       "      <th>95</th>\n",
       "      <td>9</td>\n",
       "      <td>9</td>\n",
       "      <td>5</td>\n",
       "      <td>M09</td>\n",
       "      <td>76</td>\n",
       "    </tr>\n",
       "    <tr>\n",
       "      <th>96</th>\n",
       "      <td>9</td>\n",
       "      <td>9</td>\n",
       "      <td>6</td>\n",
       "      <td>M05</td>\n",
       "      <td>47</td>\n",
       "    </tr>\n",
       "    <tr>\n",
       "      <th>97</th>\n",
       "      <td>9</td>\n",
       "      <td>9</td>\n",
       "      <td>7</td>\n",
       "      <td>M03</td>\n",
       "      <td>52</td>\n",
       "    </tr>\n",
       "    <tr>\n",
       "      <th>98</th>\n",
       "      <td>9</td>\n",
       "      <td>9</td>\n",
       "      <td>8</td>\n",
       "      <td>M04</td>\n",
       "      <td>90</td>\n",
       "    </tr>\n",
       "    <tr>\n",
       "      <th>99</th>\n",
       "      <td>9</td>\n",
       "      <td>9</td>\n",
       "      <td>9</td>\n",
       "      <td>M07</td>\n",
       "      <td>45</td>\n",
       "    </tr>\n",
       "  </tbody>\n",
       "</table>\n",
       "<p>100 rows × 5 columns</p>\n",
       "</div>"
      ],
      "text/plain": [
       "    Job  Routing_ID  Operation Machine  Processing Time\n",
       "0     0           0          0     M00               29\n",
       "1     0           0          1     M01               78\n",
       "2     0           0          2     M02                9\n",
       "3     0           0          3     M03               36\n",
       "4     0           0          4     M04               49\n",
       "..  ...         ...        ...     ...              ...\n",
       "95    9           9          5     M09               76\n",
       "96    9           9          6     M05               47\n",
       "97    9           9          7     M03               52\n",
       "98    9           9          8     M04               90\n",
       "99    9           9          9     M07               45\n",
       "\n",
       "[100 rows x 5 columns]"
      ]
     },
     "execution_count": 3,
     "metadata": {},
     "output_type": "execute_result"
    }
   ],
   "source": [
    "# Datei laden\n",
    "basic_data_path = get_path(\"data\", \"basic\")\n",
    "df_instance = pd.read_csv(basic_data_path / \"instance.csv\")\n",
    "\n",
    "df_jobs = init.generate_jobs_from_routings(df_instance, shuffle = False)\n",
    "df_jobs"
   ]
  },
  {
   "cell_type": "markdown",
   "id": "2aa634e7-af29-4ea1-ad91-2cc50ee50bcf",
   "metadata": {},
   "source": [
    "### a) CBC - COIN-OR Branch and Cut"
   ]
  },
  {
   "cell_type": "code",
   "execution_count": 4,
   "id": "d3072f8d-0d42-4462-85cd-b8d108b9ebf0",
   "metadata": {
    "ExecuteTime": {
     "end_time": "2025-06-26T03:18:00.027084Z",
     "start_time": "2025-06-26T01:17:58.591014Z"
    }
   },
   "outputs": [
    {
     "ename": "NameError",
     "evalue": "name 'df_production_orders' is not defined",
     "output_type": "error",
     "traceback": [
      "\u001b[31m---------------------------------------------------------------------------\u001b[39m",
      "\u001b[31mNameError\u001b[39m                                 Traceback (most recent call last)",
      "\u001b[36mCell\u001b[39m\u001b[36m \u001b[39m\u001b[32mIn[4]\u001b[39m\u001b[32m, line 4\u001b[39m\n\u001b[32m      1\u001b[39m log_file_path = \u001b[38;5;28;01mNone\u001b[39;00m \u001b[38;5;66;03m# logs_path / \"makespan_cbc.log\"\u001b[39;00m\n\u001b[32m      3\u001b[39m \u001b[38;5;66;03m# Scheduling\u001b[39;00m\n\u001b[32m----> \u001b[39m\u001b[32m4\u001b[39m df_schedule = makespan.solve_jssp(\u001b[43mdf_production_orders\u001b[49m, solver= \u001b[33m\"\u001b[39m\u001b[33mCBC\u001b[39m\u001b[33m\"\u001b[39m, msg=\u001b[38;5;28;01mFalse\u001b[39;00m, time_limit=max_time,logPath=log_file_path)\n\u001b[32m      5\u001b[39m df_schedule\n",
      "\u001b[31mNameError\u001b[39m: name 'df_production_orders' is not defined"
     ]
    }
   ],
   "source": [
    "log_file_path = None # logs_path / \"makespan_cbc.log\"\n",
    "\n",
    "# Scheduling\n",
    "df_schedule = makespan.solve_jssp(df_production_orders, solver= \"CBC\", msg=False, time_limit=max_time,logPath=log_file_path)\n",
    "df_schedule"
   ]
  },
  {
   "cell_type": "code",
   "execution_count": null,
   "id": "1723daae-65df-482f-abf1-7cfd6d2d19e5",
   "metadata": {
    "ExecuteTime": {
     "end_time": "2025-06-26T00:01:03.934239Z",
     "start_time": "2025-06-26T00:01:03.680271Z"
    }
   },
   "outputs": [],
   "source": [
    "show.plot_gantt(df_schedule, perspective=\"Job\")"
   ]
  },
  {
   "cell_type": "code",
   "execution_count": null,
   "id": "3e56c438-f379-4688-ace5-7d396133b119",
   "metadata": {
    "ExecuteTime": {
     "end_time": "2025-06-26T00:01:04.221627Z",
     "start_time": "2025-06-26T00:01:03.965368Z"
    }
   },
   "outputs": [],
   "source": [
    "show.plot_gantt(df_schedule, perspective=\"Machine\")\n",
    "check.is_machine_conflict_free(df_schedule)\n",
    "check.is_operation_sequence_correct(df_schedule)\n",
    "check.is_job_timing_correct(df_schedule)"
   ]
  },
  {
   "cell_type": "markdown",
   "id": "1d0bac2b-6f40-4281-8cdd-31d4ea5e8ae5",
   "metadata": {},
   "source": [
    "### b) HiGHS mit PuLP"
   ]
  },
  {
   "cell_type": "markdown",
   "id": "4074b3eb-9e08-4a14-af58-b824dab3925f",
   "metadata": {},
   "source": [
    "> high performance serial and parallel solver"
   ]
  },
  {
   "cell_type": "code",
   "execution_count": null,
   "id": "e956d51b-8461-4877-930b-e9733d3beb0e",
   "metadata": {
    "ExecuteTime": {
     "end_time": "2025-06-26T01:01:04.708689Z",
     "start_time": "2025-06-26T00:01:04.227526Z"
    }
   },
   "outputs": [],
   "source": [
    "log_file_path = None # logs_path / \"makespan_highs.log\"\n",
    "\n",
    "# Scheduling\n",
    "df_schedule = makespan.solve_jssp(df_production_orders, solver= \"HiGHS\", msg=True, var_cat=\"Integer\", time_limit=max_time, logPath=log_file_path)\n",
    "df_schedule"
   ]
  },
  {
   "cell_type": "code",
   "execution_count": null,
   "id": "d91e3988-599e-4547-ae48-f9c52a8c3edf",
   "metadata": {
    "ExecuteTime": {
     "end_time": "2025-06-26T01:01:04.954004Z",
     "start_time": "2025-06-26T01:01:04.746890Z"
    }
   },
   "outputs": [],
   "source": [
    "show.plot_gantt(df_schedule, perspective=\"Job\")"
   ]
  },
  {
   "cell_type": "code",
   "execution_count": null,
   "id": "3c55e75d-7b9d-44dc-bed3-cdf467def1fe",
   "metadata": {
    "ExecuteTime": {
     "end_time": "2025-06-26T01:01:05.161800Z",
     "start_time": "2025-06-26T01:01:04.975042Z"
    }
   },
   "outputs": [],
   "source": [
    "show.plot_gantt(df_schedule, perspective=\"Machine\")\n",
    "check.is_machine_conflict_free(df_schedule)\n",
    "check.is_operation_sequence_correct(df_schedule)\n",
    "check.is_job_timing_correct(df_schedule)"
   ]
  }
 ],
 "metadata": {
  "kernelspec": {
   "display_name": "Python 3 (ipykernel)",
   "language": "python",
   "name": "python3"
  },
  "language_info": {
   "codemirror_mode": {
    "name": "ipython",
    "version": 3
   },
   "file_extension": ".py",
   "mimetype": "text/x-python",
   "name": "python",
   "nbconvert_exporter": "python",
   "pygments_lexer": "ipython3",
   "version": "3.13.2"
  }
 },
 "nbformat": 4,
 "nbformat_minor": 5
}
