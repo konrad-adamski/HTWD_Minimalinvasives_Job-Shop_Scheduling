{
 "cells": [
  {
   "cell_type": "markdown",
   "id": "4f2e40c8-522b-4948-996a-e8a0cd97684b",
   "metadata": {},
   "source": [
    "# Zwischenankunktszeiten"
   ]
  },
  {
   "cell_type": "code",
   "execution_count": 1,
   "id": "dea5571c-855c-4269-ad5e-8c63b870c5cb",
   "metadata": {},
   "outputs": [],
   "source": [
    "from configs.config import get_path\n",
    "import src.utils.converter as convert\n",
    "\n",
    "import json\n",
    "import numpy as np\n",
    "import pandas as pd"
   ]
  },
  {
   "cell_type": "code",
   "execution_count": 2,
   "id": "b0e43c6f-5833-4c5e-934b-63c36fa10eef",
   "metadata": {},
   "outputs": [],
   "source": [
    "basic_data_path = get_path(\"data\", \"basic\")"
   ]
  },
  {
   "cell_type": "code",
   "execution_count": 3,
   "id": "9d982257-9f3a-4c4a-adb6-9b4b25362d3c",
   "metadata": {},
   "outputs": [
    {
     "data": {
      "text/html": [
       "<div>\n",
       "<style scoped>\n",
       "    .dataframe tbody tr th:only-of-type {\n",
       "        vertical-align: middle;\n",
       "    }\n",
       "\n",
       "    .dataframe tbody tr th {\n",
       "        vertical-align: top;\n",
       "    }\n",
       "\n",
       "    .dataframe thead th {\n",
       "        text-align: right;\n",
       "    }\n",
       "</style>\n",
       "<table border=\"1\" class=\"dataframe\">\n",
       "  <thead>\n",
       "    <tr style=\"text-align: right;\">\n",
       "      <th></th>\n",
       "      <th>Job</th>\n",
       "      <th>Operation</th>\n",
       "      <th>Machine</th>\n",
       "      <th>Processing Time</th>\n",
       "    </tr>\n",
       "  </thead>\n",
       "  <tbody>\n",
       "    <tr>\n",
       "      <th>0</th>\n",
       "      <td>job 0</td>\n",
       "      <td>0</td>\n",
       "      <td>M0</td>\n",
       "      <td>29</td>\n",
       "    </tr>\n",
       "    <tr>\n",
       "      <th>1</th>\n",
       "      <td>job 0</td>\n",
       "      <td>1</td>\n",
       "      <td>M1</td>\n",
       "      <td>78</td>\n",
       "    </tr>\n",
       "    <tr>\n",
       "      <th>2</th>\n",
       "      <td>job 0</td>\n",
       "      <td>2</td>\n",
       "      <td>M2</td>\n",
       "      <td>9</td>\n",
       "    </tr>\n",
       "    <tr>\n",
       "      <th>3</th>\n",
       "      <td>job 0</td>\n",
       "      <td>3</td>\n",
       "      <td>M3</td>\n",
       "      <td>36</td>\n",
       "    </tr>\n",
       "    <tr>\n",
       "      <th>4</th>\n",
       "      <td>job 0</td>\n",
       "      <td>4</td>\n",
       "      <td>M4</td>\n",
       "      <td>49</td>\n",
       "    </tr>\n",
       "    <tr>\n",
       "      <th>...</th>\n",
       "      <td>...</td>\n",
       "      <td>...</td>\n",
       "      <td>...</td>\n",
       "      <td>...</td>\n",
       "    </tr>\n",
       "    <tr>\n",
       "      <th>95</th>\n",
       "      <td>job 9</td>\n",
       "      <td>5</td>\n",
       "      <td>M9</td>\n",
       "      <td>76</td>\n",
       "    </tr>\n",
       "    <tr>\n",
       "      <th>96</th>\n",
       "      <td>job 9</td>\n",
       "      <td>6</td>\n",
       "      <td>M5</td>\n",
       "      <td>47</td>\n",
       "    </tr>\n",
       "    <tr>\n",
       "      <th>97</th>\n",
       "      <td>job 9</td>\n",
       "      <td>7</td>\n",
       "      <td>M3</td>\n",
       "      <td>52</td>\n",
       "    </tr>\n",
       "    <tr>\n",
       "      <th>98</th>\n",
       "      <td>job 9</td>\n",
       "      <td>8</td>\n",
       "      <td>M4</td>\n",
       "      <td>90</td>\n",
       "    </tr>\n",
       "    <tr>\n",
       "      <th>99</th>\n",
       "      <td>job 9</td>\n",
       "      <td>9</td>\n",
       "      <td>M7</td>\n",
       "      <td>45</td>\n",
       "    </tr>\n",
       "  </tbody>\n",
       "</table>\n",
       "<p>100 rows × 4 columns</p>\n",
       "</div>"
      ],
      "text/plain": [
       "      Job  Operation Machine  Processing Time\n",
       "0   job 0          0      M0               29\n",
       "1   job 0          1      M1               78\n",
       "2   job 0          2      M2                9\n",
       "3   job 0          3      M3               36\n",
       "4   job 0          4      M4               49\n",
       "..    ...        ...     ...              ...\n",
       "95  job 9          5      M9               76\n",
       "96  job 9          6      M5               47\n",
       "97  job 9          7      M3               52\n",
       "98  job 9          8      M4               90\n",
       "99  job 9          9      M7               45\n",
       "\n",
       "[100 rows x 4 columns]"
      ]
     },
     "execution_count": 3,
     "metadata": {},
     "output_type": "execute_result"
    }
   ],
   "source": [
    "# Datei laden\n",
    "file_path = basic_data_path / \"jobshop_instances.json\"\n",
    "\n",
    "with open(file_path, \"r\", encoding=\"utf-8\") as f:\n",
    "    jobshop_instances = json.load(f)\n",
    "\n",
    "instance =  jobshop_instances[\"instance ft10\"]\n",
    "df_instance = convert.jssp_dict_to_df(instance)\n",
    "df_instance"
   ]
  },
  {
   "cell_type": "markdown",
   "id": "3d93bc0f-0558-40e4-abc7-b7c44a2ed90a",
   "metadata": {},
   "source": [
    "## I) Mittlere Zwischenankunftszeit t_a"
   ]
  },
  {
   "cell_type": "markdown",
   "id": "44ecaec2-4196-44ff-a928-b6b6c8f02380",
   "metadata": {},
   "source": [
    "### 1. Vektor der Bearbeitungszeiten auf der Engpassmaschine"
   ]
  },
  {
   "cell_type": "markdown",
   "id": "ad7b63e3-a182-481a-b69e-02b6982dd86a",
   "metadata": {},
   "source": [
    "#### a) Bestimmung der Engpassmaschine (7.12)"
   ]
  },
  {
   "cell_type": "code",
   "execution_count": 4,
   "id": "6384dbca-b793-4be1-88fd-1934aa2024cb",
   "metadata": {},
   "outputs": [],
   "source": [
    "def get_engpassmaschine(df, debug=False):\n",
    "    \"\"\"\n",
    "    Ermittelt die Maschine mit der höchsten Gesamtbearbeitungszeit (Bottleneck) aus einem DataFrame.\n",
    "\n",
    "    Parameter:\n",
    "    - df: DataFrame mit Spalten ['Job','Machine','Processing Time']\n",
    "          Machine kann entweder als int oder als String 'M{int}' vorliegen.\n",
    "    - debug: Wenn True, wird die vollständige Auswertung der Maschinenbelastung ausgegeben.\n",
    "\n",
    "    Rückgabe:\n",
    "    - Index der Engpassmaschine (int)\n",
    "    \"\"\"\n",
    "    d = df.copy()\n",
    "    # Falls Machine als 'M0','M1',... vorliegt, entfernen wir das 'M'\n",
    "    if d['Machine'].dtype == object:\n",
    "        d['Machine'] = d['Machine'].str.lstrip('M').astype(int)\n",
    "    # Gesamtbearbeitungszeit pro Maschine\n",
    "    usage = d.groupby('Machine')['Processing Time'].sum().to_dict()\n",
    "    if debug:\n",
    "        print(\"Maschinenbelastung (Gesamtverarbeitungszeit):\")\n",
    "        for m, total in sorted(usage.items()):\n",
    "            print(f\"  M{m}: {total}\")\n",
    "    # Maschine mit maximaler Gesamtzeit\n",
    "    return max(usage, key=usage.get)"
   ]
  },
  {
   "cell_type": "code",
   "execution_count": 5,
   "id": "a4cb86b8-33d2-4801-ad73-026104f7a320",
   "metadata": {},
   "outputs": [
    {
     "data": {
      "text/plain": [
       "3"
      ]
     },
     "execution_count": 5,
     "metadata": {},
     "output_type": "execute_result"
    }
   ],
   "source": [
    "engpassmaschine = get_engpassmaschine(df_instance, debug = False)\n",
    "engpassmaschine"
   ]
  },
  {
   "cell_type": "markdown",
   "id": "515dbca0-74bc-4c56-aa47-c763778e35e1",
   "metadata": {},
   "source": [
    "#### b) Vektor der Bearbeitungszeiten auf der Engpassmaschine erstellen"
   ]
  },
  {
   "cell_type": "code",
   "execution_count": 6,
   "id": "491ca3cd-51ad-44ea-ae80-0ab78c055f63",
   "metadata": {},
   "outputs": [],
   "source": [
    "def get_vec_t_b_mmax(df):\n",
    "    \"\"\"\n",
    "    Ermittelt für jeden Job die Bearbeitungszeit auf der Engpassmaschine.\n",
    "\n",
    "    Parameter:\n",
    "    - df: DataFrame mit Spalten ['Job','Machine','Processing Time']\n",
    "\n",
    "    Rückgabe:\n",
    "    - Liste der Bearbeitungszeiten auf der Engpassmaschine, in der Reihenfolge\n",
    "      der ersten Vorkommen der Jobs in df['Job'].\n",
    "    \"\"\"\n",
    "    # 1) Kopie und Machine-Spalte in int umwandeln, falls nötig\n",
    "    d = df.copy()\n",
    "    if d['Machine'].dtype == object:\n",
    "        d['Machine'] = d['Machine'].str.lstrip('M').astype(int)\n",
    "\n",
    "    # 2) Engpassmaschine bestimmen\n",
    "    eng = get_engpassmaschine(d)\n",
    "\n",
    "    # 3) Job-Reihenfolge festlegen\n",
    "    job_order = d['Job'].unique().tolist()\n",
    "\n",
    "    # 4) Zeiten auf Engpassmaschine extrahieren\n",
    "    proc_on_eng = d[d['Machine'] == eng].set_index('Job')['Processing Time'].to_dict()\n",
    "\n",
    "    # 5) Vektor aufbauen (0, wenn ein Job die Maschine nicht nutzt)\n",
    "    vec = [proc_on_eng.get(job, 0) for job in job_order]\n",
    "    return vec"
   ]
  },
  {
   "cell_type": "code",
   "execution_count": 7,
   "id": "35ba0bb2-5bdc-45b5-9a1c-4d6fd4cf3414",
   "metadata": {},
   "outputs": [
    {
     "data": {
      "text/plain": [
       "[36, 69, 39, 98, 26, 95, 61, 79, 76, 52]"
      ]
     },
     "execution_count": 7,
     "metadata": {},
     "output_type": "execute_result"
    }
   ],
   "source": [
    "vec_t_b_mmax = get_vec_t_b_mmax(df_instance)\n",
    "vec_t_b_mmax"
   ]
  },
  {
   "cell_type": "markdown",
   "id": "cd2b440d-6307-4262-ae98-3aa3ff2da124",
   "metadata": {},
   "source": [
    "### 2. Job-Wahrscheinlichkeiten"
   ]
  },
  {
   "cell_type": "code",
   "execution_count": 8,
   "id": "b808ec0f-c8be-4ab4-8294-2f5227669489",
   "metadata": {},
   "outputs": [
    {
     "data": {
      "text/plain": [
       "[0.1, 0.1, 0.1, 0.1, 0.1, 0.1, 0.1, 0.1, 0.1, 0.1]"
      ]
     },
     "execution_count": 8,
     "metadata": {},
     "output_type": "execute_result"
    }
   ],
   "source": [
    "# Anzahl unterschiedlicher Jobs\n",
    "n_jobs = df_instance['Job'].nunique()\n",
    "\n",
    "p = [1.0 / n_jobs] * n_jobs\n",
    "p"
   ]
  },
  {
   "cell_type": "markdown",
   "id": "6ed94c87-563a-4d0f-9a74-271355681992",
   "metadata": {},
   "source": [
    "### 3. Berechne die mittlere Zwischenankunftszeit t_a nach Formel (7.16) \n",
    "> All-in-One"
   ]
  },
  {
   "cell_type": "code",
   "execution_count": 9,
   "id": "6f19c596-2bac-48ea-94d2-ba4641327d23",
   "metadata": {},
   "outputs": [],
   "source": [
    "def calculate_mean_interarrival_time(df, u_b_mmax: float = 0.9) -> float:\n",
    "    \"\"\"\n",
    "    Berechnet die mittlere Interarrival-Zeit t_a für ein DataFrame,\n",
    "    sodass die Engpassmaschine mit Auslastung u_b_mmax (< 1.0) betrieben wird.\n",
    "\n",
    "    Parameter:\n",
    "    - df: DataFrame mit Spalten ['Job','Machine','Processing Time']\n",
    "    - u_b_mmax: Ziel-Auslastung der Engpassmaschine (z.B. 0.9)\n",
    "\n",
    "    Rückgabe:\n",
    "    - t_a: mittlere Interarrival-Zeit, gerundet auf 2 Dezimalstellen\n",
    "    \"\"\"\n",
    "    # Anzahl der unterschiedlichen Jobs\n",
    "    n_jobs = df['Job'].nunique()\n",
    "    # Gleichverteilung über die Jobs\n",
    "    p = [1.0 / n_jobs] * n_jobs\n",
    "\n",
    "    # Vektor der Bearbeitungszeiten auf der Engpassmaschine\n",
    "    vec_t_b_mmax = get_vec_t_b_mmax(df)\n",
    "\n",
    "    # Berechnung der mittleren Interarrival-Zeit\n",
    "    t_a = sum(p[i] * vec_t_b_mmax[i] for i in range(n_jobs)) / u_b_mmax\n",
    "    return round(t_a, 2)"
   ]
  },
  {
   "cell_type": "code",
   "execution_count": 10,
   "id": "3379c05f-743c-44b1-a79a-52a9f7d73ccb",
   "metadata": {},
   "outputs": [
    {
     "data": {
      "text/plain": [
       "70.11"
      ]
     },
     "execution_count": 10,
     "metadata": {},
     "output_type": "execute_result"
    }
   ],
   "source": [
    "t_a =  calculate_mean_interarrival_time(df_instance, u_b_mmax = 0.9)\n",
    "t_a"
   ]
  },
  {
   "cell_type": "markdown",
   "id": "b0d3a601-1bd8-4322-b2ba-17e8a3877bec",
   "metadata": {},
   "source": [
    "## II) Ankunftszeiten"
   ]
  },
  {
   "cell_type": "markdown",
   "id": "7c70f912-39f2-4d7d-bc77-430a6efc1082",
   "metadata": {},
   "source": [
    "#### Generierung exponentiell verteilte Zwischenankunftszeiten mit Mittelwert t_a \n",
    "#### mit eine zufällige Job-Reihenfolge"
   ]
  },
  {
   "cell_type": "code",
   "execution_count": 11,
   "id": "1d42be08-a05e-409d-b6a6-cefdca8e6efa",
   "metadata": {},
   "outputs": [],
   "source": [
    "def generate_arrival_dataframe(df_jssp: pd.DataFrame,\n",
    "                               t_a: float,\n",
    "                               perm_seed: int = 12,\n",
    "                               exp_seed: int = 123) -> pd.DataFrame:\n",
    "    \"\"\"\n",
    "    Erzeugt ein DataFrame mit zufälligen Ankunftszeiten für jeden Job.\n",
    "\n",
    "    Parameter:\n",
    "    - df_jssp: DataFrame mit mindestens der Spalte 'Job'.\n",
    "    - t_a: mittlere Interarrival-Zeit (Skala für Exponentialverteilung).\n",
    "    - perm_seed: Zufallssamen für die Permutation der Jobs.\n",
    "    - exp_seed: Zufallssamen für die Exponentialverteilung.\n",
    "\n",
    "    Rückgabe:\n",
    "    - df_arrivals: DataFrame mit Spalten ['Job','Arrival'], sortiert nach 'Arrival'.\n",
    "    \"\"\"\n",
    "    # 1) Eindeutige Job-Namen und Anzahl\n",
    "    job_names = df_jssp['Job'].unique().tolist()\n",
    "    n_jobs = len(job_names)\n",
    "\n",
    "    # 2) Permutation der Job-Reihenfolge\n",
    "    np.random.seed(perm_seed)\n",
    "    shuffled_jobs = list(np.random.permutation(job_names))\n",
    "\n",
    "    # 3) Exponentiell verteilte Interarrival-Zeiten\n",
    "    np.random.seed(exp_seed)\n",
    "    interarrival_times = np.random.exponential(scale=t_a, size=n_jobs)\n",
    "\n",
    "    # 4) Absolute Ankunftszeiten (kumuliert und gerundet)\n",
    "    arrival_times = np.cumsum(interarrival_times)\n",
    "    arrival_times = np.round(arrival_times, 2)\n",
    "\n",
    "    # 5) Kombination und Sortierung\n",
    "    df_arrivals = pd.DataFrame({\n",
    "        'Job': shuffled_jobs,\n",
    "        'Arrival': arrival_times\n",
    "    }).sort_values('Arrival').reset_index(drop=True)\n",
    "\n",
    "    return df_arrivals"
   ]
  },
  {
   "cell_type": "code",
   "execution_count": 12,
   "id": "b1e747fa-021d-4a02-af17-bef2c5a338e1",
   "metadata": {},
   "outputs": [
    {
     "data": {
      "text/html": [
       "<div>\n",
       "<style scoped>\n",
       "    .dataframe tbody tr th:only-of-type {\n",
       "        vertical-align: middle;\n",
       "    }\n",
       "\n",
       "    .dataframe tbody tr th {\n",
       "        vertical-align: top;\n",
       "    }\n",
       "\n",
       "    .dataframe thead th {\n",
       "        text-align: right;\n",
       "    }\n",
       "</style>\n",
       "<table border=\"1\" class=\"dataframe\">\n",
       "  <thead>\n",
       "    <tr style=\"text-align: right;\">\n",
       "      <th></th>\n",
       "      <th>Job</th>\n",
       "      <th>Arrival</th>\n",
       "    </tr>\n",
       "  </thead>\n",
       "  <tbody>\n",
       "    <tr>\n",
       "      <th>0</th>\n",
       "      <td>job 5</td>\n",
       "      <td>83.59</td>\n",
       "    </tr>\n",
       "    <tr>\n",
       "      <th>1</th>\n",
       "      <td>job 8</td>\n",
       "      <td>107.22</td>\n",
       "    </tr>\n",
       "    <tr>\n",
       "      <th>2</th>\n",
       "      <td>job 7</td>\n",
       "      <td>125.26</td>\n",
       "    </tr>\n",
       "    <tr>\n",
       "      <th>3</th>\n",
       "      <td>job 0</td>\n",
       "      <td>181.45</td>\n",
       "    </tr>\n",
       "    <tr>\n",
       "      <th>4</th>\n",
       "      <td>job 4</td>\n",
       "      <td>270.56</td>\n",
       "    </tr>\n",
       "    <tr>\n",
       "      <th>5</th>\n",
       "      <td>job 9</td>\n",
       "      <td>309.13</td>\n",
       "    </tr>\n",
       "    <tr>\n",
       "      <th>6</th>\n",
       "      <td>job 3</td>\n",
       "      <td>586.13</td>\n",
       "    </tr>\n",
       "    <tr>\n",
       "      <th>7</th>\n",
       "      <td>job 2</td>\n",
       "      <td>667.09</td>\n",
       "    </tr>\n",
       "    <tr>\n",
       "      <th>8</th>\n",
       "      <td>job 1</td>\n",
       "      <td>713.06</td>\n",
       "    </tr>\n",
       "    <tr>\n",
       "      <th>9</th>\n",
       "      <td>job 6</td>\n",
       "      <td>747.96</td>\n",
       "    </tr>\n",
       "  </tbody>\n",
       "</table>\n",
       "</div>"
      ],
      "text/plain": [
       "     Job  Arrival\n",
       "0  job 5    83.59\n",
       "1  job 8   107.22\n",
       "2  job 7   125.26\n",
       "3  job 0   181.45\n",
       "4  job 4   270.56\n",
       "5  job 9   309.13\n",
       "6  job 3   586.13\n",
       "7  job 2   667.09\n",
       "8  job 1   713.06\n",
       "9  job 6   747.96"
      ]
     },
     "execution_count": 12,
     "metadata": {},
     "output_type": "execute_result"
    }
   ],
   "source": [
    "df_arrivals = generate_arrival_dataframe(df_instance, t_a)\n",
    "df_arrivals"
   ]
  },
  {
   "cell_type": "markdown",
   "id": "c3ae05ff-d174-4881-a965-6fecce2dc7af",
   "metadata": {},
   "source": [
    "### Export"
   ]
  },
  {
   "cell_type": "code",
   "execution_count": 13,
   "id": "0e67d958-2e94-4782-bcc1-027308aa7dd8",
   "metadata": {},
   "outputs": [],
   "source": [
    "df_instance.to_csv(basic_data_path / \"00_instance.csv\", index = False)\n",
    "df_arrivals.to_csv(basic_data_path / \"00_arrivals.csv\", index = False)"
   ]
  }
 ],
 "metadata": {
  "kernelspec": {
   "display_name": "Python 3 (ipykernel)",
   "language": "python",
   "name": "python3"
  },
  "language_info": {
   "codemirror_mode": {
    "name": "ipython",
    "version": 3
   },
   "file_extension": ".py",
   "mimetype": "text/x-python",
   "name": "python",
   "nbconvert_exporter": "python",
   "pygments_lexer": "ipython3",
   "version": "3.13.2"
  }
 },
 "nbformat": 4,
 "nbformat_minor": 5
}
